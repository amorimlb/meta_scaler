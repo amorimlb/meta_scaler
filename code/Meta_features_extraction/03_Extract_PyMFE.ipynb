{
 "cells": [
  {
   "cell_type": "code",
   "execution_count": null,
   "id": "0a8b74d4-9ed0-408c-b5ad-435b1c85d840",
   "metadata": {
    "tags": []
   },
   "outputs": [],
   "source": [
    "# Installations\n",
    "#!pip install -U pymfe\n",
    "#!pip install missingno\n",
    "#!pip install numpy"
   ]
  },
  {
   "cell_type": "code",
   "execution_count": null,
   "id": "70b9cba5-8e7e-4225-b624-611a4932a152",
   "metadata": {},
   "outputs": [],
   "source": [
    "import pandas as pd\n",
    "import numpy as np\n",
    "import matplotlib.pyplot as plt\n",
    "from scipy.io.arff import loadarff\n",
    "from pymfe.mfe import MFE \n",
    "import missingno as msno\n",
    "from sklearn import preprocessing\n",
    "import time"
   ]
  },
  {
   "cell_type": "code",
   "execution_count": null,
   "id": "be2f5e24-67b5-4943-b081-08d800ee3f3a",
   "metadata": {},
   "outputs": [],
   "source": [
    "import pymfe\n",
    "pymfe.__version__"
   ]
  },
  {
   "cell_type": "markdown",
   "id": "6779af64-46b3-45b9-921b-ea784c337316",
   "metadata": {},
   "source": [
    "# Loading datasets in order to calculate the meta-features"
   ]
  },
  {
   "cell_type": "code",
   "execution_count": null,
   "id": "d33c0f03-8137-4237-8cdd-8af876bd132c",
   "metadata": {},
   "outputs": [],
   "source": [
    "datasets = []\n",
    "for i in range(1,301):\n",
    "    raw_data = loadarff(f'../../data/S1/D{i}-trn.arff')\n",
    "    df_data = pd.DataFrame(raw_data[0])\n",
    "    datasets.append(df_data)"
   ]
  },
  {
   "cell_type": "code",
   "execution_count": null,
   "id": "b6d633ef-a8c7-4096-b42c-c4266a7fae36",
   "metadata": {},
   "outputs": [],
   "source": [
    "# Transforming class labels into ones and zeros.\n",
    "for ds in datasets:\n",
    "    ds['class'] = preprocessing.LabelEncoder().fit_transform(ds['class'])"
   ]
  },
  {
   "cell_type": "code",
   "execution_count": null,
   "id": "405daed2-f981-4bcf-aebe-388f8c7fa64d",
   "metadata": {},
   "outputs": [],
   "source": [
    "datasets[299]"
   ]
  },
  {
   "cell_type": "markdown",
   "id": "2f13233a-08a3-49e1-b52e-ec487f609648",
   "metadata": {},
   "source": [
    "# Extracting metafeatures"
   ]
  },
  {
   "cell_type": "code",
   "execution_count": null,
   "id": "a27c7539-4f31-4ebc-b79d-8d717ff27eb6",
   "metadata": {
    "tags": []
   },
   "outputs": [],
   "source": [
    "metafeatures = [] # This will store Dataframes with each dataset's metafeatures.\n",
    "i = 1\n",
    "elapsed_times = []\n",
    "for current_ds in datasets:\n",
    "    print(f'Extracting metafeatures for dataset {i}.')\n",
    "    start_time = time.time() # Count time from here..\n",
    "    mfe = MFE(groups='all', summary='mean')\n",
    "    mfe.fit(current_ds.iloc[:,:-1].values, current_ds.iloc[:,-1].values)\n",
    "    ft = mfe.extract()\n",
    "    end_time = time.time() # to here.\n",
    "    elapsed_time = end_time - start_time\n",
    "    elapsed_times.append(elapsed_time)\n",
    "    print(\"Elapsed time: \", elapsed_time) \n",
    "    metafeatures.append(pd.DataFrame(dict(zip(ft[0],ft[1])), index=[0]))\n",
    "    i += 1"
   ]
  },
  {
   "cell_type": "code",
   "execution_count": null,
   "id": "5431a0c8-de3a-42ad-bec4-d781eeac03a1",
   "metadata": {
    "tags": []
   },
   "outputs": [],
   "source": [
    "pd.DataFrame(elapsed_times).to_csv('pymfe_computing_times.csv')"
   ]
  },
  {
   "cell_type": "code",
   "execution_count": null,
   "id": "77361144-5526-46f7-9fb2-dce8f697c69c",
   "metadata": {},
   "outputs": [],
   "source": [
    "pd.DataFrame(elapsed_times).describe()"
   ]
  },
  {
   "cell_type": "code",
   "execution_count": null,
   "id": "aae084f2-d953-43ea-a000-d253422b9801",
   "metadata": {},
   "outputs": [],
   "source": [
    "max_t_pos = 0 \n",
    "for i in range(len(elapsed_times)):\n",
    "    t = elapsed_times[i]\n",
    "    if t > elapsed_times[max_t_pos]: max_t_pos = i\n",
    "print(f'Maximum time elapsed was {elapsed_times[max_t_pos]} for dataset D{max_t_pos}.')"
   ]
  },
  {
   "cell_type": "code",
   "execution_count": null,
   "id": "7e89decf-69d8-45cc-8fe6-eae5ce203a1d",
   "metadata": {},
   "outputs": [],
   "source": [
    "metafeatures[298]"
   ]
  },
  {
   "cell_type": "code",
   "execution_count": null,
   "id": "35eae3e5-6fb7-477b-98b3-6482bb29076f",
   "metadata": {},
   "outputs": [],
   "source": [
    "pymfe_metafeatures_df = pd.concat(metafeatures, ignore_index=True)\n",
    "pymfe_metafeatures_df"
   ]
  },
  {
   "cell_type": "code",
   "execution_count": null,
   "id": "cb9998da-155a-460f-ad45-bbb04512bfda",
   "metadata": {},
   "outputs": [],
   "source": [
    "# Saving:\n",
    "#pymfe_metafeatures_df.to_csv('pymfe_meta_features.csv')"
   ]
  },
  {
   "cell_type": "code",
   "execution_count": null,
   "id": "cfd115f4-5929-4860-b2af-a875606b26be",
   "metadata": {},
   "outputs": [],
   "source": [
    "summary_of_dfs = {'name':[], 'columns':[], 'rows':[]}\n",
    "i = 1\n",
    "for ds in datasets:\n",
    "    summary_of_dfs['name'].append(f'D{i}')\n",
    "    summary_of_dfs['columns'].append(ds.shape[1])\n",
    "    summary_of_dfs['rows'].append(ds.shape[0])\n",
    "    i += 1\n",
    "summary_of_dfs = pd.DataFrame(summary_of_dfs)"
   ]
  },
  {
   "cell_type": "code",
   "execution_count": null,
   "id": "36b42bc1-a6a3-46a4-92db-e79bdb7001ac",
   "metadata": {},
   "outputs": [],
   "source": [
    "summary_of_dfs"
   ]
  },
  {
   "cell_type": "code",
   "execution_count": null,
   "id": "2dd0710d-cbc4-43da-9e29-f9e961404e98",
   "metadata": {},
   "outputs": [],
   "source": [
    "summary_of_dfs.describe()"
   ]
  },
  {
   "cell_type": "markdown",
   "id": "b58e14fa-738a-41d8-8329-5dfd1094c7bc",
   "metadata": {
    "tags": []
   },
   "source": [
    "# Analysis of time complexity of meta-feature extraction:"
   ]
  },
  {
   "cell_type": "markdown",
   "id": "df86bc59-eb30-4010-9a2b-ed698be692b3",
   "metadata": {},
   "source": [
    "We will build a graph with the meta-features extraction times for datasets with 10, 100, 1000, 10000... instances. For that we will build random datasets with 21 columns (which is the maximum number of columns of our real datasets) and varying number of rows."
   ]
  },
  {
   "cell_type": "code",
   "execution_count": null,
   "id": "1bb582d5-ad3b-493e-bafc-f7293c1ec83a",
   "metadata": {},
   "outputs": [],
   "source": [
    "from sklearn.datasets import make_classification"
   ]
  },
  {
   "cell_type": "code",
   "execution_count": null,
   "id": "b915425b-8773-4463-87a4-8c8e574a1e7a",
   "metadata": {
    "tags": []
   },
   "outputs": [],
   "source": [
    "n_instances = []\n",
    "elapsed_times = []\n",
    "for n_rows in range(100, 10001, 100):\n",
    "    X, y = make_classification(n_samples = n_rows, n_features = 21, class_sep=0.8, random_state=13)\n",
    "    print(f'Extracting metafeatures for dataset with {n_rows} rows.')\n",
    "    start_time = time.time() # Count time from here..\n",
    "    mfe = MFE(groups='all', summary='mean')\n",
    "    mfe.fit(X, y)\n",
    "    ft = mfe.extract()\n",
    "    end_time = time.time() # to here.\n",
    "    elapsed_times.append(end_time - start_time)\n",
    "    n_instances.append(n_rows)\n"
   ]
  },
  {
   "cell_type": "code",
   "execution_count": null,
   "id": "ee91a2a1-3c1b-4377-b06d-dfd4a9bde746",
   "metadata": {},
   "outputs": [],
   "source": [
    "fig = pd.DataFrame({'Time in seconds':elapsed_times}, index=n_instances).plot().set_xlabel(\"Number of instances\").get_figure()\n"
   ]
  },
  {
   "cell_type": "code",
   "execution_count": null,
   "id": "eafcbf3b-aa86-48bf-b833-987b67b22068",
   "metadata": {},
   "outputs": [],
   "source": [
    "fig.savefig('pymfe_extraction_times.pdf')"
   ]
  },
  {
   "cell_type": "markdown",
   "id": "8e61a2e0-215e-4d7c-a3b4-81b9fd8c6fd6",
   "metadata": {},
   "source": [
    "Is that quadratical?"
   ]
  },
  {
   "cell_type": "code",
   "execution_count": null,
   "id": "d1ad8c94-0f80-4bde-bcaf-0bcf3eef2f33",
   "metadata": {},
   "outputs": [],
   "source": [
    "coef = np.polyfit(x=n_instances, y=elapsed_times, deg=2)\n",
    "plt.scatter(n_instances, elapsed_times, label='data')\n",
    "plt.plot(n_instances, np.poly1d(coef)(n_instances), color='red', label='quadratical polynomial fit')\n",
    "plt.legend()\n",
    "plt.show()\n",
    "print(coef)"
   ]
  },
  {
   "cell_type": "markdown",
   "id": "8fe6b29f-c49b-4672-89da-6205745d733c",
   "metadata": {},
   "source": [
    "Now, how much time would take to actually test all the STs with these random datasets?"
   ]
  },
  {
   "cell_type": "code",
   "execution_count": null,
   "id": "a0063d7c-5587-4669-a072-3190ed1df082",
   "metadata": {},
   "outputs": [],
   "source": [
    "from sklearn.preprocessing import StandardScaler\n",
    "from sklearn.preprocessing import MinMaxScaler\n",
    "from sklearn.preprocessing import MaxAbsScaler\n",
    "from sklearn.preprocessing import RobustScaler\n",
    "#from sklearn.preprocessing import PowerTransformer\n",
    "from sklearn.preprocessing import QuantileTransformer\n",
    "from sklearn.svm import SVC\n",
    "from sklearn.gaussian_process import GaussianProcessClassifier\n",
    "from sklearn.model_selection import cross_validate"
   ]
  },
  {
   "cell_type": "code",
   "execution_count": null,
   "id": "0577739b-afbc-40e4-b31b-1f9a73f3c1d7",
   "metadata": {
    "scrolled": true,
    "tags": []
   },
   "outputs": [],
   "source": [
    "clf = GaussianProcessClassifier\n",
    "n_instances_2 = []\n",
    "mf_extraction_times = []\n",
    "st_and_classification_times = []\n",
    "for n_rows in range(100,10001,300):\n",
    "    X, y = make_classification(n_samples = n_rows, n_features = 21, class_sep=0.8, random_state=13)\n",
    "    # MF extraction:\n",
    "    print(f'Extracting metafeatures for dataset with {n_rows} rows.')\n",
    "    start_time = time.time() # Count time from here..\n",
    "    mfe = MFE(groups='all', summary='mean')\n",
    "    mfe.fit(X, y)\n",
    "    ft = mfe.extract()\n",
    "    end_time = time.time() # to here.\n",
    "    mf_extraction_times.append(end_time - start_time)\n",
    "    # Scaling + Classification\n",
    "    print(f'Scaling and Classifying for dataset with {n_rows} rows.')\n",
    "    start_time = time.time() # Count time from here..\n",
    "    scaled_X = StandardScaler().fit_transform(X)\n",
    "    cross_validate(estimator=clf(), X=scaled_X, y=y) #5-fold CV\n",
    "    scaled_X = MinMaxScaler().fit_transform(X)\n",
    "    cross_validate(estimator=clf(), X=scaled_X, y=y) #5-fold CV\n",
    "    scaled_X = MaxAbsScaler().fit_transform(X)\n",
    "    cross_validate(estimator=clf(), X=scaled_X, y=y) #5-fold CV\n",
    "    scaled_X = RobustScaler().fit_transform(X)\n",
    "    cross_validate(estimator=clf(), X=scaled_X, y=y) #5-fold CV\n",
    "    scaled_X = QuantileTransformer().fit_transform(X)\n",
    "    cross_validate(estimator=clf(), X=scaled_X, y=y) #5-fold CV\n",
    "    scaled_X = X # nonscaled data also needs to be tested\n",
    "    cross_validate(estimator=clf(), X=scaled_X, y=y) #5-fold CV\n",
    "    end_time = time.time() # to here.\n",
    "    st_and_classification_times.append(end_time - start_time)\n",
    "    n_instances_2.append(n_rows)"
   ]
  },
  {
   "cell_type": "code",
   "execution_count": null,
   "id": "5df923d8-1f1b-42a8-8e70-8a9bf5d3f131",
   "metadata": {},
   "outputs": [],
   "source": [
    "ax = pd.DataFrame({'Meta-feature extraction time':mf_extraction_times, \n",
    "                    'Scaling+classification time':st_and_classification_times},\n",
    "                   index=n_instances_2).plot()\n",
    "ax.set_xlabel(\"Number of instances\")\n",
    "ax.set_ylabel('Time (s)')\n",
    "fig = ax.get_figure()\n"
   ]
  },
  {
   "cell_type": "code",
   "execution_count": null,
   "id": "219572ed-71d2-4b6d-8042-5d32778221e0",
   "metadata": {},
   "outputs": [],
   "source": [
    "fig.savefig('pymfe_extraction_times_vs_ST+classifier_times.pdf')"
   ]
  },
  {
   "cell_type": "code",
   "execution_count": null,
   "id": "76b2e633-381e-448d-9f41-9c6cc6eebf51",
   "metadata": {},
   "outputs": [],
   "source": [
    "# Creating a boxplot of the computing times:\n",
    "comp_times = pd.read_csv('comp_times.csv', sep=';')\n",
    "ax = comp_times.boxplot()\n",
    "ax.set_xlabel(\"Meta-feature set\")\n",
    "ax.set_ylabel('Time (s)')\n",
    "fig = ax.get_figure()"
   ]
  },
  {
   "cell_type": "code",
   "execution_count": null,
   "id": "e660c5f4-c48d-4dae-8937-f492064ff498",
   "metadata": {},
   "outputs": [],
   "source": [
    "fig.savefig('boxplot_mf_extraction_times_.pdf')"
   ]
  },
  {
   "cell_type": "code",
   "execution_count": null,
   "id": "cdeccce1-9670-4403-abea-796f8e0ce45a",
   "metadata": {},
   "outputs": [],
   "source": []
  }
 ],
 "metadata": {
  "kernelspec": {
   "display_name": "Python 3 (ipykernel)",
   "language": "python",
   "name": "python3"
  },
  "language_info": {
   "codemirror_mode": {
    "name": "ipython",
    "version": 3
   },
   "file_extension": ".py",
   "mimetype": "text/x-python",
   "name": "python",
   "nbconvert_exporter": "python",
   "pygments_lexer": "ipython3",
   "version": "3.9.13"
  }
 },
 "nbformat": 4,
 "nbformat_minor": 5
}
