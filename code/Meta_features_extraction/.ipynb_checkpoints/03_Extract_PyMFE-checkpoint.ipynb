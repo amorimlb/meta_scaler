{
 "cells": [
  {
   "cell_type": "code",
   "execution_count": 1,
   "id": "0a8b74d4-9ed0-408c-b5ad-435b1c85d840",
   "metadata": {
    "tags": []
   },
   "outputs": [],
   "source": [
    "# Installations\n",
    "#!pip install -U pymfe\n",
    "#!pip install missingno\n",
    "#!pip install numpy"
   ]
  },
  {
   "cell_type": "code",
   "execution_count": 1,
   "id": "70b9cba5-8e7e-4225-b624-611a4932a152",
   "metadata": {},
   "outputs": [],
   "source": [
    "import pandas as pd\n",
    "import numpy as np\n",
    "from scipy.io.arff import loadarff\n",
    "from pymfe.mfe import MFE \n",
    "import missingno as msno\n",
    "from sklearn import preprocessing\n",
    "import time"
   ]
  },
  {
   "cell_type": "code",
   "execution_count": 2,
   "id": "be2f5e24-67b5-4943-b081-08d800ee3f3a",
   "metadata": {},
   "outputs": [
    {
     "data": {
      "text/plain": [
       "'0.4.1'"
      ]
     },
     "execution_count": 2,
     "metadata": {},
     "output_type": "execute_result"
    }
   ],
   "source": [
    "import pymfe\n",
    "pymfe.__version__"
   ]
  },
  {
   "cell_type": "markdown",
   "id": "6779af64-46b3-45b9-921b-ea784c337316",
   "metadata": {},
   "source": [
    "# Loading datasets in order to calculate the meta-features"
   ]
  },
  {
   "cell_type": "code",
   "execution_count": 3,
   "id": "d33c0f03-8137-4237-8cdd-8af876bd132c",
   "metadata": {},
   "outputs": [],
   "source": [
    "datasets = []\n",
    "for i in range(1,301):\n",
    "    raw_data = loadarff(f'../../data/S1/D{i}-trn.arff')\n",
    "    df_data = pd.DataFrame(raw_data[0])\n",
    "    datasets.append(df_data)"
   ]
  },
  {
   "cell_type": "code",
   "execution_count": 4,
   "id": "b6d633ef-a8c7-4096-b42c-c4266a7fae36",
   "metadata": {},
   "outputs": [],
   "source": [
    "# Transforming class labels into ones and zeros.\n",
    "for ds in datasets:\n",
    "    ds['class'] = preprocessing.LabelEncoder().fit_transform(ds['class'])"
   ]
  },
  {
   "cell_type": "code",
   "execution_count": 5,
   "id": "405daed2-f981-4bcf-aebe-388f8c7fa64d",
   "metadata": {},
   "outputs": [
    {
     "data": {
      "text/html": [
       "<div>\n",
       "<style scoped>\n",
       "    .dataframe tbody tr th:only-of-type {\n",
       "        vertical-align: middle;\n",
       "    }\n",
       "\n",
       "    .dataframe tbody tr th {\n",
       "        vertical-align: top;\n",
       "    }\n",
       "\n",
       "    .dataframe thead th {\n",
       "        text-align: right;\n",
       "    }\n",
       "</style>\n",
       "<table border=\"1\" class=\"dataframe\">\n",
       "  <thead>\n",
       "    <tr style=\"text-align: right;\">\n",
       "      <th></th>\n",
       "      <th>att1</th>\n",
       "      <th>att2</th>\n",
       "      <th>att3</th>\n",
       "      <th>att4</th>\n",
       "      <th>att5</th>\n",
       "      <th>att6</th>\n",
       "      <th>att7</th>\n",
       "      <th>att8</th>\n",
       "      <th>att9</th>\n",
       "      <th>att10</th>\n",
       "      <th>...</th>\n",
       "      <th>att12</th>\n",
       "      <th>att13</th>\n",
       "      <th>att14</th>\n",
       "      <th>att15</th>\n",
       "      <th>att16</th>\n",
       "      <th>att17</th>\n",
       "      <th>att18</th>\n",
       "      <th>att19</th>\n",
       "      <th>att20</th>\n",
       "      <th>class</th>\n",
       "    </tr>\n",
       "  </thead>\n",
       "  <tbody>\n",
       "    <tr>\n",
       "      <th>0</th>\n",
       "      <td>1.76075</td>\n",
       "      <td>1.67083</td>\n",
       "      <td>1.48131</td>\n",
       "      <td>1.90520</td>\n",
       "      <td>1.52102</td>\n",
       "      <td>1.50036</td>\n",
       "      <td>1.60691</td>\n",
       "      <td>1.51346</td>\n",
       "      <td>1.62886</td>\n",
       "      <td>1.62866</td>\n",
       "      <td>...</td>\n",
       "      <td>1.33577</td>\n",
       "      <td>1.60005</td>\n",
       "      <td>1.66923</td>\n",
       "      <td>1.49351</td>\n",
       "      <td>1.70028</td>\n",
       "      <td>1.57737</td>\n",
       "      <td>1.53182</td>\n",
       "      <td>1.52134</td>\n",
       "      <td>1.48932</td>\n",
       "      <td>0</td>\n",
       "    </tr>\n",
       "    <tr>\n",
       "      <th>1</th>\n",
       "      <td>1.69384</td>\n",
       "      <td>1.53282</td>\n",
       "      <td>1.80521</td>\n",
       "      <td>1.80165</td>\n",
       "      <td>1.59904</td>\n",
       "      <td>1.61445</td>\n",
       "      <td>1.42863</td>\n",
       "      <td>1.31795</td>\n",
       "      <td>1.71332</td>\n",
       "      <td>1.74396</td>\n",
       "      <td>...</td>\n",
       "      <td>1.43502</td>\n",
       "      <td>1.67018</td>\n",
       "      <td>1.76307</td>\n",
       "      <td>1.18890</td>\n",
       "      <td>1.27363</td>\n",
       "      <td>1.37417</td>\n",
       "      <td>1.44523</td>\n",
       "      <td>1.42722</td>\n",
       "      <td>1.32553</td>\n",
       "      <td>0</td>\n",
       "    </tr>\n",
       "    <tr>\n",
       "      <th>2</th>\n",
       "      <td>1.38103</td>\n",
       "      <td>1.30308</td>\n",
       "      <td>1.98012</td>\n",
       "      <td>1.22334</td>\n",
       "      <td>1.45835</td>\n",
       "      <td>1.54283</td>\n",
       "      <td>1.59870</td>\n",
       "      <td>1.66142</td>\n",
       "      <td>1.55287</td>\n",
       "      <td>1.56683</td>\n",
       "      <td>...</td>\n",
       "      <td>1.46124</td>\n",
       "      <td>1.35237</td>\n",
       "      <td>1.38523</td>\n",
       "      <td>1.66343</td>\n",
       "      <td>1.51224</td>\n",
       "      <td>1.67148</td>\n",
       "      <td>1.73018</td>\n",
       "      <td>1.50756</td>\n",
       "      <td>1.58867</td>\n",
       "      <td>1</td>\n",
       "    </tr>\n",
       "    <tr>\n",
       "      <th>3</th>\n",
       "      <td>1.29021</td>\n",
       "      <td>1.43473</td>\n",
       "      <td>1.24152</td>\n",
       "      <td>1.82244</td>\n",
       "      <td>1.50894</td>\n",
       "      <td>1.53546</td>\n",
       "      <td>1.25094</td>\n",
       "      <td>1.45015</td>\n",
       "      <td>1.69212</td>\n",
       "      <td>1.42423</td>\n",
       "      <td>...</td>\n",
       "      <td>1.52048</td>\n",
       "      <td>1.63858</td>\n",
       "      <td>1.49612</td>\n",
       "      <td>1.58401</td>\n",
       "      <td>1.46190</td>\n",
       "      <td>1.63716</td>\n",
       "      <td>1.58552</td>\n",
       "      <td>1.42479</td>\n",
       "      <td>1.37690</td>\n",
       "      <td>1</td>\n",
       "    </tr>\n",
       "    <tr>\n",
       "      <th>4</th>\n",
       "      <td>1.61959</td>\n",
       "      <td>1.52020</td>\n",
       "      <td>1.73930</td>\n",
       "      <td>1.84271</td>\n",
       "      <td>1.84153</td>\n",
       "      <td>1.70216</td>\n",
       "      <td>1.54459</td>\n",
       "      <td>1.34129</td>\n",
       "      <td>1.54516</td>\n",
       "      <td>1.57385</td>\n",
       "      <td>...</td>\n",
       "      <td>1.22730</td>\n",
       "      <td>1.52946</td>\n",
       "      <td>1.78269</td>\n",
       "      <td>1.48624</td>\n",
       "      <td>1.50403</td>\n",
       "      <td>1.57724</td>\n",
       "      <td>1.70984</td>\n",
       "      <td>1.79777</td>\n",
       "      <td>1.62917</td>\n",
       "      <td>1</td>\n",
       "    </tr>\n",
       "    <tr>\n",
       "      <th>...</th>\n",
       "      <td>...</td>\n",
       "      <td>...</td>\n",
       "      <td>...</td>\n",
       "      <td>...</td>\n",
       "      <td>...</td>\n",
       "      <td>...</td>\n",
       "      <td>...</td>\n",
       "      <td>...</td>\n",
       "      <td>...</td>\n",
       "      <td>...</td>\n",
       "      <td>...</td>\n",
       "      <td>...</td>\n",
       "      <td>...</td>\n",
       "      <td>...</td>\n",
       "      <td>...</td>\n",
       "      <td>...</td>\n",
       "      <td>...</td>\n",
       "      <td>...</td>\n",
       "      <td>...</td>\n",
       "      <td>...</td>\n",
       "      <td>...</td>\n",
       "    </tr>\n",
       "    <tr>\n",
       "      <th>297</th>\n",
       "      <td>1.77933</td>\n",
       "      <td>1.55268</td>\n",
       "      <td>1.17179</td>\n",
       "      <td>1.23253</td>\n",
       "      <td>1.40417</td>\n",
       "      <td>1.34089</td>\n",
       "      <td>1.63616</td>\n",
       "      <td>1.66542</td>\n",
       "      <td>1.36345</td>\n",
       "      <td>1.35664</td>\n",
       "      <td>...</td>\n",
       "      <td>1.29065</td>\n",
       "      <td>1.68349</td>\n",
       "      <td>1.58742</td>\n",
       "      <td>1.63045</td>\n",
       "      <td>1.65079</td>\n",
       "      <td>1.83231</td>\n",
       "      <td>1.73309</td>\n",
       "      <td>1.46325</td>\n",
       "      <td>1.37509</td>\n",
       "      <td>0</td>\n",
       "    </tr>\n",
       "    <tr>\n",
       "      <th>298</th>\n",
       "      <td>1.42050</td>\n",
       "      <td>1.42976</td>\n",
       "      <td>1.28852</td>\n",
       "      <td>1.45162</td>\n",
       "      <td>1.34135</td>\n",
       "      <td>1.50956</td>\n",
       "      <td>1.28524</td>\n",
       "      <td>1.36138</td>\n",
       "      <td>1.48223</td>\n",
       "      <td>1.50990</td>\n",
       "      <td>...</td>\n",
       "      <td>1.23643</td>\n",
       "      <td>1.68327</td>\n",
       "      <td>1.71692</td>\n",
       "      <td>1.48653</td>\n",
       "      <td>1.44129</td>\n",
       "      <td>1.50315</td>\n",
       "      <td>1.45132</td>\n",
       "      <td>1.54091</td>\n",
       "      <td>1.59549</td>\n",
       "      <td>0</td>\n",
       "    </tr>\n",
       "    <tr>\n",
       "      <th>299</th>\n",
       "      <td>1.37384</td>\n",
       "      <td>1.30863</td>\n",
       "      <td>1.05338</td>\n",
       "      <td>1.20197</td>\n",
       "      <td>1.57024</td>\n",
       "      <td>1.49748</td>\n",
       "      <td>1.44597</td>\n",
       "      <td>1.38796</td>\n",
       "      <td>1.30361</td>\n",
       "      <td>1.44449</td>\n",
       "      <td>...</td>\n",
       "      <td>1.41083</td>\n",
       "      <td>1.62949</td>\n",
       "      <td>1.62103</td>\n",
       "      <td>1.62617</td>\n",
       "      <td>1.64968</td>\n",
       "      <td>1.44831</td>\n",
       "      <td>1.46172</td>\n",
       "      <td>1.72483</td>\n",
       "      <td>1.66877</td>\n",
       "      <td>0</td>\n",
       "    </tr>\n",
       "    <tr>\n",
       "      <th>300</th>\n",
       "      <td>1.61409</td>\n",
       "      <td>1.61026</td>\n",
       "      <td>1.12077</td>\n",
       "      <td>1.96777</td>\n",
       "      <td>1.31656</td>\n",
       "      <td>1.29632</td>\n",
       "      <td>1.59813</td>\n",
       "      <td>1.40678</td>\n",
       "      <td>1.63691</td>\n",
       "      <td>1.45743</td>\n",
       "      <td>...</td>\n",
       "      <td>1.37720</td>\n",
       "      <td>1.54338</td>\n",
       "      <td>1.48495</td>\n",
       "      <td>1.50989</td>\n",
       "      <td>1.58146</td>\n",
       "      <td>1.47434</td>\n",
       "      <td>1.32210</td>\n",
       "      <td>1.73685</td>\n",
       "      <td>1.64051</td>\n",
       "      <td>1</td>\n",
       "    </tr>\n",
       "    <tr>\n",
       "      <th>301</th>\n",
       "      <td>1.24475</td>\n",
       "      <td>1.17121</td>\n",
       "      <td>1.51142</td>\n",
       "      <td>1.80582</td>\n",
       "      <td>1.61030</td>\n",
       "      <td>1.78509</td>\n",
       "      <td>1.62035</td>\n",
       "      <td>1.46643</td>\n",
       "      <td>1.49539</td>\n",
       "      <td>1.35841</td>\n",
       "      <td>...</td>\n",
       "      <td>1.58395</td>\n",
       "      <td>1.65720</td>\n",
       "      <td>1.51013</td>\n",
       "      <td>1.77566</td>\n",
       "      <td>1.69773</td>\n",
       "      <td>1.72184</td>\n",
       "      <td>1.66043</td>\n",
       "      <td>1.36035</td>\n",
       "      <td>1.79058</td>\n",
       "      <td>1</td>\n",
       "    </tr>\n",
       "  </tbody>\n",
       "</table>\n",
       "<p>302 rows × 21 columns</p>\n",
       "</div>"
      ],
      "text/plain": [
       "        att1     att2     att3     att4     att5     att6     att7     att8  \\\n",
       "0    1.76075  1.67083  1.48131  1.90520  1.52102  1.50036  1.60691  1.51346   \n",
       "1    1.69384  1.53282  1.80521  1.80165  1.59904  1.61445  1.42863  1.31795   \n",
       "2    1.38103  1.30308  1.98012  1.22334  1.45835  1.54283  1.59870  1.66142   \n",
       "3    1.29021  1.43473  1.24152  1.82244  1.50894  1.53546  1.25094  1.45015   \n",
       "4    1.61959  1.52020  1.73930  1.84271  1.84153  1.70216  1.54459  1.34129   \n",
       "..       ...      ...      ...      ...      ...      ...      ...      ...   \n",
       "297  1.77933  1.55268  1.17179  1.23253  1.40417  1.34089  1.63616  1.66542   \n",
       "298  1.42050  1.42976  1.28852  1.45162  1.34135  1.50956  1.28524  1.36138   \n",
       "299  1.37384  1.30863  1.05338  1.20197  1.57024  1.49748  1.44597  1.38796   \n",
       "300  1.61409  1.61026  1.12077  1.96777  1.31656  1.29632  1.59813  1.40678   \n",
       "301  1.24475  1.17121  1.51142  1.80582  1.61030  1.78509  1.62035  1.46643   \n",
       "\n",
       "        att9    att10  ...    att12    att13    att14    att15    att16  \\\n",
       "0    1.62886  1.62866  ...  1.33577  1.60005  1.66923  1.49351  1.70028   \n",
       "1    1.71332  1.74396  ...  1.43502  1.67018  1.76307  1.18890  1.27363   \n",
       "2    1.55287  1.56683  ...  1.46124  1.35237  1.38523  1.66343  1.51224   \n",
       "3    1.69212  1.42423  ...  1.52048  1.63858  1.49612  1.58401  1.46190   \n",
       "4    1.54516  1.57385  ...  1.22730  1.52946  1.78269  1.48624  1.50403   \n",
       "..       ...      ...  ...      ...      ...      ...      ...      ...   \n",
       "297  1.36345  1.35664  ...  1.29065  1.68349  1.58742  1.63045  1.65079   \n",
       "298  1.48223  1.50990  ...  1.23643  1.68327  1.71692  1.48653  1.44129   \n",
       "299  1.30361  1.44449  ...  1.41083  1.62949  1.62103  1.62617  1.64968   \n",
       "300  1.63691  1.45743  ...  1.37720  1.54338  1.48495  1.50989  1.58146   \n",
       "301  1.49539  1.35841  ...  1.58395  1.65720  1.51013  1.77566  1.69773   \n",
       "\n",
       "       att17    att18    att19    att20  class  \n",
       "0    1.57737  1.53182  1.52134  1.48932      0  \n",
       "1    1.37417  1.44523  1.42722  1.32553      0  \n",
       "2    1.67148  1.73018  1.50756  1.58867      1  \n",
       "3    1.63716  1.58552  1.42479  1.37690      1  \n",
       "4    1.57724  1.70984  1.79777  1.62917      1  \n",
       "..       ...      ...      ...      ...    ...  \n",
       "297  1.83231  1.73309  1.46325  1.37509      0  \n",
       "298  1.50315  1.45132  1.54091  1.59549      0  \n",
       "299  1.44831  1.46172  1.72483  1.66877      0  \n",
       "300  1.47434  1.32210  1.73685  1.64051      1  \n",
       "301  1.72184  1.66043  1.36035  1.79058      1  \n",
       "\n",
       "[302 rows x 21 columns]"
      ]
     },
     "execution_count": 5,
     "metadata": {},
     "output_type": "execute_result"
    }
   ],
   "source": [
    "datasets[299]"
   ]
  },
  {
   "cell_type": "markdown",
   "id": "2f13233a-08a3-49e1-b52e-ec487f609648",
   "metadata": {},
   "source": [
    "# Extracting metafeatures"
   ]
  },
  {
   "cell_type": "code",
   "execution_count": 7,
   "id": "a27c7539-4f31-4ebc-b79d-8d717ff27eb6",
   "metadata": {
    "collapsed": true,
    "jupyter": {
     "outputs_hidden": true
    },
    "tags": []
   },
   "outputs": [
    {
     "name": "stdout",
     "output_type": "stream",
     "text": [
      "Extracting metafeatures for dataset 1.\n",
      "Elapsed time:  0.6052658557891846\n",
      "Extracting metafeatures for dataset 2.\n"
     ]
    },
    {
     "name": "stderr",
     "output_type": "stream",
     "text": [
      "/opt/homebrew/anaconda3/lib/python3.9/site-packages/pymfe/_internal.py:1566: UserWarning: It is not possible make equal discretization\n",
      "  warnings.warn(\"It is not possible make equal discretization\")\n"
     ]
    },
    {
     "name": "stdout",
     "output_type": "stream",
     "text": [
      "Elapsed time:  0.3687009811401367\n",
      "Extracting metafeatures for dataset 3.\n",
      "Elapsed time:  0.634758710861206\n",
      "Extracting metafeatures for dataset 4.\n",
      "Elapsed time:  0.5937900543212891\n",
      "Extracting metafeatures for dataset 5.\n",
      "Elapsed time:  0.6045131683349609\n",
      "Extracting metafeatures for dataset 6.\n",
      "Elapsed time:  0.6055071353912354\n",
      "Extracting metafeatures for dataset 7.\n",
      "Elapsed time:  0.601172924041748\n",
      "Extracting metafeatures for dataset 8.\n",
      "Elapsed time:  0.6106419563293457\n",
      "Extracting metafeatures for dataset 9.\n",
      "Elapsed time:  0.5982739925384521\n",
      "Extracting metafeatures for dataset 10.\n",
      "Elapsed time:  0.657081127166748\n",
      "Extracting metafeatures for dataset 11.\n",
      "Elapsed time:  0.9902770519256592\n",
      "Extracting metafeatures for dataset 12.\n",
      "Elapsed time:  1.2512309551239014\n",
      "Extracting metafeatures for dataset 13.\n",
      "Elapsed time:  0.5758450031280518\n",
      "Extracting metafeatures for dataset 14.\n",
      "Elapsed time:  1.6107492446899414\n",
      "Extracting metafeatures for dataset 15.\n",
      "Elapsed time:  1.8992068767547607\n",
      "Extracting metafeatures for dataset 16.\n",
      "Elapsed time:  0.6534390449523926\n",
      "Extracting metafeatures for dataset 17.\n",
      "Elapsed time:  1.5644102096557617\n",
      "Extracting metafeatures for dataset 18.\n",
      "Elapsed time:  0.5618200302124023\n",
      "Extracting metafeatures for dataset 19.\n",
      "Elapsed time:  0.7161798477172852\n",
      "Extracting metafeatures for dataset 20.\n",
      "Elapsed time:  0.7028462886810303\n",
      "Extracting metafeatures for dataset 21.\n",
      "Elapsed time:  0.6921229362487793\n",
      "Extracting metafeatures for dataset 22.\n",
      "Elapsed time:  0.8495450019836426\n",
      "Extracting metafeatures for dataset 23.\n",
      "Elapsed time:  0.6232059001922607\n",
      "Extracting metafeatures for dataset 24.\n"
     ]
    },
    {
     "name": "stderr",
     "output_type": "stream",
     "text": [
      "/opt/homebrew/anaconda3/lib/python3.9/site-packages/pymfe/_internal.py:1566: UserWarning: It is not possible make equal discretization\n",
      "  warnings.warn(\"It is not possible make equal discretization\")\n"
     ]
    },
    {
     "name": "stdout",
     "output_type": "stream",
     "text": [
      "Elapsed time:  0.3447232246398926\n",
      "Extracting metafeatures for dataset 25.\n"
     ]
    },
    {
     "name": "stderr",
     "output_type": "stream",
     "text": [
      "/opt/homebrew/anaconda3/lib/python3.9/site-packages/pymfe/_internal.py:1566: UserWarning: It is not possible make equal discretization\n",
      "  warnings.warn(\"It is not possible make equal discretization\")\n"
     ]
    },
    {
     "name": "stdout",
     "output_type": "stream",
     "text": [
      "Elapsed time:  0.3298308849334717\n",
      "Extracting metafeatures for dataset 26.\n",
      "Elapsed time:  0.7580180168151855\n",
      "Extracting metafeatures for dataset 27.\n",
      "Elapsed time:  0.596113920211792\n",
      "Extracting metafeatures for dataset 28.\n",
      "Elapsed time:  0.7916209697723389\n",
      "Extracting metafeatures for dataset 29.\n"
     ]
    },
    {
     "name": "stderr",
     "output_type": "stream",
     "text": [
      "/opt/homebrew/anaconda3/lib/python3.9/site-packages/pymfe/_internal.py:1566: UserWarning: It is not possible make equal discretization\n",
      "  warnings.warn(\"It is not possible make equal discretization\")\n"
     ]
    },
    {
     "name": "stdout",
     "output_type": "stream",
     "text": [
      "Elapsed time:  0.3034970760345459\n",
      "Extracting metafeatures for dataset 30.\n"
     ]
    },
    {
     "name": "stderr",
     "output_type": "stream",
     "text": [
      "/opt/homebrew/anaconda3/lib/python3.9/site-packages/pymfe/_internal.py:1566: UserWarning: It is not possible make equal discretization\n",
      "  warnings.warn(\"It is not possible make equal discretization\")\n"
     ]
    },
    {
     "name": "stdout",
     "output_type": "stream",
     "text": [
      "Elapsed time:  0.35506510734558105\n",
      "Extracting metafeatures for dataset 31.\n",
      "Elapsed time:  1.5506038665771484\n",
      "Extracting metafeatures for dataset 32.\n",
      "Elapsed time:  0.5448310375213623\n",
      "Extracting metafeatures for dataset 33.\n",
      "Elapsed time:  0.635993242263794\n",
      "Extracting metafeatures for dataset 34.\n",
      "Elapsed time:  0.7864270210266113\n",
      "Extracting metafeatures for dataset 35.\n",
      "Elapsed time:  0.605787992477417\n",
      "Extracting metafeatures for dataset 36.\n",
      "Elapsed time:  0.5982410907745361\n",
      "Extracting metafeatures for dataset 37.\n",
      "Elapsed time:  0.5863029956817627\n",
      "Extracting metafeatures for dataset 38.\n",
      "Elapsed time:  1.0504181385040283\n",
      "Extracting metafeatures for dataset 39.\n",
      "Elapsed time:  0.5874648094177246\n",
      "Extracting metafeatures for dataset 40.\n",
      "Elapsed time:  0.7047281265258789\n",
      "Extracting metafeatures for dataset 41.\n",
      "Elapsed time:  1.2920269966125488\n",
      "Extracting metafeatures for dataset 42.\n",
      "Elapsed time:  0.8171801567077637\n",
      "Extracting metafeatures for dataset 43.\n",
      "Elapsed time:  0.704901933670044\n",
      "Extracting metafeatures for dataset 44.\n",
      "Elapsed time:  0.5930359363555908\n",
      "Extracting metafeatures for dataset 45.\n",
      "Elapsed time:  0.5867660045623779\n",
      "Extracting metafeatures for dataset 46.\n",
      "Elapsed time:  0.7117629051208496\n",
      "Extracting metafeatures for dataset 47.\n"
     ]
    },
    {
     "name": "stderr",
     "output_type": "stream",
     "text": [
      "/opt/homebrew/anaconda3/lib/python3.9/site-packages/pymfe/_internal.py:1566: UserWarning: It is not possible make equal discretization\n",
      "  warnings.warn(\"It is not possible make equal discretization\")\n"
     ]
    },
    {
     "name": "stdout",
     "output_type": "stream",
     "text": [
      "Elapsed time:  0.29276299476623535\n",
      "Extracting metafeatures for dataset 48.\n",
      "Elapsed time:  0.6352887153625488\n",
      "Extracting metafeatures for dataset 49.\n",
      "Elapsed time:  0.969174861907959\n",
      "Extracting metafeatures for dataset 50.\n"
     ]
    },
    {
     "name": "stderr",
     "output_type": "stream",
     "text": [
      "/opt/homebrew/anaconda3/lib/python3.9/site-packages/pymfe/_internal.py:1566: UserWarning: It is not possible make equal discretization\n",
      "  warnings.warn(\"It is not possible make equal discretization\")\n"
     ]
    },
    {
     "name": "stdout",
     "output_type": "stream",
     "text": [
      "Elapsed time:  0.3291740417480469\n",
      "Extracting metafeatures for dataset 51.\n",
      "Elapsed time:  0.6037969589233398\n",
      "Extracting metafeatures for dataset 52.\n",
      "Elapsed time:  1.167511224746704\n",
      "Extracting metafeatures for dataset 53.\n"
     ]
    },
    {
     "name": "stderr",
     "output_type": "stream",
     "text": [
      "/opt/homebrew/anaconda3/lib/python3.9/site-packages/pymfe/_internal.py:1566: UserWarning: It is not possible make equal discretization\n",
      "  warnings.warn(\"It is not possible make equal discretization\")\n"
     ]
    },
    {
     "name": "stdout",
     "output_type": "stream",
     "text": [
      "Elapsed time:  0.410442590713501\n",
      "Extracting metafeatures for dataset 54.\n"
     ]
    },
    {
     "name": "stderr",
     "output_type": "stream",
     "text": [
      "/opt/homebrew/anaconda3/lib/python3.9/site-packages/pymfe/_internal.py:1566: UserWarning: It is not possible make equal discretization\n",
      "  warnings.warn(\"It is not possible make equal discretization\")\n"
     ]
    },
    {
     "name": "stdout",
     "output_type": "stream",
     "text": [
      "Elapsed time:  0.5463981628417969\n",
      "Extracting metafeatures for dataset 55.\n"
     ]
    },
    {
     "name": "stderr",
     "output_type": "stream",
     "text": [
      "/opt/homebrew/anaconda3/lib/python3.9/site-packages/pymfe/_internal.py:1566: UserWarning: It is not possible make equal discretization\n",
      "  warnings.warn(\"It is not possible make equal discretization\")\n"
     ]
    },
    {
     "name": "stdout",
     "output_type": "stream",
     "text": [
      "Elapsed time:  0.3779001235961914\n",
      "Extracting metafeatures for dataset 56.\n",
      "Elapsed time:  1.6939938068389893\n",
      "Extracting metafeatures for dataset 57.\n",
      "Elapsed time:  0.516042947769165\n",
      "Extracting metafeatures for dataset 58.\n",
      "Elapsed time:  0.5861737728118896\n",
      "Extracting metafeatures for dataset 59.\n",
      "Elapsed time:  0.6058590412139893\n",
      "Extracting metafeatures for dataset 60.\n",
      "Elapsed time:  0.5898971557617188\n",
      "Extracting metafeatures for dataset 61.\n",
      "Elapsed time:  0.5882530212402344\n",
      "Extracting metafeatures for dataset 62.\n",
      "Elapsed time:  0.7112979888916016\n",
      "Extracting metafeatures for dataset 63.\n",
      "Elapsed time:  0.6096141338348389\n",
      "Extracting metafeatures for dataset 64.\n",
      "Elapsed time:  0.6501080989837646\n",
      "Extracting metafeatures for dataset 65.\n",
      "Elapsed time:  0.5894298553466797\n",
      "Extracting metafeatures for dataset 66.\n",
      "Elapsed time:  0.6276750564575195\n",
      "Extracting metafeatures for dataset 67.\n",
      "Elapsed time:  0.6523499488830566\n",
      "Extracting metafeatures for dataset 68.\n",
      "Elapsed time:  0.5589749813079834\n",
      "Extracting metafeatures for dataset 69.\n",
      "Elapsed time:  0.6145291328430176\n",
      "Extracting metafeatures for dataset 70.\n",
      "Elapsed time:  0.6851150989532471\n",
      "Extracting metafeatures for dataset 71.\n",
      "Elapsed time:  0.7963109016418457\n",
      "Extracting metafeatures for dataset 72.\n",
      "Elapsed time:  0.6444389820098877\n",
      "Extracting metafeatures for dataset 73.\n"
     ]
    },
    {
     "name": "stderr",
     "output_type": "stream",
     "text": [
      "/opt/homebrew/anaconda3/lib/python3.9/site-packages/pymfe/_internal.py:1566: UserWarning: It is not possible make equal discretization\n",
      "  warnings.warn(\"It is not possible make equal discretization\")\n"
     ]
    },
    {
     "name": "stdout",
     "output_type": "stream",
     "text": [
      "Elapsed time:  0.3442680835723877\n",
      "Extracting metafeatures for dataset 74.\n",
      "Elapsed time:  0.6335968971252441\n",
      "Extracting metafeatures for dataset 75.\n",
      "Elapsed time:  1.021939992904663\n",
      "Extracting metafeatures for dataset 76.\n",
      "Elapsed time:  0.5830111503601074\n",
      "Extracting metafeatures for dataset 77.\n",
      "Elapsed time:  1.4879796504974365\n",
      "Extracting metafeatures for dataset 78.\n",
      "Elapsed time:  0.5555791854858398\n",
      "Extracting metafeatures for dataset 79.\n"
     ]
    },
    {
     "name": "stderr",
     "output_type": "stream",
     "text": [
      "/opt/homebrew/anaconda3/lib/python3.9/site-packages/pymfe/_internal.py:1566: UserWarning: It is not possible make equal discretization\n",
      "  warnings.warn(\"It is not possible make equal discretization\")\n"
     ]
    },
    {
     "name": "stdout",
     "output_type": "stream",
     "text": [
      "Elapsed time:  0.28697919845581055\n",
      "Extracting metafeatures for dataset 80.\n",
      "Elapsed time:  0.6416709423065186\n",
      "Extracting metafeatures for dataset 81.\n"
     ]
    },
    {
     "name": "stderr",
     "output_type": "stream",
     "text": [
      "/opt/homebrew/anaconda3/lib/python3.9/site-packages/pymfe/_internal.py:1566: UserWarning: It is not possible make equal discretization\n",
      "  warnings.warn(\"It is not possible make equal discretization\")\n"
     ]
    },
    {
     "name": "stdout",
     "output_type": "stream",
     "text": [
      "Elapsed time:  0.3134770393371582\n",
      "Extracting metafeatures for dataset 82.\n"
     ]
    },
    {
     "name": "stderr",
     "output_type": "stream",
     "text": [
      "/opt/homebrew/anaconda3/lib/python3.9/site-packages/pymfe/_internal.py:1566: UserWarning: It is not possible make equal discretization\n",
      "  warnings.warn(\"It is not possible make equal discretization\")\n"
     ]
    },
    {
     "name": "stdout",
     "output_type": "stream",
     "text": [
      "Elapsed time:  0.6441569328308105\n",
      "Extracting metafeatures for dataset 83.\n"
     ]
    },
    {
     "name": "stderr",
     "output_type": "stream",
     "text": [
      "/opt/homebrew/anaconda3/lib/python3.9/site-packages/pymfe/_internal.py:1566: UserWarning: It is not possible make equal discretization\n",
      "  warnings.warn(\"It is not possible make equal discretization\")\n"
     ]
    },
    {
     "name": "stdout",
     "output_type": "stream",
     "text": [
      "Elapsed time:  0.49594688415527344\n",
      "Extracting metafeatures for dataset 84.\n",
      "Elapsed time:  0.5977787971496582\n",
      "Extracting metafeatures for dataset 85.\n",
      "Elapsed time:  0.7121012210845947\n",
      "Extracting metafeatures for dataset 86.\n",
      "Elapsed time:  0.6021277904510498\n",
      "Extracting metafeatures for dataset 87.\n",
      "Elapsed time:  1.899489164352417\n",
      "Extracting metafeatures for dataset 88.\n"
     ]
    },
    {
     "name": "stderr",
     "output_type": "stream",
     "text": [
      "/opt/homebrew/anaconda3/lib/python3.9/site-packages/pymfe/_internal.py:1566: UserWarning: It is not possible make equal discretization\n",
      "  warnings.warn(\"It is not possible make equal discretization\")\n"
     ]
    },
    {
     "name": "stdout",
     "output_type": "stream",
     "text": [
      "Elapsed time:  0.3863098621368408\n",
      "Extracting metafeatures for dataset 89.\n"
     ]
    },
    {
     "name": "stderr",
     "output_type": "stream",
     "text": [
      "/opt/homebrew/anaconda3/lib/python3.9/site-packages/pymfe/_internal.py:1566: UserWarning: It is not possible make equal discretization\n",
      "  warnings.warn(\"It is not possible make equal discretization\")\n"
     ]
    },
    {
     "name": "stdout",
     "output_type": "stream",
     "text": [
      "Elapsed time:  0.30939698219299316\n",
      "Extracting metafeatures for dataset 90.\n",
      "Elapsed time:  1.6006619930267334\n",
      "Extracting metafeatures for dataset 91.\n",
      "Elapsed time:  0.6015748977661133\n",
      "Extracting metafeatures for dataset 92.\n",
      "Elapsed time:  0.587817907333374\n",
      "Extracting metafeatures for dataset 93.\n",
      "Elapsed time:  0.5950827598571777\n",
      "Extracting metafeatures for dataset 94.\n",
      "Elapsed time:  0.9482848644256592\n",
      "Extracting metafeatures for dataset 95.\n",
      "Elapsed time:  0.5530819892883301\n",
      "Extracting metafeatures for dataset 96.\n",
      "Elapsed time:  0.5770690441131592\n",
      "Extracting metafeatures for dataset 97.\n",
      "Elapsed time:  0.6213057041168213\n",
      "Extracting metafeatures for dataset 98.\n",
      "Elapsed time:  0.7215418815612793\n",
      "Extracting metafeatures for dataset 99.\n",
      "Elapsed time:  0.7118170261383057\n",
      "Extracting metafeatures for dataset 100.\n",
      "Elapsed time:  0.5747051239013672\n",
      "Extracting metafeatures for dataset 101.\n",
      "Elapsed time:  0.9345910549163818\n",
      "Extracting metafeatures for dataset 102.\n",
      "Elapsed time:  0.5867178440093994\n",
      "Extracting metafeatures for dataset 103.\n",
      "Elapsed time:  0.5749330520629883\n",
      "Extracting metafeatures for dataset 104.\n",
      "Elapsed time:  1.1587231159210205\n",
      "Extracting metafeatures for dataset 105.\n",
      "Elapsed time:  1.22245192527771\n",
      "Extracting metafeatures for dataset 106.\n",
      "Elapsed time:  1.2206790447235107\n",
      "Extracting metafeatures for dataset 107.\n",
      "Elapsed time:  0.5723171234130859\n",
      "Extracting metafeatures for dataset 108.\n",
      "Elapsed time:  0.5831019878387451\n",
      "Extracting metafeatures for dataset 109.\n",
      "Elapsed time:  0.6006462574005127\n",
      "Extracting metafeatures for dataset 110.\n"
     ]
    },
    {
     "name": "stderr",
     "output_type": "stream",
     "text": [
      "/opt/homebrew/anaconda3/lib/python3.9/site-packages/pymfe/_internal.py:1566: UserWarning: It is not possible make equal discretization\n",
      "  warnings.warn(\"It is not possible make equal discretization\")\n"
     ]
    },
    {
     "name": "stdout",
     "output_type": "stream",
     "text": [
      "Elapsed time:  0.33747100830078125\n",
      "Extracting metafeatures for dataset 111.\n",
      "Elapsed time:  0.6022632122039795\n",
      "Extracting metafeatures for dataset 112.\n",
      "Elapsed time:  0.6455397605895996\n",
      "Extracting metafeatures for dataset 113.\n",
      "Elapsed time:  1.184812068939209\n",
      "Extracting metafeatures for dataset 114.\n",
      "Elapsed time:  1.0800988674163818\n",
      "Extracting metafeatures for dataset 115.\n",
      "Elapsed time:  0.5656840801239014\n",
      "Extracting metafeatures for dataset 116.\n",
      "Elapsed time:  0.6067409515380859\n",
      "Extracting metafeatures for dataset 117.\n",
      "Elapsed time:  0.7348480224609375\n",
      "Extracting metafeatures for dataset 118.\n",
      "Elapsed time:  1.115211009979248\n",
      "Extracting metafeatures for dataset 119.\n"
     ]
    },
    {
     "name": "stderr",
     "output_type": "stream",
     "text": [
      "/opt/homebrew/anaconda3/lib/python3.9/site-packages/pymfe/_internal.py:1566: UserWarning: It is not possible make equal discretization\n",
      "  warnings.warn(\"It is not possible make equal discretization\")\n"
     ]
    },
    {
     "name": "stdout",
     "output_type": "stream",
     "text": [
      "Elapsed time:  0.28842806816101074\n",
      "Extracting metafeatures for dataset 120.\n"
     ]
    },
    {
     "name": "stderr",
     "output_type": "stream",
     "text": [
      "/opt/homebrew/anaconda3/lib/python3.9/site-packages/pymfe/_internal.py:1566: UserWarning: It is not possible make equal discretization\n",
      "  warnings.warn(\"It is not possible make equal discretization\")\n"
     ]
    },
    {
     "name": "stdout",
     "output_type": "stream",
     "text": [
      "Elapsed time:  0.5747349262237549\n",
      "Extracting metafeatures for dataset 121.\n"
     ]
    },
    {
     "name": "stderr",
     "output_type": "stream",
     "text": [
      "/opt/homebrew/anaconda3/lib/python3.9/site-packages/pymfe/_internal.py:1566: UserWarning: It is not possible make equal discretization\n",
      "  warnings.warn(\"It is not possible make equal discretization\")\n"
     ]
    },
    {
     "name": "stdout",
     "output_type": "stream",
     "text": [
      "Elapsed time:  0.4786558151245117\n",
      "Extracting metafeatures for dataset 122.\n"
     ]
    },
    {
     "name": "stderr",
     "output_type": "stream",
     "text": [
      "/opt/homebrew/anaconda3/lib/python3.9/site-packages/pymfe/_internal.py:1566: UserWarning: It is not possible make equal discretization\n",
      "  warnings.warn(\"It is not possible make equal discretization\")\n"
     ]
    },
    {
     "name": "stdout",
     "output_type": "stream",
     "text": [
      "Elapsed time:  0.30948901176452637\n",
      "Extracting metafeatures for dataset 123.\n"
     ]
    },
    {
     "name": "stderr",
     "output_type": "stream",
     "text": [
      "/opt/homebrew/anaconda3/lib/python3.9/site-packages/pymfe/_internal.py:1566: UserWarning: It is not possible make equal discretization\n",
      "  warnings.warn(\"It is not possible make equal discretization\")\n"
     ]
    },
    {
     "name": "stdout",
     "output_type": "stream",
     "text": [
      "Elapsed time:  0.3206038475036621\n",
      "Extracting metafeatures for dataset 124.\n"
     ]
    },
    {
     "name": "stderr",
     "output_type": "stream",
     "text": [
      "/opt/homebrew/anaconda3/lib/python3.9/site-packages/pymfe/_internal.py:1566: UserWarning: It is not possible make equal discretization\n",
      "  warnings.warn(\"It is not possible make equal discretization\")\n"
     ]
    },
    {
     "name": "stdout",
     "output_type": "stream",
     "text": [
      "Elapsed time:  0.37017202377319336\n",
      "Extracting metafeatures for dataset 125.\n",
      "Elapsed time:  1.541910171508789\n",
      "Extracting metafeatures for dataset 126.\n",
      "Elapsed time:  1.3271369934082031\n",
      "Extracting metafeatures for dataset 127.\n",
      "Elapsed time:  1.2440409660339355\n",
      "Extracting metafeatures for dataset 128.\n",
      "Elapsed time:  1.51145601272583\n",
      "Extracting metafeatures for dataset 129.\n"
     ]
    },
    {
     "name": "stderr",
     "output_type": "stream",
     "text": [
      "/opt/homebrew/anaconda3/lib/python3.9/site-packages/pymfe/_internal.py:1566: UserWarning: It is not possible make equal discretization\n",
      "  warnings.warn(\"It is not possible make equal discretization\")\n"
     ]
    },
    {
     "name": "stdout",
     "output_type": "stream",
     "text": [
      "Elapsed time:  0.31529784202575684\n",
      "Extracting metafeatures for dataset 130.\n",
      "Elapsed time:  1.7371339797973633\n",
      "Extracting metafeatures for dataset 131.\n",
      "Elapsed time:  0.7949230670928955\n",
      "Extracting metafeatures for dataset 132.\n",
      "Elapsed time:  0.9638040065765381\n",
      "Extracting metafeatures for dataset 133.\n",
      "Elapsed time:  0.62823486328125\n",
      "Extracting metafeatures for dataset 134.\n",
      "Elapsed time:  0.6706109046936035\n",
      "Extracting metafeatures for dataset 135.\n",
      "Elapsed time:  0.6051292419433594\n",
      "Extracting metafeatures for dataset 136.\n",
      "Elapsed time:  1.016556739807129\n",
      "Extracting metafeatures for dataset 137.\n",
      "Elapsed time:  0.5897998809814453\n",
      "Extracting metafeatures for dataset 138.\n",
      "Elapsed time:  1.0360510349273682\n",
      "Extracting metafeatures for dataset 139.\n",
      "Elapsed time:  0.6324737071990967\n",
      "Extracting metafeatures for dataset 140.\n",
      "Elapsed time:  1.0054831504821777\n",
      "Extracting metafeatures for dataset 141.\n",
      "Elapsed time:  0.544093132019043\n",
      "Extracting metafeatures for dataset 142.\n",
      "Elapsed time:  0.6402959823608398\n",
      "Extracting metafeatures for dataset 143.\n",
      "Elapsed time:  1.343022108078003\n",
      "Extracting metafeatures for dataset 144.\n",
      "Elapsed time:  0.6221928596496582\n",
      "Extracting metafeatures for dataset 145.\n",
      "Elapsed time:  0.5511398315429688\n",
      "Extracting metafeatures for dataset 146.\n",
      "Elapsed time:  0.6551320552825928\n",
      "Extracting metafeatures for dataset 147.\n",
      "Elapsed time:  1.7294409275054932\n",
      "Extracting metafeatures for dataset 148.\n",
      "Elapsed time:  0.5760059356689453\n",
      "Extracting metafeatures for dataset 149.\n",
      "Elapsed time:  0.5831811428070068\n",
      "Extracting metafeatures for dataset 150.\n",
      "Elapsed time:  1.0340580940246582\n",
      "Extracting metafeatures for dataset 151.\n",
      "Elapsed time:  1.6092710494995117\n",
      "Extracting metafeatures for dataset 152.\n",
      "Elapsed time:  0.5462720394134521\n",
      "Extracting metafeatures for dataset 153.\n",
      "Elapsed time:  0.8380999565124512\n",
      "Extracting metafeatures for dataset 154.\n",
      "Elapsed time:  1.1262569427490234\n",
      "Extracting metafeatures for dataset 155.\n"
     ]
    },
    {
     "name": "stderr",
     "output_type": "stream",
     "text": [
      "/opt/homebrew/anaconda3/lib/python3.9/site-packages/pymfe/_internal.py:1566: UserWarning: It is not possible make equal discretization\n",
      "  warnings.warn(\"It is not possible make equal discretization\")\n"
     ]
    },
    {
     "name": "stdout",
     "output_type": "stream",
     "text": [
      "Elapsed time:  0.30219292640686035\n",
      "Extracting metafeatures for dataset 156.\n",
      "Elapsed time:  0.5966808795928955\n",
      "Extracting metafeatures for dataset 157.\n",
      "Elapsed time:  1.0734777450561523\n",
      "Extracting metafeatures for dataset 158.\n"
     ]
    },
    {
     "name": "stderr",
     "output_type": "stream",
     "text": [
      "/opt/homebrew/anaconda3/lib/python3.9/site-packages/pymfe/_internal.py:1566: UserWarning: It is not possible make equal discretization\n",
      "  warnings.warn(\"It is not possible make equal discretization\")\n"
     ]
    },
    {
     "name": "stdout",
     "output_type": "stream",
     "text": [
      "Elapsed time:  0.29903507232666016\n",
      "Extracting metafeatures for dataset 159.\n",
      "Elapsed time:  0.7137050628662109\n",
      "Extracting metafeatures for dataset 160.\n",
      "Elapsed time:  0.7045319080352783\n",
      "Extracting metafeatures for dataset 161.\n",
      "Elapsed time:  1.2250640392303467\n",
      "Extracting metafeatures for dataset 162.\n"
     ]
    },
    {
     "name": "stderr",
     "output_type": "stream",
     "text": [
      "/opt/homebrew/anaconda3/lib/python3.9/site-packages/pymfe/_internal.py:1566: UserWarning: It is not possible make equal discretization\n",
      "  warnings.warn(\"It is not possible make equal discretization\")\n"
     ]
    },
    {
     "name": "stdout",
     "output_type": "stream",
     "text": [
      "Elapsed time:  0.4095299243927002\n",
      "Extracting metafeatures for dataset 163.\n"
     ]
    },
    {
     "name": "stderr",
     "output_type": "stream",
     "text": [
      "/opt/homebrew/anaconda3/lib/python3.9/site-packages/pymfe/_internal.py:1566: UserWarning: It is not possible make equal discretization\n",
      "  warnings.warn(\"It is not possible make equal discretization\")\n"
     ]
    },
    {
     "name": "stdout",
     "output_type": "stream",
     "text": [
      "Elapsed time:  0.5861968994140625\n",
      "Extracting metafeatures for dataset 164.\n"
     ]
    },
    {
     "name": "stderr",
     "output_type": "stream",
     "text": [
      "/opt/homebrew/anaconda3/lib/python3.9/site-packages/pymfe/_internal.py:1566: UserWarning: It is not possible make equal discretization\n",
      "  warnings.warn(\"It is not possible make equal discretization\")\n"
     ]
    },
    {
     "name": "stdout",
     "output_type": "stream",
     "text": [
      "Elapsed time:  0.34514307975769043\n",
      "Extracting metafeatures for dataset 165.\n"
     ]
    },
    {
     "name": "stderr",
     "output_type": "stream",
     "text": [
      "/opt/homebrew/anaconda3/lib/python3.9/site-packages/pymfe/_internal.py:1566: UserWarning: It is not possible make equal discretization\n",
      "  warnings.warn(\"It is not possible make equal discretization\")\n"
     ]
    },
    {
     "name": "stdout",
     "output_type": "stream",
     "text": [
      "Elapsed time:  0.306840181350708\n",
      "Extracting metafeatures for dataset 166.\n",
      "Elapsed time:  1.3015387058258057\n",
      "Extracting metafeatures for dataset 167.\n"
     ]
    },
    {
     "name": "stderr",
     "output_type": "stream",
     "text": [
      "/opt/homebrew/anaconda3/lib/python3.9/site-packages/pymfe/_internal.py:1566: UserWarning: It is not possible make equal discretization\n",
      "  warnings.warn(\"It is not possible make equal discretization\")\n"
     ]
    },
    {
     "name": "stdout",
     "output_type": "stream",
     "text": [
      "Elapsed time:  0.4900660514831543\n",
      "Extracting metafeatures for dataset 168.\n"
     ]
    },
    {
     "name": "stderr",
     "output_type": "stream",
     "text": [
      "/opt/homebrew/anaconda3/lib/python3.9/site-packages/pymfe/_internal.py:1566: UserWarning: It is not possible make equal discretization\n",
      "  warnings.warn(\"It is not possible make equal discretization\")\n"
     ]
    },
    {
     "name": "stdout",
     "output_type": "stream",
     "text": [
      "Elapsed time:  0.6441748142242432\n",
      "Extracting metafeatures for dataset 169.\n"
     ]
    },
    {
     "name": "stderr",
     "output_type": "stream",
     "text": [
      "/opt/homebrew/anaconda3/lib/python3.9/site-packages/pymfe/_internal.py:1566: UserWarning: It is not possible make equal discretization\n",
      "  warnings.warn(\"It is not possible make equal discretization\")\n"
     ]
    },
    {
     "name": "stdout",
     "output_type": "stream",
     "text": [
      "Elapsed time:  0.5212039947509766\n",
      "Extracting metafeatures for dataset 170.\n"
     ]
    },
    {
     "name": "stderr",
     "output_type": "stream",
     "text": [
      "/opt/homebrew/anaconda3/lib/python3.9/site-packages/pymfe/_internal.py:1566: UserWarning: It is not possible make equal discretization\n",
      "  warnings.warn(\"It is not possible make equal discretization\")\n"
     ]
    },
    {
     "name": "stdout",
     "output_type": "stream",
     "text": [
      "Elapsed time:  0.4549379348754883\n",
      "Extracting metafeatures for dataset 171.\n"
     ]
    },
    {
     "name": "stderr",
     "output_type": "stream",
     "text": [
      "/opt/homebrew/anaconda3/lib/python3.9/site-packages/pymfe/_internal.py:1566: UserWarning: It is not possible make equal discretization\n",
      "  warnings.warn(\"It is not possible make equal discretization\")\n"
     ]
    },
    {
     "name": "stdout",
     "output_type": "stream",
     "text": [
      "Elapsed time:  0.4640042781829834\n",
      "Extracting metafeatures for dataset 172.\n"
     ]
    },
    {
     "name": "stderr",
     "output_type": "stream",
     "text": [
      "/opt/homebrew/anaconda3/lib/python3.9/site-packages/pymfe/_internal.py:1566: UserWarning: It is not possible make equal discretization\n",
      "  warnings.warn(\"It is not possible make equal discretization\")\n"
     ]
    },
    {
     "name": "stdout",
     "output_type": "stream",
     "text": [
      "Elapsed time:  0.472797155380249\n",
      "Extracting metafeatures for dataset 173.\n",
      "Elapsed time:  1.1419310569763184\n",
      "Extracting metafeatures for dataset 174.\n",
      "Elapsed time:  1.1777398586273193\n",
      "Extracting metafeatures for dataset 175.\n",
      "Elapsed time:  1.2919731140136719\n",
      "Extracting metafeatures for dataset 176.\n"
     ]
    },
    {
     "name": "stderr",
     "output_type": "stream",
     "text": [
      "/opt/homebrew/anaconda3/lib/python3.9/site-packages/pymfe/_internal.py:1566: UserWarning: It is not possible make equal discretization\n",
      "  warnings.warn(\"It is not possible make equal discretization\")\n"
     ]
    },
    {
     "name": "stdout",
     "output_type": "stream",
     "text": [
      "Elapsed time:  0.3745400905609131\n",
      "Extracting metafeatures for dataset 177.\n",
      "Elapsed time:  0.8145310878753662\n",
      "Extracting metafeatures for dataset 178.\n"
     ]
    },
    {
     "name": "stderr",
     "output_type": "stream",
     "text": [
      "/opt/homebrew/anaconda3/lib/python3.9/site-packages/pymfe/statistical.py:1267: RuntimeWarning: invalid value encountered in log\n",
      "  np.log(np.linalg.det(S_i)) for S_i in sample_cov_matrices\n"
     ]
    },
    {
     "name": "stdout",
     "output_type": "stream",
     "text": [
      "Elapsed time:  0.526576042175293\n",
      "Extracting metafeatures for dataset 179.\n",
      "Elapsed time:  0.6705107688903809\n",
      "Extracting metafeatures for dataset 180.\n",
      "Elapsed time:  0.6013591289520264\n",
      "Extracting metafeatures for dataset 181.\n",
      "Elapsed time:  0.6528928279876709\n",
      "Extracting metafeatures for dataset 182.\n",
      "Elapsed time:  1.0401990413665771\n",
      "Extracting metafeatures for dataset 183.\n"
     ]
    },
    {
     "name": "stderr",
     "output_type": "stream",
     "text": [
      "/opt/homebrew/anaconda3/lib/python3.9/site-packages/pymfe/_internal.py:1566: UserWarning: It is not possible make equal discretization\n",
      "  warnings.warn(\"It is not possible make equal discretization\")\n"
     ]
    },
    {
     "name": "stdout",
     "output_type": "stream",
     "text": [
      "Elapsed time:  0.28310322761535645\n",
      "Extracting metafeatures for dataset 184.\n",
      "Elapsed time:  0.6139609813690186\n",
      "Extracting metafeatures for dataset 185.\n",
      "Elapsed time:  0.6420638561248779\n",
      "Extracting metafeatures for dataset 186.\n"
     ]
    },
    {
     "name": "stderr",
     "output_type": "stream",
     "text": [
      "/opt/homebrew/anaconda3/lib/python3.9/site-packages/pymfe/_internal.py:1566: UserWarning: It is not possible make equal discretization\n",
      "  warnings.warn(\"It is not possible make equal discretization\")\n"
     ]
    },
    {
     "name": "stdout",
     "output_type": "stream",
     "text": [
      "Elapsed time:  0.3017919063568115\n",
      "Extracting metafeatures for dataset 187.\n"
     ]
    },
    {
     "name": "stderr",
     "output_type": "stream",
     "text": [
      "/opt/homebrew/anaconda3/lib/python3.9/site-packages/pymfe/_internal.py:1566: UserWarning: It is not possible make equal discretization\n",
      "  warnings.warn(\"It is not possible make equal discretization\")\n"
     ]
    },
    {
     "name": "stdout",
     "output_type": "stream",
     "text": [
      "Elapsed time:  0.32120513916015625\n",
      "Extracting metafeatures for dataset 188.\n",
      "Elapsed time:  0.634099006652832\n",
      "Extracting metafeatures for dataset 189.\n",
      "Elapsed time:  0.832636833190918\n",
      "Extracting metafeatures for dataset 190.\n",
      "Elapsed time:  0.5071620941162109\n",
      "Extracting metafeatures for dataset 191.\n"
     ]
    },
    {
     "name": "stderr",
     "output_type": "stream",
     "text": [
      "/opt/homebrew/anaconda3/lib/python3.9/site-packages/pymfe/_internal.py:1566: UserWarning: It is not possible make equal discretization\n",
      "  warnings.warn(\"It is not possible make equal discretization\")\n"
     ]
    },
    {
     "name": "stdout",
     "output_type": "stream",
     "text": [
      "Elapsed time:  0.29811716079711914\n",
      "Extracting metafeatures for dataset 192.\n",
      "Elapsed time:  0.6937270164489746\n",
      "Extracting metafeatures for dataset 193.\n",
      "Elapsed time:  0.6950168609619141\n",
      "Extracting metafeatures for dataset 194.\n",
      "Elapsed time:  0.8426797389984131\n",
      "Extracting metafeatures for dataset 195.\n",
      "Elapsed time:  1.0733718872070312\n",
      "Extracting metafeatures for dataset 196.\n",
      "Elapsed time:  1.0124499797821045\n",
      "Extracting metafeatures for dataset 197.\n",
      "Elapsed time:  0.7415869235992432\n",
      "Extracting metafeatures for dataset 198.\n"
     ]
    },
    {
     "name": "stderr",
     "output_type": "stream",
     "text": [
      "/opt/homebrew/anaconda3/lib/python3.9/site-packages/pymfe/_internal.py:1566: UserWarning: It is not possible make equal discretization\n",
      "  warnings.warn(\"It is not possible make equal discretization\")\n"
     ]
    },
    {
     "name": "stdout",
     "output_type": "stream",
     "text": [
      "Elapsed time:  0.337230920791626\n",
      "Extracting metafeatures for dataset 199.\n"
     ]
    },
    {
     "name": "stderr",
     "output_type": "stream",
     "text": [
      "/opt/homebrew/anaconda3/lib/python3.9/site-packages/pymfe/_internal.py:1566: UserWarning: It is not possible make equal discretization\n",
      "  warnings.warn(\"It is not possible make equal discretization\")\n"
     ]
    },
    {
     "name": "stdout",
     "output_type": "stream",
     "text": [
      "Elapsed time:  0.3264939785003662\n",
      "Extracting metafeatures for dataset 200.\n",
      "Elapsed time:  1.2155251502990723\n",
      "Extracting metafeatures for dataset 201.\n"
     ]
    },
    {
     "name": "stderr",
     "output_type": "stream",
     "text": [
      "/opt/homebrew/anaconda3/lib/python3.9/site-packages/pymfe/_internal.py:1566: UserWarning: It is not possible make equal discretization\n",
      "  warnings.warn(\"It is not possible make equal discretization\")\n"
     ]
    },
    {
     "name": "stdout",
     "output_type": "stream",
     "text": [
      "Elapsed time:  0.37666821479797363\n",
      "Extracting metafeatures for dataset 202.\n"
     ]
    },
    {
     "name": "stderr",
     "output_type": "stream",
     "text": [
      "/opt/homebrew/anaconda3/lib/python3.9/site-packages/pymfe/_internal.py:1566: UserWarning: It is not possible make equal discretization\n",
      "  warnings.warn(\"It is not possible make equal discretization\")\n"
     ]
    },
    {
     "name": "stdout",
     "output_type": "stream",
     "text": [
      "Elapsed time:  0.44499778747558594\n",
      "Extracting metafeatures for dataset 203.\n"
     ]
    },
    {
     "name": "stderr",
     "output_type": "stream",
     "text": [
      "/opt/homebrew/anaconda3/lib/python3.9/site-packages/pymfe/_internal.py:1566: UserWarning: It is not possible make equal discretization\n",
      "  warnings.warn(\"It is not possible make equal discretization\")\n"
     ]
    },
    {
     "name": "stdout",
     "output_type": "stream",
     "text": [
      "Elapsed time:  0.32638001441955566\n",
      "Extracting metafeatures for dataset 204.\n"
     ]
    },
    {
     "name": "stderr",
     "output_type": "stream",
     "text": [
      "/opt/homebrew/anaconda3/lib/python3.9/site-packages/pymfe/_internal.py:1566: UserWarning: It is not possible make equal discretization\n",
      "  warnings.warn(\"It is not possible make equal discretization\")\n"
     ]
    },
    {
     "name": "stdout",
     "output_type": "stream",
     "text": [
      "Elapsed time:  0.4410121440887451\n",
      "Extracting metafeatures for dataset 205.\n"
     ]
    },
    {
     "name": "stderr",
     "output_type": "stream",
     "text": [
      "/opt/homebrew/anaconda3/lib/python3.9/site-packages/pymfe/_internal.py:1566: UserWarning: It is not possible make equal discretization\n",
      "  warnings.warn(\"It is not possible make equal discretization\")\n"
     ]
    },
    {
     "name": "stdout",
     "output_type": "stream",
     "text": [
      "Elapsed time:  0.3961038589477539\n",
      "Extracting metafeatures for dataset 206.\n"
     ]
    },
    {
     "name": "stderr",
     "output_type": "stream",
     "text": [
      "/opt/homebrew/anaconda3/lib/python3.9/site-packages/pymfe/_internal.py:1566: UserWarning: It is not possible make equal discretization\n",
      "  warnings.warn(\"It is not possible make equal discretization\")\n"
     ]
    },
    {
     "name": "stdout",
     "output_type": "stream",
     "text": [
      "Elapsed time:  0.4744291305541992\n",
      "Extracting metafeatures for dataset 207.\n"
     ]
    },
    {
     "name": "stderr",
     "output_type": "stream",
     "text": [
      "/opt/homebrew/anaconda3/lib/python3.9/site-packages/pymfe/_internal.py:1566: UserWarning: It is not possible make equal discretization\n",
      "  warnings.warn(\"It is not possible make equal discretization\")\n"
     ]
    },
    {
     "name": "stdout",
     "output_type": "stream",
     "text": [
      "Elapsed time:  0.5153710842132568\n",
      "Extracting metafeatures for dataset 208.\n",
      "Elapsed time:  1.1997451782226562\n",
      "Extracting metafeatures for dataset 209.\n",
      "Elapsed time:  1.121640920639038\n",
      "Extracting metafeatures for dataset 210.\n",
      "Elapsed time:  1.2072153091430664\n",
      "Extracting metafeatures for dataset 211.\n"
     ]
    },
    {
     "name": "stderr",
     "output_type": "stream",
     "text": [
      "/opt/homebrew/anaconda3/lib/python3.9/site-packages/pymfe/_internal.py:1566: UserWarning: It is not possible make equal discretization\n",
      "  warnings.warn(\"It is not possible make equal discretization\")\n"
     ]
    },
    {
     "name": "stdout",
     "output_type": "stream",
     "text": [
      "Elapsed time:  0.3200399875640869\n",
      "Extracting metafeatures for dataset 212.\n",
      "Elapsed time:  1.229985237121582\n",
      "Extracting metafeatures for dataset 213.\n",
      "Elapsed time:  1.1406328678131104\n",
      "Extracting metafeatures for dataset 214.\n",
      "Elapsed time:  1.1697502136230469\n",
      "Extracting metafeatures for dataset 215.\n",
      "Elapsed time:  1.1685099601745605\n",
      "Extracting metafeatures for dataset 216.\n"
     ]
    },
    {
     "name": "stderr",
     "output_type": "stream",
     "text": [
      "/opt/homebrew/anaconda3/lib/python3.9/site-packages/pymfe/_internal.py:1566: UserWarning: It is not possible make equal discretization\n",
      "  warnings.warn(\"It is not possible make equal discretization\")\n",
      "/opt/homebrew/anaconda3/lib/python3.9/site-packages/sklearn/model_selection/_split.py:684: UserWarning: The least populated class in y has only 7 members, which is less than n_splits=10.\n",
      "  warnings.warn(\n",
      "/opt/homebrew/anaconda3/lib/python3.9/site-packages/sklearn/model_selection/_split.py:684: UserWarning: The least populated class in y has only 7 members, which is less than n_splits=10.\n",
      "  warnings.warn(\n",
      "/opt/homebrew/anaconda3/lib/python3.9/site-packages/sklearn/model_selection/_split.py:684: UserWarning: The least populated class in y has only 7 members, which is less than n_splits=10.\n",
      "  warnings.warn(\n",
      "/opt/homebrew/anaconda3/lib/python3.9/site-packages/sklearn/model_selection/_split.py:684: UserWarning: The least populated class in y has only 7 members, which is less than n_splits=10.\n",
      "  warnings.warn(\n",
      "/opt/homebrew/anaconda3/lib/python3.9/site-packages/sklearn/model_selection/_split.py:684: UserWarning: The least populated class in y has only 7 members, which is less than n_splits=10.\n",
      "  warnings.warn(\n",
      "/opt/homebrew/anaconda3/lib/python3.9/site-packages/sklearn/model_selection/_split.py:684: UserWarning: The least populated class in y has only 7 members, which is less than n_splits=10.\n",
      "  warnings.warn(\n",
      "/opt/homebrew/anaconda3/lib/python3.9/site-packages/sklearn/model_selection/_split.py:684: UserWarning: The least populated class in y has only 7 members, which is less than n_splits=10.\n",
      "  warnings.warn(\n",
      "/opt/homebrew/anaconda3/lib/python3.9/site-packages/sklearn/model_selection/_split.py:684: UserWarning: The least populated class in y has only 7 members, which is less than n_splits=10.\n",
      "  warnings.warn(\n",
      "/opt/homebrew/anaconda3/lib/python3.9/site-packages/pymfe/statistical.py:1267: RuntimeWarning: invalid value encountered in log\n",
      "  np.log(np.linalg.det(S_i)) for S_i in sample_cov_matrices\n"
     ]
    },
    {
     "name": "stdout",
     "output_type": "stream",
     "text": [
      "Elapsed time:  0.25273609161376953\n",
      "Extracting metafeatures for dataset 217.\n"
     ]
    },
    {
     "name": "stderr",
     "output_type": "stream",
     "text": [
      "/opt/homebrew/anaconda3/lib/python3.9/site-packages/pymfe/_internal.py:1566: UserWarning: It is not possible make equal discretization\n",
      "  warnings.warn(\"It is not possible make equal discretization\")\n",
      "/opt/homebrew/anaconda3/lib/python3.9/site-packages/sklearn/model_selection/_split.py:684: UserWarning: The least populated class in y has only 9 members, which is less than n_splits=10.\n",
      "  warnings.warn(\n",
      "/opt/homebrew/anaconda3/lib/python3.9/site-packages/sklearn/model_selection/_split.py:684: UserWarning: The least populated class in y has only 9 members, which is less than n_splits=10.\n",
      "  warnings.warn(\n",
      "/opt/homebrew/anaconda3/lib/python3.9/site-packages/sklearn/model_selection/_split.py:684: UserWarning: The least populated class in y has only 9 members, which is less than n_splits=10.\n",
      "  warnings.warn(\n",
      "/opt/homebrew/anaconda3/lib/python3.9/site-packages/sklearn/model_selection/_split.py:684: UserWarning: The least populated class in y has only 9 members, which is less than n_splits=10.\n",
      "  warnings.warn(\n",
      "/opt/homebrew/anaconda3/lib/python3.9/site-packages/sklearn/model_selection/_split.py:684: UserWarning: The least populated class in y has only 9 members, which is less than n_splits=10.\n",
      "  warnings.warn(\n",
      "/opt/homebrew/anaconda3/lib/python3.9/site-packages/sklearn/model_selection/_split.py:684: UserWarning: The least populated class in y has only 9 members, which is less than n_splits=10.\n",
      "  warnings.warn(\n",
      "/opt/homebrew/anaconda3/lib/python3.9/site-packages/sklearn/model_selection/_split.py:684: UserWarning: The least populated class in y has only 9 members, which is less than n_splits=10.\n",
      "  warnings.warn(\n",
      "/opt/homebrew/anaconda3/lib/python3.9/site-packages/sklearn/model_selection/_split.py:684: UserWarning: The least populated class in y has only 9 members, which is less than n_splits=10.\n",
      "  warnings.warn(\n"
     ]
    },
    {
     "name": "stdout",
     "output_type": "stream",
     "text": [
      "Elapsed time:  0.31470799446105957\n",
      "Extracting metafeatures for dataset 218.\n"
     ]
    },
    {
     "name": "stderr",
     "output_type": "stream",
     "text": [
      "/opt/homebrew/anaconda3/lib/python3.9/site-packages/pymfe/_internal.py:1566: UserWarning: It is not possible make equal discretization\n",
      "  warnings.warn(\"It is not possible make equal discretization\")\n"
     ]
    },
    {
     "name": "stdout",
     "output_type": "stream",
     "text": [
      "Elapsed time:  0.3171207904815674\n",
      "Extracting metafeatures for dataset 219.\n"
     ]
    },
    {
     "name": "stderr",
     "output_type": "stream",
     "text": [
      "/opt/homebrew/anaconda3/lib/python3.9/site-packages/pymfe/_internal.py:1566: UserWarning: It is not possible make equal discretization\n",
      "  warnings.warn(\"It is not possible make equal discretization\")\n",
      "/opt/homebrew/anaconda3/lib/python3.9/site-packages/sklearn/model_selection/_split.py:684: UserWarning: The least populated class in y has only 8 members, which is less than n_splits=10.\n",
      "  warnings.warn(\n",
      "/opt/homebrew/anaconda3/lib/python3.9/site-packages/sklearn/model_selection/_split.py:684: UserWarning: The least populated class in y has only 8 members, which is less than n_splits=10.\n",
      "  warnings.warn(\n",
      "/opt/homebrew/anaconda3/lib/python3.9/site-packages/sklearn/model_selection/_split.py:684: UserWarning: The least populated class in y has only 8 members, which is less than n_splits=10.\n",
      "  warnings.warn(\n",
      "/opt/homebrew/anaconda3/lib/python3.9/site-packages/sklearn/model_selection/_split.py:684: UserWarning: The least populated class in y has only 8 members, which is less than n_splits=10.\n",
      "  warnings.warn(\n",
      "/opt/homebrew/anaconda3/lib/python3.9/site-packages/sklearn/model_selection/_split.py:684: UserWarning: The least populated class in y has only 8 members, which is less than n_splits=10.\n",
      "  warnings.warn(\n",
      "/opt/homebrew/anaconda3/lib/python3.9/site-packages/sklearn/model_selection/_split.py:684: UserWarning: The least populated class in y has only 8 members, which is less than n_splits=10.\n",
      "  warnings.warn(\n",
      "/opt/homebrew/anaconda3/lib/python3.9/site-packages/sklearn/model_selection/_split.py:684: UserWarning: The least populated class in y has only 8 members, which is less than n_splits=10.\n",
      "  warnings.warn(\n",
      "/opt/homebrew/anaconda3/lib/python3.9/site-packages/sklearn/model_selection/_split.py:684: UserWarning: The least populated class in y has only 8 members, which is less than n_splits=10.\n",
      "  warnings.warn(\n",
      "/opt/homebrew/anaconda3/lib/python3.9/site-packages/pymfe/statistical.py:1267: RuntimeWarning: invalid value encountered in log\n",
      "  np.log(np.linalg.det(S_i)) for S_i in sample_cov_matrices\n"
     ]
    },
    {
     "name": "stdout",
     "output_type": "stream",
     "text": [
      "Elapsed time:  0.35401225090026855\n",
      "Extracting metafeatures for dataset 220.\n"
     ]
    },
    {
     "name": "stderr",
     "output_type": "stream",
     "text": [
      "/opt/homebrew/anaconda3/lib/python3.9/site-packages/pymfe/_internal.py:1566: UserWarning: It is not possible make equal discretization\n",
      "  warnings.warn(\"It is not possible make equal discretization\")\n",
      "/opt/homebrew/anaconda3/lib/python3.9/site-packages/sklearn/model_selection/_split.py:684: UserWarning: The least populated class in y has only 8 members, which is less than n_splits=10.\n",
      "  warnings.warn(\n",
      "/opt/homebrew/anaconda3/lib/python3.9/site-packages/sklearn/model_selection/_split.py:684: UserWarning: The least populated class in y has only 8 members, which is less than n_splits=10.\n",
      "  warnings.warn(\n",
      "/opt/homebrew/anaconda3/lib/python3.9/site-packages/sklearn/model_selection/_split.py:684: UserWarning: The least populated class in y has only 8 members, which is less than n_splits=10.\n",
      "  warnings.warn(\n",
      "/opt/homebrew/anaconda3/lib/python3.9/site-packages/sklearn/model_selection/_split.py:684: UserWarning: The least populated class in y has only 8 members, which is less than n_splits=10.\n",
      "  warnings.warn(\n",
      "/opt/homebrew/anaconda3/lib/python3.9/site-packages/sklearn/model_selection/_split.py:684: UserWarning: The least populated class in y has only 8 members, which is less than n_splits=10.\n",
      "  warnings.warn(\n",
      "/opt/homebrew/anaconda3/lib/python3.9/site-packages/sklearn/model_selection/_split.py:684: UserWarning: The least populated class in y has only 8 members, which is less than n_splits=10.\n",
      "  warnings.warn(\n",
      "/opt/homebrew/anaconda3/lib/python3.9/site-packages/sklearn/model_selection/_split.py:684: UserWarning: The least populated class in y has only 8 members, which is less than n_splits=10.\n",
      "  warnings.warn(\n",
      "/opt/homebrew/anaconda3/lib/python3.9/site-packages/sklearn/model_selection/_split.py:684: UserWarning: The least populated class in y has only 8 members, which is less than n_splits=10.\n",
      "  warnings.warn(\n",
      "/opt/homebrew/anaconda3/lib/python3.9/site-packages/pymfe/statistical.py:1267: RuntimeWarning: invalid value encountered in log\n",
      "  np.log(np.linalg.det(S_i)) for S_i in sample_cov_matrices\n"
     ]
    },
    {
     "name": "stdout",
     "output_type": "stream",
     "text": [
      "Elapsed time:  0.3415849208831787\n",
      "Extracting metafeatures for dataset 221.\n"
     ]
    },
    {
     "name": "stderr",
     "output_type": "stream",
     "text": [
      "/opt/homebrew/anaconda3/lib/python3.9/site-packages/pymfe/_internal.py:1566: UserWarning: It is not possible make equal discretization\n",
      "  warnings.warn(\"It is not possible make equal discretization\")\n",
      "/opt/homebrew/anaconda3/lib/python3.9/site-packages/sklearn/model_selection/_split.py:684: UserWarning: The least populated class in y has only 7 members, which is less than n_splits=10.\n",
      "  warnings.warn(\n",
      "/opt/homebrew/anaconda3/lib/python3.9/site-packages/sklearn/model_selection/_split.py:684: UserWarning: The least populated class in y has only 7 members, which is less than n_splits=10.\n",
      "  warnings.warn(\n",
      "/opt/homebrew/anaconda3/lib/python3.9/site-packages/sklearn/model_selection/_split.py:684: UserWarning: The least populated class in y has only 7 members, which is less than n_splits=10.\n",
      "  warnings.warn(\n",
      "/opt/homebrew/anaconda3/lib/python3.9/site-packages/sklearn/model_selection/_split.py:684: UserWarning: The least populated class in y has only 7 members, which is less than n_splits=10.\n",
      "  warnings.warn(\n",
      "/opt/homebrew/anaconda3/lib/python3.9/site-packages/sklearn/model_selection/_split.py:684: UserWarning: The least populated class in y has only 7 members, which is less than n_splits=10.\n",
      "  warnings.warn(\n",
      "/opt/homebrew/anaconda3/lib/python3.9/site-packages/sklearn/model_selection/_split.py:684: UserWarning: The least populated class in y has only 7 members, which is less than n_splits=10.\n",
      "  warnings.warn(\n",
      "/opt/homebrew/anaconda3/lib/python3.9/site-packages/sklearn/model_selection/_split.py:684: UserWarning: The least populated class in y has only 7 members, which is less than n_splits=10.\n",
      "  warnings.warn(\n",
      "/opt/homebrew/anaconda3/lib/python3.9/site-packages/sklearn/model_selection/_split.py:684: UserWarning: The least populated class in y has only 7 members, which is less than n_splits=10.\n",
      "  warnings.warn(\n"
     ]
    },
    {
     "name": "stdout",
     "output_type": "stream",
     "text": [
      "Elapsed time:  0.3095247745513916\n",
      "Extracting metafeatures for dataset 222.\n"
     ]
    },
    {
     "name": "stderr",
     "output_type": "stream",
     "text": [
      "/opt/homebrew/anaconda3/lib/python3.9/site-packages/pymfe/_internal.py:1566: UserWarning: It is not possible make equal discretization\n",
      "  warnings.warn(\"It is not possible make equal discretization\")\n"
     ]
    },
    {
     "name": "stdout",
     "output_type": "stream",
     "text": [
      "Elapsed time:  0.3129007816314697\n",
      "Extracting metafeatures for dataset 223.\n"
     ]
    },
    {
     "name": "stderr",
     "output_type": "stream",
     "text": [
      "/opt/homebrew/anaconda3/lib/python3.9/site-packages/pymfe/_internal.py:1566: UserWarning: It is not possible make equal discretization\n",
      "  warnings.warn(\"It is not possible make equal discretization\")\n",
      "/opt/homebrew/anaconda3/lib/python3.9/site-packages/sklearn/model_selection/_split.py:684: UserWarning: The least populated class in y has only 9 members, which is less than n_splits=10.\n",
      "  warnings.warn(\n",
      "/opt/homebrew/anaconda3/lib/python3.9/site-packages/sklearn/model_selection/_split.py:684: UserWarning: The least populated class in y has only 9 members, which is less than n_splits=10.\n",
      "  warnings.warn(\n",
      "/opt/homebrew/anaconda3/lib/python3.9/site-packages/sklearn/model_selection/_split.py:684: UserWarning: The least populated class in y has only 9 members, which is less than n_splits=10.\n",
      "  warnings.warn(\n",
      "/opt/homebrew/anaconda3/lib/python3.9/site-packages/sklearn/model_selection/_split.py:684: UserWarning: The least populated class in y has only 9 members, which is less than n_splits=10.\n",
      "  warnings.warn(\n",
      "/opt/homebrew/anaconda3/lib/python3.9/site-packages/sklearn/model_selection/_split.py:684: UserWarning: The least populated class in y has only 9 members, which is less than n_splits=10.\n",
      "  warnings.warn(\n",
      "/opt/homebrew/anaconda3/lib/python3.9/site-packages/sklearn/model_selection/_split.py:684: UserWarning: The least populated class in y has only 9 members, which is less than n_splits=10.\n",
      "  warnings.warn(\n",
      "/opt/homebrew/anaconda3/lib/python3.9/site-packages/sklearn/model_selection/_split.py:684: UserWarning: The least populated class in y has only 9 members, which is less than n_splits=10.\n",
      "  warnings.warn(\n",
      "/opt/homebrew/anaconda3/lib/python3.9/site-packages/sklearn/model_selection/_split.py:684: UserWarning: The least populated class in y has only 9 members, which is less than n_splits=10.\n",
      "  warnings.warn(\n"
     ]
    },
    {
     "name": "stdout",
     "output_type": "stream",
     "text": [
      "Elapsed time:  0.37114644050598145\n",
      "Extracting metafeatures for dataset 224.\n"
     ]
    },
    {
     "name": "stderr",
     "output_type": "stream",
     "text": [
      "/opt/homebrew/anaconda3/lib/python3.9/site-packages/pymfe/_internal.py:1566: UserWarning: It is not possible make equal discretization\n",
      "  warnings.warn(\"It is not possible make equal discretization\")\n"
     ]
    },
    {
     "name": "stdout",
     "output_type": "stream",
     "text": [
      "Elapsed time:  0.3508291244506836\n",
      "Extracting metafeatures for dataset 225.\n"
     ]
    },
    {
     "name": "stderr",
     "output_type": "stream",
     "text": [
      "/opt/homebrew/anaconda3/lib/python3.9/site-packages/pymfe/_internal.py:1566: UserWarning: It is not possible make equal discretization\n",
      "  warnings.warn(\"It is not possible make equal discretization\")\n"
     ]
    },
    {
     "name": "stdout",
     "output_type": "stream",
     "text": [
      "Elapsed time:  0.3162271976470947\n",
      "Extracting metafeatures for dataset 226.\n"
     ]
    },
    {
     "name": "stderr",
     "output_type": "stream",
     "text": [
      "/opt/homebrew/anaconda3/lib/python3.9/site-packages/pymfe/_internal.py:1566: UserWarning: It is not possible make equal discretization\n",
      "  warnings.warn(\"It is not possible make equal discretization\")\n",
      "/opt/homebrew/anaconda3/lib/python3.9/site-packages/sklearn/model_selection/_split.py:684: UserWarning: The least populated class in y has only 9 members, which is less than n_splits=10.\n",
      "  warnings.warn(\n",
      "/opt/homebrew/anaconda3/lib/python3.9/site-packages/sklearn/model_selection/_split.py:684: UserWarning: The least populated class in y has only 9 members, which is less than n_splits=10.\n",
      "  warnings.warn(\n",
      "/opt/homebrew/anaconda3/lib/python3.9/site-packages/sklearn/model_selection/_split.py:684: UserWarning: The least populated class in y has only 9 members, which is less than n_splits=10.\n",
      "  warnings.warn(\n",
      "/opt/homebrew/anaconda3/lib/python3.9/site-packages/sklearn/model_selection/_split.py:684: UserWarning: The least populated class in y has only 9 members, which is less than n_splits=10.\n",
      "  warnings.warn(\n",
      "/opt/homebrew/anaconda3/lib/python3.9/site-packages/sklearn/model_selection/_split.py:684: UserWarning: The least populated class in y has only 9 members, which is less than n_splits=10.\n",
      "  warnings.warn(\n",
      "/opt/homebrew/anaconda3/lib/python3.9/site-packages/sklearn/model_selection/_split.py:684: UserWarning: The least populated class in y has only 9 members, which is less than n_splits=10.\n",
      "  warnings.warn(\n",
      "/opt/homebrew/anaconda3/lib/python3.9/site-packages/sklearn/model_selection/_split.py:684: UserWarning: The least populated class in y has only 9 members, which is less than n_splits=10.\n",
      "  warnings.warn(\n",
      "/opt/homebrew/anaconda3/lib/python3.9/site-packages/sklearn/model_selection/_split.py:684: UserWarning: The least populated class in y has only 9 members, which is less than n_splits=10.\n",
      "  warnings.warn(\n"
     ]
    },
    {
     "name": "stdout",
     "output_type": "stream",
     "text": [
      "Elapsed time:  0.3515009880065918\n",
      "Extracting metafeatures for dataset 227.\n"
     ]
    },
    {
     "name": "stderr",
     "output_type": "stream",
     "text": [
      "/opt/homebrew/anaconda3/lib/python3.9/site-packages/pymfe/_internal.py:1566: UserWarning: It is not possible make equal discretization\n",
      "  warnings.warn(\"It is not possible make equal discretization\")\n"
     ]
    },
    {
     "name": "stdout",
     "output_type": "stream",
     "text": [
      "Elapsed time:  0.33200883865356445\n",
      "Extracting metafeatures for dataset 228.\n"
     ]
    },
    {
     "name": "stderr",
     "output_type": "stream",
     "text": [
      "/opt/homebrew/anaconda3/lib/python3.9/site-packages/pymfe/_internal.py:1566: UserWarning: It is not possible make equal discretization\n",
      "  warnings.warn(\"It is not possible make equal discretization\")\n"
     ]
    },
    {
     "name": "stdout",
     "output_type": "stream",
     "text": [
      "Elapsed time:  0.3141140937805176\n",
      "Extracting metafeatures for dataset 229.\n"
     ]
    },
    {
     "name": "stderr",
     "output_type": "stream",
     "text": [
      "/opt/homebrew/anaconda3/lib/python3.9/site-packages/pymfe/_internal.py:1566: UserWarning: It is not possible make equal discretization\n",
      "  warnings.warn(\"It is not possible make equal discretization\")\n",
      "/opt/homebrew/anaconda3/lib/python3.9/site-packages/sklearn/model_selection/_split.py:684: UserWarning: The least populated class in y has only 9 members, which is less than n_splits=10.\n",
      "  warnings.warn(\n",
      "/opt/homebrew/anaconda3/lib/python3.9/site-packages/sklearn/model_selection/_split.py:684: UserWarning: The least populated class in y has only 9 members, which is less than n_splits=10.\n",
      "  warnings.warn(\n",
      "/opt/homebrew/anaconda3/lib/python3.9/site-packages/sklearn/model_selection/_split.py:684: UserWarning: The least populated class in y has only 9 members, which is less than n_splits=10.\n",
      "  warnings.warn(\n",
      "/opt/homebrew/anaconda3/lib/python3.9/site-packages/sklearn/model_selection/_split.py:684: UserWarning: The least populated class in y has only 9 members, which is less than n_splits=10.\n",
      "  warnings.warn(\n",
      "/opt/homebrew/anaconda3/lib/python3.9/site-packages/sklearn/model_selection/_split.py:684: UserWarning: The least populated class in y has only 9 members, which is less than n_splits=10.\n",
      "  warnings.warn(\n",
      "/opt/homebrew/anaconda3/lib/python3.9/site-packages/sklearn/model_selection/_split.py:684: UserWarning: The least populated class in y has only 9 members, which is less than n_splits=10.\n",
      "  warnings.warn(\n",
      "/opt/homebrew/anaconda3/lib/python3.9/site-packages/sklearn/model_selection/_split.py:684: UserWarning: The least populated class in y has only 9 members, which is less than n_splits=10.\n",
      "  warnings.warn(\n",
      "/opt/homebrew/anaconda3/lib/python3.9/site-packages/sklearn/model_selection/_split.py:684: UserWarning: The least populated class in y has only 9 members, which is less than n_splits=10.\n",
      "  warnings.warn(\n"
     ]
    },
    {
     "name": "stdout",
     "output_type": "stream",
     "text": [
      "Elapsed time:  0.354083776473999\n",
      "Extracting metafeatures for dataset 230.\n"
     ]
    },
    {
     "name": "stderr",
     "output_type": "stream",
     "text": [
      "/opt/homebrew/anaconda3/lib/python3.9/site-packages/pymfe/_internal.py:1566: UserWarning: It is not possible make equal discretization\n",
      "  warnings.warn(\"It is not possible make equal discretization\")\n"
     ]
    },
    {
     "name": "stdout",
     "output_type": "stream",
     "text": [
      "Elapsed time:  0.33834290504455566\n",
      "Extracting metafeatures for dataset 231.\n",
      "Elapsed time:  1.1358709335327148\n",
      "Extracting metafeatures for dataset 232.\n"
     ]
    },
    {
     "name": "stderr",
     "output_type": "stream",
     "text": [
      "/opt/homebrew/anaconda3/lib/python3.9/site-packages/pymfe/_internal.py:1566: UserWarning: It is not possible make equal discretization\n",
      "  warnings.warn(\"It is not possible make equal discretization\")\n"
     ]
    },
    {
     "name": "stdout",
     "output_type": "stream",
     "text": [
      "Elapsed time:  0.49392199516296387\n",
      "Extracting metafeatures for dataset 233.\n"
     ]
    },
    {
     "name": "stderr",
     "output_type": "stream",
     "text": [
      "/opt/homebrew/anaconda3/lib/python3.9/site-packages/pymfe/_internal.py:1566: UserWarning: It is not possible make equal discretization\n",
      "  warnings.warn(\"It is not possible make equal discretization\")\n"
     ]
    },
    {
     "name": "stdout",
     "output_type": "stream",
     "text": [
      "Elapsed time:  0.4079098701477051\n",
      "Extracting metafeatures for dataset 234.\n"
     ]
    },
    {
     "name": "stderr",
     "output_type": "stream",
     "text": [
      "/opt/homebrew/anaconda3/lib/python3.9/site-packages/pymfe/_internal.py:1566: UserWarning: It is not possible make equal discretization\n",
      "  warnings.warn(\"It is not possible make equal discretization\")\n"
     ]
    },
    {
     "name": "stdout",
     "output_type": "stream",
     "text": [
      "Elapsed time:  0.3884291648864746\n",
      "Extracting metafeatures for dataset 235.\n"
     ]
    },
    {
     "name": "stderr",
     "output_type": "stream",
     "text": [
      "/opt/homebrew/anaconda3/lib/python3.9/site-packages/pymfe/_internal.py:1566: UserWarning: It is not possible make equal discretization\n",
      "  warnings.warn(\"It is not possible make equal discretization\")\n"
     ]
    },
    {
     "name": "stdout",
     "output_type": "stream",
     "text": [
      "Elapsed time:  0.41854190826416016\n",
      "Extracting metafeatures for dataset 236.\n"
     ]
    },
    {
     "name": "stderr",
     "output_type": "stream",
     "text": [
      "/opt/homebrew/anaconda3/lib/python3.9/site-packages/pymfe/_internal.py:1566: UserWarning: It is not possible make equal discretization\n",
      "  warnings.warn(\"It is not possible make equal discretization\")\n"
     ]
    },
    {
     "name": "stdout",
     "output_type": "stream",
     "text": [
      "Elapsed time:  0.3687160015106201\n",
      "Extracting metafeatures for dataset 237.\n"
     ]
    },
    {
     "name": "stderr",
     "output_type": "stream",
     "text": [
      "/opt/homebrew/anaconda3/lib/python3.9/site-packages/pymfe/_internal.py:1566: UserWarning: It is not possible make equal discretization\n",
      "  warnings.warn(\"It is not possible make equal discretization\")\n"
     ]
    },
    {
     "name": "stdout",
     "output_type": "stream",
     "text": [
      "Elapsed time:  0.4065079689025879\n",
      "Extracting metafeatures for dataset 238.\n"
     ]
    },
    {
     "name": "stderr",
     "output_type": "stream",
     "text": [
      "/opt/homebrew/anaconda3/lib/python3.9/site-packages/pymfe/_internal.py:1566: UserWarning: It is not possible make equal discretization\n",
      "  warnings.warn(\"It is not possible make equal discretization\")\n"
     ]
    },
    {
     "name": "stdout",
     "output_type": "stream",
     "text": [
      "Elapsed time:  0.8483409881591797\n",
      "Extracting metafeatures for dataset 239.\n"
     ]
    },
    {
     "name": "stderr",
     "output_type": "stream",
     "text": [
      "/opt/homebrew/anaconda3/lib/python3.9/site-packages/pymfe/_internal.py:1566: UserWarning: It is not possible make equal discretization\n",
      "  warnings.warn(\"It is not possible make equal discretization\")\n"
     ]
    },
    {
     "name": "stdout",
     "output_type": "stream",
     "text": [
      "Elapsed time:  0.4273369312286377\n",
      "Extracting metafeatures for dataset 240.\n"
     ]
    },
    {
     "name": "stderr",
     "output_type": "stream",
     "text": [
      "/opt/homebrew/anaconda3/lib/python3.9/site-packages/pymfe/_internal.py:1566: UserWarning: It is not possible make equal discretization\n",
      "  warnings.warn(\"It is not possible make equal discretization\")\n"
     ]
    },
    {
     "name": "stdout",
     "output_type": "stream",
     "text": [
      "Elapsed time:  0.5408022403717041\n",
      "Extracting metafeatures for dataset 241.\n",
      "Elapsed time:  1.1616990566253662\n",
      "Extracting metafeatures for dataset 242.\n",
      "Elapsed time:  1.249216079711914\n",
      "Extracting metafeatures for dataset 243.\n",
      "Elapsed time:  1.1515638828277588\n",
      "Extracting metafeatures for dataset 244.\n"
     ]
    },
    {
     "name": "stderr",
     "output_type": "stream",
     "text": [
      "/opt/homebrew/anaconda3/lib/python3.9/site-packages/pymfe/_internal.py:1566: UserWarning: It is not possible make equal discretization\n",
      "  warnings.warn(\"It is not possible make equal discretization\")\n"
     ]
    },
    {
     "name": "stdout",
     "output_type": "stream",
     "text": [
      "Elapsed time:  0.43407678604125977\n",
      "Extracting metafeatures for dataset 245.\n"
     ]
    },
    {
     "name": "stderr",
     "output_type": "stream",
     "text": [
      "/opt/homebrew/anaconda3/lib/python3.9/site-packages/pymfe/_internal.py:1566: UserWarning: It is not possible make equal discretization\n",
      "  warnings.warn(\"It is not possible make equal discretization\")\n"
     ]
    },
    {
     "name": "stdout",
     "output_type": "stream",
     "text": [
      "Elapsed time:  0.432722806930542\n",
      "Extracting metafeatures for dataset 246.\n",
      "Elapsed time:  1.253814935684204\n",
      "Extracting metafeatures for dataset 247.\n"
     ]
    },
    {
     "name": "stderr",
     "output_type": "stream",
     "text": [
      "/opt/homebrew/anaconda3/lib/python3.9/site-packages/pymfe/_internal.py:1566: UserWarning: It is not possible make equal discretization\n",
      "  warnings.warn(\"It is not possible make equal discretization\")\n"
     ]
    },
    {
     "name": "stdout",
     "output_type": "stream",
     "text": [
      "Elapsed time:  0.418226957321167\n",
      "Extracting metafeatures for dataset 248.\n"
     ]
    },
    {
     "name": "stderr",
     "output_type": "stream",
     "text": [
      "/opt/homebrew/anaconda3/lib/python3.9/site-packages/pymfe/_internal.py:1566: UserWarning: It is not possible make equal discretization\n",
      "  warnings.warn(\"It is not possible make equal discretization\")\n"
     ]
    },
    {
     "name": "stdout",
     "output_type": "stream",
     "text": [
      "Elapsed time:  0.4491462707519531\n",
      "Extracting metafeatures for dataset 249.\n"
     ]
    },
    {
     "name": "stderr",
     "output_type": "stream",
     "text": [
      "/opt/homebrew/anaconda3/lib/python3.9/site-packages/pymfe/_internal.py:1566: UserWarning: It is not possible make equal discretization\n",
      "  warnings.warn(\"It is not possible make equal discretization\")\n"
     ]
    },
    {
     "name": "stdout",
     "output_type": "stream",
     "text": [
      "Elapsed time:  0.4384269714355469\n",
      "Extracting metafeatures for dataset 250.\n"
     ]
    },
    {
     "name": "stderr",
     "output_type": "stream",
     "text": [
      "/opt/homebrew/anaconda3/lib/python3.9/site-packages/pymfe/_internal.py:1566: UserWarning: It is not possible make equal discretization\n",
      "  warnings.warn(\"It is not possible make equal discretization\")\n"
     ]
    },
    {
     "name": "stdout",
     "output_type": "stream",
     "text": [
      "Elapsed time:  0.3956780433654785\n",
      "Extracting metafeatures for dataset 251.\n"
     ]
    },
    {
     "name": "stderr",
     "output_type": "stream",
     "text": [
      "/opt/homebrew/anaconda3/lib/python3.9/site-packages/pymfe/_internal.py:1566: UserWarning: It is not possible make equal discretization\n",
      "  warnings.warn(\"It is not possible make equal discretization\")\n"
     ]
    },
    {
     "name": "stdout",
     "output_type": "stream",
     "text": [
      "Elapsed time:  0.423414945602417\n",
      "Extracting metafeatures for dataset 252.\n"
     ]
    },
    {
     "name": "stderr",
     "output_type": "stream",
     "text": [
      "/opt/homebrew/anaconda3/lib/python3.9/site-packages/pymfe/_internal.py:1566: UserWarning: It is not possible make equal discretization\n",
      "  warnings.warn(\"It is not possible make equal discretization\")\n",
      "/opt/homebrew/anaconda3/lib/python3.9/site-packages/sklearn/model_selection/_split.py:684: UserWarning: The least populated class in y has only 8 members, which is less than n_splits=10.\n",
      "  warnings.warn(\n",
      "/opt/homebrew/anaconda3/lib/python3.9/site-packages/sklearn/model_selection/_split.py:684: UserWarning: The least populated class in y has only 8 members, which is less than n_splits=10.\n",
      "  warnings.warn(\n",
      "/opt/homebrew/anaconda3/lib/python3.9/site-packages/sklearn/model_selection/_split.py:684: UserWarning: The least populated class in y has only 8 members, which is less than n_splits=10.\n",
      "  warnings.warn(\n",
      "/opt/homebrew/anaconda3/lib/python3.9/site-packages/sklearn/model_selection/_split.py:684: UserWarning: The least populated class in y has only 8 members, which is less than n_splits=10.\n",
      "  warnings.warn(\n",
      "/opt/homebrew/anaconda3/lib/python3.9/site-packages/sklearn/model_selection/_split.py:684: UserWarning: The least populated class in y has only 8 members, which is less than n_splits=10.\n",
      "  warnings.warn(\n",
      "/opt/homebrew/anaconda3/lib/python3.9/site-packages/sklearn/model_selection/_split.py:684: UserWarning: The least populated class in y has only 8 members, which is less than n_splits=10.\n",
      "  warnings.warn(\n",
      "/opt/homebrew/anaconda3/lib/python3.9/site-packages/sklearn/model_selection/_split.py:684: UserWarning: The least populated class in y has only 8 members, which is less than n_splits=10.\n",
      "  warnings.warn(\n",
      "/opt/homebrew/anaconda3/lib/python3.9/site-packages/sklearn/model_selection/_split.py:684: UserWarning: The least populated class in y has only 8 members, which is less than n_splits=10.\n",
      "  warnings.warn(\n"
     ]
    },
    {
     "name": "stdout",
     "output_type": "stream",
     "text": [
      "Elapsed time:  0.30731892585754395\n",
      "Extracting metafeatures for dataset 253.\n"
     ]
    },
    {
     "name": "stderr",
     "output_type": "stream",
     "text": [
      "/opt/homebrew/anaconda3/lib/python3.9/site-packages/pymfe/_internal.py:1566: UserWarning: It is not possible make equal discretization\n",
      "  warnings.warn(\"It is not possible make equal discretization\")\n",
      "/opt/homebrew/anaconda3/lib/python3.9/site-packages/sklearn/model_selection/_split.py:684: UserWarning: The least populated class in y has only 7 members, which is less than n_splits=10.\n",
      "  warnings.warn(\n",
      "/opt/homebrew/anaconda3/lib/python3.9/site-packages/sklearn/model_selection/_split.py:684: UserWarning: The least populated class in y has only 7 members, which is less than n_splits=10.\n",
      "  warnings.warn(\n",
      "/opt/homebrew/anaconda3/lib/python3.9/site-packages/sklearn/model_selection/_split.py:684: UserWarning: The least populated class in y has only 7 members, which is less than n_splits=10.\n",
      "  warnings.warn(\n",
      "/opt/homebrew/anaconda3/lib/python3.9/site-packages/sklearn/model_selection/_split.py:684: UserWarning: The least populated class in y has only 7 members, which is less than n_splits=10.\n",
      "  warnings.warn(\n",
      "/opt/homebrew/anaconda3/lib/python3.9/site-packages/sklearn/model_selection/_split.py:684: UserWarning: The least populated class in y has only 7 members, which is less than n_splits=10.\n",
      "  warnings.warn(\n",
      "/opt/homebrew/anaconda3/lib/python3.9/site-packages/sklearn/model_selection/_split.py:684: UserWarning: The least populated class in y has only 7 members, which is less than n_splits=10.\n",
      "  warnings.warn(\n",
      "/opt/homebrew/anaconda3/lib/python3.9/site-packages/sklearn/model_selection/_split.py:684: UserWarning: The least populated class in y has only 7 members, which is less than n_splits=10.\n",
      "  warnings.warn(\n",
      "/opt/homebrew/anaconda3/lib/python3.9/site-packages/sklearn/model_selection/_split.py:684: UserWarning: The least populated class in y has only 7 members, which is less than n_splits=10.\n",
      "  warnings.warn(\n",
      "/opt/homebrew/anaconda3/lib/python3.9/site-packages/pymfe/statistical.py:1267: RuntimeWarning: invalid value encountered in log\n",
      "  np.log(np.linalg.det(S_i)) for S_i in sample_cov_matrices\n"
     ]
    },
    {
     "name": "stdout",
     "output_type": "stream",
     "text": [
      "Elapsed time:  0.3199481964111328\n",
      "Extracting metafeatures for dataset 254.\n"
     ]
    },
    {
     "name": "stderr",
     "output_type": "stream",
     "text": [
      "/opt/homebrew/anaconda3/lib/python3.9/site-packages/pymfe/_internal.py:1566: UserWarning: It is not possible make equal discretization\n",
      "  warnings.warn(\"It is not possible make equal discretization\")\n",
      "/opt/homebrew/anaconda3/lib/python3.9/site-packages/sklearn/model_selection/_split.py:684: UserWarning: The least populated class in y has only 6 members, which is less than n_splits=10.\n",
      "  warnings.warn(\n",
      "/opt/homebrew/anaconda3/lib/python3.9/site-packages/sklearn/model_selection/_split.py:684: UserWarning: The least populated class in y has only 6 members, which is less than n_splits=10.\n",
      "  warnings.warn(\n",
      "/opt/homebrew/anaconda3/lib/python3.9/site-packages/sklearn/model_selection/_split.py:684: UserWarning: The least populated class in y has only 6 members, which is less than n_splits=10.\n",
      "  warnings.warn(\n",
      "/opt/homebrew/anaconda3/lib/python3.9/site-packages/sklearn/model_selection/_split.py:684: UserWarning: The least populated class in y has only 6 members, which is less than n_splits=10.\n",
      "  warnings.warn(\n",
      "/opt/homebrew/anaconda3/lib/python3.9/site-packages/sklearn/model_selection/_split.py:684: UserWarning: The least populated class in y has only 6 members, which is less than n_splits=10.\n",
      "  warnings.warn(\n",
      "/opt/homebrew/anaconda3/lib/python3.9/site-packages/sklearn/model_selection/_split.py:684: UserWarning: The least populated class in y has only 6 members, which is less than n_splits=10.\n",
      "  warnings.warn(\n",
      "/opt/homebrew/anaconda3/lib/python3.9/site-packages/sklearn/model_selection/_split.py:684: UserWarning: The least populated class in y has only 6 members, which is less than n_splits=10.\n",
      "  warnings.warn(\n",
      "/opt/homebrew/anaconda3/lib/python3.9/site-packages/sklearn/model_selection/_split.py:684: UserWarning: The least populated class in y has only 6 members, which is less than n_splits=10.\n",
      "  warnings.warn(\n"
     ]
    },
    {
     "name": "stdout",
     "output_type": "stream",
     "text": [
      "Elapsed time:  0.3659400939941406\n",
      "Extracting metafeatures for dataset 255.\n"
     ]
    },
    {
     "name": "stderr",
     "output_type": "stream",
     "text": [
      "/opt/homebrew/anaconda3/lib/python3.9/site-packages/pymfe/_internal.py:1566: UserWarning: It is not possible make equal discretization\n",
      "  warnings.warn(\"It is not possible make equal discretization\")\n",
      "/opt/homebrew/anaconda3/lib/python3.9/site-packages/sklearn/model_selection/_split.py:684: UserWarning: The least populated class in y has only 6 members, which is less than n_splits=10.\n",
      "  warnings.warn(\n",
      "/opt/homebrew/anaconda3/lib/python3.9/site-packages/sklearn/model_selection/_split.py:684: UserWarning: The least populated class in y has only 6 members, which is less than n_splits=10.\n",
      "  warnings.warn(\n",
      "/opt/homebrew/anaconda3/lib/python3.9/site-packages/sklearn/model_selection/_split.py:684: UserWarning: The least populated class in y has only 6 members, which is less than n_splits=10.\n",
      "  warnings.warn(\n",
      "/opt/homebrew/anaconda3/lib/python3.9/site-packages/sklearn/model_selection/_split.py:684: UserWarning: The least populated class in y has only 6 members, which is less than n_splits=10.\n",
      "  warnings.warn(\n",
      "/opt/homebrew/anaconda3/lib/python3.9/site-packages/sklearn/model_selection/_split.py:684: UserWarning: The least populated class in y has only 6 members, which is less than n_splits=10.\n",
      "  warnings.warn(\n",
      "/opt/homebrew/anaconda3/lib/python3.9/site-packages/sklearn/model_selection/_split.py:684: UserWarning: The least populated class in y has only 6 members, which is less than n_splits=10.\n",
      "  warnings.warn(\n",
      "/opt/homebrew/anaconda3/lib/python3.9/site-packages/sklearn/model_selection/_split.py:684: UserWarning: The least populated class in y has only 6 members, which is less than n_splits=10.\n",
      "  warnings.warn(\n",
      "/opt/homebrew/anaconda3/lib/python3.9/site-packages/sklearn/model_selection/_split.py:684: UserWarning: The least populated class in y has only 6 members, which is less than n_splits=10.\n",
      "  warnings.warn(\n",
      "/opt/homebrew/anaconda3/lib/python3.9/site-packages/pymfe/statistical.py:1267: RuntimeWarning: invalid value encountered in log\n",
      "  np.log(np.linalg.det(S_i)) for S_i in sample_cov_matrices\n"
     ]
    },
    {
     "name": "stdout",
     "output_type": "stream",
     "text": [
      "Elapsed time:  0.3083980083465576\n",
      "Extracting metafeatures for dataset 256.\n"
     ]
    },
    {
     "name": "stderr",
     "output_type": "stream",
     "text": [
      "/opt/homebrew/anaconda3/lib/python3.9/site-packages/pymfe/_internal.py:1566: UserWarning: It is not possible make equal discretization\n",
      "  warnings.warn(\"It is not possible make equal discretization\")\n"
     ]
    },
    {
     "name": "stdout",
     "output_type": "stream",
     "text": [
      "Elapsed time:  0.3356509208679199\n",
      "Extracting metafeatures for dataset 257.\n"
     ]
    },
    {
     "name": "stderr",
     "output_type": "stream",
     "text": [
      "/opt/homebrew/anaconda3/lib/python3.9/site-packages/pymfe/_internal.py:1566: UserWarning: It is not possible make equal discretization\n",
      "  warnings.warn(\"It is not possible make equal discretization\")\n",
      "/opt/homebrew/anaconda3/lib/python3.9/site-packages/sklearn/model_selection/_split.py:684: UserWarning: The least populated class in y has only 8 members, which is less than n_splits=10.\n",
      "  warnings.warn(\n",
      "/opt/homebrew/anaconda3/lib/python3.9/site-packages/sklearn/model_selection/_split.py:684: UserWarning: The least populated class in y has only 8 members, which is less than n_splits=10.\n",
      "  warnings.warn(\n",
      "/opt/homebrew/anaconda3/lib/python3.9/site-packages/sklearn/model_selection/_split.py:684: UserWarning: The least populated class in y has only 8 members, which is less than n_splits=10.\n",
      "  warnings.warn(\n",
      "/opt/homebrew/anaconda3/lib/python3.9/site-packages/sklearn/model_selection/_split.py:684: UserWarning: The least populated class in y has only 8 members, which is less than n_splits=10.\n",
      "  warnings.warn(\n",
      "/opt/homebrew/anaconda3/lib/python3.9/site-packages/sklearn/model_selection/_split.py:684: UserWarning: The least populated class in y has only 8 members, which is less than n_splits=10.\n",
      "  warnings.warn(\n",
      "/opt/homebrew/anaconda3/lib/python3.9/site-packages/sklearn/model_selection/_split.py:684: UserWarning: The least populated class in y has only 8 members, which is less than n_splits=10.\n",
      "  warnings.warn(\n",
      "/opt/homebrew/anaconda3/lib/python3.9/site-packages/sklearn/model_selection/_split.py:684: UserWarning: The least populated class in y has only 8 members, which is less than n_splits=10.\n",
      "  warnings.warn(\n",
      "/opt/homebrew/anaconda3/lib/python3.9/site-packages/sklearn/model_selection/_split.py:684: UserWarning: The least populated class in y has only 8 members, which is less than n_splits=10.\n",
      "  warnings.warn(\n"
     ]
    },
    {
     "name": "stdout",
     "output_type": "stream",
     "text": [
      "Elapsed time:  0.3484349250793457\n",
      "Extracting metafeatures for dataset 258.\n"
     ]
    },
    {
     "name": "stderr",
     "output_type": "stream",
     "text": [
      "/opt/homebrew/anaconda3/lib/python3.9/site-packages/pymfe/_internal.py:1566: UserWarning: It is not possible make equal discretization\n",
      "  warnings.warn(\"It is not possible make equal discretization\")\n",
      "/opt/homebrew/anaconda3/lib/python3.9/site-packages/sklearn/model_selection/_split.py:684: UserWarning: The least populated class in y has only 5 members, which is less than n_splits=10.\n",
      "  warnings.warn(\n",
      "/opt/homebrew/anaconda3/lib/python3.9/site-packages/sklearn/model_selection/_split.py:684: UserWarning: The least populated class in y has only 5 members, which is less than n_splits=10.\n",
      "  warnings.warn(\n",
      "/opt/homebrew/anaconda3/lib/python3.9/site-packages/sklearn/model_selection/_split.py:684: UserWarning: The least populated class in y has only 5 members, which is less than n_splits=10.\n",
      "  warnings.warn(\n",
      "/opt/homebrew/anaconda3/lib/python3.9/site-packages/sklearn/model_selection/_split.py:684: UserWarning: The least populated class in y has only 5 members, which is less than n_splits=10.\n",
      "  warnings.warn(\n",
      "/opt/homebrew/anaconda3/lib/python3.9/site-packages/sklearn/model_selection/_split.py:684: UserWarning: The least populated class in y has only 5 members, which is less than n_splits=10.\n",
      "  warnings.warn(\n",
      "/opt/homebrew/anaconda3/lib/python3.9/site-packages/sklearn/model_selection/_split.py:684: UserWarning: The least populated class in y has only 5 members, which is less than n_splits=10.\n",
      "  warnings.warn(\n",
      "/opt/homebrew/anaconda3/lib/python3.9/site-packages/sklearn/model_selection/_split.py:684: UserWarning: The least populated class in y has only 5 members, which is less than n_splits=10.\n",
      "  warnings.warn(\n",
      "/opt/homebrew/anaconda3/lib/python3.9/site-packages/sklearn/model_selection/_split.py:684: UserWarning: The least populated class in y has only 5 members, which is less than n_splits=10.\n",
      "  warnings.warn(\n",
      "/opt/homebrew/anaconda3/lib/python3.9/site-packages/pymfe/statistical.py:1267: RuntimeWarning: invalid value encountered in log\n",
      "  np.log(np.linalg.det(S_i)) for S_i in sample_cov_matrices\n"
     ]
    },
    {
     "name": "stdout",
     "output_type": "stream",
     "text": [
      "Elapsed time:  0.3083949089050293\n",
      "Extracting metafeatures for dataset 259.\n"
     ]
    },
    {
     "name": "stderr",
     "output_type": "stream",
     "text": [
      "/opt/homebrew/anaconda3/lib/python3.9/site-packages/pymfe/_internal.py:1566: UserWarning: It is not possible make equal discretization\n",
      "  warnings.warn(\"It is not possible make equal discretization\")\n"
     ]
    },
    {
     "name": "stdout",
     "output_type": "stream",
     "text": [
      "Elapsed time:  0.33633995056152344\n",
      "Extracting metafeatures for dataset 260.\n"
     ]
    },
    {
     "name": "stderr",
     "output_type": "stream",
     "text": [
      "/opt/homebrew/anaconda3/lib/python3.9/site-packages/pymfe/_internal.py:1566: UserWarning: It is not possible make equal discretization\n",
      "  warnings.warn(\"It is not possible make equal discretization\")\n",
      "/opt/homebrew/anaconda3/lib/python3.9/site-packages/sklearn/model_selection/_split.py:684: UserWarning: The least populated class in y has only 6 members, which is less than n_splits=10.\n",
      "  warnings.warn(\n",
      "/opt/homebrew/anaconda3/lib/python3.9/site-packages/sklearn/model_selection/_split.py:684: UserWarning: The least populated class in y has only 6 members, which is less than n_splits=10.\n",
      "  warnings.warn(\n",
      "/opt/homebrew/anaconda3/lib/python3.9/site-packages/sklearn/model_selection/_split.py:684: UserWarning: The least populated class in y has only 6 members, which is less than n_splits=10.\n",
      "  warnings.warn(\n",
      "/opt/homebrew/anaconda3/lib/python3.9/site-packages/sklearn/model_selection/_split.py:684: UserWarning: The least populated class in y has only 6 members, which is less than n_splits=10.\n",
      "  warnings.warn(\n",
      "/opt/homebrew/anaconda3/lib/python3.9/site-packages/sklearn/model_selection/_split.py:684: UserWarning: The least populated class in y has only 6 members, which is less than n_splits=10.\n",
      "  warnings.warn(\n",
      "/opt/homebrew/anaconda3/lib/python3.9/site-packages/sklearn/model_selection/_split.py:684: UserWarning: The least populated class in y has only 6 members, which is less than n_splits=10.\n",
      "  warnings.warn(\n",
      "/opt/homebrew/anaconda3/lib/python3.9/site-packages/sklearn/model_selection/_split.py:684: UserWarning: The least populated class in y has only 6 members, which is less than n_splits=10.\n",
      "  warnings.warn(\n",
      "/opt/homebrew/anaconda3/lib/python3.9/site-packages/sklearn/model_selection/_split.py:684: UserWarning: The least populated class in y has only 6 members, which is less than n_splits=10.\n",
      "  warnings.warn(\n",
      "/opt/homebrew/anaconda3/lib/python3.9/site-packages/pymfe/statistical.py:1267: RuntimeWarning: invalid value encountered in log\n",
      "  np.log(np.linalg.det(S_i)) for S_i in sample_cov_matrices\n"
     ]
    },
    {
     "name": "stdout",
     "output_type": "stream",
     "text": [
      "Elapsed time:  0.3864259719848633\n",
      "Extracting metafeatures for dataset 261.\n"
     ]
    },
    {
     "name": "stderr",
     "output_type": "stream",
     "text": [
      "/opt/homebrew/anaconda3/lib/python3.9/site-packages/pymfe/_internal.py:1566: UserWarning: It is not possible make equal discretization\n",
      "  warnings.warn(\"It is not possible make equal discretization\")\n",
      "/opt/homebrew/anaconda3/lib/python3.9/site-packages/sklearn/model_selection/_split.py:684: UserWarning: The least populated class in y has only 9 members, which is less than n_splits=10.\n",
      "  warnings.warn(\n",
      "/opt/homebrew/anaconda3/lib/python3.9/site-packages/sklearn/model_selection/_split.py:684: UserWarning: The least populated class in y has only 9 members, which is less than n_splits=10.\n",
      "  warnings.warn(\n",
      "/opt/homebrew/anaconda3/lib/python3.9/site-packages/sklearn/model_selection/_split.py:684: UserWarning: The least populated class in y has only 9 members, which is less than n_splits=10.\n",
      "  warnings.warn(\n",
      "/opt/homebrew/anaconda3/lib/python3.9/site-packages/sklearn/model_selection/_split.py:684: UserWarning: The least populated class in y has only 9 members, which is less than n_splits=10.\n",
      "  warnings.warn(\n",
      "/opt/homebrew/anaconda3/lib/python3.9/site-packages/sklearn/model_selection/_split.py:684: UserWarning: The least populated class in y has only 9 members, which is less than n_splits=10.\n",
      "  warnings.warn(\n",
      "/opt/homebrew/anaconda3/lib/python3.9/site-packages/sklearn/model_selection/_split.py:684: UserWarning: The least populated class in y has only 9 members, which is less than n_splits=10.\n",
      "  warnings.warn(\n",
      "/opt/homebrew/anaconda3/lib/python3.9/site-packages/sklearn/model_selection/_split.py:684: UserWarning: The least populated class in y has only 9 members, which is less than n_splits=10.\n",
      "  warnings.warn(\n",
      "/opt/homebrew/anaconda3/lib/python3.9/site-packages/sklearn/model_selection/_split.py:684: UserWarning: The least populated class in y has only 9 members, which is less than n_splits=10.\n",
      "  warnings.warn(\n"
     ]
    },
    {
     "name": "stdout",
     "output_type": "stream",
     "text": [
      "Elapsed time:  0.3058512210845947\n",
      "Extracting metafeatures for dataset 262.\n"
     ]
    },
    {
     "name": "stderr",
     "output_type": "stream",
     "text": [
      "/opt/homebrew/anaconda3/lib/python3.9/site-packages/pymfe/_internal.py:1566: UserWarning: It is not possible make equal discretization\n",
      "  warnings.warn(\"It is not possible make equal discretization\")\n",
      "/opt/homebrew/anaconda3/lib/python3.9/site-packages/sklearn/model_selection/_split.py:684: UserWarning: The least populated class in y has only 8 members, which is less than n_splits=10.\n",
      "  warnings.warn(\n",
      "/opt/homebrew/anaconda3/lib/python3.9/site-packages/sklearn/model_selection/_split.py:684: UserWarning: The least populated class in y has only 8 members, which is less than n_splits=10.\n",
      "  warnings.warn(\n",
      "/opt/homebrew/anaconda3/lib/python3.9/site-packages/sklearn/model_selection/_split.py:684: UserWarning: The least populated class in y has only 8 members, which is less than n_splits=10.\n",
      "  warnings.warn(\n",
      "/opt/homebrew/anaconda3/lib/python3.9/site-packages/sklearn/model_selection/_split.py:684: UserWarning: The least populated class in y has only 8 members, which is less than n_splits=10.\n",
      "  warnings.warn(\n",
      "/opt/homebrew/anaconda3/lib/python3.9/site-packages/sklearn/model_selection/_split.py:684: UserWarning: The least populated class in y has only 8 members, which is less than n_splits=10.\n",
      "  warnings.warn(\n",
      "/opt/homebrew/anaconda3/lib/python3.9/site-packages/sklearn/model_selection/_split.py:684: UserWarning: The least populated class in y has only 8 members, which is less than n_splits=10.\n",
      "  warnings.warn(\n",
      "/opt/homebrew/anaconda3/lib/python3.9/site-packages/sklearn/model_selection/_split.py:684: UserWarning: The least populated class in y has only 8 members, which is less than n_splits=10.\n",
      "  warnings.warn(\n",
      "/opt/homebrew/anaconda3/lib/python3.9/site-packages/sklearn/model_selection/_split.py:684: UserWarning: The least populated class in y has only 8 members, which is less than n_splits=10.\n",
      "  warnings.warn(\n",
      "/opt/homebrew/anaconda3/lib/python3.9/site-packages/pymfe/statistical.py:1267: RuntimeWarning: invalid value encountered in log\n",
      "  np.log(np.linalg.det(S_i)) for S_i in sample_cov_matrices\n"
     ]
    },
    {
     "name": "stdout",
     "output_type": "stream",
     "text": [
      "Elapsed time:  0.35079407691955566\n",
      "Extracting metafeatures for dataset 263.\n"
     ]
    },
    {
     "name": "stderr",
     "output_type": "stream",
     "text": [
      "/opt/homebrew/anaconda3/lib/python3.9/site-packages/pymfe/_internal.py:1566: UserWarning: It is not possible make equal discretization\n",
      "  warnings.warn(\"It is not possible make equal discretization\")\n"
     ]
    },
    {
     "name": "stdout",
     "output_type": "stream",
     "text": [
      "Elapsed time:  0.4672548770904541\n",
      "Extracting metafeatures for dataset 264.\n",
      "Elapsed time:  1.1241328716278076\n",
      "Extracting metafeatures for dataset 265.\n",
      "Elapsed time:  1.2285330295562744\n",
      "Extracting metafeatures for dataset 266.\n"
     ]
    },
    {
     "name": "stderr",
     "output_type": "stream",
     "text": [
      "/opt/homebrew/anaconda3/lib/python3.9/site-packages/pymfe/_internal.py:1566: UserWarning: It is not possible make equal discretization\n",
      "  warnings.warn(\"It is not possible make equal discretization\")\n"
     ]
    },
    {
     "name": "stdout",
     "output_type": "stream",
     "text": [
      "Elapsed time:  0.4189131259918213\n",
      "Extracting metafeatures for dataset 267.\n"
     ]
    },
    {
     "name": "stderr",
     "output_type": "stream",
     "text": [
      "/opt/homebrew/anaconda3/lib/python3.9/site-packages/pymfe/_internal.py:1566: UserWarning: It is not possible make equal discretization\n",
      "  warnings.warn(\"It is not possible make equal discretization\")\n"
     ]
    },
    {
     "name": "stdout",
     "output_type": "stream",
     "text": [
      "Elapsed time:  0.4080677032470703\n",
      "Extracting metafeatures for dataset 268.\n",
      "Elapsed time:  1.1088709831237793\n",
      "Extracting metafeatures for dataset 269.\n",
      "Elapsed time:  1.2076990604400635\n",
      "Extracting metafeatures for dataset 270.\n",
      "Elapsed time:  1.2348158359527588\n",
      "Extracting metafeatures for dataset 271.\n"
     ]
    },
    {
     "name": "stderr",
     "output_type": "stream",
     "text": [
      "/opt/homebrew/anaconda3/lib/python3.9/site-packages/pymfe/_internal.py:1566: UserWarning: It is not possible make equal discretization\n",
      "  warnings.warn(\"It is not possible make equal discretization\")\n"
     ]
    },
    {
     "name": "stdout",
     "output_type": "stream",
     "text": [
      "Elapsed time:  0.4876589775085449\n",
      "Extracting metafeatures for dataset 272.\n",
      "Elapsed time:  1.2077202796936035\n",
      "Extracting metafeatures for dataset 273.\n",
      "Elapsed time:  1.1362199783325195\n",
      "Extracting metafeatures for dataset 274.\n",
      "Elapsed time:  1.1857128143310547\n",
      "Extracting metafeatures for dataset 275.\n",
      "Elapsed time:  1.1242971420288086\n",
      "Extracting metafeatures for dataset 276.\n",
      "Elapsed time:  1.1077089309692383\n",
      "Extracting metafeatures for dataset 277.\n",
      "Elapsed time:  1.2131602764129639\n",
      "Extracting metafeatures for dataset 278.\n"
     ]
    },
    {
     "name": "stderr",
     "output_type": "stream",
     "text": [
      "/opt/homebrew/anaconda3/lib/python3.9/site-packages/pymfe/_internal.py:1566: UserWarning: It is not possible make equal discretization\n",
      "  warnings.warn(\"It is not possible make equal discretization\")\n"
     ]
    },
    {
     "name": "stdout",
     "output_type": "stream",
     "text": [
      "Elapsed time:  0.38611888885498047\n",
      "Extracting metafeatures for dataset 279.\n"
     ]
    },
    {
     "name": "stderr",
     "output_type": "stream",
     "text": [
      "/opt/homebrew/anaconda3/lib/python3.9/site-packages/pymfe/_internal.py:1566: UserWarning: It is not possible make equal discretization\n",
      "  warnings.warn(\"It is not possible make equal discretization\")\n"
     ]
    },
    {
     "name": "stdout",
     "output_type": "stream",
     "text": [
      "Elapsed time:  0.40277099609375\n",
      "Extracting metafeatures for dataset 280.\n"
     ]
    },
    {
     "name": "stderr",
     "output_type": "stream",
     "text": [
      "/opt/homebrew/anaconda3/lib/python3.9/site-packages/pymfe/_internal.py:1566: UserWarning: It is not possible make equal discretization\n",
      "  warnings.warn(\"It is not possible make equal discretization\")\n"
     ]
    },
    {
     "name": "stdout",
     "output_type": "stream",
     "text": [
      "Elapsed time:  0.4288160800933838\n",
      "Extracting metafeatures for dataset 281.\n"
     ]
    },
    {
     "name": "stderr",
     "output_type": "stream",
     "text": [
      "/opt/homebrew/anaconda3/lib/python3.9/site-packages/pymfe/_internal.py:1566: UserWarning: It is not possible make equal discretization\n",
      "  warnings.warn(\"It is not possible make equal discretization\")\n"
     ]
    },
    {
     "name": "stdout",
     "output_type": "stream",
     "text": [
      "Elapsed time:  0.40254807472229004\n",
      "Extracting metafeatures for dataset 282.\n"
     ]
    },
    {
     "name": "stderr",
     "output_type": "stream",
     "text": [
      "/opt/homebrew/anaconda3/lib/python3.9/site-packages/pymfe/_internal.py:1566: UserWarning: It is not possible make equal discretization\n",
      "  warnings.warn(\"It is not possible make equal discretization\")\n"
     ]
    },
    {
     "name": "stdout",
     "output_type": "stream",
     "text": [
      "Elapsed time:  0.46424221992492676\n",
      "Extracting metafeatures for dataset 283.\n"
     ]
    },
    {
     "name": "stderr",
     "output_type": "stream",
     "text": [
      "/opt/homebrew/anaconda3/lib/python3.9/site-packages/pymfe/_internal.py:1566: UserWarning: It is not possible make equal discretization\n",
      "  warnings.warn(\"It is not possible make equal discretization\")\n"
     ]
    },
    {
     "name": "stdout",
     "output_type": "stream",
     "text": [
      "Elapsed time:  0.43794918060302734\n",
      "Extracting metafeatures for dataset 284.\n"
     ]
    },
    {
     "name": "stderr",
     "output_type": "stream",
     "text": [
      "/opt/homebrew/anaconda3/lib/python3.9/site-packages/pymfe/_internal.py:1566: UserWarning: It is not possible make equal discretization\n",
      "  warnings.warn(\"It is not possible make equal discretization\")\n"
     ]
    },
    {
     "name": "stdout",
     "output_type": "stream",
     "text": [
      "Elapsed time:  0.4367411136627197\n",
      "Extracting metafeatures for dataset 285.\n",
      "Elapsed time:  1.2372689247131348\n",
      "Extracting metafeatures for dataset 286.\n"
     ]
    },
    {
     "name": "stderr",
     "output_type": "stream",
     "text": [
      "/opt/homebrew/anaconda3/lib/python3.9/site-packages/pymfe/_internal.py:1566: UserWarning: It is not possible make equal discretization\n",
      "  warnings.warn(\"It is not possible make equal discretization\")\n"
     ]
    },
    {
     "name": "stdout",
     "output_type": "stream",
     "text": [
      "Elapsed time:  0.41316795349121094\n",
      "Extracting metafeatures for dataset 287.\n",
      "Elapsed time:  0.7572977542877197\n",
      "Extracting metafeatures for dataset 288.\n",
      "Elapsed time:  0.6062750816345215\n",
      "Extracting metafeatures for dataset 289.\n",
      "Elapsed time:  0.7847158908843994\n",
      "Extracting metafeatures for dataset 290.\n",
      "Elapsed time:  0.5947871208190918\n",
      "Extracting metafeatures for dataset 291.\n",
      "Elapsed time:  0.6583547592163086\n",
      "Extracting metafeatures for dataset 292.\n"
     ]
    },
    {
     "name": "stderr",
     "output_type": "stream",
     "text": [
      "/opt/homebrew/anaconda3/lib/python3.9/site-packages/pymfe/_internal.py:1566: UserWarning: It is not possible make equal discretization\n",
      "  warnings.warn(\"It is not possible make equal discretization\")\n"
     ]
    },
    {
     "name": "stdout",
     "output_type": "stream",
     "text": [
      "Elapsed time:  0.37128615379333496\n",
      "Extracting metafeatures for dataset 293.\n"
     ]
    },
    {
     "name": "stderr",
     "output_type": "stream",
     "text": [
      "/opt/homebrew/anaconda3/lib/python3.9/site-packages/pymfe/_internal.py:1566: UserWarning: It is not possible make equal discretization\n",
      "  warnings.warn(\"It is not possible make equal discretization\")\n"
     ]
    },
    {
     "name": "stdout",
     "output_type": "stream",
     "text": [
      "Elapsed time:  0.43001699447631836\n",
      "Extracting metafeatures for dataset 294.\n"
     ]
    },
    {
     "name": "stderr",
     "output_type": "stream",
     "text": [
      "/opt/homebrew/anaconda3/lib/python3.9/site-packages/pymfe/_internal.py:1566: UserWarning: It is not possible make equal discretization\n",
      "  warnings.warn(\"It is not possible make equal discretization\")\n"
     ]
    },
    {
     "name": "stdout",
     "output_type": "stream",
     "text": [
      "Elapsed time:  0.3612401485443115\n",
      "Extracting metafeatures for dataset 295.\n"
     ]
    },
    {
     "name": "stderr",
     "output_type": "stream",
     "text": [
      "/opt/homebrew/anaconda3/lib/python3.9/site-packages/pymfe/_internal.py:1566: UserWarning: It is not possible make equal discretization\n",
      "  warnings.warn(\"It is not possible make equal discretization\")\n"
     ]
    },
    {
     "name": "stdout",
     "output_type": "stream",
     "text": [
      "Elapsed time:  0.4421350955963135\n",
      "Extracting metafeatures for dataset 296.\n"
     ]
    },
    {
     "name": "stderr",
     "output_type": "stream",
     "text": [
      "/opt/homebrew/anaconda3/lib/python3.9/site-packages/pymfe/_internal.py:1566: UserWarning: It is not possible make equal discretization\n",
      "  warnings.warn(\"It is not possible make equal discretization\")\n"
     ]
    },
    {
     "name": "stdout",
     "output_type": "stream",
     "text": [
      "Elapsed time:  0.2818000316619873\n",
      "Extracting metafeatures for dataset 297.\n"
     ]
    },
    {
     "name": "stderr",
     "output_type": "stream",
     "text": [
      "/opt/homebrew/anaconda3/lib/python3.9/site-packages/pymfe/_internal.py:1566: UserWarning: It is not possible make equal discretization\n",
      "  warnings.warn(\"It is not possible make equal discretization\")\n"
     ]
    },
    {
     "name": "stdout",
     "output_type": "stream",
     "text": [
      "Elapsed time:  0.3540768623352051\n",
      "Extracting metafeatures for dataset 298.\n",
      "Elapsed time:  0.6710047721862793\n",
      "Extracting metafeatures for dataset 299.\n",
      "Elapsed time:  0.6193251609802246\n",
      "Extracting metafeatures for dataset 300.\n",
      "Elapsed time:  0.6415081024169922\n"
     ]
    }
   ],
   "source": [
    "metafeatures = [] # This will store Dataframes with each dataset's metafeatures.\n",
    "i = 1\n",
    "elapsed_times = []\n",
    "for current_ds in datasets:\n",
    "    print(f'Extracting metafeatures for dataset {i}.')\n",
    "    start_time = time.time() # Count time from here..\n",
    "    mfe = MFE(groups='all', summary='mean')\n",
    "    mfe.fit(current_ds.iloc[:,:-1].values, current_ds.iloc[:,-1].values)\n",
    "    ft = mfe.extract()\n",
    "    end_time = time.time() # to here.\n",
    "    elapsed_time = end_time - start_time\n",
    "    elapsed_times.append(elapsed_time)\n",
    "    print(\"Elapsed time: \", elapsed_time) \n",
    "    metafeatures.append(pd.DataFrame(dict(zip(ft[0],ft[1])), index=[0]))\n",
    "    i += 1"
   ]
  },
  {
   "cell_type": "code",
   "execution_count": 17,
   "id": "5431a0c8-de3a-42ad-bec4-d781eeac03a1",
   "metadata": {
    "tags": []
   },
   "outputs": [],
   "source": [
    "pd.DataFrame(elapsed_times).to_csv('pymfe_computing_times.csv')"
   ]
  },
  {
   "cell_type": "code",
   "execution_count": 10,
   "id": "77361144-5526-46f7-9fb2-dce8f697c69c",
   "metadata": {},
   "outputs": [
    {
     "data": {
      "text/html": [
       "<div>\n",
       "<style scoped>\n",
       "    .dataframe tbody tr th:only-of-type {\n",
       "        vertical-align: middle;\n",
       "    }\n",
       "\n",
       "    .dataframe tbody tr th {\n",
       "        vertical-align: top;\n",
       "    }\n",
       "\n",
       "    .dataframe thead th {\n",
       "        text-align: right;\n",
       "    }\n",
       "</style>\n",
       "<table border=\"1\" class=\"dataframe\">\n",
       "  <thead>\n",
       "    <tr style=\"text-align: right;\">\n",
       "      <th></th>\n",
       "      <th>0</th>\n",
       "    </tr>\n",
       "  </thead>\n",
       "  <tbody>\n",
       "    <tr>\n",
       "      <th>count</th>\n",
       "      <td>300.000000</td>\n",
       "    </tr>\n",
       "    <tr>\n",
       "      <th>mean</th>\n",
       "      <td>0.688519</td>\n",
       "    </tr>\n",
       "    <tr>\n",
       "      <th>std</th>\n",
       "      <td>0.351224</td>\n",
       "    </tr>\n",
       "    <tr>\n",
       "      <th>min</th>\n",
       "      <td>0.252736</td>\n",
       "    </tr>\n",
       "    <tr>\n",
       "      <th>25%</th>\n",
       "      <td>0.412487</td>\n",
       "    </tr>\n",
       "    <tr>\n",
       "      <th>50%</th>\n",
       "      <td>0.600910</td>\n",
       "    </tr>\n",
       "    <tr>\n",
       "      <th>75%</th>\n",
       "      <td>0.834003</td>\n",
       "    </tr>\n",
       "    <tr>\n",
       "      <th>max</th>\n",
       "      <td>1.899489</td>\n",
       "    </tr>\n",
       "  </tbody>\n",
       "</table>\n",
       "</div>"
      ],
      "text/plain": [
       "                0\n",
       "count  300.000000\n",
       "mean     0.688519\n",
       "std      0.351224\n",
       "min      0.252736\n",
       "25%      0.412487\n",
       "50%      0.600910\n",
       "75%      0.834003\n",
       "max      1.899489"
      ]
     },
     "execution_count": 10,
     "metadata": {},
     "output_type": "execute_result"
    }
   ],
   "source": [
    "pd.DataFrame(elapsed_times).describe()"
   ]
  },
  {
   "cell_type": "code",
   "execution_count": 14,
   "id": "aae084f2-d953-43ea-a000-d253422b9801",
   "metadata": {},
   "outputs": [
    {
     "name": "stdout",
     "output_type": "stream",
     "text": [
      "Maximum time elapsed was 1.899489164352417 for dataset D86.\n"
     ]
    }
   ],
   "source": [
    "max_t_pos = 0 \n",
    "for i in range(len(elapsed_times)):\n",
    "    t = elapsed_times[i]\n",
    "    if t > elapsed_times[max_t_pos]: max_t_pos = i\n",
    "print(f'Maximum time elapsed was {elapsed_times[max_t_pos]} for dataset D{max_t_pos}.')"
   ]
  },
  {
   "cell_type": "code",
   "execution_count": 32,
   "id": "7e89decf-69d8-45cc-8fe6-eae5ce203a1d",
   "metadata": {},
   "outputs": [
    {
     "data": {
      "text/html": [
       "<div>\n",
       "<style scoped>\n",
       "    .dataframe tbody tr th:only-of-type {\n",
       "        vertical-align: middle;\n",
       "    }\n",
       "\n",
       "    .dataframe tbody tr th {\n",
       "        vertical-align: top;\n",
       "    }\n",
       "\n",
       "    .dataframe thead th {\n",
       "        text-align: right;\n",
       "    }\n",
       "</style>\n",
       "<table border=\"1\" class=\"dataframe\">\n",
       "  <thead>\n",
       "    <tr style=\"text-align: right;\">\n",
       "      <th></th>\n",
       "      <th>attr_conc.mean</th>\n",
       "      <th>attr_ent.mean</th>\n",
       "      <th>attr_to_inst</th>\n",
       "      <th>best_node.mean</th>\n",
       "      <th>best_node.mean.relative</th>\n",
       "      <th>c1</th>\n",
       "      <th>c2</th>\n",
       "      <th>can_cor.mean</th>\n",
       "      <th>cat_to_num</th>\n",
       "      <th>ch</th>\n",
       "      <th>...</th>\n",
       "      <th>tree_shape.mean</th>\n",
       "      <th>two_itemset.mean</th>\n",
       "      <th>var.mean</th>\n",
       "      <th>var_importance.mean</th>\n",
       "      <th>vdb</th>\n",
       "      <th>vdu</th>\n",
       "      <th>w_lambda</th>\n",
       "      <th>wg_dist.mean</th>\n",
       "      <th>worst_node.mean</th>\n",
       "      <th>worst_node.mean.relative</th>\n",
       "    </tr>\n",
       "  </thead>\n",
       "  <tbody>\n",
       "    <tr>\n",
       "      <th>0</th>\n",
       "      <td>0.017539</td>\n",
       "      <td>2.584963</td>\n",
       "      <td>0.066667</td>\n",
       "      <td>0.69</td>\n",
       "      <td>5.0</td>\n",
       "      <td>1.0</td>\n",
       "      <td>0.0</td>\n",
       "      <td>0.187479</td>\n",
       "      <td>0.0</td>\n",
       "      <td>0.641337</td>\n",
       "      <td>...</td>\n",
       "      <td>0.135809</td>\n",
       "      <td>0.277778</td>\n",
       "      <td>0.021786</td>\n",
       "      <td>0.05</td>\n",
       "      <td>21.274155</td>\n",
       "      <td>0.000011</td>\n",
       "      <td>0.964851</td>\n",
       "      <td>1.254078</td>\n",
       "      <td>0.493333</td>\n",
       "      <td>3.0</td>\n",
       "    </tr>\n",
       "  </tbody>\n",
       "</table>\n",
       "<p>1 rows × 112 columns</p>\n",
       "</div>"
      ],
      "text/plain": [
       "   attr_conc.mean  attr_ent.mean  attr_to_inst  best_node.mean  \\\n",
       "0        0.017539       2.584963      0.066667            0.69   \n",
       "\n",
       "   best_node.mean.relative   c1   c2  can_cor.mean  cat_to_num        ch  ...  \\\n",
       "0                      5.0  1.0  0.0      0.187479         0.0  0.641337  ...   \n",
       "\n",
       "   tree_shape.mean  two_itemset.mean  var.mean  var_importance.mean  \\\n",
       "0         0.135809          0.277778  0.021786                 0.05   \n",
       "\n",
       "         vdb       vdu  w_lambda  wg_dist.mean  worst_node.mean  \\\n",
       "0  21.274155  0.000011  0.964851      1.254078         0.493333   \n",
       "\n",
       "   worst_node.mean.relative  \n",
       "0                       3.0  \n",
       "\n",
       "[1 rows x 112 columns]"
      ]
     },
     "execution_count": 32,
     "metadata": {},
     "output_type": "execute_result"
    }
   ],
   "source": [
    "metafeatures[298]"
   ]
  },
  {
   "cell_type": "code",
   "execution_count": 33,
   "id": "35eae3e5-6fb7-477b-98b3-6482bb29076f",
   "metadata": {},
   "outputs": [
    {
     "data": {
      "text/html": [
       "<div>\n",
       "<style scoped>\n",
       "    .dataframe tbody tr th:only-of-type {\n",
       "        vertical-align: middle;\n",
       "    }\n",
       "\n",
       "    .dataframe tbody tr th {\n",
       "        vertical-align: top;\n",
       "    }\n",
       "\n",
       "    .dataframe thead th {\n",
       "        text-align: right;\n",
       "    }\n",
       "</style>\n",
       "<table border=\"1\" class=\"dataframe\">\n",
       "  <thead>\n",
       "    <tr style=\"text-align: right;\">\n",
       "      <th></th>\n",
       "      <th>attr_conc.mean</th>\n",
       "      <th>attr_ent.mean</th>\n",
       "      <th>attr_to_inst</th>\n",
       "      <th>best_node.mean</th>\n",
       "      <th>best_node.mean.relative</th>\n",
       "      <th>c1</th>\n",
       "      <th>c2</th>\n",
       "      <th>can_cor.mean</th>\n",
       "      <th>cat_to_num</th>\n",
       "      <th>ch</th>\n",
       "      <th>...</th>\n",
       "      <th>tree_shape.mean</th>\n",
       "      <th>two_itemset.mean</th>\n",
       "      <th>var.mean</th>\n",
       "      <th>var_importance.mean</th>\n",
       "      <th>vdb</th>\n",
       "      <th>vdu</th>\n",
       "      <th>w_lambda</th>\n",
       "      <th>wg_dist.mean</th>\n",
       "      <th>worst_node.mean</th>\n",
       "      <th>worst_node.mean.relative</th>\n",
       "    </tr>\n",
       "  </thead>\n",
       "  <tbody>\n",
       "    <tr>\n",
       "      <th>0</th>\n",
       "      <td>0.019398</td>\n",
       "      <td>2.584913</td>\n",
       "      <td>0.066445</td>\n",
       "      <td>0.494839</td>\n",
       "      <td>5.0</td>\n",
       "      <td>0.999928</td>\n",
       "      <td>0.000199</td>\n",
       "      <td>0.202900</td>\n",
       "      <td>0.0</td>\n",
       "      <td>0.807012</td>\n",
       "      <td>...</td>\n",
       "      <td>0.062957</td>\n",
       "      <td>0.277778</td>\n",
       "      <td>0.026093</td>\n",
       "      <td>0.050</td>\n",
       "      <td>19.087914</td>\n",
       "      <td>1.161955e-05</td>\n",
       "      <td>0.958831</td>\n",
       "      <td>1.322843</td>\n",
       "      <td>0.501720</td>\n",
       "      <td>6.0</td>\n",
       "    </tr>\n",
       "    <tr>\n",
       "      <th>1</th>\n",
       "      <td>0.037477</td>\n",
       "      <td>2.454799</td>\n",
       "      <td>0.034632</td>\n",
       "      <td>0.558514</td>\n",
       "      <td>3.0</td>\n",
       "      <td>0.997714</td>\n",
       "      <td>0.006314</td>\n",
       "      <td>0.442222</td>\n",
       "      <td>0.0</td>\n",
       "      <td>2.913878</td>\n",
       "      <td>...</td>\n",
       "      <td>0.088475</td>\n",
       "      <td>0.282609</td>\n",
       "      <td>1912.235263</td>\n",
       "      <td>0.125</td>\n",
       "      <td>6.954452</td>\n",
       "      <td>4.978414e-07</td>\n",
       "      <td>0.804439</td>\n",
       "      <td>0.682983</td>\n",
       "      <td>0.545652</td>\n",
       "      <td>2.0</td>\n",
       "    </tr>\n",
       "    <tr>\n",
       "      <th>2</th>\n",
       "      <td>0.018884</td>\n",
       "      <td>2.584927</td>\n",
       "      <td>0.062696</td>\n",
       "      <td>0.448185</td>\n",
       "      <td>4.0</td>\n",
       "      <td>0.999823</td>\n",
       "      <td>0.000491</td>\n",
       "      <td>0.193009</td>\n",
       "      <td>0.0</td>\n",
       "      <td>0.396377</td>\n",
       "      <td>...</td>\n",
       "      <td>0.063758</td>\n",
       "      <td>0.277778</td>\n",
       "      <td>0.026003</td>\n",
       "      <td>0.050</td>\n",
       "      <td>27.977542</td>\n",
       "      <td>8.339005e-06</td>\n",
       "      <td>0.962748</td>\n",
       "      <td>1.281074</td>\n",
       "      <td>0.489012</td>\n",
       "      <td>5.0</td>\n",
       "    </tr>\n",
       "    <tr>\n",
       "      <th>3</th>\n",
       "      <td>0.022152</td>\n",
       "      <td>2.584918</td>\n",
       "      <td>0.066445</td>\n",
       "      <td>0.571290</td>\n",
       "      <td>6.0</td>\n",
       "      <td>0.999992</td>\n",
       "      <td>0.000022</td>\n",
       "      <td>0.261264</td>\n",
       "      <td>0.0</td>\n",
       "      <td>2.107853</td>\n",
       "      <td>...</td>\n",
       "      <td>0.075019</td>\n",
       "      <td>0.277778</td>\n",
       "      <td>0.025993</td>\n",
       "      <td>0.050</td>\n",
       "      <td>11.778404</td>\n",
       "      <td>1.233083e-05</td>\n",
       "      <td>0.931741</td>\n",
       "      <td>1.268144</td>\n",
       "      <td>0.518602</td>\n",
       "      <td>4.0</td>\n",
       "    </tr>\n",
       "    <tr>\n",
       "      <th>4</th>\n",
       "      <td>0.018890</td>\n",
       "      <td>2.584963</td>\n",
       "      <td>0.066667</td>\n",
       "      <td>0.550000</td>\n",
       "      <td>7.0</td>\n",
       "      <td>0.997402</td>\n",
       "      <td>0.007174</td>\n",
       "      <td>0.209018</td>\n",
       "      <td>0.0</td>\n",
       "      <td>0.646031</td>\n",
       "      <td>...</td>\n",
       "      <td>0.081644</td>\n",
       "      <td>0.277778</td>\n",
       "      <td>0.025816</td>\n",
       "      <td>0.050</td>\n",
       "      <td>21.233962</td>\n",
       "      <td>1.061602e-05</td>\n",
       "      <td>0.956312</td>\n",
       "      <td>1.292512</td>\n",
       "      <td>0.500000</td>\n",
       "      <td>5.0</td>\n",
       "    </tr>\n",
       "    <tr>\n",
       "      <th>...</th>\n",
       "      <td>...</td>\n",
       "      <td>...</td>\n",
       "      <td>...</td>\n",
       "      <td>...</td>\n",
       "      <td>...</td>\n",
       "      <td>...</td>\n",
       "      <td>...</td>\n",
       "      <td>...</td>\n",
       "      <td>...</td>\n",
       "      <td>...</td>\n",
       "      <td>...</td>\n",
       "      <td>...</td>\n",
       "      <td>...</td>\n",
       "      <td>...</td>\n",
       "      <td>...</td>\n",
       "      <td>...</td>\n",
       "      <td>...</td>\n",
       "      <td>...</td>\n",
       "      <td>...</td>\n",
       "      <td>...</td>\n",
       "      <td>...</td>\n",
       "    </tr>\n",
       "    <tr>\n",
       "      <th>295</th>\n",
       "      <td>0.039737</td>\n",
       "      <td>2.453230</td>\n",
       "      <td>0.034188</td>\n",
       "      <td>0.594565</td>\n",
       "      <td>5.0</td>\n",
       "      <td>0.996625</td>\n",
       "      <td>0.009307</td>\n",
       "      <td>0.425928</td>\n",
       "      <td>0.0</td>\n",
       "      <td>2.813090</td>\n",
       "      <td>...</td>\n",
       "      <td>0.079703</td>\n",
       "      <td>0.282609</td>\n",
       "      <td>1895.442794</td>\n",
       "      <td>0.125</td>\n",
       "      <td>7.124059</td>\n",
       "      <td>6.212318e-07</td>\n",
       "      <td>0.818585</td>\n",
       "      <td>0.624999</td>\n",
       "      <td>0.492029</td>\n",
       "      <td>1.0</td>\n",
       "    </tr>\n",
       "    <tr>\n",
       "      <th>296</th>\n",
       "      <td>0.044615</td>\n",
       "      <td>2.427931</td>\n",
       "      <td>0.034632</td>\n",
       "      <td>0.631522</td>\n",
       "      <td>4.0</td>\n",
       "      <td>0.999986</td>\n",
       "      <td>0.000037</td>\n",
       "      <td>0.468845</td>\n",
       "      <td>0.0</td>\n",
       "      <td>1.967465</td>\n",
       "      <td>...</td>\n",
       "      <td>0.088801</td>\n",
       "      <td>0.287568</td>\n",
       "      <td>1919.514408</td>\n",
       "      <td>0.125</td>\n",
       "      <td>8.930181</td>\n",
       "      <td>6.328657e-07</td>\n",
       "      <td>0.780185</td>\n",
       "      <td>0.673348</td>\n",
       "      <td>0.501812</td>\n",
       "      <td>1.0</td>\n",
       "    </tr>\n",
       "    <tr>\n",
       "      <th>297</th>\n",
       "      <td>0.019225</td>\n",
       "      <td>2.584904</td>\n",
       "      <td>0.066445</td>\n",
       "      <td>0.597957</td>\n",
       "      <td>6.0</td>\n",
       "      <td>0.996486</td>\n",
       "      <td>0.009688</td>\n",
       "      <td>0.391580</td>\n",
       "      <td>0.0</td>\n",
       "      <td>6.876909</td>\n",
       "      <td>...</td>\n",
       "      <td>0.081907</td>\n",
       "      <td>0.277778</td>\n",
       "      <td>0.026366</td>\n",
       "      <td>0.050</td>\n",
       "      <td>6.516746</td>\n",
       "      <td>9.844505e-06</td>\n",
       "      <td>0.846665</td>\n",
       "      <td>1.281970</td>\n",
       "      <td>0.528172</td>\n",
       "      <td>2.0</td>\n",
       "    </tr>\n",
       "    <tr>\n",
       "      <th>298</th>\n",
       "      <td>0.017539</td>\n",
       "      <td>2.584963</td>\n",
       "      <td>0.066667</td>\n",
       "      <td>0.690000</td>\n",
       "      <td>5.0</td>\n",
       "      <td>1.000000</td>\n",
       "      <td>0.000000</td>\n",
       "      <td>0.187479</td>\n",
       "      <td>0.0</td>\n",
       "      <td>0.641337</td>\n",
       "      <td>...</td>\n",
       "      <td>0.135809</td>\n",
       "      <td>0.277778</td>\n",
       "      <td>0.021786</td>\n",
       "      <td>0.050</td>\n",
       "      <td>21.274155</td>\n",
       "      <td>1.073485e-05</td>\n",
       "      <td>0.964851</td>\n",
       "      <td>1.254078</td>\n",
       "      <td>0.493333</td>\n",
       "      <td>3.0</td>\n",
       "    </tr>\n",
       "    <tr>\n",
       "      <th>299</th>\n",
       "      <td>0.019184</td>\n",
       "      <td>2.584899</td>\n",
       "      <td>0.066225</td>\n",
       "      <td>0.569462</td>\n",
       "      <td>6.5</td>\n",
       "      <td>0.986003</td>\n",
       "      <td>0.037949</td>\n",
       "      <td>0.250186</td>\n",
       "      <td>0.0</td>\n",
       "      <td>0.845904</td>\n",
       "      <td>...</td>\n",
       "      <td>0.045804</td>\n",
       "      <td>0.277778</td>\n",
       "      <td>0.026627</td>\n",
       "      <td>0.050</td>\n",
       "      <td>18.454364</td>\n",
       "      <td>1.184418e-05</td>\n",
       "      <td>0.937407</td>\n",
       "      <td>1.267582</td>\n",
       "      <td>0.529355</td>\n",
       "      <td>4.0</td>\n",
       "    </tr>\n",
       "  </tbody>\n",
       "</table>\n",
       "<p>300 rows × 112 columns</p>\n",
       "</div>"
      ],
      "text/plain": [
       "     attr_conc.mean  attr_ent.mean  attr_to_inst  best_node.mean  \\\n",
       "0          0.019398       2.584913      0.066445        0.494839   \n",
       "1          0.037477       2.454799      0.034632        0.558514   \n",
       "2          0.018884       2.584927      0.062696        0.448185   \n",
       "3          0.022152       2.584918      0.066445        0.571290   \n",
       "4          0.018890       2.584963      0.066667        0.550000   \n",
       "..              ...            ...           ...             ...   \n",
       "295        0.039737       2.453230      0.034188        0.594565   \n",
       "296        0.044615       2.427931      0.034632        0.631522   \n",
       "297        0.019225       2.584904      0.066445        0.597957   \n",
       "298        0.017539       2.584963      0.066667        0.690000   \n",
       "299        0.019184       2.584899      0.066225        0.569462   \n",
       "\n",
       "     best_node.mean.relative        c1        c2  can_cor.mean  cat_to_num  \\\n",
       "0                        5.0  0.999928  0.000199      0.202900         0.0   \n",
       "1                        3.0  0.997714  0.006314      0.442222         0.0   \n",
       "2                        4.0  0.999823  0.000491      0.193009         0.0   \n",
       "3                        6.0  0.999992  0.000022      0.261264         0.0   \n",
       "4                        7.0  0.997402  0.007174      0.209018         0.0   \n",
       "..                       ...       ...       ...           ...         ...   \n",
       "295                      5.0  0.996625  0.009307      0.425928         0.0   \n",
       "296                      4.0  0.999986  0.000037      0.468845         0.0   \n",
       "297                      6.0  0.996486  0.009688      0.391580         0.0   \n",
       "298                      5.0  1.000000  0.000000      0.187479         0.0   \n",
       "299                      6.5  0.986003  0.037949      0.250186         0.0   \n",
       "\n",
       "           ch  ...  tree_shape.mean  two_itemset.mean     var.mean  \\\n",
       "0    0.807012  ...         0.062957          0.277778     0.026093   \n",
       "1    2.913878  ...         0.088475          0.282609  1912.235263   \n",
       "2    0.396377  ...         0.063758          0.277778     0.026003   \n",
       "3    2.107853  ...         0.075019          0.277778     0.025993   \n",
       "4    0.646031  ...         0.081644          0.277778     0.025816   \n",
       "..        ...  ...              ...               ...          ...   \n",
       "295  2.813090  ...         0.079703          0.282609  1895.442794   \n",
       "296  1.967465  ...         0.088801          0.287568  1919.514408   \n",
       "297  6.876909  ...         0.081907          0.277778     0.026366   \n",
       "298  0.641337  ...         0.135809          0.277778     0.021786   \n",
       "299  0.845904  ...         0.045804          0.277778     0.026627   \n",
       "\n",
       "     var_importance.mean        vdb           vdu  w_lambda  wg_dist.mean  \\\n",
       "0                  0.050  19.087914  1.161955e-05  0.958831      1.322843   \n",
       "1                  0.125   6.954452  4.978414e-07  0.804439      0.682983   \n",
       "2                  0.050  27.977542  8.339005e-06  0.962748      1.281074   \n",
       "3                  0.050  11.778404  1.233083e-05  0.931741      1.268144   \n",
       "4                  0.050  21.233962  1.061602e-05  0.956312      1.292512   \n",
       "..                   ...        ...           ...       ...           ...   \n",
       "295                0.125   7.124059  6.212318e-07  0.818585      0.624999   \n",
       "296                0.125   8.930181  6.328657e-07  0.780185      0.673348   \n",
       "297                0.050   6.516746  9.844505e-06  0.846665      1.281970   \n",
       "298                0.050  21.274155  1.073485e-05  0.964851      1.254078   \n",
       "299                0.050  18.454364  1.184418e-05  0.937407      1.267582   \n",
       "\n",
       "     worst_node.mean  worst_node.mean.relative  \n",
       "0           0.501720                       6.0  \n",
       "1           0.545652                       2.0  \n",
       "2           0.489012                       5.0  \n",
       "3           0.518602                       4.0  \n",
       "4           0.500000                       5.0  \n",
       "..               ...                       ...  \n",
       "295         0.492029                       1.0  \n",
       "296         0.501812                       1.0  \n",
       "297         0.528172                       2.0  \n",
       "298         0.493333                       3.0  \n",
       "299         0.529355                       4.0  \n",
       "\n",
       "[300 rows x 112 columns]"
      ]
     },
     "execution_count": 33,
     "metadata": {},
     "output_type": "execute_result"
    }
   ],
   "source": [
    "pymfe_metafeatures_df = pd.concat(metafeatures, ignore_index=True)\n",
    "pymfe_metafeatures_df"
   ]
  },
  {
   "cell_type": "code",
   "execution_count": null,
   "id": "cb9998da-155a-460f-ad45-bbb04512bfda",
   "metadata": {},
   "outputs": [],
   "source": [
    "# Saving:\n",
    "#pymfe_metafeatures_df.to_csv('pymfe_meta_features.csv')"
   ]
  },
  {
   "cell_type": "code",
   "execution_count": 26,
   "id": "cfd115f4-5929-4860-b2af-a875606b26be",
   "metadata": {},
   "outputs": [],
   "source": [
    "summary_of_dfs = {'name':[], 'columns':[], 'rows':[]}\n",
    "i = 1\n",
    "for ds in datasets:\n",
    "    summary_of_dfs['name'].append(f'D{i}')\n",
    "    summary_of_dfs['columns'].append(ds.shape[1])\n",
    "    summary_of_dfs['rows'].append(ds.shape[0])\n",
    "    i += 1\n",
    "summary_of_dfs = pd.DataFrame(summary_of_dfs)"
   ]
  },
  {
   "cell_type": "code",
   "execution_count": 27,
   "id": "36b42bc1-a6a3-46a4-92db-e79bdb7001ac",
   "metadata": {},
   "outputs": [
    {
     "data": {
      "text/html": [
       "<div>\n",
       "<style scoped>\n",
       "    .dataframe tbody tr th:only-of-type {\n",
       "        vertical-align: middle;\n",
       "    }\n",
       "\n",
       "    .dataframe tbody tr th {\n",
       "        vertical-align: top;\n",
       "    }\n",
       "\n",
       "    .dataframe thead th {\n",
       "        text-align: right;\n",
       "    }\n",
       "</style>\n",
       "<table border=\"1\" class=\"dataframe\">\n",
       "  <thead>\n",
       "    <tr style=\"text-align: right;\">\n",
       "      <th></th>\n",
       "      <th>name</th>\n",
       "      <th>columns</th>\n",
       "      <th>rows</th>\n",
       "    </tr>\n",
       "  </thead>\n",
       "  <tbody>\n",
       "    <tr>\n",
       "      <th>0</th>\n",
       "      <td>D1</td>\n",
       "      <td>21</td>\n",
       "      <td>301</td>\n",
       "    </tr>\n",
       "    <tr>\n",
       "      <th>1</th>\n",
       "      <td>D2</td>\n",
       "      <td>9</td>\n",
       "      <td>231</td>\n",
       "    </tr>\n",
       "    <tr>\n",
       "      <th>2</th>\n",
       "      <td>D3</td>\n",
       "      <td>21</td>\n",
       "      <td>319</td>\n",
       "    </tr>\n",
       "    <tr>\n",
       "      <th>3</th>\n",
       "      <td>D4</td>\n",
       "      <td>21</td>\n",
       "      <td>301</td>\n",
       "    </tr>\n",
       "    <tr>\n",
       "      <th>4</th>\n",
       "      <td>D5</td>\n",
       "      <td>21</td>\n",
       "      <td>300</td>\n",
       "    </tr>\n",
       "    <tr>\n",
       "      <th>...</th>\n",
       "      <td>...</td>\n",
       "      <td>...</td>\n",
       "      <td>...</td>\n",
       "    </tr>\n",
       "    <tr>\n",
       "      <th>295</th>\n",
       "      <td>D296</td>\n",
       "      <td>9</td>\n",
       "      <td>234</td>\n",
       "    </tr>\n",
       "    <tr>\n",
       "      <th>296</th>\n",
       "      <td>D297</td>\n",
       "      <td>9</td>\n",
       "      <td>231</td>\n",
       "    </tr>\n",
       "    <tr>\n",
       "      <th>297</th>\n",
       "      <td>D298</td>\n",
       "      <td>21</td>\n",
       "      <td>301</td>\n",
       "    </tr>\n",
       "    <tr>\n",
       "      <th>298</th>\n",
       "      <td>D299</td>\n",
       "      <td>21</td>\n",
       "      <td>300</td>\n",
       "    </tr>\n",
       "    <tr>\n",
       "      <th>299</th>\n",
       "      <td>D300</td>\n",
       "      <td>21</td>\n",
       "      <td>302</td>\n",
       "    </tr>\n",
       "  </tbody>\n",
       "</table>\n",
       "<p>300 rows × 3 columns</p>\n",
       "</div>"
      ],
      "text/plain": [
       "     name  columns  rows\n",
       "0      D1       21   301\n",
       "1      D2        9   231\n",
       "2      D3       21   319\n",
       "3      D4       21   301\n",
       "4      D5       21   300\n",
       "..    ...      ...   ...\n",
       "295  D296        9   234\n",
       "296  D297        9   231\n",
       "297  D298       21   301\n",
       "298  D299       21   300\n",
       "299  D300       21   302\n",
       "\n",
       "[300 rows x 3 columns]"
      ]
     },
     "execution_count": 27,
     "metadata": {},
     "output_type": "execute_result"
    }
   ],
   "source": [
    "summary_of_dfs"
   ]
  },
  {
   "cell_type": "code",
   "execution_count": 29,
   "id": "2dd0710d-cbc4-43da-9e29-f9e961404e98",
   "metadata": {},
   "outputs": [
    {
     "data": {
      "text/html": [
       "<div>\n",
       "<style scoped>\n",
       "    .dataframe tbody tr th:only-of-type {\n",
       "        vertical-align: middle;\n",
       "    }\n",
       "\n",
       "    .dataframe tbody tr th {\n",
       "        vertical-align: top;\n",
       "    }\n",
       "\n",
       "    .dataframe thead th {\n",
       "        text-align: right;\n",
       "    }\n",
       "</style>\n",
       "<table border=\"1\" class=\"dataframe\">\n",
       "  <thead>\n",
       "    <tr style=\"text-align: right;\">\n",
       "      <th></th>\n",
       "      <th>columns</th>\n",
       "      <th>rows</th>\n",
       "    </tr>\n",
       "  </thead>\n",
       "  <tbody>\n",
       "    <tr>\n",
       "      <th>count</th>\n",
       "      <td>300.000000</td>\n",
       "      <td>300.000000</td>\n",
       "    </tr>\n",
       "    <tr>\n",
       "      <th>mean</th>\n",
       "      <td>16.520000</td>\n",
       "      <td>389.846667</td>\n",
       "    </tr>\n",
       "    <tr>\n",
       "      <th>std</th>\n",
       "      <td>5.813972</td>\n",
       "      <td>134.684953</td>\n",
       "    </tr>\n",
       "    <tr>\n",
       "      <th>min</th>\n",
       "      <td>9.000000</td>\n",
       "      <td>230.000000</td>\n",
       "    </tr>\n",
       "    <tr>\n",
       "      <th>25%</th>\n",
       "      <td>9.000000</td>\n",
       "      <td>302.000000</td>\n",
       "    </tr>\n",
       "    <tr>\n",
       "      <th>50%</th>\n",
       "      <td>21.000000</td>\n",
       "      <td>354.000000</td>\n",
       "    </tr>\n",
       "    <tr>\n",
       "      <th>75%</th>\n",
       "      <td>21.000000</td>\n",
       "      <td>466.500000</td>\n",
       "    </tr>\n",
       "    <tr>\n",
       "      <th>max</th>\n",
       "      <td>21.000000</td>\n",
       "      <td>950.000000</td>\n",
       "    </tr>\n",
       "  </tbody>\n",
       "</table>\n",
       "</div>"
      ],
      "text/plain": [
       "          columns        rows\n",
       "count  300.000000  300.000000\n",
       "mean    16.520000  389.846667\n",
       "std      5.813972  134.684953\n",
       "min      9.000000  230.000000\n",
       "25%      9.000000  302.000000\n",
       "50%     21.000000  354.000000\n",
       "75%     21.000000  466.500000\n",
       "max     21.000000  950.000000"
      ]
     },
     "execution_count": 29,
     "metadata": {},
     "output_type": "execute_result"
    }
   ],
   "source": [
    "summary_of_dfs.describe()"
   ]
  },
  {
   "cell_type": "markdown",
   "id": "b58e14fa-738a-41d8-8329-5dfd1094c7bc",
   "metadata": {
    "tags": []
   },
   "source": [
    "# Analysis of time complexity of meta-feature extraction:"
   ]
  },
  {
   "cell_type": "markdown",
   "id": "df86bc59-eb30-4010-9a2b-ed698be692b3",
   "metadata": {},
   "source": [
    "We will build a graph with the meta-features extraction times for datasets with 10, 100, 1000, 10000... instances. For that we will build random datasets with 21 columns (which is the maximum number of columns of our real datasets) and varying number of rows."
   ]
  },
  {
   "cell_type": "code",
   "execution_count": 30,
   "id": "1bb582d5-ad3b-493e-bafc-f7293c1ec83a",
   "metadata": {},
   "outputs": [],
   "source": [
    "from sklearn.datasets import make_classification"
   ]
  },
  {
   "cell_type": "code",
   "execution_count": null,
   "id": "b915425b-8773-4463-87a4-8c8e574a1e7a",
   "metadata": {
    "tags": []
   },
   "outputs": [],
   "source": [
    "n_instances = []\n",
    "elapsed_times = []\n",
    "for n_rows in range(100, 10001, 100):\n",
    "    X, y = make_classification(n_samples = n_rows, n_features = 21, class_sep=0.8, random_state=13)\n",
    "    print(f'Extracting metafeatures for dataset with {n_rows} rows.')\n",
    "    start_time = time.time() # Count time from here..\n",
    "    mfe = MFE(groups='all', summary='mean')\n",
    "    mfe.fit(X, y)\n",
    "    ft = mfe.extract()\n",
    "    end_time = time.time() # to here.\n",
    "    elapsed_times.append(end_time - start_time)\n",
    "    n_instances.append(n_rows)\n"
   ]
  },
  {
   "cell_type": "code",
   "execution_count": 49,
   "id": "ee91a2a1-3c1b-4377-b06d-dfd4a9bde746",
   "metadata": {},
   "outputs": [
    {
     "data": {
      "text/plain": [
       "<AxesSubplot:>"
      ]
     },
     "execution_count": 49,
     "metadata": {},
     "output_type": "execute_result"
    },
    {
     "data": {
      "image/png": "[encoded data removed]",
      "text/plain": [
       "<Figure size 640x480 with 1 Axes>"
      ]
     },
     "metadata": {},
     "output_type": "display_data"
    }
   ],
   "source": [
    "pd.DataFrame({'Time in seconds':elapsed_times}, index=n_instances).plot()"
   ]
  },
  {
   "cell_type": "code",
   "execution_count": null,
   "id": "eafcbf3b-aa86-48bf-b833-987b67b22068",
   "metadata": {},
   "outputs": [],
   "source": []
  }
 ],
 "metadata": {
  "kernelspec": {
   "display_name": "Python 3 (ipykernel)",
   "language": "python",
   "name": "python3"
  },
  "language_info": {
   "codemirror_mode": {
    "name": "ipython",
    "version": 3
   },
   "file_extension": ".py",
   "mimetype": "text/x-python",
   "name": "python",
   "nbconvert_exporter": "python",
   "pygments_lexer": "ipython3",
   "version": "3.9.13"
  }
 },
 "nbformat": 4,
 "nbformat_minor": 5
}
