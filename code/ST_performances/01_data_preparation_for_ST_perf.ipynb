{
 "cells": [
  {
   "cell_type": "markdown",
   "id": "ecf71381-7f18-4361-bab8-3eaaababca19",
   "metadata": {},
   "source": [
    "The aim of this notebook is to load the original data from the ICPR2010 contest (specifically the data inside the S1 directory, since it is the only one that is labeled) preprocess the datasets, split them into 5-fold files and then save them in CSV."
   ]
  },
  {
   "cell_type": "markdown",
   "id": "28dcb381-2b9f-4d62-9c02-d44a683c9c45",
   "metadata": {},
   "source": [
    "# Importing required libs"
   ]
  },
  {
   "cell_type": "code",
   "execution_count": 62,
   "id": "2be05f65-9c39-496f-b11a-96d7c2514a84",
   "metadata": {},
   "outputs": [],
   "source": [
    "import pandas as pd\n",
    "import numpy as np\n",
    "from scipy.io.arff import loadarff\n",
    "from sklearn import preprocessing\n",
    "from sklearn.model_selection import KFold, StratifiedKFold\n"
   ]
  },
  {
   "cell_type": "markdown",
   "id": "e4e30da8-e547-41aa-bb16-15838b5ae87c",
   "metadata": {},
   "source": [
    "# Loading data"
   ]
  },
  {
   "cell_type": "code",
   "execution_count": 12,
   "id": "aa554f1f-a500-4c39-9c3d-f07dbd4a9ba7",
   "metadata": {
    "tags": []
   },
   "outputs": [],
   "source": [
    "datasets = [] \n",
    "for i in range(1,302):\n",
    "    raw_data = loadarff(f'../../data/S1/D{i}-trn.arff')\n",
    "    df_data = pd.DataFrame(raw_data[0])\n",
    "    datasets.append(df_data)"
   ]
  },
  {
   "cell_type": "markdown",
   "id": "44a27996-7cd7-477c-9b69-8639e0e4a21c",
   "metadata": {},
   "source": [
    "Listing datasets properties (number of rows, columns and classes)."
   ]
  },
  {
   "cell_type": "code",
   "execution_count": 13,
   "id": "71761ec6-1a35-4acc-a3a1-6c9dde014568",
   "metadata": {},
   "outputs": [],
   "source": [
    "ds_desc_dict = {'dataset':[], 'rows':[], 'columns':[], 'classes':[]}\n",
    "for i in range(1,302):\n",
    "    rows = datasets[i-1].shape[0]\n",
    "    columns = datasets[i-1].shape[1]\n",
    "    classes = len(datasets[i-1]['class'].unique())\n",
    "    ds_desc_dict['dataset'].append(i)\n",
    "    ds_desc_dict['rows'].append(rows)\n",
    "    ds_desc_dict['columns'].append(columns)\n",
    "    ds_desc_dict['classes'].append(classes)\n",
    "    \n",
    "ds_desc = pd.DataFrame(ds_desc_dict)"
   ]
  },
  {
   "cell_type": "code",
   "execution_count": 14,
   "id": "dc8d5b71-7b5a-4e02-a1c4-12e6216de523",
   "metadata": {},
   "outputs": [
    {
     "data": {
      "text/html": [
       "<div>\n",
       "<style scoped>\n",
       "    .dataframe tbody tr th:only-of-type {\n",
       "        vertical-align: middle;\n",
       "    }\n",
       "\n",
       "    .dataframe tbody tr th {\n",
       "        vertical-align: top;\n",
       "    }\n",
       "\n",
       "    .dataframe thead th {\n",
       "        text-align: right;\n",
       "    }\n",
       "</style>\n",
       "<table border=\"1\" class=\"dataframe\">\n",
       "  <thead>\n",
       "    <tr style=\"text-align: right;\">\n",
       "      <th></th>\n",
       "      <th>dataset</th>\n",
       "      <th>rows</th>\n",
       "      <th>columns</th>\n",
       "      <th>classes</th>\n",
       "    </tr>\n",
       "  </thead>\n",
       "  <tbody>\n",
       "    <tr>\n",
       "      <th>0</th>\n",
       "      <td>1</td>\n",
       "      <td>301</td>\n",
       "      <td>21</td>\n",
       "      <td>2</td>\n",
       "    </tr>\n",
       "    <tr>\n",
       "      <th>1</th>\n",
       "      <td>2</td>\n",
       "      <td>231</td>\n",
       "      <td>9</td>\n",
       "      <td>2</td>\n",
       "    </tr>\n",
       "    <tr>\n",
       "      <th>2</th>\n",
       "      <td>3</td>\n",
       "      <td>319</td>\n",
       "      <td>21</td>\n",
       "      <td>2</td>\n",
       "    </tr>\n",
       "    <tr>\n",
       "      <th>3</th>\n",
       "      <td>4</td>\n",
       "      <td>301</td>\n",
       "      <td>21</td>\n",
       "      <td>2</td>\n",
       "    </tr>\n",
       "    <tr>\n",
       "      <th>4</th>\n",
       "      <td>5</td>\n",
       "      <td>300</td>\n",
       "      <td>21</td>\n",
       "      <td>2</td>\n",
       "    </tr>\n",
       "    <tr>\n",
       "      <th>...</th>\n",
       "      <td>...</td>\n",
       "      <td>...</td>\n",
       "      <td>...</td>\n",
       "      <td>...</td>\n",
       "    </tr>\n",
       "    <tr>\n",
       "      <th>296</th>\n",
       "      <td>297</td>\n",
       "      <td>231</td>\n",
       "      <td>9</td>\n",
       "      <td>2</td>\n",
       "    </tr>\n",
       "    <tr>\n",
       "      <th>297</th>\n",
       "      <td>298</td>\n",
       "      <td>301</td>\n",
       "      <td>21</td>\n",
       "      <td>2</td>\n",
       "    </tr>\n",
       "    <tr>\n",
       "      <th>298</th>\n",
       "      <td>299</td>\n",
       "      <td>300</td>\n",
       "      <td>21</td>\n",
       "      <td>2</td>\n",
       "    </tr>\n",
       "    <tr>\n",
       "      <th>299</th>\n",
       "      <td>300</td>\n",
       "      <td>302</td>\n",
       "      <td>21</td>\n",
       "      <td>2</td>\n",
       "    </tr>\n",
       "    <tr>\n",
       "      <th>300</th>\n",
       "      <td>301</td>\n",
       "      <td>9992</td>\n",
       "      <td>21</td>\n",
       "      <td>20</td>\n",
       "    </tr>\n",
       "  </tbody>\n",
       "</table>\n",
       "<p>301 rows × 4 columns</p>\n",
       "</div>"
      ],
      "text/plain": [
       "     dataset  rows  columns  classes\n",
       "0          1   301       21        2\n",
       "1          2   231        9        2\n",
       "2          3   319       21        2\n",
       "3          4   301       21        2\n",
       "4          5   300       21        2\n",
       "..       ...   ...      ...      ...\n",
       "296      297   231        9        2\n",
       "297      298   301       21        2\n",
       "298      299   300       21        2\n",
       "299      300   302       21        2\n",
       "300      301  9992       21       20\n",
       "\n",
       "[301 rows x 4 columns]"
      ]
     },
     "execution_count": 14,
     "metadata": {},
     "output_type": "execute_result"
    }
   ],
   "source": [
    "ds_desc"
   ]
  },
  {
   "cell_type": "code",
   "execution_count": 15,
   "id": "91fec5e6-da40-4cda-96c1-cfb5a58430fb",
   "metadata": {},
   "outputs": [
    {
     "data": {
      "text/plain": [
       "2     300\n",
       "20      1\n",
       "Name: classes, dtype: int64"
      ]
     },
     "execution_count": 15,
     "metadata": {},
     "output_type": "execute_result"
    }
   ],
   "source": [
    "# How many ocurrences of each possible number of classes?\n",
    "ds_desc['classes'].value_counts()"
   ]
  },
  {
   "cell_type": "markdown",
   "id": "3b0e6fd5-11f0-490d-ae3d-ef0263f0d73e",
   "metadata": {},
   "source": [
    "Only one dataset is not binary (the last one)."
   ]
  },
  {
   "cell_type": "code",
   "execution_count": 16,
   "id": "4fbc6ba8-4ebe-4812-8b6d-410fdb3b33f2",
   "metadata": {},
   "outputs": [
    {
     "data": {
      "text/html": [
       "<div>\n",
       "<style scoped>\n",
       "    .dataframe tbody tr th:only-of-type {\n",
       "        vertical-align: middle;\n",
       "    }\n",
       "\n",
       "    .dataframe tbody tr th {\n",
       "        vertical-align: top;\n",
       "    }\n",
       "\n",
       "    .dataframe thead th {\n",
       "        text-align: right;\n",
       "    }\n",
       "</style>\n",
       "<table border=\"1\" class=\"dataframe\">\n",
       "  <thead>\n",
       "    <tr style=\"text-align: right;\">\n",
       "      <th></th>\n",
       "      <th>dataset</th>\n",
       "      <th>rows</th>\n",
       "      <th>columns</th>\n",
       "      <th>classes</th>\n",
       "    </tr>\n",
       "  </thead>\n",
       "  <tbody>\n",
       "    <tr>\n",
       "      <th>count</th>\n",
       "      <td>300.000000</td>\n",
       "      <td>300.000000</td>\n",
       "      <td>300.000000</td>\n",
       "      <td>300.0</td>\n",
       "    </tr>\n",
       "    <tr>\n",
       "      <th>mean</th>\n",
       "      <td>150.500000</td>\n",
       "      <td>389.846667</td>\n",
       "      <td>16.520000</td>\n",
       "      <td>2.0</td>\n",
       "    </tr>\n",
       "    <tr>\n",
       "      <th>std</th>\n",
       "      <td>86.746758</td>\n",
       "      <td>134.684953</td>\n",
       "      <td>5.813972</td>\n",
       "      <td>0.0</td>\n",
       "    </tr>\n",
       "    <tr>\n",
       "      <th>min</th>\n",
       "      <td>1.000000</td>\n",
       "      <td>230.000000</td>\n",
       "      <td>9.000000</td>\n",
       "      <td>2.0</td>\n",
       "    </tr>\n",
       "    <tr>\n",
       "      <th>25%</th>\n",
       "      <td>75.750000</td>\n",
       "      <td>302.000000</td>\n",
       "      <td>9.000000</td>\n",
       "      <td>2.0</td>\n",
       "    </tr>\n",
       "    <tr>\n",
       "      <th>50%</th>\n",
       "      <td>150.500000</td>\n",
       "      <td>354.000000</td>\n",
       "      <td>21.000000</td>\n",
       "      <td>2.0</td>\n",
       "    </tr>\n",
       "    <tr>\n",
       "      <th>75%</th>\n",
       "      <td>225.250000</td>\n",
       "      <td>466.500000</td>\n",
       "      <td>21.000000</td>\n",
       "      <td>2.0</td>\n",
       "    </tr>\n",
       "    <tr>\n",
       "      <th>max</th>\n",
       "      <td>300.000000</td>\n",
       "      <td>950.000000</td>\n",
       "      <td>21.000000</td>\n",
       "      <td>2.0</td>\n",
       "    </tr>\n",
       "  </tbody>\n",
       "</table>\n",
       "</div>"
      ],
      "text/plain": [
       "          dataset        rows     columns  classes\n",
       "count  300.000000  300.000000  300.000000    300.0\n",
       "mean   150.500000  389.846667   16.520000      2.0\n",
       "std     86.746758  134.684953    5.813972      0.0\n",
       "min      1.000000  230.000000    9.000000      2.0\n",
       "25%     75.750000  302.000000    9.000000      2.0\n",
       "50%    150.500000  354.000000   21.000000      2.0\n",
       "75%    225.250000  466.500000   21.000000      2.0\n",
       "max    300.000000  950.000000   21.000000      2.0"
      ]
     },
     "execution_count": 16,
     "metadata": {},
     "output_type": "execute_result"
    }
   ],
   "source": [
    "# Describe it excluding the last dataset (outlier).\n",
    "ds_desc.iloc[:-1,:].describe()"
   ]
  },
  {
   "cell_type": "markdown",
   "id": "9df4635d-cf0d-45d0-98cc-0b3e5f14a441",
   "metadata": {},
   "source": [
    "**Conclusion:** \n",
    "- All datasets are binary, except the last one, which has 20 class labels. \n",
    "- Excluding the last dataset, the mean number of rows and columns is 389.8 and 16.5 respectively."
   ]
  },
  {
   "cell_type": "code",
   "execution_count": 17,
   "id": "0e9e1d15-378e-4587-9c8c-3eae88fb8a5e",
   "metadata": {},
   "outputs": [],
   "source": [
    "# To simplify our analisys, we are going to exclude dataset 301 from our experiments.\n",
    "datasets = datasets[:-1]"
   ]
  },
  {
   "cell_type": "markdown",
   "id": "28ffc51e-8dcc-4643-b17e-ea72269d26a7",
   "metadata": {},
   "source": [
    "# Preprocessing"
   ]
  },
  {
   "cell_type": "markdown",
   "id": "b4121d6b-7b67-4c19-8308-041196da0b39",
   "metadata": {},
   "source": [
    "## Label encoding"
   ]
  },
  {
   "cell_type": "markdown",
   "id": "c92e6720-ca9a-44c5-8299-b4582e537c46",
   "metadata": {},
   "source": [
    "First, let's deal with the class values, transforming them into 0 and 1."
   ]
  },
  {
   "cell_type": "code",
   "execution_count": 18,
   "id": "5f7a4657-8c44-4100-8d05-992b6ebf5666",
   "metadata": {},
   "outputs": [],
   "source": [
    "for ds in datasets:\n",
    "    ds['class'] = preprocessing.LabelEncoder().fit_transform(ds['class'])"
   ]
  },
  {
   "cell_type": "markdown",
   "id": "f5b8d4cd-815a-4e80-b9aa-bb87913a0316",
   "metadata": {},
   "source": [
    "## Missing values?"
   ]
  },
  {
   "cell_type": "markdown",
   "id": "873d89ef-5834-4ca9-9410-9e8a558426d8",
   "metadata": {},
   "source": [
    "Are there any missing values?"
   ]
  },
  {
   "cell_type": "code",
   "execution_count": 21,
   "id": "ea6e463c-ecf5-470a-bc4d-f7ac3e20bfd6",
   "metadata": {
    "tags": []
   },
   "outputs": [
    {
     "name": "stdout",
     "output_type": "stream",
     "text": [
      "There is no missing value.\n"
     ]
    }
   ],
   "source": [
    "i = 1\n",
    "found_missing = False\n",
    "for ds in datasets:\n",
    "    if ds.isnull().values.any(): \n",
    "        print(f'There is(are) missing value(s) on dataset {i}.')\n",
    "        found_missing = True\n",
    "    i += 1\n",
    "if not found_missing:\n",
    "    print('There is no missing value.')"
   ]
  },
  {
   "cell_type": "markdown",
   "id": "689d03cf-c04c-4b49-9c49-09af8d896776",
   "metadata": {},
   "source": [
    "## Non-numeric attributes?"
   ]
  },
  {
   "cell_type": "markdown",
   "id": "2cb665c6-12e2-4c5c-88d6-fcfaa024a777",
   "metadata": {},
   "source": [
    "Are there non-numeric attributes?"
   ]
  },
  {
   "cell_type": "code",
   "execution_count": 29,
   "id": "4b990574-eceb-4a17-9d4c-55dc638d2564",
   "metadata": {},
   "outputs": [
    {
     "name": "stdout",
     "output_type": "stream",
     "text": [
      "Datasets are composed of numeric attributes only.\n"
     ]
    }
   ],
   "source": [
    "i = 1\n",
    "found_non_numeric = False\n",
    "for ds in datasets:\n",
    "    if len(datasets[0].select_dtypes(exclude=[\"number\",\"bool_\"]).columns) > 0:\n",
    "        print(f'There is a non-numeric attribute in dataset {i}.')\n",
    "        found_non_numeric = True\n",
    "    i += 1\n",
    "if not found_non_numeric:\n",
    "    print('Datasets are composed of numeric attributes only.')"
   ]
  },
  {
   "cell_type": "markdown",
   "id": "5ff427da-54e0-4d13-84a8-f5caddd8f7ce",
   "metadata": {},
   "source": [
    "## Splitting datasets into 5-folds"
   ]
  },
  {
   "cell_type": "code",
   "execution_count": null,
   "id": "474873e5-ead8-4d05-9cd0-a497eb1947f4",
   "metadata": {
    "tags": []
   },
   "outputs": [],
   "source": [
    "for ds_number in range(1,len(datasets)+1):\n",
    "    ds = datasets[ds_number-1]\n",
    "\n",
    "    # The folds are made by preserving the percentage of samples for each class.\n",
    "    kf = StratifiedKFold(n_splits=5, shuffle=True, random_state=42)\n",
    "\n",
    "    cnt = 1\n",
    "    # split()  method generate indices to split data into training and test set.\n",
    "    folds = []\n",
    "    X = ds.iloc[:,:-1]\n",
    "    y = ds.iloc[:,-1]\n",
    "    for train_index, test_index in kf.split(X,y):\n",
    "        folds.append({'train':ds.filter(train_index, axis=0), \n",
    "                      'test':ds.filter(test_index, axis=0)})\n",
    "    \n",
    "    # Saving the folds in CSV files so that they can be reused to reproduce the results.\n",
    "    i = 1\n",
    "    for fold in folds:\n",
    "        fold['train'].to_csv(f'../../data/5-fold/D{ds_number}-fold{i}-train.csv', index=False, encoding='utf8')\n",
    "        fold['test'].to_csv(f'../../data/5-fold/D{ds_number}-fold{i}-test.csv', index=False, encoding='utf8')\n",
    "        i += 1"
   ]
  },
  {
   "cell_type": "markdown",
   "id": "c510f8b2-f4e5-41e8-b78f-332979b1b31e",
   "metadata": {},
   "source": [
    "Now that the data has been preprocessed, split and saved into CSVs, the experiment can continue in another notebook."
   ]
  },
  {
   "cell_type": "code",
   "execution_count": null,
   "id": "f1a7e120-a851-4204-8077-5bc8e82d21a2",
   "metadata": {},
   "outputs": [],
   "source": []
  }
 ],
 "metadata": {
  "kernelspec": {
   "display_name": "Python 3 (ipykernel)",
   "language": "python",
   "name": "python3"
  },
  "language_info": {
   "codemirror_mode": {
    "name": "ipython",
    "version": 3
   },
   "file_extension": ".py",
   "mimetype": "text/x-python",
   "name": "python",
   "nbconvert_exporter": "python",
   "pygments_lexer": "ipython3",
   "version": "3.8.10"
  }
 },
 "nbformat": 4,
 "nbformat_minor": 5
}
