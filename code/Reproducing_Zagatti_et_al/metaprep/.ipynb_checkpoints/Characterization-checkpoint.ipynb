{
 "cells": [
  {
   "cell_type": "markdown",
   "metadata": {},
   "source": [
    "# Data characterization function"
   ]
  },
  {
   "cell_type": "code",
   "execution_count": 1,
   "metadata": {},
   "outputs": [],
   "source": [
    "from pymfe.mfe import MFE\n",
    "import pandas as pd\n",
    "import numpy as np\n",
    "\n",
    "pd.set_option('display.max_rows', None)\n",
    "dic = {}\n",
    "\n",
    "def data_caracterization(data, target, tram):\n",
    "    data, y, _, _ = data.get_data(dataset_format=\"dataframe\", target=target)\n",
    "\n",
    "    if(isinstance(y,np.ndarray)):\n",
    "        y = pd.DataFrame({target: y})\n",
    "\n",
    "    data = pd.concat([data, y], axis=1)\n",
    "    data.dropna(inplace=True)\n",
    "    y_target = data[target]\n",
    "    data = data.drop([target], axis=1)\n",
    "    y_target = np.array(y_target)\n",
    "    data = np.array(data)\n",
    "    mfe = MFE(groups=[\"general\", \"statistical\", \"info-theory\"])\n",
    "    mfe.fit(X = data, y = y_target, transform_cat = tram)\n",
    "    ft = mfe.extract()\n",
    "    return ft"
   ]
  },
  {
   "cell_type": "markdown",
   "metadata": {},
   "source": [
    "# Applying data characterization on OpenML datasets"
   ]
  },
  {
   "cell_type": "code",
   "execution_count": 70,
   "metadata": {},
   "outputs": [],
   "source": [
    "datasets_openml = [15, 29, 179, 188, 443, 452, 455, 473, 575, 802, 839, 897, \n",
    "                   930, 966, 990, 1024, 1037, 1053, 1119, 1205, 41526, 41430, \n",
    "                   1351, 1354, 1358, 1364, 1367, 1369, 1373, 1375, 1402, \n",
    "                   1403, 1453, 1459, 1460, 1468, 1471, 1475, 1479, 1485, 1486, \n",
    "                   1489, 1497, 1502, 1503, 1507, 1510, 1525, 1526, 1547, 1549, \n",
    "                   1552, 1553, 1557, 1558, 1560, 1568, 1590, 4534, 4538, 4541, \n",
    "                   6332, 23380, 23512, 23517, 40536, 40966, 40979, 40981, 40982, \n",
    "                   40996, 40999, 41001, 41002, 41003, 41004, 41005, 41007, 41027, \n",
    "                   41160, 42345, 42638]\n",
    "\n",
    "#15, 29, 179, 188, 443, 452, 455, 473, 575, 802, 839, 897, 930, 966, 990, 1024, 1037, 1053, \n",
    "#1111, 1112, 1119, 1205, 1240, 1351, 1354, 1358, 1364, 1367, 1369, 1373, 1375, 1402, 1403, \n",
    "#1453, 1459, 1460, 1468, 1471, 1475, 1479, 1485, 1486, 1489, 1497, 1502, 1503, 1507, 1510, \n",
    "#1525, 1526, 1547, 1549, 1552, 1553, 1557, 1558, 1560, 1568, 1590, 4534, 4538, 4541, 6332, \n",
    "#23380, 23512, 23517, 40536, 40966, 40979, 40981, 40982, 40996, 40999, 41001, 41002, 41003, \n",
    "#41004, 41005, 41007, 41027, 41160, 42345, 42638"
   ]
  },
  {
   "cell_type": "code",
   "execution_count": null,
   "metadata": {
    "scrolled": true
   },
   "outputs": [
    {
     "name": "stdout",
     "output_type": "stream",
     "text": [
      "Dataset 15 :  https://www.openml.org/data/v1/download/52350/breast-w.arff\n"
     ]
    },
    {
     "name": "stderr",
     "output_type": "stream",
     "text": [
      " * Warning: It is not possible make equal discretization\n",
      " * Warning: Can't summarize feature 'can_cor' with summary 'sd'. Will set it as 'np.nan'.\n"
     ]
    },
    {
     "name": "stdout",
     "output_type": "stream",
     "text": [
      "(['attr_conc.mean', 'attr_conc.sd', 'attr_ent.mean', 'attr_ent.sd', 'attr_to_inst', 'can_cor.mean', 'can_cor.sd', 'cat_to_num', 'class_conc.mean', 'class_conc.sd', 'class_ent', 'cor.mean', 'cor.sd', 'cov.mean', 'cov.sd', 'eigenvalues.mean', 'eigenvalues.sd', 'eq_num_attr', 'freq_class.mean', 'freq_class.sd', 'g_mean.mean', 'g_mean.sd', 'gravity', 'h_mean.mean', 'h_mean.sd', 'inst_to_attr', 'iq_range.mean', 'iq_range.sd', 'joint_ent.mean', 'joint_ent.sd', 'kurtosis.mean', 'kurtosis.sd', 'lh_trace', 'mad.mean', 'mad.sd', 'max.mean', 'max.sd', 'mean.mean', 'mean.sd', 'median.mean', 'median.sd', 'min.mean', 'min.sd', 'mut_inf.mean', 'mut_inf.sd', 'nr_attr', 'nr_bin', 'nr_cat', 'nr_class', 'nr_cor_attr', 'nr_disc', 'nr_inst', 'nr_norm', 'nr_num', 'nr_outliers', 'ns_ratio', 'num_to_cat', 'p_trace', 'range.mean', 'range.sd', 'roy_root', 'sd.mean', 'sd.sd', 'sd_ratio', 'skewness.mean', 'skewness.sd', 'sparsity.mean', 'sparsity.sd', 't_mean.mean', 't_mean.sd', 'var.mean', 'var.sd', 'w_lambda'], [0.20713086111428913, 0.09938478201100451, 1.847454097577724, 0.5867410404711683, 0.013177159590043924, 0.9183268094291279, nan, 0.0, 0.2552495428629926, 0.10902616131673085, 0.9340026588217949, 0.6019393055727238, 0.13194244238717326, 4.720494333120083, 1.8695153828547162, 7.892320932844239, 15.490760619073827, 1.8444216205990767, 0.5, 0.2122355638993298, 2.2480668658275125, 0.6351780729915868, 13.36120725942843, 1.7419951789071013, 0.4874169053379564, 75.88888888888889, 3.111111111111111, 1.4529663145135578, 2.2750635064014917, 0.5353377346804996, 1.5894042066180438, 4.045358151339281, 5.3826037352341265, 0.4942, 1.0483565137871753, 10.0, 0.0, 3.1483650561249394, 0.7497712173038102, 1.6666666666666667, 1.1180339887498947, 1.0, 0.0, 0.5063932499980273, 0.14139068889567288, 9, 0, 0, 2, 0.75, 1, 683, 0, 9, 5, 2.6482597222315287, nan, 0.8433241289162818, 9.0, 0.0, 5.3826037352341265, 2.760114325136351, 0.5552936841429194, 1.4736779568970357, 1.4604563821708219, 0.8279342698337612, 0.0999167300242569, 0.0037091343542956417, 2.2416869424168695, 0.862097050010318, 7.8923209328442425, 2.9722122833654203, 0.15667587108371817]) \n",
      "\n",
      "======================= FIM DO DATASET  15  ======================= \n",
      "\n",
      "Dataset 29 :  https://www.openml.org/data/v1/download/29/credit-approval.arff\n"
     ]
    },
    {
     "name": "stderr",
     "output_type": "stream",
     "text": [
      " * Warning: It is not possible make equal discretization\n",
      " * Warning: Can't summarize feature 'can_cor' with summary 'sd'. Will set it as 'np.nan'.\n",
      " * Warning: Can't extract feature 'sd_ratio'.\n",
      " Exception message: ValueError('math domain error').\n"
     ]
    },
    {
     "name": "stdout",
     "output_type": "stream",
     "text": [
      "(['attr_conc.mean', 'attr_conc.sd', 'attr_ent.mean', 'attr_ent.sd', 'attr_to_inst', 'can_cor.mean', 'can_cor.sd', 'cat_to_num', 'class_conc.mean', 'class_conc.sd', 'class_ent', 'cor.mean', 'cor.sd', 'cov.mean', 'cov.sd', 'eigenvalues.mean', 'eigenvalues.sd', 'eq_num_attr', 'freq_class.mean', 'freq_class.sd', 'g_mean.mean', 'g_mean.sd', 'gravity', 'h_mean.mean', 'h_mean.sd', 'inst_to_attr', 'iq_range.mean', 'iq_range.sd', 'joint_ent.mean', 'joint_ent.sd', 'kurtosis.mean', 'kurtosis.sd', 'lh_trace', 'mad.mean', 'mad.sd', 'max.mean', 'max.sd', 'mean.mean', 'mean.sd', 'median.mean', 'median.sd', 'min.mean', 'min.sd', 'mut_inf.mean', 'mut_inf.sd', 'nr_attr', 'nr_bin', 'nr_cat', 'nr_class', 'nr_cor_attr', 'nr_disc', 'nr_inst', 'nr_norm', 'nr_num', 'nr_outliers', 'ns_ratio', 'num_to_cat', 'p_trace', 'range.mean', 'range.sd', 'roy_root', 'sd.mean', 'sd.sd', 'sd_ratio', 'skewness.mean', 'skewness.sd', 'sparsity.mean', 'sparsity.sd', 't_mean.mean', 't_mean.sd', 'var.mean', 'var.sd', 'w_lambda'], [0.04160495279683439, 0.10198356938081507, 1.82300661713398, 1.0460275900445546, 0.022970903522205207, 0.7898183000468896, nan, 1.5, 0.06959380055968767, 0.1423040807109001, 0.993696072075439, 0.0735161375810429, 0.1165898563946611, 106.7889481447362, 2451.27409013675, 726985.8807345232, 4476716.81145579, 10.185558994781077, 0.5, 0.06605438537883519, 0.7778937366955117, 4.7952590433076745, 1821.9913668681409, 0.7336689961019022, 4.522639433114757, 43.53333333333333, 16.647105263157897, 71.54256714023929, 2.719143382686861, 1.051714767358817, 54.280168761516755, 96.35566941428274, 1.6582520378139494, 4.490132131578948, 24.042798949783197, 2690.3223684210525, 16215.586678274545, 32.652462319658255, 166.096345933484, 5.296184210526316, 26.190492431987877, 0.3618421052631579, 2.2305445405479847, 0.09755930652255743, 0.117994367798505, 15, 4, 9, 2, 0.01849217638691323, 1, 653, 0, 6, 32, 17.68613751075064, 0.6666666666666666, 0.6238129470889585, 2689.9605263157896, 16215.646728267335, 1.6582520378139494, 143.56793992338072, 851.7425197746328, nan, 4.975760491520954, 5.463947867245555, 0.21558220874303108, 0.2154529296783367, 7.725329784384629, 29.802751717251134, 726985.8807345144, 4476691.297054415, 0.3761870529110415]) \n",
      "\n",
      "======================= FIM DO DATASET  29  ======================= \n",
      "\n",
      "Dataset 179 :  https://www.openml.org/data/v1/download/3608/adult.arff\n"
     ]
    },
    {
     "name": "stderr",
     "output_type": "stream",
     "text": [
      " * Warning: It is not possible make equal discretization\n",
      " * Warning: Can't summarize feature 'can_cor' with summary 'sd'. Will set it as 'np.nan'.\n",
      " * Warning: Input data for shapiro has range zero. The results may not be accurate.\n",
      " * Warning: Can't extract feature 'sd_ratio'.\n",
      " Exception message: ValueError('math domain error').\n"
     ]
    },
    {
     "name": "stdout",
     "output_type": "stream",
     "text": [
      "(['attr_conc.mean', 'attr_conc.sd', 'attr_ent.mean', 'attr_ent.sd', 'attr_to_inst', 'can_cor.mean', 'can_cor.sd', 'cat_to_num', 'class_conc.mean', 'class_conc.sd', 'class_ent', 'cor.mean', 'cor.sd', 'cov.mean', 'cov.sd', 'eigenvalues.mean', 'eigenvalues.sd', 'eq_num_attr', 'freq_class.mean', 'freq_class.sd', 'g_mean.mean', 'g_mean.sd', 'gravity', 'h_mean.mean', 'h_mean.sd', 'inst_to_attr', 'iq_range.mean', 'iq_range.sd', 'joint_ent.mean', 'joint_ent.sd', 'kurtosis.mean', 'kurtosis.sd', 'lh_trace', 'mad.mean', 'mad.sd', 'max.mean', 'max.sd', 'mean.mean', 'mean.sd', 'median.mean', 'median.sd', 'min.mean', 'min.sd', 'mut_inf.mean', 'mut_inf.sd', 'nr_attr', 'nr_bin', 'nr_cat', 'nr_class', 'nr_cor_attr', 'nr_disc', 'nr_inst', 'nr_norm', 'nr_num', 'nr_outliers', 'ns_ratio', 'num_to_cat', 'p_trace', 'range.mean', 'range.sd', 'roy_root', 'sd.mean', 'sd.sd', 'sd_ratio', 'skewness.mean', 'skewness.sd', 'sparsity.mean', 'sparsity.sd', 't_mean.mean', 't_mean.sd', 'var.mean', 'var.sd', 'w_lambda'], [0.0455674963954692, 0.13949617923051963, 1.935153465469959, 1.3161805328851053, 0.0003095838308787758, 0.6417410811833529, nan, 6.0, 0.028474050636547548, 0.032444583642567686, 0.8078429793961042, 0.02052619821314609, 0.045478353041574694, 8.884753044453086, 179.28110856022352, 102382014.31375873, 1068899609.3161997, 12.549569195134195, 0.5, 0.3566024778147894, 1468.9207015097224, 15335.043241991254, 1777.248218020324, 1160.033752423403, 12110.227522356492, 3230.1428571428573, 1105.9701834862385, 11545.41101114846, 2.678624276639816, 1.3087910857298177, 819.9687309473691, 4344.663229907801, 0.7001933901518658, 823.4278788990825, 8596.696122653611, 13674.522935779816, 142754.32047081838, 1740.860884874171, 18173.274659210343, 1636.0642201834862, 17079.561912303485, 123.78899082568807, 1292.2983406934939, 0.06437216822624689, 0.0537723453792701, 14, 1, 12, 2, 0.0013591573224600749, 1, 45222, 2, 2, 100, 29.061958743855484, 0.16666666666666666, 0.4118316152783788, 13550.733944954129, 141462.02213279993, 0.7001933901518658, 969.3526870570533, 10118.38183123228, nan, 15.942282195148453, 23.936827669943433, 0.15521254506676477, 0.12239842716621195, 1628.1646578347486, 16997.03674338508, 102382014.31375836, 1068899609.3145534, 0.5881683847216213]) \n",
      "\n",
      "======================= FIM DO DATASET  179  ======================= \n",
      "\n",
      "Dataset 188 :  https://www.openml.org/data/v1/download/3625/eucalyptus.arff\n"
     ]
    },
    {
     "name": "stderr",
     "output_type": "stream",
     "text": [
      " * Warning: It is not possible make equal discretization\n",
      " * Warning: Can't summarize feature 'g_mean' with summary 'sd'. Will set it as 'np.nan'.\n",
      " * Warning: Can't summarize feature 'g_mean' with summary 'mean'. Will set it as 'np.nan'.\n",
      " * Warning: Can't extract feature 'h_mean'.\n",
      " Exception message: ValueError('Harmonic mean only defined if all elements greater than or equal to zero').\n",
      " Will set it as 'np.nan' for all summary functions.\n",
      " * Warning: Can't summarize feature 'h_mean' with summary 'sd'. Will set it as 'np.nan'.\n",
      " * Warning: Mean of empty slice.\n",
      " * Warning: invalid value encountered in double_scalars\n",
      " * Warning: Can't summarize feature 'h_mean' with summary 'mean'. Will set it as 'np.nan'.\n",
      " * Warning: Can't extract feature 'sd_ratio'.\n",
      " Exception message: ValueError('math domain error').\n"
     ]
    },
    {
     "name": "stdout",
     "output_type": "stream",
     "text": [
      "(['attr_conc.mean', 'attr_conc.sd', 'attr_ent.mean', 'attr_ent.sd', 'attr_to_inst', 'can_cor.mean', 'can_cor.sd', 'cat_to_num', 'class_conc.mean', 'class_conc.sd', 'class_ent', 'cor.mean', 'cor.sd', 'cov.mean', 'cov.sd', 'eigenvalues.mean', 'eigenvalues.sd', 'eq_num_attr', 'freq_class.mean', 'freq_class.sd', 'g_mean.mean', 'g_mean.sd', 'gravity', 'h_mean.mean', 'h_mean.sd', 'inst_to_attr', 'iq_range.mean', 'iq_range.sd', 'joint_ent.mean', 'joint_ent.sd', 'kurtosis.mean', 'kurtosis.sd', 'lh_trace', 'mad.mean', 'mad.sd', 'max.mean', 'max.sd', 'mean.mean', 'mean.sd', 'median.mean', 'median.sd', 'min.mean', 'min.sd', 'mut_inf.mean', 'mut_inf.sd', 'nr_attr', 'nr_bin', 'nr_cat', 'nr_class', 'nr_cor_attr', 'nr_disc', 'nr_inst', 'nr_norm', 'nr_num', 'nr_outliers', 'ns_ratio', 'num_to_cat', 'p_trace', 'range.mean', 'range.sd', 'roy_root', 'sd.mean', 'sd.sd', 'sd_ratio', 'skewness.mean', 'skewness.sd', 'sparsity.mean', 'sparsity.sd', 't_mean.mean', 't_mean.sd', 'var.mean', 'var.sd', 'w_lambda'], [0.20658987291369943, 0.3162183040586648, 2.4901983323967545, 0.7589895825263323, 0.029641185647425898, 0.5016367238332087, 0.2760036506565964, 0.35714285714285715, 0.05245022810141994, 0.041437420656907066, 2.2620249939187627, 0.09563443841926768, 0.13987230130010894, 32.31750006770592, 767.1458943313826, (42055.94434713657-2.914920996910411e-34j), 322835.22479794436, 10.887299343577014, 0.2, 0.06766427853041512, nan, nan, 433.43186630111285, nan, nan, 33.73684210526316, 18.24837837837838, 122.78341840692691, 4.5444560074851355, 0.6903076271127703, 42.42272882925196, 112.29600473100521, 5.004042456204493, 12.726918891891891, 84.9534000851508, 657.3687837837838, 4899.62364074617, 73.3250933929249, 347.11558607645907, 73.36378378378379, 352.93010611052364, 39.225675675675674, 249.21671050461825, 0.2077673188303809, 0.16182384876287192, 19, 1, 5, 5, 0.02332469455757127, 4, 641, 0, 14, 65, 10.985515077227937, 2.8, 1.2350916563197647, 618.1431081081081, 4897.093904761459, 4.5113871891335435, 33.394793765085616, 203.71932663115604, nan, 4.356611975185375, 4.9431358292995045, 0.10219018672229666, 0.12263476565357431, 73.04065777465779, 351.7515287006852, 42055.944347136516, 322767.67381186405, 0.11542418086420468]) \n",
      "\n",
      "======================= FIM DO DATASET  188  ======================= \n",
      "\n",
      "Dataset 443 :  https://www.openml.org/data/v1/download/52555/analcatdata_broadway.arff\n"
     ]
    },
    {
     "name": "stderr",
     "output_type": "stream",
     "text": [
      " * Warning: Creating an ndarray from ragged nested sequences (which is a list-or-tuple of lists-or-tuples-or ndarrays with different lengths or shapes) is deprecated. If you meant to do this, you must specify 'dtype=object' when creating the ndarray\n",
      " * Warning: Can't extract feature 'sd_ratio'.\n",
      " Exception message: AxisError('axis 1 is out of bounds for array of dimension 1').\n"
     ]
    },
    {
     "name": "stdout",
     "output_type": "stream",
     "text": [
      "(['attr_conc.mean', 'attr_conc.sd', 'attr_ent.mean', 'attr_ent.sd', 'attr_to_inst', 'can_cor.mean', 'can_cor.sd', 'cat_to_num', 'class_conc.mean', 'class_conc.sd', 'class_ent', 'cor.mean', 'cor.sd', 'cov.mean', 'cov.sd', 'eigenvalues.mean', 'eigenvalues.sd', 'eq_num_attr', 'freq_class.mean', 'freq_class.sd', 'g_mean.mean', 'g_mean.sd', 'gravity', 'h_mean.mean', 'h_mean.sd', 'inst_to_attr', 'iq_range.mean', 'iq_range.sd', 'joint_ent.mean', 'joint_ent.sd', 'kurtosis.mean', 'kurtosis.sd', 'lh_trace', 'mad.mean', 'mad.sd', 'max.mean', 'max.sd', 'mean.mean', 'mean.sd', 'median.mean', 'median.sd', 'min.mean', 'min.sd', 'mut_inf.mean', 'mut_inf.sd', 'nr_attr', 'nr_bin', 'nr_cat', 'nr_class', 'nr_cor_attr', 'nr_disc', 'nr_inst', 'nr_norm', 'nr_num', 'nr_outliers', 'ns_ratio', 'num_to_cat', 'p_trace', 'range.mean', 'range.sd', 'roy_root', 'sd.mean', 'sd.sd', 'sd_ratio', 'skewness.mean', 'skewness.sd', 'sparsity.mean', 'sparsity.sd', 't_mean.mean', 't_mean.sd', 'var.mean', 'var.sd', 'w_lambda'], [0.06933868454876559, 0.04927298690530515, 1.6846891367960828, 0.5633027207850487, 0.07865168539325842, 0.6147400854705891, 0.18787721346303085, 1.3333333333333333, 0.10265528386283528, 0.06708960833305921, 1.3828382977753102, 0.13721511829377692, 0.12229787431840301, 0.20768790318978708, 0.8518665146876275, 21.61491612533416, 85.23592842488641, 7.472462057143331, 0.2, 0.2819530779928152, 4.937554081494319, 18.272893754284638, 23.839274264658403, 4.7048789018212185, 17.47872328553486, 12.714285714285714, 2.3024999999999998, 7.129642617400491, 2.8824695129385383, 0.5399033908556361, 5.20687862422054, 10.152355337600254, 3.9068333395342227, 1.3188959411250003, 4.393535927918631, 7.78625, 25.0485999276074, 5.285166242977526, 18.89100850934817, 5.4925, 20.12940386598669, 1.959375, 7.312072637084508, 0.18505792163285464, 0.08293254988506518, 7, 1, 4, 5, 0.025, 4, 89, 0, 3, 10, 8.1035775282207, 0.75, 1.6175150327534489, 5.826874999999999, 17.736841777779944, 2.4709748210383893, 1.585692090247711, 4.513741592988829, nan, 1.9372179689189268, 1.8671844137456377, 0.18966659693120733, 0.17488699641343894, 5.379071954545452, 19.586448236762273, 21.614916125334158, 85.16430753633372, 0.09356718879804443]) \n",
      "\n",
      "======================= FIM DO DATASET  443  ======================= \n",
      "\n",
      "Dataset 452 :  https://www.openml.org/data/v1/download/52564/analcatdata_broadwaymult.arff\n"
     ]
    },
    {
     "name": "stderr",
     "output_type": "stream",
     "text": [
      " * Warning: It is not possible make equal discretization\n",
      " * Warning: Can't extract feature 'sd_ratio'.\n",
      " Exception message: ValueError('math domain error').\n"
     ]
    },
    {
     "name": "stdout",
     "output_type": "stream",
     "text": [
      "(['attr_conc.mean', 'attr_conc.sd', 'attr_ent.mean', 'attr_ent.sd', 'attr_to_inst', 'can_cor.mean', 'can_cor.sd', 'cat_to_num', 'class_conc.mean', 'class_conc.sd', 'class_ent', 'cor.mean', 'cor.sd', 'cov.mean', 'cov.sd', 'eigenvalues.mean', 'eigenvalues.sd', 'eq_num_attr', 'freq_class.mean', 'freq_class.sd', 'g_mean.mean', 'g_mean.sd', 'gravity', 'h_mean.mean', 'h_mean.sd', 'inst_to_attr', 'iq_range.mean', 'iq_range.sd', 'joint_ent.mean', 'joint_ent.sd', 'kurtosis.mean', 'kurtosis.sd', 'lh_trace', 'mad.mean', 'mad.sd', 'max.mean', 'max.sd', 'mean.mean', 'mean.sd', 'median.mean', 'median.sd', 'min.mean', 'min.sd', 'mut_inf.mean', 'mut_inf.sd', 'nr_attr', 'nr_bin', 'nr_cat', 'nr_class', 'nr_cor_attr', 'nr_disc', 'nr_inst', 'nr_norm', 'nr_num', 'nr_outliers', 'ns_ratio', 'num_to_cat', 'p_trace', 'range.mean', 'range.sd', 'roy_root', 'sd.mean', 'sd.sd', 'sd_ratio', 'skewness.mean', 'skewness.sd', 'sparsity.mean', 'sparsity.sd', 't_mean.mean', 't_mean.sd', 'var.mean', 'var.sd', 'w_lambda'], [0.15160698990091903, 0.3177944131289928, 2.517196163104629, 1.8518671347813644, 0.026217228464419477, 0.6517922213025762, 0.20054643291063456, 1.3333333333333333, 0.0849172606397861, 0.11127489386059107, 2.512707245901413, 0.020758337511883142, 0.03519378133604899, 0.008055557336243222, 0.13948736263958036, (3.5426321110143655+0j), 34.383280880117546, 7.359325542696084, 0.14285714285714285, 0.11363052632304402, 0.8144419103495785, 7.454171875531159, 9.823664016991652, 0.7760624992694799, 7.12853728115646, 38.142857142857146, 0.39010309278350513, 2.9466429640830105, 4.688471679790693, 1.46592222566945, 76.48111070012689, 23.091263948242393, 6.757665422015756, 0.21754984595876295, 1.8050517754684567, 2.119381443298969, 10.219871351770305, 0.8756411517819217, 7.722791838983642, 0.9059793814432989, 8.216444975854039, 0.3231958762886598, 2.9813488091213816, 0.3414317292153493, 0.4530006204825843, 7, 1, 4, 7, 0.000429553264604811, 6, 267, 0, 3, 90, 6.372472877343431, 0.75, 2.750092957269177, 1.796185567010309, 7.2386574266369434, 1.9850472619891866, 0.33527420886148995, 1.8617074981748603, nan, 8.509091951370296, 2.4142675847816353, 0.18883513103437918, 0.1950690642057554, 0.8894548645706603, 8.008071059196993, 3.542632111014371, 34.355739151479355, 0.016124602155597825]) \n",
      "\n",
      "======================= FIM DO DATASET  452  ======================= \n",
      "\n",
      "Dataset 455 :  https://www.openml.org/data/v1/download/52567/cars.arff\n"
     ]
    },
    {
     "name": "stderr",
     "output_type": "stream",
     "text": [
      " * Warning: Can't extract feature 'sd_ratio'.\n",
      " Exception message: ValueError('math domain error').\n"
     ]
    },
    {
     "name": "stdout",
     "output_type": "stream",
     "text": [
      "(['attr_conc.mean', 'attr_conc.sd', 'attr_ent.mean', 'attr_ent.sd', 'attr_to_inst', 'can_cor.mean', 'can_cor.sd', 'cat_to_num', 'class_conc.mean', 'class_conc.sd', 'class_ent', 'cor.mean', 'cor.sd', 'cov.mean', 'cov.sd', 'eigenvalues.mean', 'eigenvalues.sd', 'eq_num_attr', 'freq_class.mean', 'freq_class.sd', 'g_mean.mean', 'g_mean.sd', 'gravity', 'h_mean.mean', 'h_mean.sd', 'inst_to_attr', 'iq_range.mean', 'iq_range.sd', 'joint_ent.mean', 'joint_ent.sd', 'kurtosis.mean', 'kurtosis.sd', 'lh_trace', 'mad.mean', 'mad.sd', 'max.mean', 'max.sd', 'mean.mean', 'mean.sd', 'median.mean', 'median.sd', 'min.mean', 'min.sd', 'mut_inf.mean', 'mut_inf.sd', 'nr_attr', 'nr_bin', 'nr_cat', 'nr_class', 'nr_cor_attr', 'nr_disc', 'nr_inst', 'nr_norm', 'nr_num', 'nr_outliers', 'ns_ratio', 'num_to_cat', 'p_trace', 'range.mean', 'range.sd', 'roy_root', 'sd.mean', 'sd.sd', 'sd_ratio', 'skewness.mean', 'skewness.sd', 'sparsity.mean', 'sparsity.sd', 't_mean.mean', 't_mean.sd', 'var.mean', 'var.sd', 'w_lambda'], [0.19945707198042154, 0.17466757999029575, 2.6256515515255607, 0.4529998478506912, 0.017857142857142856, 0.5444250179245284, 0.27309005613755766, 0.16666666666666666, 0.0801714137072747, 0.06968762213969147, 1.3279178865472387, 0.3658767578832538, 0.31697394014863756, 2262.6419097979115, 11738.472039207807, 66727.21592756665, 220710.0398250609, 4.472407866046405, 0.3333333333333333, 0.25298012058914826, 294.7293179114559, 853.1438372886939, 949.9003115655316, 282.33953238377103, 821.0198198559749, 56.0, 148.5909090909091, 414.7032112355665, 3.656656024466559, 0.5172405436232488, 19.30801774323752, 44.83007159141664, 1.3335420136834975, 98.45811818181818, 283.09321634815785, 543.9454545454546, 1530.8297543251738, 308.40294526901675, 887.4145489285339, 287.5681818181818, 835.9449898984763, 164.9090909090909, 481.08303951510374, 0.2969134136062403, 0.17027668593246298, 7, 0, 1, 3, 0.36363636363636365, 2, 392, 0, 6, 5, 7.843155718817201, 6.0, 0.6673753790454604, 379.03636363636366, 1050.944564925027, 1.1927362655263989, 91.66577726671021, 253.2924422998488, nan, 2.4062583355417733, 4.032733251476792, 0.04346155792097449, 0.07277765116535723, 295.6121340523883, 854.2602235607364, 66727.21592756669, 217183.0011954054, 0.39976235952161154]) \n",
      "\n",
      "======================= FIM DO DATASET  455  ======================= \n",
      "\n",
      "Dataset 473 :  https://www.openml.org/data/v1/download/52585/cjs.arff\n"
     ]
    },
    {
     "name": "stderr",
     "output_type": "stream",
     "text": [
      " * Warning: Can't summarize feature 'freq_class' with summary 'sd'. Will set it as 'np.nan'.\n",
      " * Warning: Can't extract feature 'can_cor'.\n",
      " Exception message: ValueError('Found array with 1 sample(s) (shape=(1, 33)) while a minimum of 2 is required.').\n",
      " Will set it as 'np.nan' for all summary functions.\n",
      " * Warning: Can't summarize feature 'can_cor' with summary 'sd'. Will set it as 'np.nan'.\n",
      " * Warning: Mean of empty slice.\n",
      " * Warning: invalid value encountered in double_scalars\n",
      " * Warning: Can't summarize feature 'can_cor' with summary 'mean'. Will set it as 'np.nan'.\n",
      " * Warning: Can't extract feature 'cor'.\n",
      " Exception message: ValueError('not enough values to unpack (expected 2, got 0)').\n",
      " Will set it as 'np.nan' for all summary functions.\n",
      " * Warning: Can't summarize feature 'cor' with summary 'sd'. Will set it as 'np.nan'.\n",
      " * Warning: Can't summarize feature 'cor' with summary 'mean'. Will set it as 'np.nan'.\n",
      " * Warning: Can't extract feature 'cov'.\n",
      " Exception message: ValueError('not enough values to unpack (expected 2, got 0)').\n",
      " Will set it as 'np.nan' for all summary functions.\n",
      " * Warning: Can't summarize feature 'cov' with summary 'sd'. Will set it as 'np.nan'.\n",
      " * Warning: Can't summarize feature 'cov' with summary 'mean'. Will set it as 'np.nan'.\n",
      " * Warning: Can't extract feature 'eigenvalues'.\n",
      " Exception message: LinAlgError('0-dimensional array given. Array must be at least two-dimensional').\n",
      " Will set it as 'np.nan' for all summary functions.\n",
      " * Warning: Can't summarize feature 'eigenvalues' with summary 'sd'. Will set it as 'np.nan'.\n",
      " * Warning: Can't summarize feature 'eigenvalues' with summary 'mean'. Will set it as 'np.nan'.\n",
      " * Warning: Can't extract feature 'gravity'.\n",
      " Exception message: ValueError('attempt to get argmin of an empty sequence').\n",
      " * Warning: Can't extract feature 'lh_trace'.\n",
      " Exception message: ValueError('Found array with 1 sample(s) (shape=(1, 33)) while a minimum of 2 is required.').\n",
      " * Warning: Can't extract feature 'nr_cor_attr'.\n",
      " Exception message: ValueError('not enough values to unpack (expected 2, got 0)').\n",
      " * Warning: Can't extract feature 'nr_disc'.\n",
      " Exception message: ValueError('Found array with 1 sample(s) (shape=(1, 33)) while a minimum of 2 is required.').\n",
      " * Warning: Can't extract feature 'nr_norm'.\n",
      " Exception message: ValueError('Data must be at least length 3.').\n",
      " * Warning: Can't extract feature 'p_trace'.\n",
      " Exception message: ValueError('Found array with 1 sample(s) (shape=(1, 33)) while a minimum of 2 is required.').\n",
      " * Warning: Can't extract feature 'roy_root'.\n",
      " Exception message: ValueError('Found array with 1 sample(s) (shape=(1, 33)) while a minimum of 2 is required.').\n",
      " * Warning: Degrees of freedom <= 0 for slice\n",
      " * Warning: invalid value encountered in true_divide\n",
      " * Warning: Can't summarize feature 'sd' with summary 'sd'. Will set it as 'np.nan'.\n",
      " * Warning: Can't summarize feature 'sd' with summary 'mean'. Will set it as 'np.nan'.\n",
      " * Warning: Can't extract feature 'sd_ratio'.\n",
      " Exception message: AxisError('axis 1 is out of bounds for array of dimension 1').\n",
      " * Warning: Can't extract feature 'sparsity'.\n",
      " Exception message: ZeroDivisionError('float division by zero').\n",
      " Will set it as 'np.nan' for all summary functions.\n",
      " * Warning: Can't summarize feature 'sparsity' with summary 'sd'. Will set it as 'np.nan'.\n",
      " * Warning: Mean of empty slice.\n",
      " * Warning: invalid value encountered in double_scalars\n",
      " * Warning: Can't summarize feature 'sparsity' with summary 'mean'. Will set it as 'np.nan'.\n",
      " * Warning: Degrees of freedom <= 0 for slice\n",
      " * Warning: Can't summarize feature 'var' with summary 'sd'. Will set it as 'np.nan'.\n",
      " * Warning: Can't summarize feature 'var' with summary 'mean'. Will set it as 'np.nan'.\n",
      " * Warning: Can't extract feature 'w_lambda'.\n",
      " Exception message: ValueError('Found array with 1 sample(s) (shape=(1, 33)) while a minimum of 2 is required.').\n"
     ]
    },
    {
     "name": "stdout",
     "output_type": "stream",
     "text": [
      "(['attr_conc.mean', 'attr_conc.sd', 'attr_ent.mean', 'attr_ent.sd', 'attr_to_inst', 'can_cor.mean', 'can_cor.sd', 'cat_to_num', 'class_conc.mean', 'class_conc.sd', 'class_ent', 'cor.mean', 'cor.sd', 'cov.mean', 'cov.sd', 'eigenvalues.mean', 'eigenvalues.sd', 'eq_num_attr', 'freq_class.mean', 'freq_class.sd', 'g_mean.mean', 'g_mean.sd', 'gravity', 'h_mean.mean', 'h_mean.sd', 'inst_to_attr', 'iq_range.mean', 'iq_range.sd', 'joint_ent.mean', 'joint_ent.sd', 'kurtosis.mean', 'kurtosis.sd', 'lh_trace', 'mad.mean', 'mad.sd', 'max.mean', 'max.sd', 'mean.mean', 'mean.sd', 'median.mean', 'median.sd', 'min.mean', 'min.sd', 'mut_inf.mean', 'mut_inf.sd', 'nr_attr', 'nr_bin', 'nr_cat', 'nr_class', 'nr_cor_attr', 'nr_disc', 'nr_inst', 'nr_norm', 'nr_num', 'nr_outliers', 'ns_ratio', 'num_to_cat', 'p_trace', 'range.mean', 'range.sd', 'roy_root', 'sd.mean', 'sd.sd', 'sd_ratio', 'skewness.mean', 'skewness.sd', 'sparsity.mean', 'sparsity.sd', 't_mean.mean', 't_mean.sd', 'var.mean', 'var.sd', 'w_lambda'], [0.5, 0.0, 0.0, 0.0, 34.0, nan, nan, 0.0625, 0.5, 0.0, 0.0, nan, nan, nan, nan, nan, nan, 0.0, 1.0, nan, 56.93636363636365, 260.2428527094715, nan, 56.93636363636362, 260.2428527094713, 0.029411764705882353, 0.0, 0.0, -1.4426950393345013e-08, 0.0, -3.0, 0.0, nan, 0.0, 0.0, 56.93636363636363, 260.2428527094714, 56.93636363636363, 260.2428527094714, 56.93636363636363, 260.2428527094714, 56.93636363636363, 260.2428527094714, 1.4426950393345013e-08, 0.0, 34, 0, 2, 1, nan, nan, 1, nan, 32, 0, -1.0, 16.0, nan, 0.0, 0.0, nan, nan, nan, nan, 0.0, 0.0, nan, nan, 56.93636363636363, 260.2428527094714, nan, nan, nan]) \n",
      "\n",
      "======================= FIM DO DATASET  473  ======================= \n",
      "\n",
      "Dataset 575 :  https://www.openml.org/data/v1/download/52753/kdd_coil_4.arff\n"
     ]
    },
    {
     "name": "stderr",
     "output_type": "stream",
     "text": [
      " * Warning: Creating an ndarray from ragged nested sequences (which is a list-or-tuple of lists-or-tuples-or ndarrays with different lengths or shapes) is deprecated. If you meant to do this, you must specify 'dtype=object' when creating the ndarray\n",
      " * Warning: Can't extract feature 'sd_ratio'.\n",
      " Exception message: AxisError('axis 1 is out of bounds for array of dimension 1').\n"
     ]
    },
    {
     "name": "stdout",
     "output_type": "stream",
     "text": [
      "(['attr_conc.mean', 'attr_conc.sd', 'attr_ent.mean', 'attr_ent.sd', 'attr_to_inst', 'can_cor.mean', 'can_cor.sd', 'cat_to_num', 'class_conc.mean', 'class_conc.sd', 'class_ent', 'cor.mean', 'cor.sd', 'cov.mean', 'cov.sd', 'eigenvalues.mean', 'eigenvalues.sd', 'eq_num_attr', 'freq_class.mean', 'freq_class.sd', 'g_mean.mean', 'g_mean.sd', 'gravity', 'h_mean.mean', 'h_mean.sd', 'inst_to_attr', 'iq_range.mean', 'iq_range.sd', 'joint_ent.mean', 'joint_ent.sd', 'kurtosis.mean', 'kurtosis.sd', 'lh_trace', 'mad.mean', 'mad.sd', 'max.mean', 'max.sd', 'mean.mean', 'mean.sd', 'median.mean', 'median.sd', 'min.mean', 'min.sd', 'mut_inf.mean', 'mut_inf.sd', 'nr_attr', 'nr_bin', 'nr_cat', 'nr_class', 'nr_cor_attr', 'nr_disc', 'nr_inst', 'nr_norm', 'nr_num', 'nr_outliers', 'ns_ratio', 'num_to_cat', 'p_trace', 'range.mean', 'range.sd', 'roy_root', 'sd.mean', 'sd.sd', 'sd_ratio', 'skewness.mean', 'skewness.sd', 'sparsity.mean', 'sparsity.sd', 't_mean.mean', 't_mean.sd', 'var.mean', 'var.sd', 'w_lambda'], [0.06487269000840146, 0.051316504550514175, 2.3360655029577706, 0.44230844625274135, 0.03900709219858156, 0.4116899337323972, 0.15443250673979447, 0.375, 0.17407097428071364, 0.009214392264828748, 3.1154609031938763, 0.1676683740712454, 0.14993964313231192, 231.88328888047246, 1086.4909206653203, 3351.1631369799816, 10224.831284906966, 6.262265838515702, 0.020408163265306117, 0.08223373739874214, 16.21411154510102, 30.30764106682424, 49.172872534873726, 8.334082666724616, 15.045238417201334, 25.636363636363637, 28.062187968750003, 53.66195537185756, 4.954029017262084, 0.31704418779308646, 1.7469154756291694, 4.406943673286024, 4.140412378945024, 17.819276737499997, 34.668799743594626, 154.019938125, 276.9698355322229, 27.405814873670213, 51.26223058256501, 19.093500000000002, 35.38408030927656, 1.1105, 2.0155690676994094, 0.4974973888895637, 0.12849511742789252, 11, 0, 3, 49, 0.025, 15, 282, 0, 8, 10, 3.6956336960319986, 2.6666666666666665, 2.8762206109798987, 152.909438125, 275.8506439973643, 0.9762827475874625, 27.024256093307926, 52.873209040327524, nan, 1.1505665930845623, 1.003921945103932, 0.08431128777188214, 0.142184479124638, 20.730711643382357, 38.312528078961506, 3351.1631369799775, 9217.204116323299, 0.033071340761297204]) \n",
      "\n",
      "======================= FIM DO DATASET  575  ======================= \n",
      "\n",
      "Dataset 802 :  https://www.openml.org/data/v1/download/53336/pbcseq.arff\n"
     ]
    },
    {
     "name": "stderr",
     "output_type": "stream",
     "text": [
      " * Warning: It is not possible make equal discretization\n",
      " * Warning: Can't summarize feature 'can_cor' with summary 'sd'. Will set it as 'np.nan'.\n",
      " * Warning: Can't extract feature 'sd_ratio'.\n",
      " Exception message: ValueError('math domain error').\n"
     ]
    },
    {
     "name": "stdout",
     "output_type": "stream",
     "text": [
      "(['attr_conc.mean', 'attr_conc.sd', 'attr_ent.mean', 'attr_ent.sd', 'attr_to_inst', 'can_cor.mean', 'can_cor.sd', 'cat_to_num', 'class_conc.mean', 'class_conc.sd', 'class_ent', 'cor.mean', 'cor.sd', 'cov.mean', 'cov.sd', 'eigenvalues.mean', 'eigenvalues.sd', 'eq_num_attr', 'freq_class.mean', 'freq_class.sd', 'g_mean.mean', 'g_mean.sd', 'gravity', 'h_mean.mean', 'h_mean.sd', 'inst_to_attr', 'iq_range.mean', 'iq_range.sd', 'joint_ent.mean', 'joint_ent.sd', 'kurtosis.mean', 'kurtosis.sd', 'lh_trace', 'mad.mean', 'mad.sd', 'max.mean', 'max.sd', 'mean.mean', 'mean.sd', 'median.mean', 'median.sd', 'min.mean', 'min.sd', 'mut_inf.mean', 'mut_inf.sd', 'nr_attr', 'nr_bin', 'nr_cat', 'nr_class', 'nr_cor_attr', 'nr_disc', 'nr_inst', 'nr_norm', 'nr_num', 'nr_outliers', 'ns_ratio', 'num_to_cat', 'p_trace', 'range.mean', 'range.sd', 'roy_root', 'sd.mean', 'sd.sd', 'sd_ratio', 'skewness.mean', 'skewness.sd', 'sparsity.mean', 'sparsity.sd', 't_mean.mean', 't_mean.sd', 'var.mean', 'var.sd', 'w_lambda'], [0.08250512983583987, 0.16979957378583724, 2.615459433983517, 1.766691714661395, 0.016172506738544475, 0.8676669519993981, nan, 0.5, 0.015348141963532812, 0.018535126141148515, 0.9987132947370155, 0.002322685212779184, 0.008291536655911098, 6.752918690442452, 1423.221762082348, (24195.59228653267+0j), 526852.7058282099, 14.953816945215022, 0.5, 0.029859855090537017, 31.373966704032167, 672.0976450254171, 482.6204199552315, 29.29448960053972, 653.3449509729676, 61.833333333333336, 11.87378223495702, 213.05415734065397, 3.5473862153911324, 1.6595448074797072, 977.4625892883976, 278.50177019888844, 3.0460593621197565, 8.652925143266476, 156.76027843219333, 75.16795128939829, 1222.3956805783705, 33.006050324763095, 689.3824894268654, 32.28123209169054, 685.2140028730757, 14.097951289398281, 363.30042457499354, 0.06678651332940032, 0.145969211311109, 18, 5, 6, 2, 1.64437848659626e-05, 1, 1113, 0, 12, 689, 38.1614908998724, 2.0, 0.7528459395919259, 61.07, 913.9806281137958, 3.0460593621197565, 9.535757784231818, 155.3680953595416, nan, 30.61690490675271, 6.409442954020393, 0.17789650089619238, 0.23006963247285947, 32.44928272536095, 687.0345822559606, 24195.592286532676, 525509.1879426278, 0.2471540604080741]) \n",
      "\n",
      "======================= FIM DO DATASET  802  ======================= \n",
      "\n",
      "Dataset 839 :  https://www.openml.org/data/v1/download/53373/kdd_el_nino-small.arff\n"
     ]
    },
    {
     "name": "stderr",
     "output_type": "stream",
     "text": [
      " * Warning: Can't summarize feature 'can_cor' with summary 'sd'. Will set it as 'np.nan'.\n",
      " * Warning: Can't summarize feature 'g_mean' with summary 'sd'. Will set it as 'np.nan'.\n",
      " * Warning: Can't summarize feature 'g_mean' with summary 'mean'. Will set it as 'np.nan'.\n",
      " * Warning: Can't extract feature 'h_mean'.\n",
      " Exception message: ValueError('Harmonic mean only defined if all elements greater than or equal to zero').\n",
      " Will set it as 'np.nan' for all summary functions.\n",
      " * Warning: Can't summarize feature 'h_mean' with summary 'sd'. Will set it as 'np.nan'.\n",
      " * Warning: Mean of empty slice.\n",
      " * Warning: invalid value encountered in double_scalars\n",
      " * Warning: Can't summarize feature 'h_mean' with summary 'mean'. Will set it as 'np.nan'.\n",
      " * Warning: Can't extract feature 'sd_ratio'.\n",
      " Exception message: ValueError('math domain error').\n"
     ]
    },
    {
     "name": "stdout",
     "output_type": "stream",
     "text": [
      "(['attr_conc.mean', 'attr_conc.sd', 'attr_ent.mean', 'attr_ent.sd', 'attr_to_inst', 'can_cor.mean', 'can_cor.sd', 'cat_to_num', 'class_conc.mean', 'class_conc.sd', 'class_ent', 'cor.mean', 'cor.sd', 'cov.mean', 'cov.sd', 'eigenvalues.mean', 'eigenvalues.sd', 'eq_num_attr', 'freq_class.mean', 'freq_class.sd', 'g_mean.mean', 'g_mean.sd', 'gravity', 'h_mean.mean', 'h_mean.sd', 'inst_to_attr', 'iq_range.mean', 'iq_range.sd', 'joint_ent.mean', 'joint_ent.sd', 'kurtosis.mean', 'kurtosis.sd', 'lh_trace', 'mad.mean', 'mad.sd', 'max.mean', 'max.sd', 'mean.mean', 'mean.sd', 'median.mean', 'median.sd', 'min.mean', 'min.sd', 'mut_inf.mean', 'mut_inf.sd', 'nr_attr', 'nr_bin', 'nr_cat', 'nr_class', 'nr_cor_attr', 'nr_disc', 'nr_inst', 'nr_norm', 'nr_num', 'nr_outliers', 'ns_ratio', 'num_to_cat', 'p_trace', 'range.mean', 'range.sd', 'roy_root', 'sd.mean', 'sd.sd', 'sd_ratio', 'skewness.mean', 'skewness.sd', 'sparsity.mean', 'sparsity.sd', 't_mean.mean', 't_mean.sd', 'var.mean', 'var.sd', 'w_lambda'], [0.08753841197353816, 0.17998150314444486, 3.404897983069719, 0.8824927850140315, 0.014084507042253521, 0.9103425184859262, nan, 0.3333333333333333, 0.024486586513673397, 0.031423887181721885, 0.9477073729342067, 0.03251575907778005, 0.04639968848876627, 0.2526156116063368, 4.4276135676063255, (275.020412222671+0j), 2210.3099146411805, 4.137304307255145, 0.5, 0.18922575834569583, nan, nan, 111.35775862639971, nan, nan, 71.0, 4.961961538461538, 37.42964919897934, 4.123541380392484, 0.7295537812604472, 34.985089034516285, 30.114712674010484, 4.838512613372134, 0.8914987846153845, 5.56638103227484, 6.020153846153846, 25.30869604085643, 0.8531267605633825, 13.003751756438355, -0.27569230769230774, 19.144472192485384, -1.6743076923076925, 24.36096352063781, 0.22906397561144204, 0.2928339804933513, 8, 0, 2, 2, 0.0, 1, 568, 0, 6, 63, 13.864397485379365, 3.0, 0.8287235009632988, 7.694461538461538, 44.56828605601918, 4.838512613372134, 2.4431134554644576, 16.530442832995654, nan, 5.515858057535596, 2.540788508798267, 0.016184134045429132, 0.02233442105702798, 0.3091309041835431, 15.589587530693018, 275.0204122226713, 2210.0208458073066, 0.17127649903670117]) \n",
      "\n",
      "======================= FIM DO DATASET  839  ======================= \n",
      "\n",
      "Dataset 897 :  https://www.openml.org/data/v1/download/53431/colleges_aaup.arff\n"
     ]
    },
    {
     "name": "stderr",
     "output_type": "stream",
     "text": [
      " * Warning: Can't summarize feature 'can_cor' with summary 'sd'. Will set it as 'np.nan'.\n",
      " * Warning: Can't extract feature 'sd_ratio'.\n",
      " Exception message: ValueError('math domain error').\n"
     ]
    },
    {
     "name": "stdout",
     "output_type": "stream",
     "text": [
      "(['attr_conc.mean', 'attr_conc.sd', 'attr_ent.mean', 'attr_ent.sd', 'attr_to_inst', 'can_cor.mean', 'can_cor.sd', 'cat_to_num', 'class_conc.mean', 'class_conc.sd', 'class_ent', 'cor.mean', 'cor.sd', 'cov.mean', 'cov.sd', 'eigenvalues.mean', 'eigenvalues.sd', 'eq_num_attr', 'freq_class.mean', 'freq_class.sd', 'g_mean.mean', 'g_mean.sd', 'gravity', 'h_mean.mean', 'h_mean.sd', 'inst_to_attr', 'iq_range.mean', 'iq_range.sd', 'joint_ent.mean', 'joint_ent.sd', 'kurtosis.mean', 'kurtosis.sd', 'lh_trace', 'mad.mean', 'mad.sd', 'max.mean', 'max.sd', 'mean.mean', 'mean.sd', 'median.mean', 'median.sd', 'min.mean', 'min.sd', 'mut_inf.mean', 'mut_inf.sd', 'nr_attr', 'nr_bin', 'nr_cat', 'nr_class', 'nr_cor_attr', 'nr_disc', 'nr_inst', 'nr_norm', 'nr_num', 'nr_outliers', 'ns_ratio', 'num_to_cat', 'p_trace', 'range.mean', 'range.sd', 'roy_root', 'sd.mean', 'sd.sd', 'sd_ratio', 'skewness.mean', 'skewness.sd', 'sparsity.mean', 'sparsity.sd', 't_mean.mean', 't_mean.sd', 'var.mean', 'var.sd', 'w_lambda'], [0.10784929289251531, 0.12508718697638394, 3.322882058892596, 0.7115250734709547, 0.013966480446927373, 0.8296439882119659, nan, 0.15384615384615385, 0.05381738082671254, 0.06771222332329609, 0.9087020933110435, 0.04892982042453505, 0.12740796071782626, 192.36315794607384, 1267.0358229923306, 65001.27182224609, 521767.4453864861, 2.986121056503029, 0.5, 0.2488699844399581, 96.74233145063329, 347.02958511566436, 420.77828612597665, 91.06322152508677, 318.00160433732646, 71.6, 41.466911764705884, 187.42421804086823, 3.9272756274932576, 0.8217397281772322, 122.44854280475404, 230.70861649270478, 2.2083071766160733, 29.412167647058823, 138.00359738848516, 568.8529411764706, 3526.598531436704, 105.0974915105707, 388.5812159818193, 97.33088235294117, 353.1824357363242, 45.661764705882355, 145.4183476376869, 0.3043085247103818, 0.23113315465667003, 15, 0, 2, 2, 0.023266022827041263, 1, 1074, 0, 13, 66, 9.919451113159147, 6.5, 0.6883091471762567, 523.1911764705883, 3403.3746433365313, 2.2083071766160733, 46.83100655289989, 252.47883753578404, nan, 8.40467886100323, 7.325333350015434, 0.02025430352404774, 0.06353840554542015, 98.2027636131852, 354.38219290537745, 65001.27182224596, 521660.4574992779, 0.3116908528237433]) \n",
      "\n",
      "======================= FIM DO DATASET  897  ======================= \n",
      "\n",
      "Dataset 930 :  https://www.openml.org/data/v1/download/53464/colleges_usnews.arff\n"
     ]
    },
    {
     "name": "stderr",
     "output_type": "stream",
     "text": [
      " * Warning: It is not possible make equal discretization\n",
      " * Warning: Can't summarize feature 'can_cor' with summary 'sd'. Will set it as 'np.nan'.\n",
      " * Warning: Can't extract feature 'sd_ratio'.\n",
      " Exception message: ValueError('math domain error').\n"
     ]
    },
    {
     "name": "stdout",
     "output_type": "stream",
     "text": [
      "(['attr_conc.mean', 'attr_conc.sd', 'attr_ent.mean', 'attr_ent.sd', 'attr_to_inst', 'can_cor.mean', 'can_cor.sd', 'cat_to_num', 'class_conc.mean', 'class_conc.sd', 'class_ent', 'cor.mean', 'cor.sd', 'cov.mean', 'cov.sd', 'eigenvalues.mean', 'eigenvalues.sd', 'eq_num_attr', 'freq_class.mean', 'freq_class.sd', 'g_mean.mean', 'g_mean.sd', 'gravity', 'h_mean.mean', 'h_mean.sd', 'inst_to_attr', 'iq_range.mean', 'iq_range.sd', 'joint_ent.mean', 'joint_ent.sd', 'kurtosis.mean', 'kurtosis.sd', 'lh_trace', 'mad.mean', 'mad.sd', 'max.mean', 'max.sd', 'mean.mean', 'mean.sd', 'median.mean', 'median.sd', 'min.mean', 'min.sd', 'mut_inf.mean', 'mut_inf.sd', 'nr_attr', 'nr_bin', 'nr_cat', 'nr_class', 'nr_cor_attr', 'nr_disc', 'nr_inst', 'nr_norm', 'nr_num', 'nr_outliers', 'ns_ratio', 'num_to_cat', 'p_trace', 'range.mean', 'range.sd', 'roy_root', 'sd.mean', 'sd.sd', 'sd_ratio', 'skewness.mean', 'skewness.sd', 'sparsity.mean', 'sparsity.sd', 't_mean.mean', 't_mean.sd', 'var.mean', 'var.sd', 'w_lambda'], [0.11752662987893439, 0.13733601694616063, 2.334335912076468, 0.4936985875842423, 0.2088607594936709, 0.7907450614048165, nan, 0.03125, 0.032830223145153326, 0.017789692290659517, 0.9323608839762941, 0.12144260188448112, 0.18470192654348916, 90479.3015570449, 941509.8063989115, 2148572.8259315826, 10312406.577390457, 9.086349186850317, 0.5, 0.21481724998072332, 753.7205414651355, 1996.634221966084, 6849.967267926493, 647.0483473032417, 1747.6604443068816, 4.787878787878788, 459.80882352941177, 1236.1974353233743, 3.164085630137457, 0.4738269930286261, 39.90464832723968, 53.90099023375491, 1.6686432569736855, 283.0021764705882, 816.1113001745432, 3474.9411764705883, 8597.52860859402, 900.3853313477289, 2285.6347055233114, 765.8382352941177, 2118.434129258868, 258.3529411764706, 729.2898153459566, 0.10261116591530495, 0.05582866566392706, 33, 1, 1, 2, 0.06409130816505706, 1, 158, 0, 32, 65, 21.74933620774979, 32.0, 0.625277752136107, 3216.5882352941176, 8170.425435561388, 1.6686432569736855, 547.4372748163901, 1369.8469105716288, nan, 4.624643354906687, 4.384078596357735, 0.02743826495548248, 0.08600020363673185, 788.6858149509804, 2123.245349988144, 2148572.8259315817, 6748150.813705135, 0.374722247863893]) \n",
      "\n",
      "======================= FIM DO DATASET  930  ======================= \n",
      "\n",
      "Dataset 966 :  https://www.openml.org/data/v1/download/53500/analcatdata_halloffame.arff\n"
     ]
    },
    {
     "name": "stderr",
     "output_type": "stream",
     "text": [
      " * Warning: It is not possible make equal discretization\n",
      " * Warning: Can't summarize feature 'can_cor' with summary 'sd'. Will set it as 'np.nan'.\n",
      " * Warning: Can't extract feature 'sd_ratio'.\n",
      " Exception message: ValueError('math domain error').\n"
     ]
    },
    {
     "name": "stdout",
     "output_type": "stream",
     "text": [
      "(['attr_conc.mean', 'attr_conc.sd', 'attr_ent.mean', 'attr_ent.sd', 'attr_to_inst', 'can_cor.mean', 'can_cor.sd', 'cat_to_num', 'class_conc.mean', 'class_conc.sd', 'class_ent', 'cor.mean', 'cor.sd', 'cov.mean', 'cov.sd', 'eigenvalues.mean', 'eigenvalues.sd', 'eq_num_attr', 'freq_class.mean', 'freq_class.sd', 'g_mean.mean', 'g_mean.sd', 'gravity', 'h_mean.mean', 'h_mean.sd', 'inst_to_attr', 'iq_range.mean', 'iq_range.sd', 'joint_ent.mean', 'joint_ent.sd', 'kurtosis.mean', 'kurtosis.sd', 'lh_trace', 'mad.mean', 'mad.sd', 'max.mean', 'max.sd', 'mean.mean', 'mean.sd', 'median.mean', 'median.sd', 'min.mean', 'min.sd', 'mut_inf.mean', 'mut_inf.sd', 'nr_attr', 'nr_bin', 'nr_cat', 'nr_class', 'nr_cor_attr', 'nr_disc', 'nr_inst', 'nr_norm', 'nr_num', 'nr_outliers', 'ns_ratio', 'num_to_cat', 'p_trace', 'range.mean', 'range.sd', 'roy_root', 'sd.mean', 'sd.sd', 'sd_ratio', 'skewness.mean', 'skewness.sd', 'sparsity.mean', 'sparsity.sd', 't_mean.mean', 't_mean.sd', 'var.mean', 'var.sd', 'w_lambda'], [0.09178953615159663, 0.0954547703606627, 3.250541873705283, 0.22692320853110826, 0.012121212121212121, 0.7077692027242235, nan, 0.06666666666666667, 0.024359367578140174, 0.013924346934433975, 0.4494840742239173, 0.3208331851742906, 0.2919606817503492, 32942.41410170512, 139940.89003562028, 255506.47020740146, 1155662.521024821, 3.6735583502796123, 0.5, 0.5742564162363476, 356.5170123926679, 888.9991144471878, 4014.641769577938, 298.5471408064693, 755.6285826306326, 82.5, 288.9401363636363, 629.9337089966043, 3.5776693575705076, 0.20575402858612607, 9.42275786405733, 33.648989394742124, 1.0037560179124771, 210.40034858181818, 463.3678012595118, 1498.1154090909092, 3097.604440810605, 435.24365909090915, 998.756971230271, 402.40713636363637, 946.8628075469762, 23.426181818181817, 59.6024466089681, 0.12235659035869265, 0.06661119133390027, 16, 0, 1, 2, 0.2857142857142857, 1, 1320, 0, 15, 21, 25.56613643920777, 15.0, 0.500937244324883, 1474.6892272727273, 3042.258821072904, 1.0037560179124771, 222.7034404520343, 464.45114828462414, nan, 1.6931815142276188, 2.6707297595739425, 0.014600288760073788, 0.036830691895166474, 408.9367682506887, 959.7297312186118, 255506.4702074012, 939526.7614694844, 0.4990627556751171]) \n",
      "\n",
      "======================= FIM DO DATASET  966  ======================= \n",
      "\n",
      "Dataset 990 :  https://www.openml.org/data/v1/download/53524/eucalyptus.arff\n"
     ]
    },
    {
     "name": "stderr",
     "output_type": "stream",
     "text": [
      " * Warning: It is not possible make equal discretization\n",
      " * Warning: Can't summarize feature 'can_cor' with summary 'sd'. Will set it as 'np.nan'.\n",
      " * Warning: Can't summarize feature 'g_mean' with summary 'sd'. Will set it as 'np.nan'.\n",
      " * Warning: Can't summarize feature 'g_mean' with summary 'mean'. Will set it as 'np.nan'.\n",
      " * Warning: Can't extract feature 'h_mean'.\n",
      " Exception message: ValueError('Harmonic mean only defined if all elements greater than or equal to zero').\n",
      " Will set it as 'np.nan' for all summary functions.\n",
      " * Warning: Can't summarize feature 'h_mean' with summary 'sd'. Will set it as 'np.nan'.\n",
      " * Warning: Mean of empty slice.\n",
      " * Warning: invalid value encountered in double_scalars\n",
      " * Warning: Can't summarize feature 'h_mean' with summary 'mean'. Will set it as 'np.nan'.\n",
      " * Warning: Can't extract feature 'sd_ratio'.\n",
      " Exception message: ValueError('math domain error').\n"
     ]
    },
    {
     "name": "stdout",
     "output_type": "stream",
     "text": [
      "(['attr_conc.mean', 'attr_conc.sd', 'attr_ent.mean', 'attr_ent.sd', 'attr_to_inst', 'can_cor.mean', 'can_cor.sd', 'cat_to_num', 'class_conc.mean', 'class_conc.sd', 'class_ent', 'cor.mean', 'cor.sd', 'cov.mean', 'cov.sd', 'eigenvalues.mean', 'eigenvalues.sd', 'eq_num_attr', 'freq_class.mean', 'freq_class.sd', 'g_mean.mean', 'g_mean.sd', 'gravity', 'h_mean.mean', 'h_mean.sd', 'inst_to_attr', 'iq_range.mean', 'iq_range.sd', 'joint_ent.mean', 'joint_ent.sd', 'kurtosis.mean', 'kurtosis.sd', 'lh_trace', 'mad.mean', 'mad.sd', 'max.mean', 'max.sd', 'mean.mean', 'mean.sd', 'median.mean', 'median.sd', 'min.mean', 'min.sd', 'mut_inf.mean', 'mut_inf.sd', 'nr_attr', 'nr_bin', 'nr_cat', 'nr_class', 'nr_cor_attr', 'nr_disc', 'nr_inst', 'nr_norm', 'nr_num', 'nr_outliers', 'ns_ratio', 'num_to_cat', 'p_trace', 'range.mean', 'range.sd', 'roy_root', 'sd.mean', 'sd.sd', 'sd_ratio', 'skewness.mean', 'skewness.sd', 'sparsity.mean', 'sparsity.sd', 't_mean.mean', 't_mean.sd', 'var.mean', 'var.sd', 'w_lambda'], [0.1364279656433587, 0.23152737799314863, 2.4901983323967545, 0.7589895825263323, 0.029641185647425898, 0.5614047196090808, nan, 0.35714285714285715, 0.016592057309910587, 0.010487592488248198, 0.9007485289995449, 0.09563443841926768, 0.13987230130010894, 32.31750006770592, 767.1458943313826, (42055.94434713657-2.914920996910411e-34j), 322835.22479794436, 12.949205931688326, 0.5, 0.2592357154116048, nan, nan, 192.560175593615, nan, nan, 33.73684210526316, 18.24837837837838, 122.78341840692691, 3.3213867251415117, 0.7285617232630132, 42.42272882925196, 112.29600473100521, 0.460227617990071, 12.726918891891891, 84.9534000851508, 657.3687837837838, 4899.62364074617, 73.3250933929249, 347.11558607645907, 73.36378378378379, 352.93010611052364, 39.225675675675674, 249.21671050461825, 0.0695601362547877, 0.050915575951023695, 19, 1, 5, 2, 0.02332469455757127, 1, 641, 0, 14, 65, 34.79921585080792, 2.8, 0.31517525919935063, 618.1431081081081, 4897.093904761459, 0.460227617990071, 33.394793765085616, 203.71932663115604, nan, 4.356611975185375, 4.9431358292995045, 0.10219018672229666, 0.12263476565357431, 73.04065777465779, 351.7515287006852, 42055.944347136516, 322767.67381186405, 0.6848247408006494]) \n",
      "\n",
      "======================= FIM DO DATASET  990  ======================= \n",
      "\n",
      "Dataset 1024 :  https://www.openml.org/data/v1/download/53558/cjs.arff\n"
     ]
    },
    {
     "name": "stderr",
     "output_type": "stream",
     "text": [
      " * Warning: Can't summarize feature 'freq_class' with summary 'sd'. Will set it as 'np.nan'.\n",
      " * Warning: Can't extract feature 'can_cor'.\n",
      " Exception message: ValueError('Found array with 1 sample(s) (shape=(1, 33)) while a minimum of 2 is required.').\n",
      " Will set it as 'np.nan' for all summary functions.\n",
      " * Warning: Can't summarize feature 'can_cor' with summary 'sd'. Will set it as 'np.nan'.\n",
      " * Warning: Mean of empty slice.\n",
      " * Warning: invalid value encountered in double_scalars\n",
      " * Warning: Can't summarize feature 'can_cor' with summary 'mean'. Will set it as 'np.nan'.\n",
      " * Warning: Can't extract feature 'cor'.\n",
      " Exception message: ValueError('not enough values to unpack (expected 2, got 0)').\n",
      " Will set it as 'np.nan' for all summary functions.\n",
      " * Warning: Can't summarize feature 'cor' with summary 'sd'. Will set it as 'np.nan'.\n",
      " * Warning: Can't summarize feature 'cor' with summary 'mean'. Will set it as 'np.nan'.\n",
      " * Warning: Can't extract feature 'cov'.\n",
      " Exception message: ValueError('not enough values to unpack (expected 2, got 0)').\n",
      " Will set it as 'np.nan' for all summary functions.\n",
      " * Warning: Can't summarize feature 'cov' with summary 'sd'. Will set it as 'np.nan'.\n",
      " * Warning: Can't summarize feature 'cov' with summary 'mean'. Will set it as 'np.nan'.\n",
      " * Warning: Can't extract feature 'eigenvalues'.\n",
      " Exception message: LinAlgError('0-dimensional array given. Array must be at least two-dimensional').\n",
      " Will set it as 'np.nan' for all summary functions.\n",
      " * Warning: Can't summarize feature 'eigenvalues' with summary 'sd'. Will set it as 'np.nan'.\n",
      " * Warning: Can't summarize feature 'eigenvalues' with summary 'mean'. Will set it as 'np.nan'.\n",
      " * Warning: Can't extract feature 'gravity'.\n",
      " Exception message: ValueError('attempt to get argmin of an empty sequence').\n",
      " * Warning: Can't extract feature 'lh_trace'.\n",
      " Exception message: ValueError('Found array with 1 sample(s) (shape=(1, 33)) while a minimum of 2 is required.').\n",
      " * Warning: Can't extract feature 'nr_cor_attr'.\n",
      " Exception message: ValueError('not enough values to unpack (expected 2, got 0)').\n",
      " * Warning: Can't extract feature 'nr_disc'.\n",
      " Exception message: ValueError('Found array with 1 sample(s) (shape=(1, 33)) while a minimum of 2 is required.').\n",
      " * Warning: Can't extract feature 'nr_norm'.\n",
      " Exception message: ValueError('Data must be at least length 3.').\n",
      " * Warning: Can't extract feature 'p_trace'.\n",
      " Exception message: ValueError('Found array with 1 sample(s) (shape=(1, 33)) while a minimum of 2 is required.').\n",
      " * Warning: Can't extract feature 'roy_root'.\n",
      " Exception message: ValueError('Found array with 1 sample(s) (shape=(1, 33)) while a minimum of 2 is required.').\n",
      " * Warning: Degrees of freedom <= 0 for slice\n",
      " * Warning: invalid value encountered in true_divide\n",
      " * Warning: Can't summarize feature 'sd' with summary 'sd'. Will set it as 'np.nan'.\n",
      " * Warning: Can't summarize feature 'sd' with summary 'mean'. Will set it as 'np.nan'.\n",
      " * Warning: Can't extract feature 'sd_ratio'.\n",
      " Exception message: AxisError('axis 1 is out of bounds for array of dimension 1').\n",
      " * Warning: Can't extract feature 'sparsity'.\n",
      " Exception message: ZeroDivisionError('float division by zero').\n",
      " Will set it as 'np.nan' for all summary functions.\n",
      " * Warning: Can't summarize feature 'sparsity' with summary 'sd'. Will set it as 'np.nan'.\n",
      " * Warning: Mean of empty slice.\n",
      " * Warning: invalid value encountered in double_scalars\n",
      " * Warning: Can't summarize feature 'sparsity' with summary 'mean'. Will set it as 'np.nan'.\n",
      " * Warning: Degrees of freedom <= 0 for slice\n",
      " * Warning: Can't summarize feature 'var' with summary 'sd'. Will set it as 'np.nan'.\n",
      " * Warning: Can't summarize feature 'var' with summary 'mean'. Will set it as 'np.nan'.\n",
      " * Warning: Can't extract feature 'w_lambda'.\n",
      " Exception message: ValueError('Found array with 1 sample(s) (shape=(1, 33)) while a minimum of 2 is required.').\n"
     ]
    },
    {
     "name": "stdout",
     "output_type": "stream",
     "text": [
      "(['attr_conc.mean', 'attr_conc.sd', 'attr_ent.mean', 'attr_ent.sd', 'attr_to_inst', 'can_cor.mean', 'can_cor.sd', 'cat_to_num', 'class_conc.mean', 'class_conc.sd', 'class_ent', 'cor.mean', 'cor.sd', 'cov.mean', 'cov.sd', 'eigenvalues.mean', 'eigenvalues.sd', 'eq_num_attr', 'freq_class.mean', 'freq_class.sd', 'g_mean.mean', 'g_mean.sd', 'gravity', 'h_mean.mean', 'h_mean.sd', 'inst_to_attr', 'iq_range.mean', 'iq_range.sd', 'joint_ent.mean', 'joint_ent.sd', 'kurtosis.mean', 'kurtosis.sd', 'lh_trace', 'mad.mean', 'mad.sd', 'max.mean', 'max.sd', 'mean.mean', 'mean.sd', 'median.mean', 'median.sd', 'min.mean', 'min.sd', 'mut_inf.mean', 'mut_inf.sd', 'nr_attr', 'nr_bin', 'nr_cat', 'nr_class', 'nr_cor_attr', 'nr_disc', 'nr_inst', 'nr_norm', 'nr_num', 'nr_outliers', 'ns_ratio', 'num_to_cat', 'p_trace', 'range.mean', 'range.sd', 'roy_root', 'sd.mean', 'sd.sd', 'sd_ratio', 'skewness.mean', 'skewness.sd', 'sparsity.mean', 'sparsity.sd', 't_mean.mean', 't_mean.sd', 'var.mean', 'var.sd', 'w_lambda'], [0.5, 0.0, 0.0, 0.0, 34.0, nan, nan, 0.0625, 0.5, 0.0, 0.0, nan, nan, nan, nan, nan, nan, 0.0, 1.0, nan, 56.93636363636365, 260.2428527094715, nan, 56.93636363636362, 260.2428527094713, 0.029411764705882353, 0.0, 0.0, -1.4426950393345013e-08, 0.0, -3.0, 0.0, nan, 0.0, 0.0, 56.93636363636363, 260.2428527094714, 56.93636363636363, 260.2428527094714, 56.93636363636363, 260.2428527094714, 56.93636363636363, 260.2428527094714, 1.4426950393345013e-08, 0.0, 34, 0, 2, 1, nan, nan, 1, nan, 32, 0, -1.0, 16.0, nan, 0.0, 0.0, nan, nan, nan, nan, 0.0, 0.0, nan, nan, 56.93636363636363, 260.2428527094714, nan, nan, nan]) \n",
      "\n",
      "======================= FIM DO DATASET  1024  ======================= \n",
      "\n",
      "Dataset 1037 :  https://www.openml.org/data/v1/download/53920/ada_prior.arff\n"
     ]
    },
    {
     "name": "stderr",
     "output_type": "stream",
     "text": [
      " * Warning: Can't summarize feature 'can_cor' with summary 'sd'. Will set it as 'np.nan'.\n",
      " * Warning: Can't extract feature 'sd_ratio'.\n",
      " Exception message: ValueError('math domain error').\n"
     ]
    },
    {
     "name": "stdout",
     "output_type": "stream",
     "text": [
      "(['attr_conc.mean', 'attr_conc.sd', 'attr_ent.mean', 'attr_ent.sd', 'attr_to_inst', 'can_cor.mean', 'can_cor.sd', 'cat_to_num', 'class_conc.mean', 'class_conc.sd', 'class_ent', 'cor.mean', 'cor.sd', 'cov.mean', 'cov.sd', 'eigenvalues.mean', 'eigenvalues.sd', 'eq_num_attr', 'freq_class.mean', 'freq_class.sd', 'g_mean.mean', 'g_mean.sd', 'gravity', 'h_mean.mean', 'h_mean.sd', 'inst_to_attr', 'iq_range.mean', 'iq_range.sd', 'joint_ent.mean', 'joint_ent.sd', 'kurtosis.mean', 'kurtosis.sd', 'lh_trace', 'mad.mean', 'mad.sd', 'max.mean', 'max.sd', 'mean.mean', 'mean.sd', 'median.mean', 'median.sd', 'min.mean', 'min.sd', 'mut_inf.mean', 'mut_inf.sd', 'nr_attr', 'nr_bin', 'nr_cat', 'nr_class', 'nr_cor_attr', 'nr_disc', 'nr_inst', 'nr_norm', 'nr_num', 'nr_outliers', 'ns_ratio', 'num_to_cat', 'p_trace', 'range.mean', 'range.sd', 'roy_root', 'sd.mean', 'sd.sd', 'sd_ratio', 'skewness.mean', 'skewness.sd', 'sparsity.mean', 'sparsity.sd', 't_mean.mean', 't_mean.sd', 'var.mean', 'var.sd', 'w_lambda'], [0.01899027059682186, 0.03523917526384446, 1.9752810836469934, 1.2600761479084417, 0.0031291908806437194, 0.6086965071474307, nan, 1.3333333333333333, 0.028600967992226133, 0.03189962403598191, 0.8078952686655052, 0.02488221304197803, 0.04914540033766134, 3345.4853947587303, 208941.19257655452, (124044846.23587695+0j), 1201538419.304068, 12.689927449478354, 0.5, 0.35655630271722194, 1690.9427682099922, 16472.530335907442, 5637.445566552318, 1331.6857358889072, 12971.608031955584, 319.57142857142856, 1299.2631578947369, 12660.229218968336, 2.719512058573867, 1.2430632822770242, 562.2125488190511, 1029.119715683374, 0.5885912152661154, 968.7542494736841, 9440.096342456703, 13564.189473684211, 121858.99936177494, 2026.3629273227775, 19603.62646049326, 1882.221052631579, 18336.186650921296, 213.97894736842105, 2083.535747789808, 0.0636642937386309, 0.051171277755378, 14, 1, 8, 2, 0.0015677491601343786, 1, 4474, 0, 6, 90, 30.02651372771628, 0.75, 0.37051143781348217, 13350.21052631579, 119782.99521598477, 0.5885912152661154, 1233.6011006553263, 11127.736136508012, nan, 16.166373860541334, 17.484718112994443, 0.10219880943964953, 0.13195194118625495, 1875.7341732962343, 18272.78695021844, 124044846.23587638, 1201536693.3927634, 0.6294885621865178]) \n",
      "\n",
      "======================= FIM DO DATASET  1037  ======================= \n",
      "\n",
      "Dataset 1053 :  https://www.openml.org/data/v1/download/53936/jm1.arff\n"
     ]
    },
    {
     "name": "stderr",
     "output_type": "stream",
     "text": [
      " * Warning: It is not possible make equal discretization\n",
      " * Warning: Can't summarize feature 'can_cor' with summary 'sd'. Will set it as 'np.nan'.\n"
     ]
    },
    {
     "name": "stdout",
     "output_type": "stream",
     "text": [
      "(['attr_conc.mean', 'attr_conc.sd', 'attr_ent.mean', 'attr_ent.sd', 'attr_to_inst', 'can_cor.mean', 'can_cor.sd', 'cat_to_num', 'class_conc.mean', 'class_conc.sd', 'class_ent', 'cor.mean', 'cor.sd', 'cov.mean', 'cov.sd', 'eigenvalues.mean', 'eigenvalues.sd', 'eq_num_attr', 'freq_class.mean', 'freq_class.sd', 'g_mean.mean', 'g_mean.sd', 'gravity', 'h_mean.mean', 'h_mean.sd', 'inst_to_attr', 'iq_range.mean', 'iq_range.sd', 'joint_ent.mean', 'joint_ent.sd', 'kurtosis.mean', 'kurtosis.sd', 'lh_trace', 'mad.mean', 'mad.sd', 'max.mean', 'max.sd', 'mean.mean', 'mean.sd', 'median.mean', 'median.sd', 'min.mean', 'min.sd', 'mut_inf.mean', 'mut_inf.sd', 'nr_attr', 'nr_bin', 'nr_cat', 'nr_class', 'nr_cor_attr', 'nr_disc', 'nr_inst', 'nr_norm', 'nr_num', 'nr_outliers', 'ns_ratio', 'num_to_cat', 'p_trace', 'range.mean', 'range.sd', 'roy_root', 'sd.mean', 'sd.sd', 'sd_ratio', 'skewness.mean', 'skewness.sd', 'sparsity.mean', 'sparsity.sd', 't_mean.mean', 't_mean.sd', 'var.mean', 'var.sd', 'w_lambda'], [0.21155912652970946, 0.15714866379184977, 3.650566057958314, 1.0663676882258644, 0.0019301470588235295, 0.3186127274670529, nan, 0.0, 0.005601330850831151, 0.0033348031913477774, 0.7083042825087493, 0.5887109228685165, 0.24489816140952392, 54524593.09345066, 724862913.5525633, 9016579510.862543, 41318835879.72642, 15.93561773589795, 0.5, 0.4337528177977039, 1.7121678016605049, 5.086156433833487, 94869.46457049616, 1.0579106355856525, 3.080619462598187, 518.0952380952381, 610.3334523809523, 2445.128608146777, 4.314422469399401, 1.0567880409939943, 586.0388590241607, 761.6262314857365, 0.1129834833537618, 176.104287, 653.470622228021, 1567411.5785714285, 6772549.409521493, 1903.248909882703, 8019.348577648567, 121.91166666666669, 440.338284013931, 0.23809523809523808, 0.4364357804719847, 0.04444787106766259, 0.012415966339811367, 21, 0, 0, 2, 0.6571428571428573, 1, 10880, 0, 21, 21, 81.13140405310055, nan, 0.10151407010399452, 1567411.3404761904, 6772549.4673413355, 0.1129834833537618, 21968.76988736085, 94660.71145688504, 1.191007204668727, 15.830124032516556, 11.22977116302246, 0.00711943873010536, 0.008196116170456213, 212.1521751721522, 813.9259750207623, 9016579510.862526, 41184977338.97021, 0.8984859298960055]) \n",
      "\n",
      "======================= FIM DO DATASET  1053  ======================= \n",
      "\n",
      "Dataset 1119 :  https://www.openml.org/data/v1/download/54002/adult-census.arff\n"
     ]
    },
    {
     "name": "stderr",
     "output_type": "stream",
     "text": [
      " * Warning: It is not possible make equal discretization\n",
      " * Warning: Can't summarize feature 'can_cor' with summary 'sd'. Will set it as 'np.nan'.\n",
      " * Warning: Input data for shapiro has range zero. The results may not be accurate.\n",
      " * Warning: Can't extract feature 'sd_ratio'.\n",
      " Exception message: ValueError('math domain error').\n"
     ]
    },
    {
     "name": "stdout",
     "output_type": "stream",
     "text": [
      "(['attr_conc.mean', 'attr_conc.sd', 'attr_ent.mean', 'attr_ent.sd', 'attr_to_inst', 'can_cor.mean', 'can_cor.sd', 'cat_to_num', 'class_conc.mean', 'class_conc.sd', 'class_ent', 'cor.mean', 'cor.sd', 'cov.mean', 'cov.sd', 'eigenvalues.mean', 'eigenvalues.sd', 'eq_num_attr', 'freq_class.mean', 'freq_class.sd', 'g_mean.mean', 'g_mean.sd', 'gravity', 'h_mean.mean', 'h_mean.sd', 'inst_to_attr', 'iq_range.mean', 'iq_range.sd', 'joint_ent.mean', 'joint_ent.sd', 'kurtosis.mean', 'kurtosis.sd', 'lh_trace', 'mad.mean', 'mad.sd', 'max.mean', 'max.sd', 'mean.mean', 'mean.sd', 'median.mean', 'median.sd', 'min.mean', 'min.sd', 'mut_inf.mean', 'mut_inf.sd', 'nr_attr', 'nr_bin', 'nr_cat', 'nr_class', 'nr_cor_attr', 'nr_disc', 'nr_inst', 'nr_norm', 'nr_num', 'nr_outliers', 'ns_ratio', 'num_to_cat', 'p_trace', 'range.mean', 'range.sd', 'roy_root', 'sd.mean', 'sd.sd', 'sd_ratio', 'skewness.mean', 'skewness.sd', 'sparsity.mean', 'sparsity.sd', 't_mean.mean', 't_mean.sd', 'var.mean', 'var.sd', 'w_lambda'], [0.03295525342517934, 0.11993550144825668, 2.164944088943346, 1.5155777962472272, 0.00046416020157814467, 0.6083665817611272, nan, 1.3333333333333333, 0.02765076006039191, 0.03332340886278699, 0.8095658329614156, 0.021424339076740514, 0.047428425226598334, 224.078892086562, 8078.001085107022, (115645032.41861+0j), 1133340769.7339408, 12.23439252154868, 0.5, 0.3550772265715619, 1651.7312524918382, 16258.980737707843, 4377.787467414948, 1303.6494543591314, 12831.451289342891, 2154.4285714285716, 1237.4768041237114, 12184.245108955554, 2.908338607592628, 1.504819060363621, 763.9254852954425, 3099.1857732779335, 0.587578526021016, 921.2906969072164, 9071.531758034886, 16385.113402061856, 150980.3364581569, 1969.8006893360039, 19269.614416233544, 1840.3711340206185, 18116.2185637159, 142.1443298969072, 1398.0111094999288, 0.0661713143121337, 0.053527065217645484, 14, 1, 8, 2, 0.001288659793814433, 1, 30162, 2, 6, 91, 31.717259910105252, 0.75, 0.37010989780371834, 16242.969072164948, 149585.52472118955, 0.587578526021016, 1170.1525729933583, 10745.517578724599, nan, 16.888040671275913, 22.03143973333077, 0.10121034360723616, 0.13275951197811256, 1831.2131687388137, 18025.825826007593, 115645032.41861108, 1133340766.9399307, 0.6298901021962817]) \n",
      "\n",
      "======================= FIM DO DATASET  1119  ======================= \n",
      "\n",
      "Dataset 1205 :  https://www.openml.org/data/v1/download/150767/BNG(Australian).arff\n"
     ]
    },
    {
     "name": "stderr",
     "output_type": "stream",
     "text": [
      " * Warning: It is not possible make equal discretization\n",
      " * Warning: Can't summarize feature 'can_cor' with summary 'sd'. Will set it as 'np.nan'.\n",
      " * Warning: Can't summarize feature 'g_mean' with summary 'sd'. Will set it as 'np.nan'.\n",
      " * Warning: Can't summarize feature 'g_mean' with summary 'mean'. Will set it as 'np.nan'.\n",
      " * Warning: Can't extract feature 'h_mean'.\n",
      " Exception message: ValueError('Harmonic mean only defined if all elements greater than or equal to zero').\n",
      " Will set it as 'np.nan' for all summary functions.\n",
      " * Warning: Can't summarize feature 'h_mean' with summary 'sd'. Will set it as 'np.nan'.\n",
      " * Warning: Mean of empty slice.\n",
      " * Warning: invalid value encountered in double_scalars\n",
      " * Warning: Can't summarize feature 'h_mean' with summary 'mean'. Will set it as 'np.nan'.\n",
      " * Warning: Can't extract feature 'sd_ratio'.\n",
      " Exception message: ValueError('math domain error').\n"
     ]
    },
    {
     "name": "stdout",
     "output_type": "stream",
     "text": [
      "(['attr_conc.mean', 'attr_conc.sd', 'attr_ent.mean', 'attr_ent.sd', 'attr_to_inst', 'can_cor.mean', 'can_cor.sd', 'cat_to_num', 'class_conc.mean', 'class_conc.sd', 'class_ent', 'cor.mean', 'cor.sd', 'cov.mean', 'cov.sd', 'eigenvalues.mean', 'eigenvalues.sd', 'eq_num_attr', 'freq_class.mean', 'freq_class.sd', 'g_mean.mean', 'g_mean.sd', 'gravity', 'h_mean.mean', 'h_mean.sd', 'inst_to_attr', 'iq_range.mean', 'iq_range.sd', 'joint_ent.mean', 'joint_ent.sd', 'kurtosis.mean', 'kurtosis.sd', 'lh_trace', 'mad.mean', 'mad.sd', 'max.mean', 'max.sd', 'mean.mean', 'mean.sd', 'median.mean', 'median.sd', 'min.mean', 'min.sd', 'mut_inf.mean', 'mut_inf.sd', 'nr_attr', 'nr_bin', 'nr_cat', 'nr_class', 'nr_cor_attr', 'nr_disc', 'nr_inst', 'nr_norm', 'nr_num', 'nr_outliers', 'ns_ratio', 'num_to_cat', 'p_trace', 'range.mean', 'range.sd', 'roy_root', 'sd.mean', 'sd.sd', 'sd_ratio', 'skewness.mean', 'skewness.sd', 'sparsity.mean', 'sparsity.sd', 't_mean.mean', 't_mean.sd', 'var.mean', 'var.sd', 'w_lambda'], [0.006577565473309245, 0.021381291524944415, 3.3576263505321164, 2.5879902050987793, 1.4e-05, 0.7402986850209354, nan, 0.0, 0.053733553312629516, 0.13229532713365122, 0.984547011505469, 0.05102056883326081, 0.08913071696234949, 0.014049997833279603, 0.04611244456935286, 0.36184753246171003, 0.43811858426470657, 14.612288170542861, 0.5, 0.10330971494491693, nan, nan, 1.6985709125421187, nan, nan, 71428.57142857143, 0.7441966428571428, 0.8522333253050353, 4.274795344302469, 2.6147693759374913, 2.245143563570504, 5.357717520831546, 1.2125956759210588, 0.09939556905000002, 0.18294817912759434, 0.9146565000000002, 0.3760758523640492, -0.3581258752042142, 0.42328396435460325, -0.37885571428571435, 0.7121625041989987, -1.3093389285714285, 0.3567810403578652, 0.06737801773511644, 0.10625776578543572, 14, 4, 0, 2, 0.01098901098901099, 1, 1000000, 0, 14, 10, 48.83266743957905, nan, 0.5480421430437261, 2.2239954285714285, 0.37324531662881, 1.2125956759210588, 0.5078005214254788, 0.3346417465134132, nan, 0.6621896783415109, 1.3699643131902624, 0.19047730743523855, 0.2344021639986787, -0.3663336105008333, 0.48601794027771694, 0.3618475324617108, 0.39967785282913426, 0.45195785695627383]) \n",
      "\n",
      "======================= FIM DO DATASET  1205  ======================= \n",
      "\n",
      "Dataset 41526 :  https://www.openml.org/data/v1/download/21230748/test_dataset.arff\n"
     ]
    },
    {
     "name": "stderr",
     "output_type": "stream",
     "text": [
      " * Warning: It is not possible make equal discretization\n",
      " * Warning: Can't summarize feature 'can_cor' with summary 'sd'. Will set it as 'np.nan'.\n",
      " * Warning: Can't extract feature 'sd_ratio'.\n",
      " Exception message: ValueError('math domain error').\n"
     ]
    },
    {
     "name": "stdout",
     "output_type": "stream",
     "text": [
      "(['attr_conc.mean', 'attr_conc.sd', 'attr_ent.mean', 'attr_ent.sd', 'attr_to_inst', 'can_cor.mean', 'can_cor.sd', 'cat_to_num', 'class_conc.mean', 'class_conc.sd', 'class_ent', 'cor.mean', 'cor.sd', 'cov.mean', 'cov.sd', 'eigenvalues.mean', 'eigenvalues.sd', 'eq_num_attr', 'freq_class.mean', 'freq_class.sd', 'g_mean.mean', 'g_mean.sd', 'gravity', 'h_mean.mean', 'h_mean.sd', 'inst_to_attr', 'iq_range.mean', 'iq_range.sd', 'joint_ent.mean', 'joint_ent.sd', 'kurtosis.mean', 'kurtosis.sd', 'lh_trace', 'mad.mean', 'mad.sd', 'max.mean', 'max.sd', 'mean.mean', 'mean.sd', 'median.mean', 'median.sd', 'min.mean', 'min.sd', 'mut_inf.mean', 'mut_inf.sd', 'nr_attr', 'nr_bin', 'nr_cat', 'nr_class', 'nr_cor_attr', 'nr_disc', 'nr_inst', 'nr_norm', 'nr_num', 'nr_outliers', 'ns_ratio', 'num_to_cat', 'p_trace', 'range.mean', 'range.sd', 'roy_root', 'sd.mean', 'sd.sd', 'sd_ratio', 'skewness.mean', 'skewness.sd', 'sparsity.mean', 'sparsity.sd', 't_mean.mean', 't_mean.sd', 'var.mean', 'var.sd', 'w_lambda'], [0.00283785132389665, 0.0030970253676365, 2.847051023001386, 1.2856201353156917, 0.003862743835704629, 0.6218333240983488, nan, 0.0, 0.00263937462065128, 0.0036332173239971787, 0.9995287382789845, 0.057011701833596266, 0.05778745888501181, 9.755149663671836e-05, 0.00013105512675811582, 0.0020036881720232724, 0.0019812520675032206, 49.025761092294154, 0.5, 0.018072580450077865, 0.0, 0.0, 0.08602912339523834, 0.0, 0.0, 258.8833333333333, 0.05091943333333333, 0.027325055857940126, 3.8261919342276234, 1.2675549503397507, 12.39656040642645, 22.921615569272717, 0.6304614095300743, 0.03719959536999999, 0.02416483306403351, 0.4889909333333333, 0.20057628215574042, 0.05000000361166549, 0.022699953540812896, 0.04256611666666667, 0.025511365607423876, 0.0, 0.0, 0.020387827052746967, 0.03158046947468763, 60, 0, 0, 2, 0.0005649717514124294, 1, 15533, 0, 60, 60, 138.64465245048206, nan, 0.3866766829592021, 0.4889909333333333, 0.20057628215574042, 0.6304614095300743, 0.04136512789939272, 0.017250331342142804, nan, 1.8850059900275289, 1.3799168626949407, 0.057533913420114144, 0.04571286377651751, 0.04307617136752138, 0.022937512098590775, 0.0020036881720232698, 0.0015246106154568598, 0.6133233170407979]) \n",
      "\n",
      "======================= FIM DO DATASET  41526  ======================= \n",
      "\n",
      "Dataset 41430 :  https://www.openml.org/data/v1/download/20764588/DiabeticMellitus.arff\n"
     ]
    },
    {
     "name": "stderr",
     "output_type": "stream",
     "text": [
      " * Warning: It is not possible make equal discretization\n",
      " * Warning: Can't summarize feature 'can_cor' with summary 'sd'. Will set it as 'np.nan'.\n",
      " * Warning: Can't extract feature 'sd_ratio'.\n",
      " Exception message: ValueError('math domain error').\n"
     ]
    },
    {
     "name": "stdout",
     "output_type": "stream",
     "text": [
      "(['attr_conc.mean', 'attr_conc.sd', 'attr_ent.mean', 'attr_ent.sd', 'attr_to_inst', 'can_cor.mean', 'can_cor.sd', 'cat_to_num', 'class_conc.mean', 'class_conc.sd', 'class_ent', 'cor.mean', 'cor.sd', 'cov.mean', 'cov.sd', 'eigenvalues.mean', 'eigenvalues.sd', 'eq_num_attr', 'freq_class.mean', 'freq_class.sd', 'g_mean.mean', 'g_mean.sd', 'gravity', 'h_mean.mean', 'h_mean.sd', 'inst_to_attr', 'iq_range.mean', 'iq_range.sd', 'joint_ent.mean', 'joint_ent.sd', 'kurtosis.mean', 'kurtosis.sd', 'lh_trace', 'mad.mean', 'mad.sd', 'max.mean', 'max.sd', 'mean.mean', 'mean.sd', 'median.mean', 'median.sd', 'min.mean', 'min.sd', 'mut_inf.mean', 'mut_inf.sd', 'nr_attr', 'nr_bin', 'nr_cat', 'nr_class', 'nr_cor_attr', 'nr_disc', 'nr_inst', 'nr_norm', 'nr_num', 'nr_outliers', 'ns_ratio', 'num_to_cat', 'p_trace', 'range.mean', 'range.sd', 'roy_root', 'sd.mean', 'sd.sd', 'sd_ratio', 'skewness.mean', 'skewness.sd', 'sparsity.mean', 'sparsity.sd', 't_mean.mean', 't_mean.sd', 'var.mean', 'var.sd', 'w_lambda'], [0.051810507619665824, 0.07321388385122524, 0.7817983178269544, 0.494593762883878, 0.34767025089605735, 0.8992805748808865, nan, 0.0, 0.007702401239150138, 0.019984069355152616, 0.9383153522334069, 0.12560748007461006, 0.10425522148954251, 0.07105950247007803, 0.8831507015665203, 6.203248859508992, 33.94515157244153, 61.40400278148611, 0.5, 0.20528906550577183, 2.4112444017853734, 11.600953394073944, 18.784596467518416, 2.3412912139928346, 11.312250045607815, 2.8762886597938144, 1.1309278350515464, 3.567543530006041, 1.704832657264298, 0.458628206339983, 5.53208724465558, 16.73951629088475, 4.227543257669304, 0.521202680412371, 2.5429501544853195, 4.693814432989691, 17.61698880835029, 2.715922107674685, 11.815863663970283, 2.58659793814433, 11.782062892963426, 1.0041237113402062, 4.751050706724715, 0.015281012796063483, 0.08193166877191496, 97, 87, 0, 2, 0.008805841924398625, 1, 279, 0, 97, 57, 50.161420271066866, nan, 0.8087055523580977, 3.6896907216494843, 13.031640058399546, 4.227543257669304, 0.862244384669086, 2.3487563145642363, nan, 1.7062138297171767, 2.1248168587072014, 0.462596041144379, 0.11487680816885834, 2.645031415848228, 11.842258427346492, 6.203248859509001, 32.804635598170165, 0.1912944476419023]) \n",
      "\n",
      "======================= FIM DO DATASET  41430  ======================= \n",
      "\n",
      "Dataset 1351 :  https://www.openml.org/data/v1/download/582930/BNG(anneal,1000,1).arff\n"
     ]
    },
    {
     "name": "stderr",
     "output_type": "stream",
     "text": [
      " * Warning: It is not possible make equal discretization\n",
      " * Warning: Can't summarize feature 'g_mean' with summary 'sd'. Will set it as 'np.nan'.\n",
      " * Warning: Can't summarize feature 'g_mean' with summary 'mean'. Will set it as 'np.nan'.\n",
      " * Warning: Can't extract feature 'h_mean'.\n",
      " Exception message: ValueError('Harmonic mean only defined if all elements greater than or equal to zero').\n",
      " Will set it as 'np.nan' for all summary functions.\n",
      " * Warning: Can't summarize feature 'h_mean' with summary 'sd'. Will set it as 'np.nan'.\n",
      " * Warning: Mean of empty slice.\n",
      " * Warning: invalid value encountered in double_scalars\n",
      " * Warning: Can't summarize feature 'h_mean' with summary 'mean'. Will set it as 'np.nan'.\n",
      " * Warning: Can't extract feature 'sd_ratio'.\n",
      " Exception message: ValueError('math domain error').\n"
     ]
    },
    {
     "name": "stdout",
     "output_type": "stream",
     "text": [
      "(['attr_conc.mean', 'attr_conc.sd', 'attr_ent.mean', 'attr_ent.sd', 'attr_to_inst', 'can_cor.mean', 'can_cor.sd', 'cat_to_num', 'class_conc.mean', 'class_conc.sd', 'class_ent', 'cor.mean', 'cor.sd', 'cov.mean', 'cov.sd', 'eigenvalues.mean', 'eigenvalues.sd', 'eq_num_attr', 'freq_class.mean', 'freq_class.sd', 'g_mean.mean', 'g_mean.sd', 'gravity', 'h_mean.mean', 'h_mean.sd', 'inst_to_attr', 'iq_range.mean', 'iq_range.sd', 'joint_ent.mean', 'joint_ent.sd', 'kurtosis.mean', 'kurtosis.sd', 'lh_trace', 'mad.mean', 'mad.sd', 'max.mean', 'max.sd', 'mean.mean', 'mean.sd', 'median.mean', 'median.sd', 'min.mean', 'min.sd', 'mut_inf.mean', 'mut_inf.sd', 'nr_attr', 'nr_bin', 'nr_cat', 'nr_class', 'nr_cor_attr', 'nr_disc', 'nr_inst', 'nr_norm', 'nr_num', 'nr_outliers', 'ns_ratio', 'num_to_cat', 'p_trace', 'range.mean', 'range.sd', 'roy_root', 'sd.mean', 'sd.sd', 'sd_ratio', 'skewness.mean', 'skewness.sd', 'sparsity.mean', 'sparsity.sd', 't_mean.mean', 't_mean.sd', 'var.mean', 'var.sd', 'w_lambda'], [0.0036676425253991465, 0.005918544989532314, 1.4837666562223133, 1.3447378456541923, 3.8e-05, 0.10150714353982017, 0.1582393866032988, 5.333333333333333, 0.025286908063154232, 0.027278078485531473, 1.2034178134061595, 0.03942042429074588, 0.05295078867855114, 6.767287755351521, 235.46995973889284, 47214.24082855962, 392765.1448977429, 49.4688609750301, 0.16666666666666666, 0.29336386539699577, nan, nan, 570.8239516113989, nan, nan, 26315.78947368421, 46.49589168589744, 299.4860861212438, 2.66285769537722, 1.3449339246129304, 7.346701870854416, 9.444414778616242, 0.21880252407974157, 19.0866911851, 123.22776554684084, 156.69404226923078, 1068.7082867379913, 30.778661635284852, 181.2420300985158, 17.2068136025641, 102.97655571998605, -35.878347423076924, 253.62891390623756, 0.024326774251252653, 0.02200695842536296, 38, 19, 32, 6, 0.000666000666000666, 6, 1000000, 0, 6, 61, 59.99315268426557, 0.1875, 0.18702071850062324, 192.5723896923077, 1321.11424228147, 0.19295752355063256, 32.934072896449955, 216.16815960115125, nan, 2.4736455969973057, 1.7950606710615666, 0.32967815004220546, 0.1951921966065186, 20.896358403305133, 119.94880735882026, 47214.24082872633, 392759.6365714247, 0.8171010224466325]) \n",
      "\n",
      "======================= FIM DO DATASET  1351  ======================= \n",
      "\n",
      "Dataset 1354 :  https://www.openml.org/data/v1/download/582933/BNG(anneal,5000,1).arff\n"
     ]
    },
    {
     "name": "stderr",
     "output_type": "stream",
     "text": [
      " * Warning: It is not possible make equal discretization\n",
      " * Warning: Can't summarize feature 'g_mean' with summary 'sd'. Will set it as 'np.nan'.\n",
      " * Warning: Can't summarize feature 'g_mean' with summary 'mean'. Will set it as 'np.nan'.\n",
      " * Warning: Can't extract feature 'h_mean'.\n",
      " Exception message: ValueError('Harmonic mean only defined if all elements greater than or equal to zero').\n",
      " Will set it as 'np.nan' for all summary functions.\n",
      " * Warning: Can't summarize feature 'h_mean' with summary 'sd'. Will set it as 'np.nan'.\n",
      " * Warning: Mean of empty slice.\n",
      " * Warning: invalid value encountered in double_scalars\n",
      " * Warning: Can't summarize feature 'h_mean' with summary 'mean'. Will set it as 'np.nan'.\n",
      " * Warning: Can't extract feature 'sd_ratio'.\n",
      " Exception message: ValueError('math domain error').\n"
     ]
    },
    {
     "name": "stdout",
     "output_type": "stream",
     "text": [
      "(['attr_conc.mean', 'attr_conc.sd', 'attr_ent.mean', 'attr_ent.sd', 'attr_to_inst', 'can_cor.mean', 'can_cor.sd', 'cat_to_num', 'class_conc.mean', 'class_conc.sd', 'class_ent', 'cor.mean', 'cor.sd', 'cov.mean', 'cov.sd', 'eigenvalues.mean', 'eigenvalues.sd', 'eq_num_attr', 'freq_class.mean', 'freq_class.sd', 'g_mean.mean', 'g_mean.sd', 'gravity', 'h_mean.mean', 'h_mean.sd', 'inst_to_attr', 'iq_range.mean', 'iq_range.sd', 'joint_ent.mean', 'joint_ent.sd', 'kurtosis.mean', 'kurtosis.sd', 'lh_trace', 'mad.mean', 'mad.sd', 'max.mean', 'max.sd', 'mean.mean', 'mean.sd', 'median.mean', 'median.sd', 'min.mean', 'min.sd', 'mut_inf.mean', 'mut_inf.sd', 'nr_attr', 'nr_bin', 'nr_cat', 'nr_class', 'nr_cor_attr', 'nr_disc', 'nr_inst', 'nr_norm', 'nr_num', 'nr_outliers', 'ns_ratio', 'num_to_cat', 'p_trace', 'range.mean', 'range.sd', 'roy_root', 'sd.mean', 'sd.sd', 'sd_ratio', 'skewness.mean', 'skewness.sd', 'sparsity.mean', 'sparsity.sd', 't_mean.mean', 't_mean.sd', 'var.mean', 'var.sd', 'w_lambda'], [0.01603565289895776, 0.04201344538554739, 1.2467627086277804, 1.30966389143446, 3.8e-05, 0.35616324922980724, 0.36259519818996616, 5.333333333333333, 0.07434647082964785, 0.07673853873374008, 1.2034178134061595, 0.04781052970420017, 0.06390396192024299, 2.958804608592783, 54.73754527907615, 49846.15406418547, 418573.4272814805, 19.266919041089487, 0.16666666666666666, 0.29336386539699577, nan, nan, 494.096834302902, nan, nan, 26315.78947368421, 46.81148674679488, 342.48708598501014, 2.3877202080190365, 1.3102850483377901, 19.393393027055343, 42.25530364067675, 5.031920370168888, 19.66473238616923, 135.2746845683857, 144.66559738461538, 966.6604191700413, 30.55143423639028, 189.8436584551035, 17.664675198717948, 109.80564500483608, -35.734939602564104, 252.3921614582922, 0.06246031401490281, 0.06508281534166954, 38, 19, 32, 6, 0.001998001998001998, 6, 1000000, 0, 6, 65, 18.96087801176131, 0.1875, 1.418489949363707, 180.4005369871795, 1218.0108480392867, 3.9115425071752545, 32.81845503549583, 222.26665977643043, nan, 3.4994538725147093, 3.035738613218131, 0.3296784541679065, 0.19519166906445432, 21.047737466872945, 128.81032724275187, 49846.1540641118, 418573.147391304, 0.09001103942631761]) \n",
      "\n",
      "======================= FIM DO DATASET  1354  ======================= \n",
      "\n",
      "Dataset 1358 :  https://www.openml.org/data/v1/download/583167/BNG(anneal,10000,5).arff\n"
     ]
    },
    {
     "name": "stderr",
     "output_type": "stream",
     "text": [
      " * Warning: It is not possible make equal discretization\n",
      " * Warning: Can't summarize feature 'g_mean' with summary 'sd'. Will set it as 'np.nan'.\n",
      " * Warning: Can't summarize feature 'g_mean' with summary 'mean'. Will set it as 'np.nan'.\n",
      " * Warning: Can't extract feature 'h_mean'.\n",
      " Exception message: ValueError('Harmonic mean only defined if all elements greater than or equal to zero').\n",
      " Will set it as 'np.nan' for all summary functions.\n",
      " * Warning: Can't summarize feature 'h_mean' with summary 'sd'. Will set it as 'np.nan'.\n",
      " * Warning: Mean of empty slice.\n",
      " * Warning: invalid value encountered in double_scalars\n",
      " * Warning: Can't summarize feature 'h_mean' with summary 'mean'. Will set it as 'np.nan'.\n",
      " * Warning: Can't extract feature 'sd_ratio'.\n",
      " Exception message: ValueError('math domain error').\n"
     ]
    },
    {
     "name": "stdout",
     "output_type": "stream",
     "text": [
      "(['attr_conc.mean', 'attr_conc.sd', 'attr_ent.mean', 'attr_ent.sd', 'attr_to_inst', 'can_cor.mean', 'can_cor.sd', 'cat_to_num', 'class_conc.mean', 'class_conc.sd', 'class_ent', 'cor.mean', 'cor.sd', 'cov.mean', 'cov.sd', 'eigenvalues.mean', 'eigenvalues.sd', 'eq_num_attr', 'freq_class.mean', 'freq_class.sd', 'g_mean.mean', 'g_mean.sd', 'gravity', 'h_mean.mean', 'h_mean.sd', 'inst_to_attr', 'iq_range.mean', 'iq_range.sd', 'joint_ent.mean', 'joint_ent.sd', 'kurtosis.mean', 'kurtosis.sd', 'lh_trace', 'mad.mean', 'mad.sd', 'max.mean', 'max.sd', 'mean.mean', 'mean.sd', 'median.mean', 'median.sd', 'min.mean', 'min.sd', 'mut_inf.mean', 'mut_inf.sd', 'nr_attr', 'nr_bin', 'nr_cat', 'nr_class', 'nr_cor_attr', 'nr_disc', 'nr_inst', 'nr_norm', 'nr_num', 'nr_outliers', 'ns_ratio', 'num_to_cat', 'p_trace', 'range.mean', 'range.sd', 'roy_root', 'sd.mean', 'sd.sd', 'sd_ratio', 'skewness.mean', 'skewness.sd', 'sparsity.mean', 'sparsity.sd', 't_mean.mean', 't_mean.sd', 'var.mean', 'var.sd', 'w_lambda'], [0.011837706857471639, 0.023962182306985297, 1.3659556446883736, 1.2814545109965507, 3.8e-05, 0.02052345515364593, 0.02250455227283771, 5.333333333333333, 0.04004167803046294, 0.03817623348315188, 1.2034178134061595, 0.04805225373918604, 0.06019092568383978, 3.8131486309104523, 106.43182245083949, 47787.892767548525, 399014.9094981202, 31.20521195008642, 0.16666666666666666, 0.29336386539699577, nan, nan, 662.8910405208957, nan, nan, 26315.78947368421, 40.002659564102565, 282.7145239949512, 2.5308088165426326, 1.280894068829471, 10.036914559078246, 13.305632073641299, 0.005069344033587849, 17.404177534153845, 116.45882215555402, 156.40855405128207, 1068.5632391698534, 29.68044651075181, 178.92601064815216, 16.096112942307695, 99.50016287151044, -35.73235942307692, 252.3924513839662, 0.038564641551900335, 0.037025788916206635, 38, 19, 32, 6, 0.000999000999000999, 6, 1000000, 0, 6, 64, 34.419897339122656, 0.1875, 0.005059547633666718, 192.14091347435897, 1319.750457248756, 0.002216249519618726, 32.71732053823958, 217.5412376776691, nan, 2.7878694180942776, 2.066888676061958, 0.3296782872867675, 0.19519195853870974, 19.25423885975036, 116.26980995094097, 47787.89276776055, 399013.80126528145, 0.994948360203615]) \n",
      "\n",
      "======================= FIM DO DATASET  1358  ======================= \n",
      "\n",
      "Dataset 1364 :  https://www.openml.org/data/v1/download/583215/BNG(anneal.ORIG,5000,5).arff\n"
     ]
    },
    {
     "name": "stderr",
     "output_type": "stream",
     "text": [
      " * Warning: It is not possible make equal discretization\n",
      " * Warning: Can't summarize feature 'g_mean' with summary 'sd'. Will set it as 'np.nan'.\n",
      " * Warning: Can't summarize feature 'g_mean' with summary 'mean'. Will set it as 'np.nan'.\n",
      " * Warning: Can't extract feature 'h_mean'.\n",
      " Exception message: ValueError('Harmonic mean only defined if all elements greater than or equal to zero').\n",
      " Will set it as 'np.nan' for all summary functions.\n",
      " * Warning: Can't summarize feature 'h_mean' with summary 'sd'. Will set it as 'np.nan'.\n",
      " * Warning: Mean of empty slice.\n",
      " * Warning: invalid value encountered in double_scalars\n",
      " * Warning: Can't summarize feature 'h_mean' with summary 'mean'. Will set it as 'np.nan'.\n",
      " * Warning: Can't extract feature 'sd_ratio'.\n",
      " Exception message: ValueError('math domain error').\n"
     ]
    },
    {
     "name": "stdout",
     "output_type": "stream",
     "text": [
      "(['attr_conc.mean', 'attr_conc.sd', 'attr_ent.mean', 'attr_ent.sd', 'attr_to_inst', 'can_cor.mean', 'can_cor.sd', 'cat_to_num', 'class_conc.mean', 'class_conc.sd', 'class_ent', 'cor.mean', 'cor.sd', 'cov.mean', 'cov.sd', 'eigenvalues.mean', 'eigenvalues.sd', 'eq_num_attr', 'freq_class.mean', 'freq_class.sd', 'g_mean.mean', 'g_mean.sd', 'gravity', 'h_mean.mean', 'h_mean.sd', 'inst_to_attr', 'iq_range.mean', 'iq_range.sd', 'joint_ent.mean', 'joint_ent.sd', 'kurtosis.mean', 'kurtosis.sd', 'lh_trace', 'mad.mean', 'mad.sd', 'max.mean', 'max.sd', 'mean.mean', 'mean.sd', 'median.mean', 'median.sd', 'min.mean', 'min.sd', 'mut_inf.mean', 'mut_inf.sd', 'nr_attr', 'nr_bin', 'nr_cat', 'nr_class', 'nr_cor_attr', 'nr_disc', 'nr_inst', 'nr_norm', 'nr_num', 'nr_outliers', 'ns_ratio', 'num_to_cat', 'p_trace', 'range.mean', 'range.sd', 'roy_root', 'sd.mean', 'sd.sd', 'sd_ratio', 'skewness.mean', 'skewness.sd', 'sparsity.mean', 'sparsity.sd', 't_mean.mean', 't_mean.sd', 'var.mean', 'var.sd', 'w_lambda'], [0.16975364993353664, 0.2345733502669737, 1.0342431972148558, 1.4989654072785963, 3.8e-05, 0.04259446088478087, 0.04697067410039501, 5.333333333333333, 0.24913658529853444, 0.24236151973111453, 1.2034178134061595, 0.038206583569818035, 0.06431904882409523, 15.55355319939146, 335.4641444715885, 71594.98035605437, 469330.5962260325, 84.87465074637278, 0.16666666666666666, 0.29336386539699577, nan, nan, 209.99795156796753, nan, nan, 26315.78947368421, 39.22465193877551, 153.94192626806685, 2.223482244607565, 1.4929623610148495, 9.388840933642607, 10.65466494732579, 0.022211549426501165, 14.39908820442857, 71.48125920888512, 248.81369165306123, 1344.9438987195965, 45.27379381602859, 202.31844270955747, 16.63302217346939, 91.03757804144335, -56.86650306122448, 318.8538576163555, 0.014178766013450595, 0.022521542478238524, 38, 4, 32, 6, 0.0017006802721088435, 6, 1000000, 0, 6, 39, 71.943103527749, 0.1875, 0.02191694971561835, 305.68019471428573, 1662.3413036856937, 0.01695808314609406, 51.54014811776096, 265.28251767870734, nan, 2.4404537887661797, 2.339121804274688, 0.5891082697428045, 0.4172287422905238, 27.941883673305032, 125.58375251036551, 71594.98035628191, 469324.71394245, 0.9781781660025113]) \n",
      "\n",
      "======================= FIM DO DATASET  1364  ======================= \n",
      "\n",
      "Dataset 1367 :  https://www.openml.org/data/v1/download/583554/BNG(anneal.ORIG,10000,5).arff\n"
     ]
    },
    {
     "name": "stderr",
     "output_type": "stream",
     "text": [
      " * Warning: It is not possible make equal discretization\n",
      " * Warning: Can't summarize feature 'g_mean' with summary 'sd'. Will set it as 'np.nan'.\n",
      " * Warning: Can't summarize feature 'g_mean' with summary 'mean'. Will set it as 'np.nan'.\n",
      " * Warning: Can't extract feature 'h_mean'.\n",
      " Exception message: ValueError('Harmonic mean only defined if all elements greater than or equal to zero').\n",
      " Will set it as 'np.nan' for all summary functions.\n",
      " * Warning: Can't summarize feature 'h_mean' with summary 'sd'. Will set it as 'np.nan'.\n",
      " * Warning: Mean of empty slice.\n",
      " * Warning: invalid value encountered in double_scalars\n",
      " * Warning: Can't summarize feature 'h_mean' with summary 'mean'. Will set it as 'np.nan'.\n",
      " * Warning: Can't extract feature 'sd_ratio'.\n",
      " Exception message: ValueError('math domain error').\n"
     ]
    },
    {
     "name": "stdout",
     "output_type": "stream",
     "text": [
      "(['attr_conc.mean', 'attr_conc.sd', 'attr_ent.mean', 'attr_ent.sd', 'attr_to_inst', 'can_cor.mean', 'can_cor.sd', 'cat_to_num', 'class_conc.mean', 'class_conc.sd', 'class_ent', 'cor.mean', 'cor.sd', 'cov.mean', 'cov.sd', 'eigenvalues.mean', 'eigenvalues.sd', 'eq_num_attr', 'freq_class.mean', 'freq_class.sd', 'g_mean.mean', 'g_mean.sd', 'gravity', 'h_mean.mean', 'h_mean.sd', 'inst_to_attr', 'iq_range.mean', 'iq_range.sd', 'joint_ent.mean', 'joint_ent.sd', 'kurtosis.mean', 'kurtosis.sd', 'lh_trace', 'mad.mean', 'mad.sd', 'max.mean', 'max.sd', 'mean.mean', 'mean.sd', 'median.mean', 'median.sd', 'min.mean', 'min.sd', 'mut_inf.mean', 'mut_inf.sd', 'nr_attr', 'nr_bin', 'nr_cat', 'nr_class', 'nr_cor_attr', 'nr_disc', 'nr_inst', 'nr_norm', 'nr_num', 'nr_outliers', 'ns_ratio', 'num_to_cat', 'p_trace', 'range.mean', 'range.sd', 'roy_root', 'sd.mean', 'sd.sd', 'sd_ratio', 'skewness.mean', 'skewness.sd', 'sparsity.mean', 'sparsity.sd', 't_mean.mean', 't_mean.sd', 'var.mean', 'var.sd', 'w_lambda'], [0.25410356347840496, 0.2479535680073096, 0.9303378345753078, 1.432032077659914, 3.8e-05, 0.05066838592801764, 0.07787520849360764, 5.333333333333333, 0.25986279816723384, 0.23383421902018875, 1.2034178134061595, 0.04263544734018872, 0.07111957167828446, 9.785299206631658, 214.52443625469485, 65725.87972164444, 429222.05973743886, 50.67940455214555, 0.16666666666666666, 0.29336386539699577, nan, nan, 279.1232180908007, nan, nan, 26315.78947368421, 36.31261211224489, 145.71388249952213, 2.110009950413771, 1.422785728016204, 13.985900579985653, 15.57940766752821, 0.0475343785919841, 8.354060682857144, 58.40280898376246, 248.42863883673473, 1344.8371754671446, 41.158313106711255, 184.80904287450682, 12.609162357142857, 87.12026684098713, -68.04353263265305, 394.6037344350898, 0.02374569756769591, 0.03686670013902624, 38, 4, 32, 6, 0.002551020408163265, 6, 1000000, 0, 6, 40, 38.17921686330903, 0.1875, 0.04572645248491752, 316.4721714693878, 1738.4896299956647, 0.04331909171237598, 49.51261472150515, 254.15073670785776, nan, 2.8829206588781724, 2.7852372254446887, 0.5891083841779904, 0.4172285763471715, 23.423363364790614, 116.40348026366189, 65725.8797210306, 429219.4296291829, 0.9544522147415713]) \n",
      "\n",
      "======================= FIM DO DATASET  1367  ======================= \n",
      "\n",
      "Dataset 1369 :  https://www.openml.org/data/v1/download/583646/BNG(kr-vs-kp,1000,1).arff\n"
     ]
    },
    {
     "name": "stderr",
     "output_type": "stream",
     "text": [
      " * Warning: Can't summarize feature 'can_cor' with summary 'sd'. Will set it as 'np.nan'.\n"
     ]
    },
    {
     "name": "stdout",
     "output_type": "stream",
     "text": [
      "(['attr_conc.mean', 'attr_conc.sd', 'attr_ent.mean', 'attr_ent.sd', 'attr_to_inst', 'can_cor.mean', 'can_cor.sd', 'cat_to_num', 'class_conc.mean', 'class_conc.sd', 'class_ent', 'cor.mean', 'cor.sd', 'cov.mean', 'cov.sd', 'eigenvalues.mean', 'eigenvalues.sd', 'eq_num_attr', 'freq_class.mean', 'freq_class.sd', 'g_mean.mean', 'g_mean.sd', 'gravity', 'h_mean.mean', 'h_mean.sd', 'inst_to_attr', 'iq_range.mean', 'iq_range.sd', 'joint_ent.mean', 'joint_ent.sd', 'kurtosis.mean', 'kurtosis.sd', 'lh_trace', 'mad.mean', 'mad.sd', 'max.mean', 'max.sd', 'mean.mean', 'mean.sd', 'median.mean', 'median.sd', 'min.mean', 'min.sd', 'mut_inf.mean', 'mut_inf.sd', 'nr_attr', 'nr_bin', 'nr_cat', 'nr_class', 'nr_cor_attr', 'nr_disc', 'nr_inst', 'nr_norm', 'nr_num', 'nr_outliers', 'ns_ratio', 'num_to_cat', 'p_trace', 'range.mean', 'range.sd', 'roy_root', 'sd.mean', 'sd.sd', 'sd_ratio', 'skewness.mean', 'skewness.sd', 'sparsity.mean', 'sparsity.sd', 't_mean.mean', 't_mean.sd', 'var.mean', 'var.sd', 'w_lambda'], [0.00841528565581711, 0.021469739937569555, 0.7463186473313319, 0.3045681795415185, 3.6e-05, 0.6460191546478651, nan, nan, 0.016590044031115168, 0.03397340032267424, 0.9986188549650421, 0.04170824660282463, 0.07399491000727641, 0.007319439373112778, 0.013536199631534991, 0.16758050354645163, 0.12070825217474225, 74.92921538469987, 0.5, 0.03093592167691142, 0.0, 0.0, 0.6976605809273693, 0.0, 0.0, 27777.777777777777, 0.5128205128205128, 0.5063696835418333, 1.7316100058073483, 0.30218353295745193, 47.800469658139505, 253.5504339551391, 0.7162689803046312, 0.0, 0.0, 1.0, 0.0, 0.3211391282051282, 0.22749838926083105, 0.20512820512820512, 0.4090738692453055, 0.0, 0.0, 0.013327496489025752, 0.02949712831158626, 36, 34, 36, 2, 0.004048582995951417, 1, 1000000, 0, 0, 19, 54.99841260103669, 0.0, 0.4173407481719422, 1.0, 0.0, 0.7162689803046312, 0.39213689826978637, 0.11904854228049687, 1.0389693343169693, 2.410901270983497, 6.719044222150719, 0.4907402314809722, 0.03871848607610661, 0.25623042735042734, 0.3102070034940727, 0.16758050354685974, 0.07310822747170248, 0.5826592518280578]) \n",
      "\n",
      "======================= FIM DO DATASET  1369  ======================= \n",
      "\n",
      "Dataset 1373 :  https://www.openml.org/data/v1/download/583754/BNG(kr-vs-kp,5000,5).arff\n"
     ]
    },
    {
     "name": "stderr",
     "output_type": "stream",
     "text": [
      " * Warning: Can't summarize feature 'can_cor' with summary 'sd'. Will set it as 'np.nan'.\n"
     ]
    },
    {
     "name": "stdout",
     "output_type": "stream",
     "text": [
      "(['attr_conc.mean', 'attr_conc.sd', 'attr_ent.mean', 'attr_ent.sd', 'attr_to_inst', 'can_cor.mean', 'can_cor.sd', 'cat_to_num', 'class_conc.mean', 'class_conc.sd', 'class_ent', 'cor.mean', 'cor.sd', 'cov.mean', 'cov.sd', 'eigenvalues.mean', 'eigenvalues.sd', 'eq_num_attr', 'freq_class.mean', 'freq_class.sd', 'g_mean.mean', 'g_mean.sd', 'gravity', 'h_mean.mean', 'h_mean.sd', 'inst_to_attr', 'iq_range.mean', 'iq_range.sd', 'joint_ent.mean', 'joint_ent.sd', 'kurtosis.mean', 'kurtosis.sd', 'lh_trace', 'mad.mean', 'mad.sd', 'max.mean', 'max.sd', 'mean.mean', 'mean.sd', 'median.mean', 'median.sd', 'min.mean', 'min.sd', 'mut_inf.mean', 'mut_inf.sd', 'nr_attr', 'nr_bin', 'nr_cat', 'nr_class', 'nr_cor_attr', 'nr_disc', 'nr_inst', 'nr_norm', 'nr_num', 'nr_outliers', 'ns_ratio', 'num_to_cat', 'p_trace', 'range.mean', 'range.sd', 'roy_root', 'sd.mean', 'sd.sd', 'sd_ratio', 'skewness.mean', 'skewness.sd', 'sparsity.mean', 'sparsity.sd', 't_mean.mean', 't_mean.sd', 'var.mean', 'var.sd', 'w_lambda'], [0.003145050869843093, 0.010198848957429535, 0.7460309291825015, 0.3044930082652754, 3.6e-05, 0.6459023912247204, nan, nan, 0.016581079642542185, 0.03391687081620779, 0.9986188549650421, 0.04170776923555125, 0.0740355457874983, 0.007314786557218401, 0.013541674395842347, 0.1675017421978192, 0.12071404364108129, 75.02216521718077, 0.5, 0.03093592167691142, 0.0, 0.0, 0.6968322958133575, 0.0, 0.0, 27777.777777777777, 0.5128205128205128, 0.5063696835418333, 1.7313387999594154, 0.3021306060730078, 48.21477011484788, 255.97410133246854, 0.7158247570978848, 0.0, 0.0, 1.0, 0.0, 0.3210449487179487, 0.22760001168126745, 0.20512820512820512, 0.4090738692453055, 0.0, 0.0, 0.013310984188128297, 0.029419298238008627, 36, 34, 36, 2, 0.004048582995951417, 1, 1000000, 0, 0, 19, 55.046263645017774, 0.0, 0.41718989898981174, 1.0, 0.0, 0.7158247570978848, 0.3920388067935591, 0.11904060899864985, 0.7003718103864506, 2.417118855072045, 6.748329374703882, 0.4907402314809722, 0.03871848607610661, 0.2561439743589744, 0.3103716812185499, 0.1675017421974827, 0.07309646287837722, 0.5828101010101883]) \n",
      "\n",
      "======================= FIM DO DATASET  1373  ======================= \n",
      "\n",
      "Dataset 1375 :  https://www.openml.org/data/v1/download/583762/BNG(kr-vs-kp,10000,1).arff\n"
     ]
    },
    {
     "name": "stderr",
     "output_type": "stream",
     "text": [
      " * Warning: Can't summarize feature 'can_cor' with summary 'sd'. Will set it as 'np.nan'.\n",
      " * Warning: Can't extract feature 'sd_ratio'.\n",
      " Exception message: ValueError('math domain error').\n"
     ]
    },
    {
     "name": "stdout",
     "output_type": "stream",
     "text": [
      "(['attr_conc.mean', 'attr_conc.sd', 'attr_ent.mean', 'attr_ent.sd', 'attr_to_inst', 'can_cor.mean', 'can_cor.sd', 'cat_to_num', 'class_conc.mean', 'class_conc.sd', 'class_ent', 'cor.mean', 'cor.sd', 'cov.mean', 'cov.sd', 'eigenvalues.mean', 'eigenvalues.sd', 'eq_num_attr', 'freq_class.mean', 'freq_class.sd', 'g_mean.mean', 'g_mean.sd', 'gravity', 'h_mean.mean', 'h_mean.sd', 'inst_to_attr', 'iq_range.mean', 'iq_range.sd', 'joint_ent.mean', 'joint_ent.sd', 'kurtosis.mean', 'kurtosis.sd', 'lh_trace', 'mad.mean', 'mad.sd', 'max.mean', 'max.sd', 'mean.mean', 'mean.sd', 'median.mean', 'median.sd', 'min.mean', 'min.sd', 'mut_inf.mean', 'mut_inf.sd', 'nr_attr', 'nr_bin', 'nr_cat', 'nr_class', 'nr_cor_attr', 'nr_disc', 'nr_inst', 'nr_norm', 'nr_num', 'nr_outliers', 'ns_ratio', 'num_to_cat', 'p_trace', 'range.mean', 'range.sd', 'roy_root', 'sd.mean', 'sd.sd', 'sd_ratio', 'skewness.mean', 'skewness.sd', 'sparsity.mean', 'sparsity.sd', 't_mean.mean', 't_mean.sd', 'var.mean', 'var.sd', 'w_lambda'], [0.00961554532027205, 0.03338897288156718, 0.6343008159054316, 0.32091768749526184, 3.6e-05, 0.7550469013163461, nan, nan, 0.021070772406853268, 0.03326665182852759, 0.9986188549650421, 0.06296785792916271, 0.09987201289224572, 0.009298053036683265, 0.01715383635713527, 0.14123986637743038, 0.14566831709873942, 61.05952378494596, 0.5, 0.03093592167691142, 0.0, 0.0, 0.7673088596711269, 0.0, 0.0, 27777.777777777777, 0.3333333333333333, 0.4775669329409193, 1.616564829020049, 0.312530880401459, 56.77282037470903, 260.7489265903477, 1.326099754169052, 0.0, 0.0, 1.0, 0.0, 0.28970746153846155, 0.2573629222295205, 0.20512820512820512, 0.4090738692453055, 0.0, 0.0, 0.016354841850424788, 0.02544783128457839, 36, 34, 36, 2, 0.0067476383265856945, 1, 1000000, 0, 0, 26, 37.78367163109907, 0.0, 0.5700958231874161, 1.0, 0.0, 1.326099754169052, 0.3521324890926234, 0.13302754795952995, nan, 3.144780448448997, 7.083044360681668, 0.4907402314809722, 0.03871848607610661, 0.2405238888888889, 0.3399263203575627, 0.14123986637745764, 0.07991957128776647, 0.4299041768125839]) \n",
      "\n",
      "======================= FIM DO DATASET  1375  ======================= \n",
      "\n",
      "Dataset 1402 :  https://www.openml.org/data/v1/download/584465/BNG(lymph,1000,1).arff\n"
     ]
    },
    {
     "name": "stderr",
     "output_type": "stream",
     "text": [
      " * Warning: It is not possible make equal discretization\n",
      " * Warning: Can't extract feature 'sd_ratio'.\n",
      " Exception message: ValueError('math domain error').\n"
     ]
    },
    {
     "name": "stdout",
     "output_type": "stream",
     "text": [
      "(['attr_conc.mean', 'attr_conc.sd', 'attr_ent.mean', 'attr_ent.sd', 'attr_to_inst', 'can_cor.mean', 'can_cor.sd', 'cat_to_num', 'class_conc.mean', 'class_conc.sd', 'class_ent', 'cor.mean', 'cor.sd', 'cov.mean', 'cov.sd', 'eigenvalues.mean', 'eigenvalues.sd', 'eq_num_attr', 'freq_class.mean', 'freq_class.sd', 'g_mean.mean', 'g_mean.sd', 'gravity', 'h_mean.mean', 'h_mean.sd', 'inst_to_attr', 'iq_range.mean', 'iq_range.sd', 'joint_ent.mean', 'joint_ent.sd', 'kurtosis.mean', 'kurtosis.sd', 'lh_trace', 'mad.mean', 'mad.sd', 'max.mean', 'max.sd', 'mean.mean', 'mean.sd', 'median.mean', 'median.sd', 'min.mean', 'min.sd', 'mut_inf.mean', 'mut_inf.sd', 'nr_attr', 'nr_bin', 'nr_cat', 'nr_class', 'nr_cor_attr', 'nr_disc', 'nr_inst', 'nr_norm', 'nr_num', 'nr_outliers', 'ns_ratio', 'num_to_cat', 'p_trace', 'range.mean', 'range.sd', 'roy_root', 'sd.mean', 'sd.sd', 'sd_ratio', 'skewness.mean', 'skewness.sd', 'sparsity.mean', 'sparsity.sd', 't_mean.mean', 't_mean.sd', 'var.mean', 'var.sd', 'w_lambda'], [0.001255172946654221, 0.004014686412329668, 1.5240827424521877, 0.7810860891673965, 1.8e-05, 0.15101147632795406, 0.18307034884130285, 5.0, 0.010035718654841319, 0.012150700052807717, 1.2562056674968565, 0.026922704024632097, 0.06806871378691375, 0.006041947448878075, 0.014803804190609258, 0.35671465808812614, 0.7379048632487815, 115.88694030615163, 0.24999999999999997, 0.26733878774443987, 0.181283156456188, 0.5961044395855387, 0.6947746419815656, 0.15406594271147223, 0.5023902366503468, 55555.555555555555, 0.6822753712121212, 0.7069818965094137, 2.7694484855867456, 0.7795139716707674, -0.13745942163537686, 2.1571685391402236, 0.2284652909057437, 0.08985454545454545, 0.3592426417921711, 1.4165674545454545, 1.6180503030356685, 0.48805825258314955, 0.6449206725831589, 0.30303030303030304, 0.5854938345559502, 0.09090909090909091, 0.2919371040605711, 0.010839924362298255, 0.010070649745584083, 18, 9, 15, 4, 0.005681818181818182, 4, 1000000, 0, 3, 13, 139.5990200220415, 0.2, 0.1917621218056219, 1.3256583636363637, 1.3864523354981821, 0.21023303885695205, 0.5098931040113803, 0.3158263693668481, nan, 1.0229869394604763, 0.8868041985654489, 0.36805509585724644, 0.15541004901582023, 0.3741718425648491, 0.6133776155584496, 0.35671465808800357, 0.7321752376125304, 0.8114330790465761]) \n",
      "\n",
      "======================= FIM DO DATASET  1402  ======================= \n",
      "\n",
      "Dataset 1403 :  https://www.openml.org/data/v1/download/584466/BNG(lymph,1000,5).arff\n"
     ]
    },
    {
     "name": "stderr",
     "output_type": "stream",
     "text": [
      " * Warning: It is not possible make equal discretization\n"
     ]
    },
    {
     "name": "stdout",
     "output_type": "stream",
     "text": [
      "(['attr_conc.mean', 'attr_conc.sd', 'attr_ent.mean', 'attr_ent.sd', 'attr_to_inst', 'can_cor.mean', 'can_cor.sd', 'cat_to_num', 'class_conc.mean', 'class_conc.sd', 'class_ent', 'cor.mean', 'cor.sd', 'cov.mean', 'cov.sd', 'eigenvalues.mean', 'eigenvalues.sd', 'eq_num_attr', 'freq_class.mean', 'freq_class.sd', 'g_mean.mean', 'g_mean.sd', 'gravity', 'h_mean.mean', 'h_mean.sd', 'inst_to_attr', 'iq_range.mean', 'iq_range.sd', 'joint_ent.mean', 'joint_ent.sd', 'kurtosis.mean', 'kurtosis.sd', 'lh_trace', 'mad.mean', 'mad.sd', 'max.mean', 'max.sd', 'mean.mean', 'mean.sd', 'median.mean', 'median.sd', 'min.mean', 'min.sd', 'mut_inf.mean', 'mut_inf.sd', 'nr_attr', 'nr_bin', 'nr_cat', 'nr_class', 'nr_cor_attr', 'nr_disc', 'nr_inst', 'nr_norm', 'nr_num', 'nr_outliers', 'ns_ratio', 'num_to_cat', 'p_trace', 'range.mean', 'range.sd', 'roy_root', 'sd.mean', 'sd.sd', 'sd_ratio', 'skewness.mean', 'skewness.sd', 'sparsity.mean', 'sparsity.sd', 't_mean.mean', 't_mean.sd', 'var.mean', 'var.sd', 'w_lambda'], [0.0005481667644691035, 0.0016292225116424607, 1.5423969413727212, 0.8415275843479486, 1.8e-05, 0.0791597571345307, 0.09817268800322071, 5.0, 0.0019079494856995688, 0.003144380262224552, 1.2562056674968565, 0.021979954332463636, 0.06635931817328662, 0.004607881731473644, 0.013345767229827872, 0.37018224215903983, 0.8081969082128587, 520.8702122995006, 0.24999999999999997, 0.26733878774443987, 0.18452092847984228, 0.6139222315593114, 0.22708633075402343, 0.15517224266237895, 0.509184234622451, 55555.555555555555, 0.7574080984848485, 0.7910585609418054, 2.796190864757832, 0.8410461931264097, -0.16370010274136304, 2.107265435825556, 0.0565164336337996, 0.13478181818181817, 0.569841842890719, 1.4165674545454545, 1.6180503030356685, 0.4895749333295747, 0.6736891491270499, 0.30303030303030304, 0.6839612783652524, 0.09090909090909091, 0.2919371040605711, 0.0024117441117453226, 0.003757426833258334, 18, 9, 15, 4, 0.003787878787878788, 4, 1000000, 0, 3, 12, 638.535900123552, 0.2, 0.05397869860772467, 1.3256583636363637, 1.3864523354981821, 0.05148414365275323, 0.513225408293278, 0.3318416151083956, 1.0069247774766943, 1.0331097653681214, 0.8624117193080402, 0.36805507138402166, 0.15541011038441818, 0.372111187965354, 0.6458221620785229, 0.370182242159255, 0.804123800015087, 0.9462708263253352]) \n",
      "\n",
      "======================= FIM DO DATASET  1403  ======================= \n",
      "\n",
      "Dataset 1453 :  https://www.openml.org/data/v1/download/1583319/PieChart3.arff\n"
     ]
    },
    {
     "name": "stderr",
     "output_type": "stream",
     "text": [
      " * Warning: It is not possible make equal discretization\n",
      " * Warning: Can't summarize feature 'can_cor' with summary 'sd'. Will set it as 'np.nan'.\n"
     ]
    },
    {
     "name": "stdout",
     "output_type": "stream",
     "text": [
      "(['attr_conc.mean', 'attr_conc.sd', 'attr_ent.mean', 'attr_ent.sd', 'attr_to_inst', 'can_cor.mean', 'can_cor.sd', 'cat_to_num', 'class_conc.mean', 'class_conc.sd', 'class_ent', 'cor.mean', 'cor.sd', 'cov.mean', 'cov.sd', 'eigenvalues.mean', 'eigenvalues.sd', 'eq_num_attr', 'freq_class.mean', 'freq_class.sd', 'g_mean.mean', 'g_mean.sd', 'gravity', 'h_mean.mean', 'h_mean.sd', 'inst_to_attr', 'iq_range.mean', 'iq_range.sd', 'joint_ent.mean', 'joint_ent.sd', 'kurtosis.mean', 'kurtosis.sd', 'lh_trace', 'mad.mean', 'mad.sd', 'max.mean', 'max.sd', 'mean.mean', 'mean.sd', 'median.mean', 'median.sd', 'min.mean', 'min.sd', 'mut_inf.mean', 'mut_inf.sd', 'nr_attr', 'nr_bin', 'nr_cat', 'nr_class', 'nr_cor_attr', 'nr_disc', 'nr_inst', 'nr_norm', 'nr_num', 'nr_outliers', 'ns_ratio', 'num_to_cat', 'p_trace', 'range.mean', 'range.sd', 'roy_root', 'sd.mean', 'sd.sd', 'sd_ratio', 'skewness.mean', 'skewness.sd', 'sparsity.mean', 'sparsity.sd', 't_mean.mean', 't_mean.sd', 'var.mean', 'var.sd', 'w_lambda'], [0.12707694667903136, 0.1706715607038118, 2.8958432722181375, 0.5521270568075152, 0.034354688950789226, 0.4720915198615147, nan, 0.0, 0.008754696508946511, 0.007421375311460088, 0.541933067099493, 0.38395279535377463, 0.3152406770928291, 18439177.341380145, 402976252.6064259, 5028721586.605631, 30588018637.156296, 12.307161905812638, 0.5, 0.5311507762116221, 205.03586725116912, 1055.4805305642674, 11913.302622378733, 63.72805378014573, 289.7137267653038, 29.10810810810811, 531.8867567567568, 2863.543862401054, 3.3937423799655937, 0.5377518221545529, 175.58086641392757, 191.64870005460196, 0.2867866621235476, 230.52506627027026, 1215.0195492225587, 367116.3527027027, 2095785.9504266, 1405.3119789706143, 7819.530037971727, 191.63837837837838, 977.3678728165582, 2.753783783783784, 6.502123307620942, 0.044033959352037085, 0.027855878465678344, 37, 0, 0, 2, 0.33183183183183185, 1, 1077, 0, 37, 34, 64.7638630464006, nan, 0.22287040312515494, 367113.598918919, 2095780.287071846, 0.2867866621235476, 12424.522860012326, 70779.59810357829, 1.3979920046008016, 9.110348869694267, 6.99225612680506, 0.01679064741143633, 0.02186484457664372, 255.7186536613893, 1329.8127121027328, 5028721586.605625, 30489586761.04293, 0.7771295968748451]) \n",
      "\n",
      "======================= FIM DO DATASET  1453  ======================= \n",
      "\n",
      "Dataset 1459 :  https://www.openml.org/data/v1/download/1586212/artificial-characters.arff\n"
     ]
    },
    {
     "name": "stderr",
     "output_type": "stream",
     "text": [
      " * Warning: It is not possible make equal discretization\n",
      " * Warning: Can't summarize feature 'g_mean' with summary 'sd'. Will set it as 'np.nan'.\n",
      " * Warning: Can't summarize feature 'g_mean' with summary 'mean'. Will set it as 'np.nan'.\n",
      " * Warning: Can't extract feature 'h_mean'.\n",
      " Exception message: ValueError('Harmonic mean only defined if all elements greater than or equal to zero').\n",
      " Will set it as 'np.nan' for all summary functions.\n",
      " * Warning: Can't summarize feature 'h_mean' with summary 'sd'. Will set it as 'np.nan'.\n",
      " * Warning: Mean of empty slice.\n",
      " * Warning: invalid value encountered in double_scalars\n",
      " * Warning: Can't summarize feature 'h_mean' with summary 'mean'. Will set it as 'np.nan'.\n",
      " * Warning: Can't extract feature 'sd_ratio'.\n",
      " Exception message: ValueError('math domain error').\n"
     ]
    },
    {
     "name": "stdout",
     "output_type": "stream",
     "text": [
      "(['attr_conc.mean', 'attr_conc.sd', 'attr_ent.mean', 'attr_ent.sd', 'attr_to_inst', 'can_cor.mean', 'can_cor.sd', 'cat_to_num', 'class_conc.mean', 'class_conc.sd', 'class_ent', 'cor.mean', 'cor.sd', 'cov.mean', 'cov.sd', 'eigenvalues.mean', 'eigenvalues.sd', 'eq_num_attr', 'freq_class.mean', 'freq_class.sd', 'g_mean.mean', 'g_mean.sd', 'gravity', 'h_mean.mean', 'h_mean.sd', 'inst_to_attr', 'iq_range.mean', 'iq_range.sd', 'joint_ent.mean', 'joint_ent.sd', 'kurtosis.mean', 'kurtosis.sd', 'lh_trace', 'mad.mean', 'mad.sd', 'max.mean', 'max.sd', 'mean.mean', 'mean.sd', 'median.mean', 'median.sd', 'min.mean', 'min.sd', 'mut_inf.mean', 'mut_inf.sd', 'nr_attr', 'nr_bin', 'nr_cat', 'nr_class', 'nr_cor_attr', 'nr_disc', 'nr_inst', 'nr_norm', 'nr_num', 'nr_outliers', 'ns_ratio', 'num_to_cat', 'p_trace', 'range.mean', 'range.sd', 'roy_root', 'sd.mean', 'sd.sd', 'sd_ratio', 'skewness.mean', 'skewness.sd', 'sparsity.mean', 'sparsity.sd', 't_mean.mean', 't_mean.sd', 'var.mean', 'var.sd', 'w_lambda'], [0.041306090031955324, 0.037822532351685346, 3.6394896828430947, 0.7954767342588771, 0.0006850655705617538, 0.30362705551750135, 0.21807635227276786, 0.0, 0.032530388180542824, 0.026762354894998227, 3.284826011062924, 0.25645080022254446, 0.16084041157752743, 24.699359227078503, 28.69279816472142, 104.81687874040743, 119.52930185143563, 12.932130135885611, 0.1, 0.023517747511023496, nan, nan, 28.234297795709576, nan, nan, 1459.7142857142858, 14.592857142857143, 7.053898955626631, 6.670310671025233, 0.7684252737299859, -0.040369070569142886, 0.628141172853055, 1.3734648982446584, 9.442044, 6.886792322500511, 51.131428571428565, 21.870899561267425, 15.677500209713951, 12.62872522011241, 13.745714285714286, 13.620057338526951, 1.8414285714285714, 5.3881983029934, 0.2540050228807858, 0.10448100334964158, 7, 0, 0, 10, 0.047619047619047616, 7, 10218, 0, 7, 7, 13.328416192585474, nan, 0.930669494419173, 49.29, 19.98161738532027, 0.7794524002675093, 9.504522285963189, 4.110282715180207, nan, 0.6736742468323281, 0.39810891035216467, 0.029053553537740803, 0.04301534590765365, 14.29627364644488, 13.09850229124683, 104.81687874040735, 67.29290057168566, 0.3275959575274286]) \n",
      "\n",
      "======================= FIM DO DATASET  1459  ======================= \n",
      "\n",
      "Dataset 1460 :  https://www.openml.org/data/v1/download/1586217/banana.arff\n"
     ]
    },
    {
     "name": "stderr",
     "output_type": "stream",
     "text": [
      " * Warning: Can't summarize feature 'can_cor' with summary 'sd'. Will set it as 'np.nan'.\n",
      " * Warning: Can't summarize feature 'cor' with summary 'sd'. Will set it as 'np.nan'.\n",
      " * Warning: Can't summarize feature 'cov' with summary 'sd'. Will set it as 'np.nan'.\n",
      " * Warning: Can't summarize feature 'g_mean' with summary 'sd'. Will set it as 'np.nan'.\n",
      " * Warning: Can't summarize feature 'g_mean' with summary 'mean'. Will set it as 'np.nan'.\n",
      " * Warning: Can't extract feature 'h_mean'.\n",
      " Exception message: ValueError('Harmonic mean only defined if all elements greater than or equal to zero').\n",
      " Will set it as 'np.nan' for all summary functions.\n",
      " * Warning: Can't summarize feature 'h_mean' with summary 'sd'. Will set it as 'np.nan'.\n",
      " * Warning: Mean of empty slice.\n",
      " * Warning: invalid value encountered in double_scalars\n",
      " * Warning: Can't summarize feature 'h_mean' with summary 'mean'. Will set it as 'np.nan'.\n",
      " * Warning: Can't extract feature 'sd_ratio'.\n",
      " Exception message: ValueError('math domain error').\n"
     ]
    },
    {
     "name": "stdout",
     "output_type": "stream",
     "text": [
      "(['attr_conc.mean', 'attr_conc.sd', 'attr_ent.mean', 'attr_ent.sd', 'attr_to_inst', 'can_cor.mean', 'can_cor.sd', 'cat_to_num', 'class_conc.mean', 'class_conc.sd', 'class_ent', 'cor.mean', 'cor.sd', 'cov.mean', 'cov.sd', 'eigenvalues.mean', 'eigenvalues.sd', 'eq_num_attr', 'freq_class.mean', 'freq_class.sd', 'g_mean.mean', 'g_mean.sd', 'gravity', 'h_mean.mean', 'h_mean.sd', 'inst_to_attr', 'iq_range.mean', 'iq_range.sd', 'joint_ent.mean', 'joint_ent.sd', 'kurtosis.mean', 'kurtosis.sd', 'lh_trace', 'mad.mean', 'mad.sd', 'max.mean', 'max.sd', 'mean.mean', 'mean.sd', 'median.mean', 'median.sd', 'min.mean', 'min.sd', 'mut_inf.mean', 'mut_inf.sd', 'nr_attr', 'nr_bin', 'nr_cat', 'nr_class', 'nr_cor_attr', 'nr_disc', 'nr_inst', 'nr_norm', 'nr_num', 'nr_outliers', 'ns_ratio', 'num_to_cat', 'p_trace', 'range.mean', 'range.sd', 'roy_root', 'sd.mean', 'sd.sd', 'sd_ratio', 'skewness.mean', 'skewness.sd', 'sparsity.mean', 'sparsity.sd', 't_mean.mean', 't_mean.sd', 'var.mean', 'var.sd', 'w_lambda'], [0.016862050395637262, 2.9003311054329006e-05, 4.087139405187787, 0.0003787497915480664, 0.0003773584905660377, 0.08353888157619707, nan, 0.0, 0.007233538287071758, 0.00655763451540706, 0.992274432717632, 0.1894231666862359, nan, 0.18940770687104924, nan, 0.9999183972812922, 0.26786304127789423, 11.37493502024562, 0.5, 0.07311217284721283, nan, nan, 0.182955972884588, nan, nan, 2650.0, 1.635875, 0.14230523971379264, 4.99218042242203, 0.08099355510167446, -0.8454384885269186, 0.3016314489245473, 0.007027789886672192, 1.213322775, 0.11243623610367438, 3.0, 0.268700576850888, 1.665754716981215e-05, 1.288802170992869e-06, -0.026225, 0.015520993847044716, -2.74, 0.49497474683058307, 0.08723341548338848, 0.08061480531012638, 2, 0, 0, 2, 0.0, 1, 5300, 0, 2, 1, 45.852910464867506, nan, 0.006978744735001878, 5.74, 0.2262741699796954, 0.007027789886672192, 0.9999591946804574, 0.0001118508249570364, nan, 0.09722538775366614, 0.10103682942052805, 0.0003067863502949108, 3.100946084701694e-05, -0.02113167138364776, 0.03178830554753842, 0.9999183972812924, 0.00022369252169679817, 0.9930212552649982]) \n",
      "\n",
      "======================= FIM DO DATASET  1460  ======================= \n",
      "\n",
      "Dataset 1468 :  https://www.openml.org/data/v1/download/1586233/cnae-9.arff\n"
     ]
    },
    {
     "name": "stderr",
     "output_type": "stream",
     "text": [
      " * Warning: It is not possible make equal discretization\n",
      " * Warning: Can't extract feature 'sd_ratio'.\n",
      " Exception message: ValueError('math domain error').\n"
     ]
    },
    {
     "name": "stdout",
     "output_type": "stream",
     "text": [
      "(['attr_conc.mean', 'attr_conc.sd', 'attr_ent.mean', 'attr_ent.sd', 'attr_to_inst', 'can_cor.mean', 'can_cor.sd', 'cat_to_num', 'class_conc.mean', 'class_conc.sd', 'class_ent', 'cor.mean', 'cor.sd', 'cov.mean', 'cov.sd', 'eigenvalues.mean', 'eigenvalues.sd', 'eq_num_attr', 'freq_class.mean', 'freq_class.sd', 'g_mean.mean', 'g_mean.sd', 'gravity', 'h_mean.mean', 'h_mean.sd', 'inst_to_attr', 'iq_range.mean', 'iq_range.sd', 'joint_ent.mean', 'joint_ent.sd', 'kurtosis.mean', 'kurtosis.sd', 'lh_trace', 'mad.mean', 'mad.sd', 'max.mean', 'max.sd', 'mean.mean', 'mean.sd', 'median.mean', 'median.sd', 'min.mean', 'min.sd', 'mut_inf.mean', 'mut_inf.sd', 'nr_attr', 'nr_bin', 'nr_cat', 'nr_class', 'nr_cor_attr', 'nr_disc', 'nr_inst', 'nr_norm', 'nr_num', 'nr_outliers', 'ns_ratio', 'num_to_cat', 'p_trace', 'range.mean', 'range.sd', 'roy_root', 'sd.mean', 'sd.sd', 'sd_ratio', 'skewness.mean', 'skewness.sd', 'sparsity.mean', 'sparsity.sd', 't_mean.mean', 't_mean.sd', 'var.mean', 'var.sd', 'w_lambda'], [0.010574961597539682, 0.08165772452785358, 0.05016047631298641, 0.09735527785968318, 0.7925925925925926, 0.975140585425771, 0.013490445105709039, 0.0, 0.03493440556701106, 0.08257353597086124, 3.1699250014423126, 0.009671201445370207, 0.05118349364820653, 9.316976081229355e-05, 0.0007607643257915062, (0.008251031724950782+1.574942711531618e-36j), 0.03287467321924944, 195.16718775967658, 0.1111111111111111, 0.0, 0.0, 0.0, 1.5528870961320187, 0.0, 0.0, 1.2616822429906542, 0.0035046728971962616, 0.059130997217531026, 3.2038433776470283, 0.07164827220468538, 632.3340870224067, 420.22425159964297, 243.26231841286835, 0.0, 0.0, 1.147196261682243, 0.42639968487425317, 0.008213265835929387, 0.027450030340099178, 0.0, 0.0, 0.0, 0.0, 0.016242100108270607, 0.03919000488912909, 856, 759, 0, 9, 0.0026807673389080177, 8, 1080, 0, 856, 854, 2.0882999106405147, nan, 7.608467235520173, 1.147196261682243, 0.42639968487425317, 104.21995206967803, 0.06570782004442141, 0.0627543999354539, nan, 23.098081703077074, 9.92134074538514, 0.47930759703082654, 0.05752123249115583, 0.0009122245298257758, 0.015636942084460186, 0.008251031724950767, 0.024039432525589058, 8.566427945030294e-12]) \n",
      "\n",
      "======================= FIM DO DATASET  1468  ======================= \n",
      "\n",
      "Dataset 1471 :  https://www.openml.org/data/v1/download/1587924/eeg-eye-state.arff\n"
     ]
    },
    {
     "name": "stderr",
     "output_type": "stream",
     "text": [
      " * Warning: Can't summarize feature 'can_cor' with summary 'sd'. Will set it as 'np.nan'.\n",
      " * Warning: Can't extract feature 'sd_ratio'.\n",
      " Exception message: ValueError('math domain error').\n"
     ]
    },
    {
     "name": "stdout",
     "output_type": "stream",
     "text": [
      "(['attr_conc.mean', 'attr_conc.sd', 'attr_ent.mean', 'attr_ent.sd', 'attr_to_inst', 'can_cor.mean', 'can_cor.sd', 'cat_to_num', 'class_conc.mean', 'class_conc.sd', 'class_ent', 'cor.mean', 'cor.sd', 'cov.mean', 'cov.sd', 'eigenvalues.mean', 'eigenvalues.sd', 'eq_num_attr', 'freq_class.mean', 'freq_class.sd', 'g_mean.mean', 'g_mean.sd', 'gravity', 'h_mean.mean', 'h_mean.sd', 'inst_to_attr', 'iq_range.mean', 'iq_range.sd', 'joint_ent.mean', 'joint_ent.sd', 'kurtosis.mean', 'kurtosis.sd', 'lh_trace', 'mad.mean', 'mad.sd', 'max.mean', 'max.sd', 'mean.mean', 'mean.sd', 'median.mean', 'median.sd', 'min.mean', 'min.sd', 'mut_inf.mean', 'mut_inf.sd', 'nr_attr', 'nr_bin', 'nr_cat', 'nr_class', 'nr_cor_attr', 'nr_disc', 'nr_inst', 'nr_norm', 'nr_num', 'nr_outliers', 'ns_ratio', 'num_to_cat', 'p_trace', 'range.mean', 'range.sd', 'roy_root', 'sd.mean', 'sd.sd', 'sd_ratio', 'skewness.mean', 'skewness.sd', 'sparsity.mean', 'sparsity.sd', 't_mean.mean', 't_mean.sd', 'var.mean', 'var.sd', 'w_lambda'], [0.03238827307937743, 0.022685818254415485, 4.5761262431777014, 0.0036461810406245715, 0.0009345794392523365, 0.2931008443096861, nan, 0.0, 0.0013470658637618697, 0.0009525362365525642, 0.9924223733876091, 0.30603877402807095, 0.2558729626244785, 716516.9254157161, 3176922.6174872704, 7420472.1139095435, 16795382.498206694, 43.74985387409444, 0.5, 0.07241000015621918, 4302.501896556459, 194.89223521289796, 162.4833493284075, 4300.3537570743265, 192.6855242507572, 1070.0, 22.78428571428565, 5.764973432837068, 5.545864600837082, 0.015580345755943236, 8900.56072988043, 6196.462575717223, 0.0939819129770829, 16.888932000000047, 3.9480561854856204, 218879.11357142855, 262760.2748169859, 4316.882028546157, 194.21578510360376, 4299.120000000001, 194.98797083212787, 2073.186192857143, 1111.9695824263972, 0.022684015728227407, 0.016260608380585777, 14, 0, 0, 2, 0.2417582417582418, 1, 14980, 0, 14, 14, 200.73351570565552, nan, 0.08590810493505084, 216805.92737857142, 262994.5758962282, 0.0939819129770829, 1767.288482418947, 2151.2123500207663, nan, 71.72290023965098, 53.91795093276302, 0.0026828973468187296, 0.0006477201608949075, 4299.3993913313, 195.1834264532881, 7420472.113909543, 11625418.012141727, 0.9140918950649491]) \n",
      "\n",
      "======================= FIM DO DATASET  1471  ======================= \n",
      "\n",
      "Dataset 1475 :  https://www.openml.org/data/v1/download/1587932/first-order-theorem-proving.arff\n"
     ]
    },
    {
     "name": "stderr",
     "output_type": "stream",
     "text": [
      " * Warning: It is not possible make equal discretization\n",
      " * Warning: Can't summarize feature 'g_mean' with summary 'sd'. Will set it as 'np.nan'.\n",
      " * Warning: Can't summarize feature 'g_mean' with summary 'mean'. Will set it as 'np.nan'.\n",
      " * Warning: Can't extract feature 'h_mean'.\n",
      " Exception message: ValueError('Harmonic mean only defined if all elements greater than or equal to zero').\n",
      " Will set it as 'np.nan' for all summary functions.\n",
      " * Warning: Can't summarize feature 'h_mean' with summary 'sd'. Will set it as 'np.nan'.\n",
      " * Warning: Mean of empty slice.\n",
      " * Warning: invalid value encountered in double_scalars\n",
      " * Warning: Can't summarize feature 'h_mean' with summary 'mean'. Will set it as 'np.nan'.\n",
      " * Warning: Can't extract feature 'sd_ratio'.\n",
      " Exception message: ValueError('math domain error').\n"
     ]
    },
    {
     "name": "stdout",
     "output_type": "stream",
     "text": [
      "(['attr_conc.mean', 'attr_conc.sd', 'attr_ent.mean', 'attr_ent.sd', 'attr_to_inst', 'can_cor.mean', 'can_cor.sd', 'cat_to_num', 'class_conc.mean', 'class_conc.sd', 'class_ent', 'cor.mean', 'cor.sd', 'cov.mean', 'cov.sd', 'eigenvalues.mean', 'eigenvalues.sd', 'eq_num_attr', 'freq_class.mean', 'freq_class.sd', 'g_mean.mean', 'g_mean.sd', 'gravity', 'h_mean.mean', 'h_mean.sd', 'inst_to_attr', 'iq_range.mean', 'iq_range.sd', 'joint_ent.mean', 'joint_ent.sd', 'kurtosis.mean', 'kurtosis.sd', 'lh_trace', 'mad.mean', 'mad.sd', 'max.mean', 'max.sd', 'mean.mean', 'mean.sd', 'median.mean', 'median.sd', 'min.mean', 'min.sd', 'mut_inf.mean', 'mut_inf.sd', 'nr_attr', 'nr_bin', 'nr_cat', 'nr_class', 'nr_cor_attr', 'nr_disc', 'nr_inst', 'nr_norm', 'nr_num', 'nr_outliers', 'ns_ratio', 'num_to_cat', 'p_trace', 'range.mean', 'range.sd', 'roy_root', 'sd.mean', 'sd.sd', 'sd_ratio', 'skewness.mean', 'skewness.sd', 'sparsity.mean', 'sparsity.sd', 't_mean.mean', 't_mean.sd', 'var.mean', 'var.sd', 'w_lambda'], [0.13664928574029328, 0.13322248083351923, 3.3384448904073785, 0.9704795704032912, 0.008336057535142204, 0.2802225918077193, 0.10845439585902016, 0.0, 0.016210888014776388, 0.008580712869381444, 2.3000070580673455, 0.23782530348256703, 0.21736638050125515, 0.23252544314943976, 0.21345354257163993, 0.9902509755931408, 2.2624145141021774, 21.696626626609383, 0.16666666666666666, 0.12737275134258388, nan, nan, 1.443038132186836, nan, nan, 119.96078431372548, 0.6756467794117647, 0.48913726759554066, 5.532444360398956, 0.9411686177950987, 227.92792815917937, 589.3786755368322, 0.5095885154232805, 0.3209576376588235, 0.29598061854919616, 14.915953921568626, 15.456558922561268, -0.0005510331198841106, 0.019781702773370904, -0.1625565294117647, 0.28568472845641246, -1.176286705882353, 1.0212708527977343, 0.10600758807576792, 0.03752159360224129, 51, 0, 0, 6, 0.12705882352941175, 5, 6118, 0, 51, 46, 30.492508706275412, nan, 0.43967292872175856, 16.09224062745098, 15.025622348510323, 0.2549021921806091, 0.9916438519187989, 0.08385293957687127, nan, 7.437327695804745, 11.334262908999055, 0.006730694440604201, 0.010837519604526207, -0.1479718880291768, 0.19278017556477678, 0.9902509755931393, 0.19795607152624412, 0.6234937902983811]) \n",
      "\n",
      "======================= FIM DO DATASET  1475  ======================= \n",
      "\n",
      "Dataset 1479 :  https://www.openml.org/data/v1/download/1590101/hill-valley.arff\n"
     ]
    },
    {
     "name": "stderr",
     "output_type": "stream",
     "text": [
      " * Warning: Can't summarize feature 'can_cor' with summary 'sd'. Will set it as 'np.nan'.\n",
      " * Warning: overflow encountered in det\n",
      " * Warning: invalid value encountered in double_scalars\n"
     ]
    },
    {
     "name": "stdout",
     "output_type": "stream",
     "text": [
      "(['attr_conc.mean', 'attr_conc.sd', 'attr_ent.mean', 'attr_ent.sd', 'attr_to_inst', 'can_cor.mean', 'can_cor.sd', 'cat_to_num', 'class_conc.mean', 'class_conc.sd', 'class_ent', 'cor.mean', 'cor.sd', 'cov.mean', 'cov.sd', 'eigenvalues.mean', 'eigenvalues.sd', 'eq_num_attr', 'freq_class.mean', 'freq_class.sd', 'g_mean.mean', 'g_mean.sd', 'gravity', 'h_mean.mean', 'h_mean.sd', 'inst_to_attr', 'iq_range.mean', 'iq_range.sd', 'joint_ent.mean', 'joint_ent.sd', 'kurtosis.mean', 'kurtosis.sd', 'lh_trace', 'mad.mean', 'mad.sd', 'max.mean', 'max.sd', 'mean.mean', 'mean.sd', 'median.mean', 'median.sd', 'min.mean', 'min.sd', 'mut_inf.mean', 'mut_inf.sd', 'nr_attr', 'nr_bin', 'nr_cat', 'nr_class', 'nr_cor_attr', 'nr_disc', 'nr_inst', 'nr_norm', 'nr_num', 'nr_outliers', 'ns_ratio', 'num_to_cat', 'p_trace', 'range.mean', 'range.sd', 'roy_root', 'sd.mean', 'sd.sd', 'sd_ratio', 'skewness.mean', 'skewness.sd', 'sparsity.mean', 'sparsity.sd', 't_mean.mean', 't_mean.sd', 'var.mean', 'var.sd', 'w_lambda'], [0.8583819212309967, 0.02459406997733797, 3.3219151520622443, 1.0742467191165228e-05, 0.08250825082508251, 0.4219468878781917, nan, 0.0, 0.000898947237293261, 0.00015152284511476654, 1.0, 0.9919933989327925, 0.0029155138800905068, 321413810.379823, 4214483.481577022, 324040973.30327994, 3214420425.6287813, 170.79916304709408, 0.5, 0.0, 309.54303910025266, 0.788807028733382, 10626.280359506061, 11.398532260853212, 0.07634299216236992, 12.12, 5296.048925000001, 85.1031361398644, 4.316060322435682, 0.000991394718935549, 9.522204051899358, 0.5267282039703792, 0.21660299497590849, 435.79885398, 7.356219587509226, 118120.5013, 8456.065550609894, 8174.051207590756, 43.797162370655336, 295.926, 4.995310123738386, 0.8157, 0.10287046871349102, 0.005854829626561297, 0.0009904572983986959, 100, 0, 0, 2, 1.0, 1, 1212, 0, 100, 100, 566.3803276856916, nan, 0.17803917619009127, 118119.68559999998, 8456.075644278151, 0.21660299497590849, 18000.312937840914, 173.2267827418498, nan, 2.997243061692818, 0.05124921399822793, 3.064666020536082e-05, 3.6880263062941652e-06, 1398.336028296703, 7.514574694095167, 324040973.3032795, 6252530.355127093, 0.8219608238099088]) \n",
      "\n",
      "======================= FIM DO DATASET  1479  ======================= \n",
      "\n",
      "Dataset 1485 :  https://www.openml.org/data/v1/download/1590986/madelon.arff\n"
     ]
    },
    {
     "name": "stderr",
     "output_type": "stream",
     "text": [
      " * Warning: It is not possible make equal discretization\n",
      " * Warning: Can't summarize feature 'can_cor' with summary 'sd'. Will set it as 'np.nan'.\n",
      " * Warning: overflow encountered in det\n",
      " * Warning: invalid value encountered in double_scalars\n"
     ]
    },
    {
     "name": "stdout",
     "output_type": "stream",
     "text": [
      "(['attr_conc.mean', 'attr_conc.sd', 'attr_ent.mean', 'attr_ent.sd', 'attr_to_inst', 'can_cor.mean', 'can_cor.sd', 'cat_to_num', 'class_conc.mean', 'class_conc.sd', 'class_ent', 'cor.mean', 'cor.sd', 'cov.mean', 'cov.sd', 'eigenvalues.mean', 'eigenvalues.sd', 'eq_num_attr', 'freq_class.mean', 'freq_class.sd', 'g_mean.mean', 'g_mean.sd', 'gravity', 'h_mean.mean', 'h_mean.sd', 'inst_to_attr', 'iq_range.mean', 'iq_range.sd', 'joint_ent.mean', 'joint_ent.sd', 'kurtosis.mean', 'kurtosis.sd', 'lh_trace', 'mad.mean', 'mad.sd', 'max.mean', 'max.sd', 'mean.mean', 'mean.sd', 'median.mean', 'median.sd', 'min.mean', 'min.sd', 'mut_inf.mean', 'mut_inf.sd', 'nr_attr', 'nr_bin', 'nr_cat', 'nr_class', 'nr_cor_attr', 'nr_disc', 'nr_inst', 'nr_norm', 'nr_num', 'nr_outliers', 'ns_ratio', 'num_to_cat', 'p_trace', 'range.mean', 'range.sd', 'roy_root', 'sd.mean', 'sd.sd', 'sd_ratio', 'skewness.mean', 'skewness.sd', 'sparsity.mean', 'sparsity.sd', 't_mean.mean', 't_mean.sd', 'var.mean', 'var.sd', 'w_lambda'], [0.004386708645843677, 0.000991794393642598, 3.6116386370003495, 0.32826613239648234, 0.19230769230769232, 0.5039281120705735, nan, 0.0, 0.00045761274331996925, 0.000527717739306322, 1.0, 0.01603795792792066, 0.02005116282851872, 12.086845183995719, 112.02993923090575, 909.886226439756, 2993.5077018034717, 257.5732319544539, 0.5, 0.0, 486.1568736430034, 23.780395112936976, 85.89101826006885, 485.23780799620135, 23.703100701380038, 5.2, 33.47, 24.752914243115985, 4.607756245990957, 0.32766329758987184, 0.078495081707016, 0.19129177955211724, 0.34038113263134334, 24.8528238, 18.31954281148679, 577.804, 66.37291851821232, 488.0610338461538, 9.925106711476635, 487.953, 9.790556725845779, 400.176, 54.13814645703718, 0.003882391009391953, 0.004694202671250744, 500, 0, 0, 2, 0.00039278557114228455, 1, 2600, 245, 500, 487, 929.2614363837587, nan, 0.2539435421350125, 177.628, 118.3025468922897, 0.34038113263134334, 24.752039667546956, 17.25741566767721, nan, 0.03291173450327098, 0.05456964847982362, 0.014255904472656044, 0.02414894182174305, 487.96033717948717, 9.834539759557693, 909.886226439755, 1616.396952763002, 0.7460564578649875]) \n",
      "\n",
      "======================= FIM DO DATASET  1485  ======================= \n",
      "\n",
      "Dataset 1486 :  https://www.openml.org/data/v1/download/1592278/nomao.arff\n"
     ]
    },
    {
     "name": "stderr",
     "output_type": "stream",
     "text": [
      " * Warning: It is not possible make equal discretization\n",
      " * Warning: Can't summarize feature 'can_cor' with summary 'sd'. Will set it as 'np.nan'.\n",
      " * Warning: Input data for shapiro has range zero. The results may not be accurate.\n",
      " * Warning: Can't extract feature 'sd_ratio'.\n",
      " Exception message: ValueError('math domain error').\n"
     ]
    },
    {
     "name": "stdout",
     "output_type": "stream",
     "text": [
      "(['attr_conc.mean', 'attr_conc.sd', 'attr_ent.mean', 'attr_ent.sd', 'attr_to_inst', 'can_cor.mean', 'can_cor.sd', 'cat_to_num', 'class_conc.mean', 'class_conc.sd', 'class_ent', 'cor.mean', 'cor.sd', 'cov.mean', 'cov.sd', 'eigenvalues.mean', 'eigenvalues.sd', 'eq_num_attr', 'freq_class.mean', 'freq_class.sd', 'g_mean.mean', 'g_mean.sd', 'gravity', 'h_mean.mean', 'h_mean.sd', 'inst_to_attr', 'iq_range.mean', 'iq_range.sd', 'joint_ent.mean', 'joint_ent.sd', 'kurtosis.mean', 'kurtosis.sd', 'lh_trace', 'mad.mean', 'mad.sd', 'max.mean', 'max.sd', 'mean.mean', 'mean.sd', 'median.mean', 'median.sd', 'min.mean', 'min.sd', 'mut_inf.mean', 'mut_inf.sd', 'nr_attr', 'nr_bin', 'nr_cat', 'nr_class', 'nr_cor_attr', 'nr_disc', 'nr_inst', 'nr_norm', 'nr_num', 'nr_outliers', 'ns_ratio', 'num_to_cat', 'p_trace', 'range.mean', 'range.sd', 'roy_root', 'sd.mean', 'sd.sd', 'sd_ratio', 'skewness.mean', 'skewness.sd', 'sparsity.mean', 'sparsity.sd', 't_mean.mean', 't_mean.sd', 'var.mean', 'var.sd', 'w_lambda'], [0.08300626743374857, 0.20977365704289214, 1.436203150572081, 1.1529686077883388, 0.003423763238067605, 0.841364918872331, nan, 0.3258426966292135, 0.03919086970717099, 0.051621048665377874, 0.8629999927875766, 0.169245599818307, 0.199943297668988, 0.011286049191201769, 0.019857267679073563, (0.07429358580158948+0j), 0.28583564737780465, 10.584410529511095, 0.5, 0.3031747252457163, 0.09843476504091526, 0.2679734911629352, 2.424285597397795, 0.08320476759282751, 0.2393662681267405, 292.0762711864407, 0.2302983287671233, 0.3696038199509104, 2.21766813577644, 1.1017058058694147, 248.9452198735443, 979.6828274435329, 2.4234256486327235, 0.04505382762328766, 0.13112009056225463, 1.0, 0.0, 0.603386151167058, 0.32284139817870516, 0.5858730479452054, 0.4119493388307861, 0.0061329931506849305, 0.02342644007909147, 0.0815350075832177, 0.08614596907994833, 118, 2, 29, 2, 0.06613131790269249, 1, 34465, 2, 89, 110, 16.614558373668363, 3.0689655172413794, 0.7078949267090441, 0.9938670068493151, 0.02342644007909147, 2.4234256486327235, 0.23734800817174512, 0.13447441206414962, nan, -2.6737682485821543, 15.554635311556165, 0.13056495610940008, 0.1529050316202347, 0.6012610569812362, 0.37128643466495637, 0.07429358580158665, 0.07443992292988945, 0.2921050732909559]) \n",
      "\n",
      "======================= FIM DO DATASET  1486  ======================= \n",
      "\n",
      "Dataset 1489 :  https://www.openml.org/data/v1/download/1592281/phoneme.arff\n"
     ]
    },
    {
     "name": "stderr",
     "output_type": "stream",
     "text": [
      " * Warning: It is not possible make equal discretization\n",
      " * Warning: Can't summarize feature 'can_cor' with summary 'sd'. Will set it as 'np.nan'.\n",
      " * Warning: Can't summarize feature 'g_mean' with summary 'sd'. Will set it as 'np.nan'.\n",
      " * Warning: Can't summarize feature 'g_mean' with summary 'mean'. Will set it as 'np.nan'.\n",
      " * Warning: Can't extract feature 'h_mean'.\n",
      " Exception message: ValueError('Harmonic mean only defined if all elements greater than or equal to zero').\n",
      " Will set it as 'np.nan' for all summary functions.\n",
      " * Warning: Can't summarize feature 'h_mean' with summary 'sd'. Will set it as 'np.nan'.\n",
      " * Warning: Mean of empty slice.\n",
      " * Warning: invalid value encountered in double_scalars\n",
      " * Warning: Can't summarize feature 'h_mean' with summary 'mean'. Will set it as 'np.nan'.\n"
     ]
    },
    {
     "name": "stdout",
     "output_type": "stream",
     "text": [
      "(['attr_conc.mean', 'attr_conc.sd', 'attr_ent.mean', 'attr_ent.sd', 'attr_to_inst', 'can_cor.mean', 'can_cor.sd', 'cat_to_num', 'class_conc.mean', 'class_conc.sd', 'class_ent', 'cor.mean', 'cor.sd', 'cov.mean', 'cov.sd', 'eigenvalues.mean', 'eigenvalues.sd', 'eq_num_attr', 'freq_class.mean', 'freq_class.sd', 'g_mean.mean', 'g_mean.sd', 'gravity', 'h_mean.mean', 'h_mean.sd', 'inst_to_attr', 'iq_range.mean', 'iq_range.sd', 'joint_ent.mean', 'joint_ent.sd', 'kurtosis.mean', 'kurtosis.sd', 'lh_trace', 'mad.mean', 'mad.sd', 'max.mean', 'max.sd', 'mean.mean', 'mean.sd', 'median.mean', 'median.sd', 'min.mean', 'min.sd', 'mut_inf.mean', 'mut_inf.sd', 'nr_attr', 'nr_bin', 'nr_cat', 'nr_class', 'nr_cor_attr', 'nr_disc', 'nr_inst', 'nr_norm', 'nr_num', 'nr_outliers', 'ns_ratio', 'num_to_cat', 'p_trace', 'range.mean', 'range.sd', 'roy_root', 'sd.mean', 'sd.sd', 'sd_ratio', 'skewness.mean', 'skewness.sd', 'sparsity.mean', 'sparsity.sd', 't_mean.mean', 't_mean.sd', 'var.mean', 'var.sd', 'w_lambda'], [0.057846174779953574, 0.026967389402486167, 4.025713145672159, 0.13807485858125956, 0.000925240562546262, 0.49779389300246785, nan, 0.0, 0.01076695956540087, 0.004208182014889237, 0.8731822577241407, 0.12608885703431166, 0.10832019670828154, 0.1260888577782344, 0.10832019700097263, 1.0000000092334422, 0.36371925042755504, 6.015372460973914, 0.5, 0.29205446624877385, nan, nan, 1.3019222951082818, nan, nan, 1080.8, 1.27689385, 0.40088217078750205, 4.75373693425925, 0.16057807461615423, 0.33708925020240743, 1.2240181631869778, 0.3294314695374413, 0.8669159536800001, 0.3288854727860956, 3.551564, 0.7522140137617087, -1.2287194670162342e-08, 3.122782162620287e-08, -0.197776, 0.12470175975402273, -2.7242244, 0.28821755508434943, 0.14515846913704972, 0.05517552157804449, 5, 0, 0, 2, 0.0, 1, 5404, 0, 5, 4, 26.73322954977796, nan, 0.24779875991055242, 6.275788400000001, 0.733731676820144, 0.3294314695374413, 1.0000000046167208, 6.790551905854402e-09, 1.234491992307173, 0.779032596267041, 0.550767099081751, 9.700101941377188e-06, 1.539682271528302e-05, -0.151913751972873, 0.09556086136207767, 1.000000009233442, 1.358110399772359e-08, 0.7522012400894476]) \n",
      "\n",
      "======================= FIM DO DATASET  1489  ======================= \n",
      "\n",
      "Dataset 1497 :  https://www.openml.org/data/v1/download/1592289/wall-robot-navigation.arff\n"
     ]
    },
    {
     "name": "stderr",
     "output_type": "stream",
     "text": [
      " * Warning: It is not possible make equal discretization\n"
     ]
    },
    {
     "name": "stdout",
     "output_type": "stream",
     "text": [
      "(['attr_conc.mean', 'attr_conc.sd', 'attr_ent.mean', 'attr_ent.sd', 'attr_to_inst', 'can_cor.mean', 'can_cor.sd', 'cat_to_num', 'class_conc.mean', 'class_conc.sd', 'class_ent', 'cor.mean', 'cor.sd', 'cov.mean', 'cov.sd', 'eigenvalues.mean', 'eigenvalues.sd', 'eq_num_attr', 'freq_class.mean', 'freq_class.sd', 'g_mean.mean', 'g_mean.sd', 'gravity', 'h_mean.mean', 'h_mean.sd', 'inst_to_attr', 'iq_range.mean', 'iq_range.sd', 'joint_ent.mean', 'joint_ent.sd', 'kurtosis.mean', 'kurtosis.sd', 'lh_trace', 'mad.mean', 'mad.sd', 'max.mean', 'max.sd', 'mean.mean', 'mean.sd', 'median.mean', 'median.sd', 'min.mean', 'min.sd', 'mut_inf.mean', 'mut_inf.sd', 'nr_attr', 'nr_bin', 'nr_cat', 'nr_class', 'nr_cor_attr', 'nr_disc', 'nr_inst', 'nr_norm', 'nr_num', 'nr_outliers', 'ns_ratio', 'num_to_cat', 'p_trace', 'range.mean', 'range.sd', 'roy_root', 'sd.mean', 'sd.sd', 'sd_ratio', 'skewness.mean', 'skewness.sd', 'sparsity.mean', 'sparsity.sd', 't_mean.mean', 't_mean.sd', 'var.mean', 'var.sd', 'w_lambda'], [0.08051055637612078, 0.03762756651345038, 3.791689823718931, 0.28195067551030906, 0.004398826979472141, 0.5128842556797628, 0.1218036254763379, 0.0, 0.03796060294263241, 0.01653761007648834, 1.714632742265977, 0.17213448136854795, 0.12133501249999441, 0.26791740354064836, 0.2115972251944802, 1.6148359860575532, 1.7636519820375873, 4.85825857204155, 0.25, 0.17086824003104314, 1.7480217434180811, 0.7342731764678583, 4.829027032994679, 1.5362247297804164, 0.6730462305572147, 227.33333333333334, 1.4267604166666665, 0.968529657912622, 5.1533910130755185, 0.28793610680893855, 2.363586003938769, 4.654139061494861, 1.204111441954268, 0.8468117, 0.5407901813193045, 5.008958333333333, 0.019043381063215636, 2.04579234634653, 0.7628345990620921, 1.6613749999999998, 0.7920730676933899, 0.6217916666666666, 0.27232620771015986, 0.35293155290938943, 0.13356748129092127, 24, 0, 0, 4, 0.021739130434782608, 3, 5456, 0, 24, 14, 9.743414105262497, nan, 0.8188230255309128, 4.387166666666666, 0.26828143345418426, 0.6384674228924001, 1.2512399704111543, 0.2266608786628666, 1.501657945996512, 1.521420721585599, 1.0854695211550245, 0.00046096017060357164, 0.00015935048561201777, 1.747510664834046, 0.8264562238374003, 1.6148359860575532, 0.5631045655238023, 0.3736806874382841]) \n",
      "\n",
      "======================= FIM DO DATASET  1497  ======================= \n",
      "\n",
      "Dataset 1502 :  https://www.openml.org/data/v1/download/1592294/skin-segmentation.arff\n"
     ]
    },
    {
     "name": "stderr",
     "output_type": "stream",
     "text": [
      " * Warning: It is not possible make equal discretization\n",
      " * Warning: Can't summarize feature 'can_cor' with summary 'sd'. Will set it as 'np.nan'.\n",
      " * Warning: Can't extract feature 'sd_ratio'.\n",
      " Exception message: ValueError('math domain error').\n"
     ]
    },
    {
     "name": "stdout",
     "output_type": "stream",
     "text": [
      "(['attr_conc.mean', 'attr_conc.sd', 'attr_ent.mean', 'attr_ent.sd', 'attr_to_inst', 'can_cor.mean', 'can_cor.sd', 'cat_to_num', 'class_conc.mean', 'class_conc.sd', 'class_ent', 'cor.mean', 'cor.sd', 'cov.mean', 'cov.sd', 'eigenvalues.mean', 'eigenvalues.sd', 'eq_num_attr', 'freq_class.mean', 'freq_class.sd', 'g_mean.mean', 'g_mean.sd', 'gravity', 'h_mean.mean', 'h_mean.sd', 'inst_to_attr', 'iq_range.mean', 'iq_range.sd', 'joint_ent.mean', 'joint_ent.sd', 'kurtosis.mean', 'kurtosis.sd', 'lh_trace', 'mad.mean', 'mad.sd', 'max.mean', 'max.sd', 'mean.mean', 'mean.sd', 'median.mean', 'median.sd', 'min.mean', 'min.sd', 'mut_inf.mean', 'mut_inf.sd', 'nr_attr', 'nr_bin', 'nr_cat', 'nr_class', 'nr_cor_attr', 'nr_disc', 'nr_inst', 'nr_norm', 'nr_num', 'nr_outliers', 'ns_ratio', 'num_to_cat', 'p_trace', 'range.mean', 'range.sd', 'roy_root', 'sd.mean', 'sd.sd', 'sd_ratio', 'skewness.mean', 'skewness.sd', 'sparsity.mean', 'sparsity.sd', 't_mean.mean', 't_mean.sd', 'var.mean', 'var.sd', 'w_lambda'], [0.14890441978750954, 0.037537643249412285, 5.90910259675385, 0.020517925218954316, 1.2242049808819989e-05, 0.7152770165513425, nan, 0.0, 0.004893175929660432, 0.0032730154559852246, 0.7367531276768885, 0.6705749113180485, 0.17966628907309554, 2768.3080496921684, 482.86545581251636, 4244.660397363434, 4925.254582811969, 3.358896605343724, 0.5, 0.4136016474065158, 0.0, 0.0, 104.4783402496892, 0.0, 0.0, 81685.66666666667, 97.33333333333333, 9.451631252505218, 6.426511929654567, 0.13720647597806318, -0.7938755909235892, 0.16874994951411565, 1.0475909710012774, 59.303999999999995, 9.01830372742014, 255.0, 0.0, 126.91664116239623, 4.932873385875704, 140.0, 12.529964086141668, 0.0, 0.0, 0.2193437947761702, 0.12111715975854595, 3, 0, 0, 2, 0.6666666666666666, 1, 245057, 0, 3, 0, 25.939912308820066, nan, 0.5116212104065895, 255.0, 0.0, 1.0475909710012774, 64.9196716061848, 6.718999468882441, nan, -0.33402096543633036, 0.2921299351430892, 0.0039021852403124187, 0.0, 132.68670497954, 9.387159833959645, 4244.660397363438, 895.1124145630861, 0.4883787895934106]) \n",
      "\n",
      "======================= FIM DO DATASET  1502  ======================= \n",
      "\n",
      "Dataset 1503 :  https://www.openml.org/data/v1/download/1592295/spoken-arabic-digit.arff\n"
     ]
    },
    {
     "name": "stderr",
     "output_type": "stream",
     "text": [
      " * Warning: It is not possible make equal discretization\n",
      " * Warning: Can't summarize feature 'g_mean' with summary 'sd'. Will set it as 'np.nan'.\n",
      " * Warning: Can't summarize feature 'g_mean' with summary 'mean'. Will set it as 'np.nan'.\n",
      " * Warning: Can't extract feature 'h_mean'.\n",
      " Exception message: ValueError('Harmonic mean only defined if all elements greater than or equal to zero').\n",
      " Will set it as 'np.nan' for all summary functions.\n",
      " * Warning: Can't summarize feature 'h_mean' with summary 'sd'. Will set it as 'np.nan'.\n",
      " * Warning: Mean of empty slice.\n",
      " * Warning: invalid value encountered in double_scalars\n",
      " * Warning: Can't summarize feature 'h_mean' with summary 'mean'. Will set it as 'np.nan'.\n",
      " * Warning: Input data for shapiro has range zero. The results may not be accurate.\n",
      " * Warning: Can't extract feature 'sd_ratio'.\n",
      " Exception message: ValueError('math domain error').\n"
     ]
    },
    {
     "name": "stdout",
     "output_type": "stream",
     "text": [
      "(['attr_conc.mean', 'attr_conc.sd', 'attr_ent.mean', 'attr_ent.sd', 'attr_to_inst', 'can_cor.mean', 'can_cor.sd', 'cat_to_num', 'class_conc.mean', 'class_conc.sd', 'class_ent', 'cor.mean', 'cor.sd', 'cov.mean', 'cov.sd', 'eigenvalues.mean', 'eigenvalues.sd', 'eq_num_attr', 'freq_class.mean', 'freq_class.sd', 'g_mean.mean', 'g_mean.sd', 'gravity', 'h_mean.mean', 'h_mean.sd', 'inst_to_attr', 'iq_range.mean', 'iq_range.sd', 'joint_ent.mean', 'joint_ent.sd', 'kurtosis.mean', 'kurtosis.sd', 'lh_trace', 'mad.mean', 'mad.sd', 'max.mean', 'max.sd', 'mean.mean', 'mean.sd', 'median.mean', 'median.sd', 'min.mean', 'min.sd', 'mut_inf.mean', 'mut_inf.sd', 'nr_attr', 'nr_bin', 'nr_cat', 'nr_class', 'nr_cor_attr', 'nr_disc', 'nr_inst', 'nr_norm', 'nr_num', 'nr_outliers', 'ns_ratio', 'num_to_cat', 'p_trace', 'range.mean', 'range.sd', 'roy_root', 'sd.mean', 'sd.sd', 'sd_ratio', 'skewness.mean', 'skewness.sd', 'sparsity.mean', 'sparsity.sd', 't_mean.mean', 't_mean.sd', 'var.mean', 'var.sd', 'w_lambda'], [0.0031077189165181073, 0.00227485396102503, 5.642855351500595, 1.3363121323873408, 5.318017443097213e-05, 0.011539750086006127, 0.009843902259155123, 0.0, 3.8864522825938e-05, 5.737860094132726e-06, 3.321913459690609, 0.1985406116656225, 0.14298854377293194, 0.2494907474668933, 0.3756385778108216, 1.5743311966409768, 2.7046707700148747, 2034.6719831480555, 0.1, 0.000474656494414315, nan, nan, 0.15839206810099413, nan, nan, 18804.0, 1.439618017857143, 0.7846151629818795, 8.963136158121221, 1.3358480820315795, -0.07430556593030586, 0.7811745047168628, 0.0019751087312241964, 1.0020329482499999, 0.6272093722112224, 4.037185714285714, 2.376076492182711, -0.3030731541899465, 1.1517246048366874, -0.1852485714285714, 1.2235613119110518, -4.62705, 3.533417498628684, 0.0016326530699808067, 0.0005156167184311893, 14, 1, 0, 10, 0.04395604395604396, 9, 263256, 1, 14, 13, 3455.248884257408, nan, 0.0019737117819297006, 8.664235714285715, 5.839605279417061, 0.0010487410322271447, 1.0689904235899312, 0.6817550537341068, nan, -0.15289842259061168, 0.2703896308795728, 0.03571745688777382, 0.13362916157925, -0.24328685358124158, 1.161423364714076, 1.5743311966409765, 2.118974444251192, 0.9980275378231308]) \n",
      "\n",
      "======================= FIM DO DATASET  1503  ======================= \n",
      "\n",
      "Dataset 1507 :  https://www.openml.org/data/v1/download/1592299/twonorm.arff\n"
     ]
    },
    {
     "name": "stderr",
     "output_type": "stream",
     "text": [
      " * Warning: Can't summarize feature 'can_cor' with summary 'sd'. Will set it as 'np.nan'.\n",
      " * Warning: Can't summarize feature 'g_mean' with summary 'sd'. Will set it as 'np.nan'.\n",
      " * Warning: Can't summarize feature 'g_mean' with summary 'mean'. Will set it as 'np.nan'.\n",
      " * Warning: Can't extract feature 'h_mean'.\n",
      " Exception message: ValueError('Harmonic mean only defined if all elements greater than or equal to zero').\n",
      " Will set it as 'np.nan' for all summary functions.\n",
      " * Warning: Can't summarize feature 'h_mean' with summary 'sd'. Will set it as 'np.nan'.\n",
      " * Warning: Mean of empty slice.\n",
      " * Warning: invalid value encountered in double_scalars\n",
      " * Warning: Can't summarize feature 'h_mean' with summary 'mean'. Will set it as 'np.nan'.\n"
     ]
    },
    {
     "name": "stdout",
     "output_type": "stream",
     "text": [
      "(['attr_conc.mean', 'attr_conc.sd', 'attr_ent.mean', 'attr_ent.sd', 'attr_to_inst', 'can_cor.mean', 'can_cor.sd', 'cat_to_num', 'class_conc.mean', 'class_conc.sd', 'class_ent', 'cor.mean', 'cor.sd', 'cov.mean', 'cov.sd', 'eigenvalues.mean', 'eigenvalues.sd', 'eq_num_attr', 'freq_class.mean', 'freq_class.sd', 'g_mean.mean', 'g_mean.sd', 'gravity', 'h_mean.mean', 'h_mean.sd', 'inst_to_attr', 'iq_range.mean', 'iq_range.sd', 'joint_ent.mean', 'joint_ent.sd', 'kurtosis.mean', 'kurtosis.sd', 'lh_trace', 'mad.mean', 'mad.sd', 'max.mean', 'max.sd', 'mean.mean', 'mean.sd', 'median.mean', 'median.sd', 'min.mean', 'min.sd', 'mut_inf.mean', 'mut_inf.sd', 'nr_attr', 'nr_bin', 'nr_cat', 'nr_class', 'nr_cor_attr', 'nr_disc', 'nr_inst', 'nr_norm', 'nr_num', 'nr_outliers', 'ns_ratio', 'num_to_cat', 'p_trace', 'range.mean', 'range.sd', 'roy_root', 'sd.mean', 'sd.sd', 'sd_ratio', 'skewness.mean', 'skewness.sd', 'sparsity.mean', 'sparsity.sd', 't_mean.mean', 't_mean.sd', 'var.mean', 'var.sd', 'w_lambda'], [0.003983337437842627, 0.0002654898394975441, 4.247925376656694, 1.0512397047356464e-06, 0.002702702702702703, 0.8950092991852798, nan, 0.0, 0.009455556276649079, 0.0004718417383463891, 0.999999525775866, 0.16636258457235792, 0.01089160178061587, 0.19858350255358054, 0.013064134842820756, 1.193806728209381, 0.8902220954770225, 7.571078800905083, 0.5, 0.0005733298225837206, nan, nan, 3.9890843611181466, nan, nan, 370.0, 1.48519375, 0.020420228095212985, 5.115843391716238, 0.006948865680974026, -0.06544161685574804, 0.0452941088313361, 4.026177478985848, 1.1012419215, 0.014230713874782553, 4.167355000000001, 0.43760666365921275, 0.0023114067567567556, 0.01141678621731396, -0.0008924999999999995, 0.01445648893640572, -3.98358, 0.24047186858122793, 0.1320815107163224, 0.006948792068107872, 20, 0, 0, 2, 0.0, 1, 7400, 18, 20, 20, 31.161393018740977, nan, 0.8010416456281257, 8.150935, 0.46875471789906475, 4.026177478985848, 1.092578990912652, 0.009054038102961688, 1.0013828866775658, 0.01156590096779964, 0.02589442418742953, 1.2923207864725413e-05, 5.100372081288905e-07, 0.0010194121621621582, 0.011732673847021601, 1.1938067282093807, 0.01979299361675781, 0.19895835437187429]) \n",
      "\n",
      "======================= FIM DO DATASET  1507  ======================= \n",
      "\n",
      "Dataset 1510 :  https://www.openml.org/data/v1/download/1592318/wdbc.arff\n"
     ]
    },
    {
     "name": "stderr",
     "output_type": "stream",
     "text": [
      " * Warning: Can't summarize feature 'can_cor' with summary 'sd'. Will set it as 'np.nan'.\n",
      " * Warning: Can't extract feature 'sd_ratio'.\n",
      " Exception message: ValueError('math domain error').\n"
     ]
    },
    {
     "name": "stdout",
     "output_type": "stream",
     "text": [
      "(['attr_conc.mean', 'attr_conc.sd', 'attr_ent.mean', 'attr_ent.sd', 'attr_to_inst', 'can_cor.mean', 'can_cor.sd', 'cat_to_num', 'class_conc.mean', 'class_conc.sd', 'class_ent', 'cor.mean', 'cor.sd', 'cov.mean', 'cov.sd', 'eigenvalues.mean', 'eigenvalues.sd', 'eq_num_attr', 'freq_class.mean', 'freq_class.sd', 'g_mean.mean', 'g_mean.sd', 'gravity', 'h_mean.mean', 'h_mean.sd', 'inst_to_attr', 'iq_range.mean', 'iq_range.sd', 'joint_ent.mean', 'joint_ent.sd', 'kurtosis.mean', 'kurtosis.sd', 'lh_trace', 'mad.mean', 'mad.sd', 'max.mean', 'max.sd', 'mean.mean', 'mean.sd', 'median.mean', 'median.sd', 'min.mean', 'min.sd', 'mut_inf.mean', 'mut_inf.sd', 'nr_attr', 'nr_bin', 'nr_cat', 'nr_class', 'nr_cor_attr', 'nr_disc', 'nr_inst', 'nr_norm', 'nr_num', 'nr_outliers', 'ns_ratio', 'num_to_cat', 'p_trace', 'range.mean', 'range.sd', 'roy_root', 'sd.mean', 'sd.sd', 'sd_ratio', 'skewness.mean', 'skewness.sd', 'sparsity.mean', 'sparsity.sd', 't_mean.mean', 't_mean.sd', 'var.mean', 'var.sd', 'w_lambda'], [0.07134913025691195, 0.11649813895214021, 2.999955970180525, 4.8835063889264575e-05, 0.05272407732864675, 0.8799571923747477, nan, 0.0, 0.05158464086252799, 0.03583982015886094, 0.9526351224018599, 0.394896630703918, 0.2638053656327699, 676.4651048491816, 9367.754876816345, 15063.218541913295, 80983.1658923516, 3.1052455419256693, 0.5, 0.18019417095263515, 54.205967045723625, 168.8528853807651, 1009.1627866986585, 48.40541217985295, 148.47946832600834, 18.966666666666665, 35.21501196666667, 120.48750179568795, 3.6458085500942636, 0.22568425948582174, 7.698004290153014, 12.717419171316568, 3.4311443236369885, 20.797861403199995, 70.00092902515408, 264.18550833333336, 883.8964955090008, 61.89071233954306, 195.861385983987, 50.799370566666674, 157.19118789388529, 15.604080399999999, 42.52496991277915, 0.306782542488121, 0.22569828738894582, 30, 0, 0, 2, 0.3333333333333333, 1, 569, 0, 30, 29, 8.778770153770036, nan, 0.7743246604120487, 248.58142793333337, 843.04594241171, 3.4311443236369885, 34.904718603211656, 119.67576524672921, nan, 1.7312412463356572, 1.2719951569968126, 0.0002087540337474961, 0.00015182160995835746, 53.29460552322644, 165.81689209219886, 15063.218541913287, 62593.54696118781, 0.22567533958795125]) \n",
      "\n",
      "======================= FIM DO DATASET  1510  ======================= \n",
      "\n",
      "Dataset 1525 :  https://www.openml.org/data/v1/download/1593721/wall-robot-navigation.arff\n"
     ]
    },
    {
     "name": "stderr",
     "output_type": "stream",
     "text": [
      " * Warning: Can't summarize feature 'cor' with summary 'sd'. Will set it as 'np.nan'.\n",
      " * Warning: Can't summarize feature 'cov' with summary 'sd'. Will set it as 'np.nan'.\n",
      " * Warning: Can't extract feature 'sd_ratio'.\n",
      " Exception message: ValueError('math domain error').\n"
     ]
    },
    {
     "name": "stdout",
     "output_type": "stream",
     "text": [
      "(['attr_conc.mean', 'attr_conc.sd', 'attr_ent.mean', 'attr_ent.sd', 'attr_to_inst', 'can_cor.mean', 'can_cor.sd', 'cat_to_num', 'class_conc.mean', 'class_conc.sd', 'class_ent', 'cor.mean', 'cor.sd', 'cov.mean', 'cov.sd', 'eigenvalues.mean', 'eigenvalues.sd', 'eq_num_attr', 'freq_class.mean', 'freq_class.sd', 'g_mean.mean', 'g_mean.sd', 'gravity', 'h_mean.mean', 'h_mean.sd', 'inst_to_attr', 'iq_range.mean', 'iq_range.sd', 'joint_ent.mean', 'joint_ent.sd', 'kurtosis.mean', 'kurtosis.sd', 'lh_trace', 'mad.mean', 'mad.sd', 'max.mean', 'max.sd', 'mean.mean', 'mean.sd', 'median.mean', 'median.sd', 'min.mean', 'min.sd', 'mut_inf.mean', 'mut_inf.sd', 'nr_attr', 'nr_bin', 'nr_cat', 'nr_class', 'nr_cor_attr', 'nr_disc', 'nr_inst', 'nr_norm', 'nr_num', 'nr_outliers', 'ns_ratio', 'num_to_cat', 'p_trace', 'range.mean', 'range.sd', 'roy_root', 'sd.mean', 'sd.sd', 'sd_ratio', 'skewness.mean', 'skewness.sd', 'sparsity.mean', 'sparsity.sd', 't_mean.mean', 't_mean.sd', 'var.mean', 'var.sd', 'w_lambda'], [0.04979859596525151, 0.0001664837016658145, 4.087168035111139, 2.0220226548252874e-05, 0.00036656891495601173, 0.6539617726223319, 0.044796107308108825, 0.0, 0.08065139420043504, 0.012414240383049505, 1.714632742265977, 0.028616744486548887, nan, 0.006144119654612114, nan, 0.2550615756063842, 0.19491792015842666, 1.9326006999604037, 0.25, 0.17086824003104314, 0.905563979103683, 0.3812697351136513, 0.9198388661445979, 0.8472372206406484, 0.34050753823621294, 2728.0, 0.47574999999999995, 0.30794500320674134, 4.914585564063209, 0.1647673654196395, 20.890973023616098, 24.221050303568543, 1.5191041312407123, 0.30801015000000004, 0.17140629000420327, 5.0, 0.0, 0.9857880315249268, 0.4306545980875751, 0.8507500000000001, 0.33764348801657657, 0.4175, 0.10960155108391484, 0.8872152133139077, 0.16478758564618837, 2, 0, 0, 4, 0.0, 2, 5456, 0, 2, 2, 3.606737997475082, nan, 0.8573386913326448, 4.5825, 0.10960155108391505, 0.887143709333167, 0.48464689789347515, 0.20089280708186558, nan, 3.3799435342224813, 2.3080663090726357, 0.0007106014636507427, 0.0004257385669976808, 0.8738821014050091, 0.3591566826919615, 0.2550615756063843, 0.19472415152267694, 0.3247023293580384]) \n",
      "\n",
      "======================= FIM DO DATASET  1525  ======================= \n",
      "\n",
      "Dataset 1526 :  https://www.openml.org/data/v1/download/1593722/wall-robot-navigation.arff\n",
      "(['attr_conc.mean', 'attr_conc.sd', 'attr_ent.mean', 'attr_ent.sd', 'attr_to_inst', 'can_cor.mean', 'can_cor.sd', 'cat_to_num', 'class_conc.mean', 'class_conc.sd', 'class_ent', 'cor.mean', 'cor.sd', 'cov.mean', 'cov.sd', 'eigenvalues.mean', 'eigenvalues.sd', 'eq_num_attr', 'freq_class.mean', 'freq_class.sd', 'g_mean.mean', 'g_mean.sd', 'gravity', 'h_mean.mean', 'h_mean.sd', 'inst_to_attr', 'iq_range.mean', 'iq_range.sd', 'joint_ent.mean', 'joint_ent.sd', 'kurtosis.mean', 'kurtosis.sd', 'lh_trace', 'mad.mean', 'mad.sd', 'max.mean', 'max.sd', 'mean.mean', 'mean.sd', 'median.mean', 'median.sd', 'min.mean', 'min.sd', 'mut_inf.mean', 'mut_inf.sd', 'nr_attr', 'nr_bin', 'nr_cat', 'nr_class', 'nr_cor_attr', 'nr_disc', 'nr_inst', 'nr_norm', 'nr_num', 'nr_outliers', 'ns_ratio', 'num_to_cat', 'p_trace', 'range.mean', 'range.sd', 'roy_root', 'sd.mean', 'sd.sd', 'sd_ratio', 'skewness.mean', 'skewness.sd', 'sparsity.mean', 'sparsity.sd', 't_mean.mean', 't_mean.sd', 'var.mean', 'var.sd', 'w_lambda'], [0.06997142797289727, 0.01428269884463013, 4.0872950327093545, 0.00014772492559038953, 0.0007331378299120235, 0.4667395832935779, 0.331006657873567, 0.0, 0.055326444700250686, 0.03102027543198726, 1.714632742265977, 0.1540138154906863, 0.11798034640318253, 0.050889388786547134, 0.042345168463264964, 0.3754599737463244, 0.2641263645532918, 2.890243479427637, 0.25, 0.17086824003104314, 1.1791184341069862, 0.481030370662969, 1.4320585507046701, 1.1013393166885017, 0.47100054053418333, 1364.0, 0.5577499999999999, 0.20265837428210717, 5.208679228799031, 0.3568470883568124, 12.337454737306045, 17.330502460634857, 1.5525972013729528, 0.37713637499999997, 0.1271415946040575, 5.0, 0.0, 1.2817708944281527, 0.4901692974964581, 1.1302500000000002, 0.4697961437332863, 0.5095, 0.22792469516633485, 0.5932485461763002, 0.3567127122798387, 4, 0, 0, 4, 0.0, 3, 5456, 0, 4, 4, 5.8896840271306825, nan, 0.8726683309524454, 4.4905, 0.22792469516633504, 0.9063733876728209, 0.5883942215354722, 0.1974916498150068, 2.0896850224464694, 2.534999641421448, 1.7570351367243786, 0.0005505070449322375, 0.00030770081118436805, 1.147621716554673, 0.46913908034787816, 0.3754599737463242, 0.23114232105045304, 0.3177153105663892]) \n",
      "\n",
      "======================= FIM DO DATASET  1526  ======================= \n",
      "\n",
      "Dataset 1547 :  https://www.openml.org/data/v1/download/1593743/autoUniv-au1-1000.arff\n"
     ]
    },
    {
     "name": "stderr",
     "output_type": "stream",
     "text": [
      " * Warning: It is not possible make equal discretization\n",
      " * Warning: Can't summarize feature 'can_cor' with summary 'sd'. Will set it as 'np.nan'.\n"
     ]
    },
    {
     "name": "stdout",
     "output_type": "stream",
     "text": [
      "(['attr_conc.mean', 'attr_conc.sd', 'attr_ent.mean', 'attr_ent.sd', 'attr_to_inst', 'can_cor.mean', 'can_cor.sd', 'cat_to_num', 'class_conc.mean', 'class_conc.sd', 'class_ent', 'cor.mean', 'cor.sd', 'cov.mean', 'cov.sd', 'eigenvalues.mean', 'eigenvalues.sd', 'eq_num_attr', 'freq_class.mean', 'freq_class.sd', 'g_mean.mean', 'g_mean.sd', 'gravity', 'h_mean.mean', 'h_mean.sd', 'inst_to_attr', 'iq_range.mean', 'iq_range.sd', 'joint_ent.mean', 'joint_ent.sd', 'kurtosis.mean', 'kurtosis.sd', 'lh_trace', 'mad.mean', 'mad.sd', 'max.mean', 'max.sd', 'mean.mean', 'mean.sd', 'median.mean', 'median.sd', 'min.mean', 'min.sd', 'mut_inf.mean', 'mut_inf.sd', 'nr_attr', 'nr_bin', 'nr_cat', 'nr_class', 'nr_cor_attr', 'nr_disc', 'nr_inst', 'nr_norm', 'nr_num', 'nr_outliers', 'ns_ratio', 'num_to_cat', 'p_trace', 'range.mean', 'range.sd', 'roy_root', 'sd.mean', 'sd.sd', 'sd_ratio', 'skewness.mean', 'skewness.sd', 'sparsity.mean', 'sparsity.sd', 't_mean.mean', 't_mean.sd', 'var.mean', 'var.sd', 'w_lambda'], [0.009221133039413104, 0.04238721185626928, 0.9592123537944506, 0.07292952564119239, 0.02, 0.3098739428558513, nan, 0.0, 0.0051445631252922275, 0.0075232116129703075, 0.8252336065126468, 0.039626417298428834, 0.060301828099375676, 0.00922940308729782, 0.012962196231160286, 0.23664914914914897, 0.07500853675554257, 220.2949677941479, 0.5, 0.34082546853191587, 0.0, 0.0, 0.34623249805005535, 0.0, 0.0, 50.0, 0.95, 0.22360679774997902, 1.7806999210090786, 0.07520183199228576, -1.7216515800213137, 0.5284566299955253, 0.10622144083041966, 0.0, 0.0, 1.0, 0.0, 0.4680000000000001, 0.11499885582954841, 0.55, 0.5104177855340404, 0.0, 0.0, 0.0037460392980187217, 0.005515203169380903, 20, 20, 0, 2, 0.005263157894736842, 1, 1000, 0, 20, 1, 255.0604087367096, nan, 0.0960218604610314, 1.0, 0.0, 0.10622144083041966, 0.4858075227371847, 0.02595948262214397, 1.0153044253897567, 0.14937754385795804, 0.5208832801367016, 0.4994994994994995, 0.0, 0.44666666666666666, 0.191664759715914, 0.2366491491491492, 0.024082327498004742, 0.9039781395389687]) \n",
      "\n",
      "======================= FIM DO DATASET  1547  ======================= \n",
      "\n",
      "Dataset 1549 :  https://www.openml.org/data/v1/download/1593745/autoUniv-au6-750.arff\n"
     ]
    },
    {
     "name": "stderr",
     "output_type": "stream",
     "text": [
      " * Warning: It is not possible make equal discretization\n",
      " * Warning: Can't extract feature 'sd_ratio'.\n",
      " Exception message: ValueError('math domain error').\n"
     ]
    },
    {
     "name": "stdout",
     "output_type": "stream",
     "text": [
      "(['attr_conc.mean', 'attr_conc.sd', 'attr_ent.mean', 'attr_ent.sd', 'attr_to_inst', 'can_cor.mean', 'can_cor.sd', 'cat_to_num', 'class_conc.mean', 'class_conc.sd', 'class_ent', 'cor.mean', 'cor.sd', 'cov.mean', 'cov.sd', 'eigenvalues.mean', 'eigenvalues.sd', 'eq_num_attr', 'freq_class.mean', 'freq_class.sd', 'g_mean.mean', 'g_mean.sd', 'gravity', 'h_mean.mean', 'h_mean.sd', 'inst_to_attr', 'iq_range.mean', 'iq_range.sd', 'joint_ent.mean', 'joint_ent.sd', 'kurtosis.mean', 'kurtosis.sd', 'lh_trace', 'mad.mean', 'mad.sd', 'max.mean', 'max.sd', 'mean.mean', 'mean.sd', 'median.mean', 'median.sd', 'min.mean', 'min.sd', 'mut_inf.mean', 'mut_inf.sd', 'nr_attr', 'nr_bin', 'nr_cat', 'nr_class', 'nr_cor_attr', 'nr_disc', 'nr_inst', 'nr_norm', 'nr_num', 'nr_outliers', 'ns_ratio', 'num_to_cat', 'p_trace', 'range.mean', 'range.sd', 'roy_root', 'sd.mean', 'sd.sd', 'sd_ratio', 'skewness.mean', 'skewness.sd', 'sparsity.mean', 'sparsity.sd', 't_mean.mean', 't_mean.sd', 'var.mean', 'var.sd', 'w_lambda'], [0.010060128296022326, 0.005006059372400407, 3.00278563223779, 0.5300692382977273, 0.05333333333333334, 0.23156895505844433, 0.05199406899852743, 0.08108108108108109, 0.009755331563998876, 0.003047888289142242, 2.893653383238954, 0.03280054696367478, 0.043736769955825726, 30296.859204277014, 583265.7156622678, 24662724.679940604, 111191987.22270183, 52.56261177049444, 0.12499999999999999, 0.053763739476897277, 3399.6746161355236, 11803.182074173526, 2362.6760082516075, 3128.981897127936, 10945.67224762145, 18.75, 2102.721505952381, 8687.239979388345, 5.841387462942148, 0.516378964780124, -0.8968575785841407, 0.6843747632093224, 0.4194996986882068, 1677.1191673999997, 7101.951738285695, 5980.194238095238, 21435.24365177026, 3681.8363674920643, 12757.915621912562, 3808.272119047619, 13189.315254998119, 2007.9649761904761, 7824.049888869496, 0.05505155253459609, 0.021863462654231804, 40, 2, 3, 8, 0.0023228803716608595, 7, 750, 0, 37, 8, 53.54497637193332, 12.333333333333334, 0.3915895658941604, 3972.229261904762, 16360.87907964127, 0.11192986202695308, 1185.693291570102, 4880.993391811433, nan, 0.012127644925043085, 0.5343501391960893, 0.04040861537466667, 0.1186100621415204, 3613.0276925925928, 12511.54048408512, 24662724.67994059, 111127619.03425379, 0.6668597328426035]) \n",
      "\n",
      "======================= FIM DO DATASET  1549  ======================= \n",
      "\n",
      "Dataset 1552 :  https://www.openml.org/data/v1/download/1593748/autoUniv-au7-1100.arff\n"
     ]
    },
    {
     "name": "stderr",
     "output_type": "stream",
     "text": [
      " * Warning: It is not possible make equal discretization\n",
      " * Warning: Can't extract feature 'sd_ratio'.\n",
      " Exception message: ValueError('math domain error').\n"
     ]
    },
    {
     "name": "stdout",
     "output_type": "stream",
     "text": [
      "(['attr_conc.mean', 'attr_conc.sd', 'attr_ent.mean', 'attr_ent.sd', 'attr_to_inst', 'can_cor.mean', 'can_cor.sd', 'cat_to_num', 'class_conc.mean', 'class_conc.sd', 'class_ent', 'cor.mean', 'cor.sd', 'cov.mean', 'cov.sd', 'eigenvalues.mean', 'eigenvalues.sd', 'eq_num_attr', 'freq_class.mean', 'freq_class.sd', 'g_mean.mean', 'g_mean.sd', 'gravity', 'h_mean.mean', 'h_mean.sd', 'inst_to_attr', 'iq_range.mean', 'iq_range.sd', 'joint_ent.mean', 'joint_ent.sd', 'kurtosis.mean', 'kurtosis.sd', 'lh_trace', 'mad.mean', 'mad.sd', 'max.mean', 'max.sd', 'mean.mean', 'mean.sd', 'median.mean', 'median.sd', 'min.mean', 'min.sd', 'mut_inf.mean', 'mut_inf.sd', 'nr_attr', 'nr_bin', 'nr_cat', 'nr_class', 'nr_cor_attr', 'nr_disc', 'nr_inst', 'nr_norm', 'nr_num', 'nr_outliers', 'ns_ratio', 'num_to_cat', 'p_trace', 'range.mean', 'range.sd', 'roy_root', 'sd.mean', 'sd.sd', 'sd_ratio', 'skewness.mean', 'skewness.sd', 'sparsity.mean', 'sparsity.sd', 't_mean.mean', 't_mean.sd', 'var.mean', 'var.sd', 'w_lambda'], [0.007870038277165838, 0.010361554600747164, 2.1560868625806235, 1.0446430316674014, 0.01090909090909091, 0.2633967736363765, 0.13079888984272595, 0.5, 0.022013616296540153, 0.02390341983993791, 2.2806595148216537, 0.051156623103565335, 0.10496638011944555, 25.77687810506527, 232.88019112821158, 150283.6619078771, 572460.5125507156, 55.16227840673474, 0.2, 0.05379406707893132, 551.067257666282, 1488.6460818324429, 118.2745296316648, 536.4458395369963, 1442.928941806664, 91.66666666666667, 211.60416666666666, 721.6882480384762, 4.3954018285421785, 1.0388552919887444, -0.9547453336690747, 1.296393366031105, 0.3789980565816984, 138.7871744, 490.34597069095514, 734.0740000000001, 2057.3351909094167, 566.2986515151514, 1535.6912446217432, 519.471, 1394.306538337504, 404.47266666666667, 1067.0656438601454, 0.04134454886009945, 0.02866834400936546, 12, 2, 4, 5, 0.009523809523809525, 4, 1100, 0, 8, 2, 51.14924148468353, 2.0, 0.3288364902004788, 329.60133333333334, 1125.725368042862, 0.21035763760166154, 112.332973859799, 384.0549136121929, nan, 0.47214048999721886, 0.7416240473471555, 0.2241040163609517, 0.20232530845455252, 562.5922050505051, 1525.6612958734402, 150283.66190787728, 572459.8000846555, 0.7029103886303446]) \n",
      "\n",
      "======================= FIM DO DATASET  1552  ======================= \n",
      "\n",
      "Dataset 1553 :  https://www.openml.org/data/v1/download/1593749/autoUniv-au7-700.arff\n"
     ]
    },
    {
     "name": "stderr",
     "output_type": "stream",
     "text": [
      " * Warning: It is not possible make equal discretization\n",
      " * Warning: Can't extract feature 'sd_ratio'.\n",
      " Exception message: ValueError('math domain error').\n"
     ]
    },
    {
     "name": "stdout",
     "output_type": "stream",
     "text": [
      "(['attr_conc.mean', 'attr_conc.sd', 'attr_ent.mean', 'attr_ent.sd', 'attr_to_inst', 'can_cor.mean', 'can_cor.sd', 'cat_to_num', 'class_conc.mean', 'class_conc.sd', 'class_ent', 'cor.mean', 'cor.sd', 'cov.mean', 'cov.sd', 'eigenvalues.mean', 'eigenvalues.sd', 'eq_num_attr', 'freq_class.mean', 'freq_class.sd', 'g_mean.mean', 'g_mean.sd', 'gravity', 'h_mean.mean', 'h_mean.sd', 'inst_to_attr', 'iq_range.mean', 'iq_range.sd', 'joint_ent.mean', 'joint_ent.sd', 'kurtosis.mean', 'kurtosis.sd', 'lh_trace', 'mad.mean', 'mad.sd', 'max.mean', 'max.sd', 'mean.mean', 'mean.sd', 'median.mean', 'median.sd', 'min.mean', 'min.sd', 'mut_inf.mean', 'mut_inf.sd', 'nr_attr', 'nr_bin', 'nr_cat', 'nr_class', 'nr_cor_attr', 'nr_disc', 'nr_inst', 'nr_norm', 'nr_num', 'nr_outliers', 'ns_ratio', 'num_to_cat', 'p_trace', 'range.mean', 'range.sd', 'roy_root', 'sd.mean', 'sd.sd', 'sd_ratio', 'skewness.mean', 'skewness.sd', 'sparsity.mean', 'sparsity.sd', 't_mean.mean', 't_mean.sd', 'var.mean', 'var.sd', 'w_lambda'], [0.019356643013818283, 0.0837644608741527, 1.9939727536725529, 0.9175609129917881, 0.017142857142857144, 0.2325851189287327, 0.16458497461065136, 0.5, 0.0076044502114941785, 0.009421450577726606, 1.5824160258653346, 0.06266994157539946, 0.1391499726389345, 18.268050673187183, 139.2885204511877, 138284.14032664517, 527219.6376972838, 65.96436091974644, 0.3333333333333333, 0.02408883784750807, 548.3321590480344, 1481.458270545017, 132.4183480179167, 535.5539171902478, 1441.4774942969066, 58.333333333333336, 192.76566666666668, 659.0788946077557, 3.5523998254450775, 0.8993143014711319, -0.3680647140727411, 3.307116894633191, 0.1523504195284316, 106.4709422, 389.00704230756554, 733.874, 2057.034204739574, 562.0213323809525, 1523.5794061769973, 514.8176666666667, 1382.3510794900767, 404.67266666666666, 1067.586222690278, 0.023988954092809805, 0.03979036538918968, 12, 2, 4, 3, 0.028571428571428574, 2, 700, 0, 8, 3, 82.12045393718124, 2.0, 0.13527988896177423, 329.20133333333337, 1124.9141324554935, 0.1386617431772107, 107.48702282159951, 368.4872748116772, nan, 0.5403115567440441, 1.0565718408492721, 0.2238796852951601, 0.2022157729220839, 551.9671984126984, 1494.7941153657227, 138284.14032664514, 527219.3595839059, 0.8663645538939592]) \n",
      "\n",
      "======================= FIM DO DATASET  1553  ======================= \n",
      "\n",
      "Dataset 1557 :  https://www.openml.org/data/v1/download/1593753/abalone.arff\n",
      "(['attr_conc.mean', 'attr_conc.sd', 'attr_ent.mean', 'attr_ent.sd', 'attr_to_inst', 'can_cor.mean', 'can_cor.sd', 'cat_to_num', 'class_conc.mean', 'class_conc.sd', 'class_ent', 'cor.mean', 'cor.sd', 'cov.mean', 'cov.sd', 'eigenvalues.mean', 'eigenvalues.sd', 'eq_num_attr', 'freq_class.mean', 'freq_class.sd', 'g_mean.mean', 'g_mean.sd', 'gravity', 'h_mean.mean', 'h_mean.sd', 'inst_to_attr', 'iq_range.mean', 'iq_range.sd', 'joint_ent.mean', 'joint_ent.sd', 'kurtosis.mean', 'kurtosis.sd', 'lh_trace', 'mad.mean', 'mad.sd', 'max.mean', 'max.sd', 'mean.mean', 'mean.sd', 'median.mean', 'median.sd', 'min.mean', 'min.sd', 'mut_inf.mean', 'mut_inf.sd', 'nr_attr', 'nr_bin', 'nr_cat', 'nr_class', 'nr_cor_attr', 'nr_disc', 'nr_inst', 'nr_norm', 'nr_num', 'nr_outliers', 'ns_ratio', 'num_to_cat', 'p_trace', 'range.mean', 'range.sd', 'roy_root', 'sd.mean', 'sd.sd', 'sd_ratio', 'skewness.mean', 'skewness.sd', 'sparsity.mean', 'sparsity.sd', 't_mean.mean', 't_mean.sd', 'var.mean', 'var.sd', 'w_lambda'], [0.20699102451289747, 0.09373275398469229, 3.6858601978872048, 0.8506318827364052, 0.0019152501795547043, 0.5037622978292419, 0.27630082248108195, 0.14285714285714285, 0.04274386596433081, 0.03608369657850622, 1.5839636149471126, 0.6180890260384994, 0.279383915280965, 0.03309499422962215, 0.03338524451209311, 0.10123704123286628, 0.1834604868442382, 4.776083811492232, 0.3333333333333333, 0.015151473033348765, 0.21461124853796484, 0.23476825583829872, 0.25431255722784124, 0.15614911919009875, 0.18421383994973078, 522.125, 0.47309999999999997, 0.4054515178579719, 4.9381789595476615, 0.7972702813266815, 7.262806104551084, 24.129134262829595, 1.0612486673194996, 0.12809663999999996, 0.16016609526006428, 1.16735, 0.6255472293209451, 0.3678923868805365, 0.19650139413856604, 0.26505, 0.2647489848894609, 0.013500000000000002, 0.027558019603092752, 0.33164485328665566, 0.06647883264907899, 8, 0, 1, 3, 0.6666666666666667, 2, 4177, 0, 7, 7, 10.113877273715293, 7.0, 0.583895049932118, 1.1538499999999998, 0.63526027255676, 0.9561502395885991, 0.2634800056984653, 0.18801692544969117, 1.212133953995422, 0.6468332982566813, 1.024701009900814, 0.04635930585503608, 0.1160771937911508, 0.3300370961308339, 0.20480419266133815, 0.10123704123286259, 0.10865956711122662, 0.4625906301521909]) \n",
      "\n",
      "======================= FIM DO DATASET  1557  ======================= \n",
      "\n",
      "Dataset 1558 :  https://www.openml.org/data/v1/download/1593754/bank-marketing.arff\n"
     ]
    },
    {
     "name": "stderr",
     "output_type": "stream",
     "text": [
      " * Warning: It is not possible make equal discretization\n",
      " * Warning: Can't summarize feature 'can_cor' with summary 'sd'. Will set it as 'np.nan'.\n",
      " * Warning: Can't summarize feature 'g_mean' with summary 'sd'. Will set it as 'np.nan'.\n",
      " * Warning: Can't summarize feature 'g_mean' with summary 'mean'. Will set it as 'np.nan'.\n",
      " * Warning: Can't extract feature 'h_mean'.\n",
      " Exception message: ValueError('Harmonic mean only defined if all elements greater than or equal to zero').\n",
      " Will set it as 'np.nan' for all summary functions.\n",
      " * Warning: Can't summarize feature 'h_mean' with summary 'sd'. Will set it as 'np.nan'.\n",
      " * Warning: Mean of empty slice.\n",
      " * Warning: invalid value encountered in double_scalars\n",
      " * Warning: Can't summarize feature 'h_mean' with summary 'mean'. Will set it as 'np.nan'.\n",
      " * Warning: Can't extract feature 'sd_ratio'.\n",
      " Exception message: ValueError('math domain error').\n"
     ]
    },
    {
     "name": "stdout",
     "output_type": "stream",
     "text": [
      "(['attr_conc.mean', 'attr_conc.sd', 'attr_ent.mean', 'attr_ent.sd', 'attr_to_inst', 'can_cor.mean', 'can_cor.sd', 'cat_to_num', 'class_conc.mean', 'class_conc.sd', 'class_ent', 'cor.mean', 'cor.sd', 'cov.mean', 'cov.sd', 'eigenvalues.mean', 'eigenvalues.sd', 'eq_num_attr', 'freq_class.mean', 'freq_class.sd', 'g_mean.mean', 'g_mean.sd', 'gravity', 'h_mean.mean', 'h_mean.sd', 'inst_to_attr', 'iq_range.mean', 'iq_range.sd', 'joint_ent.mean', 'joint_ent.sd', 'kurtosis.mean', 'kurtosis.sd', 'lh_trace', 'mad.mean', 'mad.sd', 'max.mean', 'max.sd', 'mean.mean', 'mean.sd', 'median.mean', 'median.sd', 'min.mean', 'min.sd', 'mut_inf.mean', 'mut_inf.sd', 'nr_attr', 'nr_bin', 'nr_cat', 'nr_class', 'nr_cor_attr', 'nr_disc', 'nr_inst', 'nr_norm', 'nr_num', 'nr_outliers', 'ns_ratio', 'num_to_cat', 'p_trace', 'range.mean', 'range.sd', 'roy_root', 'sd.mean', 'sd.sd', 'sd_ratio', 'skewness.mean', 'skewness.sd', 'sparsity.mean', 'sparsity.sd', 't_mean.mean', 't_mean.sd', 'var.mean', 'var.sd', 'w_lambda'], [0.021581560198526098, 0.08350903746032719, 2.052717856500049, 1.378662109721134, 0.0035390400353904005, 0.5385754782915124, nan, 1.2857142857142858, 0.00688246478857338, 0.007035449454522968, 0.5155217894467283, 0.05415346056570839, 0.08269255170603448, 22.66175690830305, 434.89745693675815, 212457.37930272263, 1381079.7086484777, 28.590240824079267, 0.5, 0.5441328227710681, nan, nan, 368.885675504326, nan, nan, 282.5625, 38.906976744186046, 216.95213581774303, 2.550208255703554, 1.3698841606537526, 25.91422829140156, 41.78203779896483, 0.40857677346729654, 19.170362790697673, 102.16957495213306, 1751.4651162790697, 10851.535121484047, 41.6851746115029, 219.43931267130236, 16.023255813953487, 72.72043283047792, -76.48837209302326, 505.32353483839694, 0.018031390243224032, 0.02593463848345993, 16, 3, 9, 2, 0.006644518272425249, 1, 4521, 0, 7, 35, 112.84135270831013, 0.7777777777777778, 0.2900635458169314, 1827.953488372093, 11356.363447851158, 0.40857677346729654, 79.14631206337788, 459.45903349555385, nan, 3.842432698759005, 3.3458107547109854, 0.18472128985672676, 0.1946507963391337, 19.983087460033087, 95.7201447984639, 212457.3793027237, 1381076.7595339725, 0.7099364541830686]) \n",
      "\n",
      "======================= FIM DO DATASET  1558  ======================= \n",
      "\n",
      "Dataset 1560 :  https://www.openml.org/data/v1/download/1593756/cardiotocography.arff\n"
     ]
    },
    {
     "name": "stderr",
     "output_type": "stream",
     "text": [
      " * Warning: It is not possible make equal discretization\n",
      " * Warning: Can't summarize feature 'g_mean' with summary 'sd'. Will set it as 'np.nan'.\n",
      " * Warning: Can't summarize feature 'g_mean' with summary 'mean'. Will set it as 'np.nan'.\n",
      " * Warning: Can't extract feature 'h_mean'.\n",
      " Exception message: ValueError('Harmonic mean only defined if all elements greater than or equal to zero').\n",
      " Will set it as 'np.nan' for all summary functions.\n",
      " * Warning: Can't summarize feature 'h_mean' with summary 'sd'. Will set it as 'np.nan'.\n",
      " * Warning: Mean of empty slice.\n",
      " * Warning: invalid value encountered in double_scalars\n",
      " * Warning: Can't summarize feature 'h_mean' with summary 'mean'. Will set it as 'np.nan'.\n",
      " * Warning: Can't extract feature 'sd_ratio'.\n",
      " Exception message: ValueError('math domain error').\n"
     ]
    },
    {
     "name": "stdout",
     "output_type": "stream",
     "text": [
      "(['attr_conc.mean', 'attr_conc.sd', 'attr_ent.mean', 'attr_ent.sd', 'attr_to_inst', 'can_cor.mean', 'can_cor.sd', 'cat_to_num', 'class_conc.mean', 'class_conc.sd', 'class_ent', 'cor.mean', 'cor.sd', 'cov.mean', 'cov.sd', 'eigenvalues.mean', 'eigenvalues.sd', 'eq_num_attr', 'freq_class.mean', 'freq_class.sd', 'g_mean.mean', 'g_mean.sd', 'gravity', 'h_mean.mean', 'h_mean.sd', 'inst_to_attr', 'iq_range.mean', 'iq_range.sd', 'joint_ent.mean', 'joint_ent.sd', 'kurtosis.mean', 'kurtosis.sd', 'lh_trace', 'mad.mean', 'mad.sd', 'max.mean', 'max.sd', 'mean.mean', 'mean.sd', 'median.mean', 'median.sd', 'min.mean', 'min.sd', 'mut_inf.mean', 'mut_inf.sd', 'nr_attr', 'nr_bin', 'nr_cat', 'nr_class', 'nr_cor_attr', 'nr_disc', 'nr_inst', 'nr_norm', 'nr_num', 'nr_outliers', 'ns_ratio', 'num_to_cat', 'p_trace', 'range.mean', 'range.sd', 'roy_root', 'sd.mean', 'sd.sd', 'sd_ratio', 'skewness.mean', 'skewness.sd', 'sparsity.mean', 'sparsity.sd', 't_mean.mean', 't_mean.sd', 'var.mean', 'var.sd', 'w_lambda'], [0.037133618879711464, 0.06369238276154522, 2.127211404036257, 1.4584979728272394, 0.016462841015992474, 0.9688883772418114, 0.03593202640363928, 0.0, 0.08163506096424201, 0.1507937060058727, 0.9742047584181182, 0.16656373286016293, 0.1676310247651317, 1402.7177609050052, 32240.68132139432, 47793.721852809416, 273716.9910703851, 8.83688301657604, 0.3333333333333333, 0.38650317318772354, nan, nan, 192.35632251970856, nan, nan, 60.74285714285714, 92.36999999999999, 338.44179754210234, 2.9911731325771287, 1.4356824214998625, 17.676318020943445, 52.53407083507405, 95.0146983400091, 51.68343599999999, 184.44809088047847, 273.5057142857143, 802.1952662915083, 106.21290686735655, 316.7994019245148, 82.3457142857143, 225.4099446405529, 25.60571428571429, 57.97824106485804, 0.11024302987724577, 0.08355939217580331, 35, 11, 0, 3, 0.05378151260504202, 2, 2126, 0, 35, 25, 18.295654395610132, nan, 1.8787804856300134, 247.9, 770.705356456401, 86.9109083582905, 60.49882589182836, 213.14704170293192, nan, 2.388815785610404, 3.4527271303051803, 0.18682983969344166, 0.22383217158035507, 94.90479175996417, 278.825566407405, 47793.72185280941, 196295.99021674646, 0.0012494963798696413]) \n",
      "\n",
      "======================= FIM DO DATASET  1560  ======================= \n",
      "\n",
      "Dataset 1568 :  https://www.openml.org/data/v1/download/1675984/nursery.arff\n"
     ]
    },
    {
     "name": "stderr",
     "output_type": "stream",
     "text": [
      " * Warning: divide by zero encountered in true_divide\n",
      " * Warning: Input data for shapiro has range zero. The results may not be accurate.\n",
      " * Warning: Can't extract feature 'sd_ratio'.\n",
      " Exception message: ValueError('math domain error').\n"
     ]
    },
    {
     "name": "stdout",
     "output_type": "stream",
     "text": [
      "(['attr_conc.mean', 'attr_conc.sd', 'attr_ent.mean', 'attr_ent.sd', 'attr_to_inst', 'can_cor.mean', 'can_cor.sd', 'cat_to_num', 'class_conc.mean', 'class_conc.sd', 'class_ent', 'cor.mean', 'cor.sd', 'cov.mean', 'cov.sd', 'eigenvalues.mean', 'eigenvalues.sd', 'eq_num_attr', 'freq_class.mean', 'freq_class.sd', 'g_mean.mean', 'g_mean.sd', 'gravity', 'h_mean.mean', 'h_mean.sd', 'inst_to_attr', 'iq_range.mean', 'iq_range.sd', 'joint_ent.mean', 'joint_ent.sd', 'kurtosis.mean', 'kurtosis.sd', 'lh_trace', 'mad.mean', 'mad.sd', 'max.mean', 'max.sd', 'mean.mean', 'mean.sd', 'median.mean', 'median.sd', 'min.mean', 'min.sd', 'mut_inf.mean', 'mut_inf.sd', 'nr_attr', 'nr_bin', 'nr_cat', 'nr_class', 'nr_cor_attr', 'nr_disc', 'nr_inst', 'nr_norm', 'nr_num', 'nr_outliers', 'ns_ratio', 'num_to_cat', 'p_trace', 'range.mean', 'range.sd', 'roy_root', 'sd.mean', 'sd.sd', 'sd_ratio', 'skewness.mean', 'skewness.sd', 'sparsity.mean', 'sparsity.sd', 't_mean.mean', 't_mean.sd', 'var.mean', 'var.sd', 'w_lambda'], [-3.791855126269726e-09, 2.079430012644892e-08, 1.7077222246278358, 0.39807606963682657, 0.0006173792251890724, 0.6124689010247569, 0.4212693595850314, nan, 0.08480273985873693, 0.18295902917943507, 1.7145838974189087, 0.034276367927617075, 0.11077223082574425, 0.006760000074406579, 0.022827066060170993, 0.20077884298763865, 0.10968820033452506, 10.632871680376272, 0.25, 0.1500749284857532, 0.0, 0.0, 1.2665776266230244, 0.0, 0.0, 1619.75, 0.725, 0.38814674381841996, 3.2610529865853906, 0.5187419165429252, -0.9257075592814562, 0.7270836860087013, inf, 0.0, 0.0, 1.0, 0.0, 0.29003318413335394, 0.07363199985845832, 0.05, 0.22360679774997894, 0.0, 0.0, 0.1612531354613539, 0.3285972692746836, 8, 1, 8, 4, 0.021052631578947368, 3, 12958, 1, 0, 4, 9.590319498234566, 0.0, 1.4802902108177851, 1.0, 0.0, inf, 0.44706849915251023, 0.030926058730485973, nan, 0.9643063859106388, 0.38997578335231325, 0.3166139281212215, 0.09042049009055, 0.1501093106995885, 0.12270106149252864, 0.2007788429876495, 0.027402561347459744, 0.0]) \n",
      "\n",
      "======================= FIM DO DATASET  1568  ======================= \n",
      "\n",
      "Dataset 1590 :  https://www.openml.org/data/v1/download/1595261/adult.arff\n"
     ]
    },
    {
     "name": "stderr",
     "output_type": "stream",
     "text": [
      " * Warning: It is not possible make equal discretization\n",
      " * Warning: Can't summarize feature 'can_cor' with summary 'sd'. Will set it as 'np.nan'.\n",
      " * Warning: Input data for shapiro has range zero. The results may not be accurate.\n",
      " * Warning: Can't extract feature 'sd_ratio'.\n",
      " Exception message: ValueError('math domain error').\n"
     ]
    },
    {
     "name": "stdout",
     "output_type": "stream",
     "text": [
      "(['attr_conc.mean', 'attr_conc.sd', 'attr_ent.mean', 'attr_ent.sd', 'attr_to_inst', 'can_cor.mean', 'can_cor.sd', 'cat_to_num', 'class_conc.mean', 'class_conc.sd', 'class_ent', 'cor.mean', 'cor.sd', 'cov.mean', 'cov.sd', 'eigenvalues.mean', 'eigenvalues.sd', 'eq_num_attr', 'freq_class.mean', 'freq_class.sd', 'g_mean.mean', 'g_mean.sd', 'gravity', 'h_mean.mean', 'h_mean.sd', 'inst_to_attr', 'iq_range.mean', 'iq_range.sd', 'joint_ent.mean', 'joint_ent.sd', 'kurtosis.mean', 'kurtosis.sd', 'lh_trace', 'mad.mean', 'mad.sd', 'max.mean', 'max.sd', 'mean.mean', 'mean.sd', 'median.mean', 'median.sd', 'min.mean', 'min.sd', 'mut_inf.mean', 'mut_inf.sd', 'nr_attr', 'nr_bin', 'nr_cat', 'nr_class', 'nr_cor_attr', 'nr_disc', 'nr_inst', 'nr_norm', 'nr_num', 'nr_outliers', 'ns_ratio', 'num_to_cat', 'p_trace', 'range.mean', 'range.sd', 'roy_root', 'sd.mean', 'sd.sd', 'sd_ratio', 'skewness.mean', 'skewness.sd', 'sparsity.mean', 'sparsity.sd', 't_mean.mean', 't_mean.sd', 'var.mean', 'var.sd', 'w_lambda'], [0.032627849433595, 0.12596846858439328, 2.2008956057226436, 1.5701645308706715, 0.0003095838308787758, 0.6066982755802478, nan, 1.3333333333333333, 0.027324919946337047, 0.03349175435174252, 0.8078429793961042, 0.0211005974396428, 0.04735624660115619, 802.6712857444943, 47893.448223510626, 115630416.07951067, 1133044493.0820563, 12.277032879240116, 0.5, 0.3566024778147894, 1651.4163651129213, 16255.8715779669, 4236.156180028665, 1304.2536102889478, 12837.404147907117, 3230.1428571428573, 1243.0077319587629, 12238.71842996163, 2.942937427188958, 1.560493420216017, 917.2234862376304, 4598.762831321107, 0.5824858006546546, 925.4939443298969, 9112.928943587713, 16443.82474226804, 151557.27100553786, 1969.2920389993558, 19263.609066435023, 1839.2474226804125, 18105.15129104084, 139.28865979381445, 1369.8860426963358, 0.06580115792979006, 0.053529791281836284, 14, 1, 8, 2, 0.001288659793814433, 1, 45222, 1, 6, 91, 32.44767288245904, 0.75, 0.3680827975920463, 16304.536082474227, 150190.4955123008, 0.5824858006546546, 1171.0502978667614, 10744.731536558014, nan, 17.290436361366904, 25.027957315615563, 0.10110448580678952, 0.13284272523065935, 1830.385786767315, 18017.668689807466, 115630416.07951137, 1133044394.890149, 0.6319172024079537]) \n",
      "\n",
      "======================= FIM DO DATASET  1590  ======================= \n",
      "\n",
      "Dataset 4534 :  https://www.openml.org/data/v1/download/1798106/PhishingWebsites.arff\n"
     ]
    },
    {
     "name": "stderr",
     "output_type": "stream",
     "text": [
      " * Warning: Can't summarize feature 'can_cor' with summary 'sd'. Will set it as 'np.nan'.\n",
      " * Warning: Input data for shapiro has range zero. The results may not be accurate.\n",
      " * Warning: Can't extract feature 'sd_ratio'.\n",
      " Exception message: ValueError('math domain error').\n"
     ]
    },
    {
     "name": "stdout",
     "output_type": "stream",
     "text": [
      "(['attr_conc.mean', 'attr_conc.sd', 'attr_ent.mean', 'attr_ent.sd', 'attr_to_inst', 'can_cor.mean', 'can_cor.sd', 'cat_to_num', 'class_conc.mean', 'class_conc.sd', 'class_ent', 'cor.mean', 'cor.sd', 'cov.mean', 'cov.sd', 'eigenvalues.mean', 'eigenvalues.sd', 'eq_num_attr', 'freq_class.mean', 'freq_class.sd', 'g_mean.mean', 'g_mean.sd', 'gravity', 'h_mean.mean', 'h_mean.sd', 'inst_to_attr', 'iq_range.mean', 'iq_range.sd', 'joint_ent.mean', 'joint_ent.sd', 'kurtosis.mean', 'kurtosis.sd', 'lh_trace', 'mad.mean', 'mad.sd', 'max.mean', 'max.sd', 'mean.mean', 'mean.sd', 'median.mean', 'median.sd', 'min.mean', 'min.sd', 'mut_inf.mean', 'mut_inf.sd', 'nr_attr', 'nr_bin', 'nr_cat', 'nr_class', 'nr_cor_attr', 'nr_disc', 'nr_inst', 'nr_norm', 'nr_num', 'nr_outliers', 'ns_ratio', 'num_to_cat', 'p_trace', 'range.mean', 'range.sd', 'roy_root', 'sd.mean', 'sd.sd', 'sd_ratio', 'skewness.mean', 'skewness.sd', 'sparsity.mean', 'sparsity.sd', 't_mean.mean', 't_mean.sd', 'var.mean', 'var.sd', 'w_lambda'], [0.024357002463815575, 0.06450208450367585, 0.8349962447495505, 0.3582633438876272, 0.0027137042062415195, 0.8686033075786115, nan, nan, 0.041168699065148646, 0.08832812549547535, 0.9906239227414301, 0.10071806313388108, 0.15551601912705834, 0.015701241033143794, 0.024716422354390352, 0.16296737362387964, 0.19399811273270381, 19.057489479881895, 0.5, 0.08052894052590348, 0.0, 0.0, 1.2444631483453146, 0.0, 0.0, 368.5, 0.38461538461538464, 0.49286405809014416, 1.7736393478878953, 0.3049238254679643, 3.097834097886029, 12.715935405292079, 3.0728503564700773, 0.0, 0.0, 1.0, 0.0, 0.5270964524695868, 0.29763156559079906, 0.5384615384615384, 0.5050353737560759, 0.0, 0.0, 0.05198081960308496, 0.12376967983803945, 30, 22, 30, 2, 0.04048582995951417, 1, 11055, 1, 0, 24, 15.063545190811018, 0.0, 0.7544717059365039, 1.0, 0.0, 3.0728503564700773, 0.39371419530452656, 0.09036530184462024, nan, -0.05610250113782961, 2.2865847213375727, 0.45550630239430673, 0.07496952235507244, 0.5353148785984607, 0.41436634503114167, 0.16296737362387637, 0.06502023378063246, 0.24552829406349608]) \n",
      "\n",
      "======================= FIM DO DATASET  4534  ======================= \n",
      "\n",
      "Dataset 4538 :  https://www.openml.org/data/v1/download/1798765/GesturePhaseSegmentationProcessed.arff\n"
     ]
    },
    {
     "name": "stderr",
     "output_type": "stream",
     "text": [
      " * Warning: Can't summarize feature 'g_mean' with summary 'sd'. Will set it as 'np.nan'.\n",
      " * Warning: Can't summarize feature 'g_mean' with summary 'mean'. Will set it as 'np.nan'.\n",
      " * Warning: Can't extract feature 'h_mean'.\n",
      " Exception message: ValueError('Harmonic mean only defined if all elements greater than or equal to zero').\n",
      " Will set it as 'np.nan' for all summary functions.\n",
      " * Warning: Can't summarize feature 'h_mean' with summary 'sd'. Will set it as 'np.nan'.\n",
      " * Warning: Mean of empty slice.\n",
      " * Warning: invalid value encountered in double_scalars\n",
      " * Warning: Can't summarize feature 'h_mean' with summary 'mean'. Will set it as 'np.nan'.\n"
     ]
    },
    {
     "name": "stdout",
     "output_type": "stream",
     "text": [
      "(['attr_conc.mean', 'attr_conc.sd', 'attr_ent.mean', 'attr_ent.sd', 'attr_to_inst', 'can_cor.mean', 'can_cor.sd', 'cat_to_num', 'class_conc.mean', 'class_conc.sd', 'class_ent', 'cor.mean', 'cor.sd', 'cov.mean', 'cov.sd', 'eigenvalues.mean', 'eigenvalues.sd', 'eq_num_attr', 'freq_class.mean', 'freq_class.sd', 'g_mean.mean', 'g_mean.sd', 'gravity', 'h_mean.mean', 'h_mean.sd', 'inst_to_attr', 'iq_range.mean', 'iq_range.sd', 'joint_ent.mean', 'joint_ent.sd', 'kurtosis.mean', 'kurtosis.sd', 'lh_trace', 'mad.mean', 'mad.sd', 'max.mean', 'max.sd', 'mean.mean', 'mean.sd', 'median.mean', 'median.sd', 'min.mean', 'min.sd', 'mut_inf.mean', 'mut_inf.sd', 'nr_attr', 'nr_bin', 'nr_cat', 'nr_class', 'nr_cor_attr', 'nr_disc', 'nr_inst', 'nr_norm', 'nr_num', 'nr_outliers', 'ns_ratio', 'num_to_cat', 'p_trace', 'range.mean', 'range.sd', 'roy_root', 'sd.mean', 'sd.sd', 'sd_ratio', 'skewness.mean', 'skewness.sd', 'sparsity.mean', 'sparsity.sd', 't_mean.mean', 't_mean.sd', 'var.mean', 'var.sd', 'w_lambda'], [0.026901900192323587, 0.030787905256627644, 4.392316605856357, 7.83621416978675e-07, 0.0032411627671427123, 0.2604141418597605, 0.17492674375963824, 0.0, 0.010254076012387245, 0.00440872428696419, 2.193423736133549, 0.0895298129242149, 0.16665897834487675, 3.2877773700995996e-06, 1.1937864706107359e-05, 4.4121217700960706e-05, 8.711250196085495e-05, 14.442563827897585, 0.2, 0.09193286566028068, nan, nan, 0.018779812607161567, nan, nan, 308.53125, 0.0028590771874999997, 0.0035932688599175436, 6.433868156256741, 0.06778471010600566, 47.78719609572569, 52.054853078711254, 0.4418099673492428, 0.0017711311025625, 0.002024241103161505, 0.06248516687500001, 0.03723506120101542, 0.001309779307676238, 0.003025336592416799, 0.000663994375, 0.001607885102840088, -0.0405160496875, 0.0354305087586799, 0.15187218573316474, 0.06778498037763765, 32, 0, 0, 5, 0.04435483870967742, 4, 9873, 0, 32, 32, 27.92113907923559, nan, 0.3630601981692723, 0.1030012165625, 0.05609584977049272, 0.28895515971269664, 0.005340125416350268, 0.004013432701909837, 1.3473089945825614, 0.953213872656786, 2.3053352342937403, 3.930126945301064e-06, 4.960906485154705e-06, 0.0008235431179324893, 0.0019428361580683074, 4.412121770096067e-05, 5.187943098380699e-05, 0.6706962793428899]) \n",
      "\n",
      "======================= FIM DO DATASET  4538  ======================= \n",
      "\n",
      "Dataset 4541 :  https://www.openml.org/data/v1/download/1798768/Diabetes130US.arff\n"
     ]
    },
    {
     "name": "stderr",
     "output_type": "stream",
     "text": [
      " * Warning: It is not possible make equal discretization\n",
      " * Warning: Input data for shapiro has range zero. The results may not be accurate.\n",
      " * Warning: Can't extract feature 'sd_ratio'.\n",
      " Exception message: ValueError('math domain error').\n"
     ]
    },
    {
     "name": "stdout",
     "output_type": "stream",
     "text": [
      "(['attr_conc.mean', 'attr_conc.sd', 'attr_ent.mean', 'attr_ent.sd', 'attr_to_inst', 'can_cor.mean', 'can_cor.sd', 'cat_to_num', 'class_conc.mean', 'class_conc.sd', 'class_ent', 'cor.mean', 'cor.sd', 'cov.mean', 'cov.sd', 'eigenvalues.mean', 'eigenvalues.sd', 'eq_num_attr', 'freq_class.mean', 'freq_class.sd', 'g_mean.mean', 'g_mean.sd', 'gravity', 'h_mean.mean', 'h_mean.sd', 'inst_to_attr', 'iq_range.mean', 'iq_range.sd', 'joint_ent.mean', 'joint_ent.sd', 'kurtosis.mean', 'kurtosis.sd', 'lh_trace', 'mad.mean', 'mad.sd', 'max.mean', 'max.sd', 'mean.mean', 'mean.sd', 'median.mean', 'median.sd', 'min.mean', 'min.sd', 'mut_inf.mean', 'mut_inf.sd', 'nr_attr', 'nr_bin', 'nr_cat', 'nr_class', 'nr_cor_attr', 'nr_disc', 'nr_inst', 'nr_norm', 'nr_num', 'nr_outliers', 'ns_ratio', 'num_to_cat', 'p_trace', 'range.mean', 'range.sd', 'roy_root', 'sd.mean', 'sd.sd', 'sd_ratio', 'skewness.mean', 'skewness.sd', 'sparsity.mean', 'sparsity.sd', 't_mean.mean', 't_mean.sd', 'var.mean', 'var.sd', 'w_lambda'], [-0.013948452546387479, 0.23650487270408244, 1.5495189068314792, 2.002029129822101, 0.00048149676709313525, 0.2858490620862345, 0.11274444453153971, 2.769230769230769, 0.021701294029972326, 0.09977681114521163, 1.3636330318506713, 0.0009030772828796497, 0.006279367793672179, 685140113.8395387, 1180403990211.6187, 4937397860586.102, 223277364062622.34, 231.78427538835246, 0.3333333333333333, 0.21420574077020563, 65533.65144597732, 2665211.15530571, 7037790.728890388, 22167.24353715866, 1060221.3539310966, 2076.8571428571427, 85942.75184653263, 3216970.2072912236, 2.907268739618858, 1.994840739932936, 24883.035365159565, 34137.388133749926, 0.1986314379740237, 63192.28063085761, 2348252.4584887372, 259898.5285186705, 9775071.775561186, 90082.95239244818, 3522365.792546029, 81204.0332375872, 3221250.9929021797, 5.196553139105458, 253.67002962313254, 0.005883199063292436, 0.010455187059076686, 49, 9, 36, 3, 1.987692477695732e-05, 2, 101766, 1228, 13, 2429, 262.3803293346862, 0.3611111111111111, 0.17613068236388532, 259893.3319655314, 9774837.424484866, 0.1542578672935736, 57996.21222194968, 2221724.5026317798, nan, 121.11538502911242, 101.09268919543955, 0.24450377532102577, 0.2320831150859112, 83920.08621984793, 3261772.1587709025, 4937397860586.146, 215539273980476.53, 0.8295475476857359]) \n",
      "\n",
      "======================= FIM DO DATASET  4541  ======================= \n",
      "\n",
      "Dataset 6332 :  https://www.openml.org/data/v1/download/1854224/cylinder-bands.arff\n"
     ]
    },
    {
     "name": "stderr",
     "output_type": "stream",
     "text": [
      " * Warning: It is not possible make equal discretization\n",
      " * Warning: Can't summarize feature 'can_cor' with summary 'sd'. Will set it as 'np.nan'.\n",
      " * Warning: Can't extract feature 'sd_ratio'.\n",
      " Exception message: ValueError('math domain error').\n"
     ]
    },
    {
     "name": "stdout",
     "output_type": "stream",
     "text": [
      "(['attr_conc.mean', 'attr_conc.sd', 'attr_ent.mean', 'attr_ent.sd', 'attr_to_inst', 'can_cor.mean', 'can_cor.sd', 'cat_to_num', 'class_conc.mean', 'class_conc.sd', 'class_ent', 'cor.mean', 'cor.sd', 'cov.mean', 'cov.sd', 'eigenvalues.mean', 'eigenvalues.sd', 'eq_num_attr', 'freq_class.mean', 'freq_class.sd', 'g_mean.mean', 'g_mean.sd', 'gravity', 'h_mean.mean', 'h_mean.sd', 'inst_to_attr', 'iq_range.mean', 'iq_range.sd', 'joint_ent.mean', 'joint_ent.sd', 'kurtosis.mean', 'kurtosis.sd', 'lh_trace', 'mad.mean', 'mad.sd', 'max.mean', 'max.sd', 'mean.mean', 'mean.sd', 'median.mean', 'median.sd', 'min.mean', 'min.sd', 'mut_inf.mean', 'mut_inf.sd', 'nr_attr', 'nr_bin', 'nr_cat', 'nr_class', 'nr_cor_attr', 'nr_disc', 'nr_inst', 'nr_norm', 'nr_num', 'nr_outliers', 'ns_ratio', 'num_to_cat', 'p_trace', 'range.mean', 'range.sd', 'roy_root', 'sd.mean', 'sd.sd', 'sd_ratio', 'skewness.mean', 'skewness.sd', 'sparsity.mean', 'sparsity.sd', 't_mean.mean', 't_mean.sd', 'var.mean', 'var.sd', 'w_lambda'], [0.09640636946222425, 0.17266723069269932, 1.6056993304597629, 1.0840019179362026, 0.13357400722021662, 0.7962102263239063, nan, 1.0555555555555556, 0.04123188928013489, 0.112143567048583, 0.9405044183961191, 0.05575081462454251, 0.07945147909056331, 14.437102091071935, 517.6451759714564, 221421.6123419517, 2363450.33280257, 26.40494615180827, 0.5, 0.20166583290157855, 313.74441948210085, 3321.9584498321806, 904.3425670235803, 310.31551862740844, 3285.6550816911845, 7.486486486486487, 27.935108695652172, 251.30923991161805, 2.51058525476811, 1.0516383916968948, 81.56452856460005, 97.29202551269479, 1.7318726382988194, 20.27616652173913, 186.0673458839056, 448.82869565217396, 4498.522060740345, 333.2718637419557, 3358.9728962895183, 333.1989130434783, 3364.3116286182594, 203.28478260869565, 2149.187383121999, 0.035618494087771936, 0.049835104581262696, 37, 8, 19, 2, 0.004576659038901602, 1, 277, 0, 18, 103, 44.0804946021289, 0.9473684210526315, 0.633950724502766, 245.54391304347823, 2355.310383819783, 1.7318726382988194, 47.524154179527706, 470.19735234931943, nan, 6.891508857436564, 5.968785517995627, 0.23803943538903338, 0.26545178939972847, 333.67622181723505, 3365.2091409252816, 221421.61234195204, 2363443.8096462954, 0.36604927549723404]) \n",
      "\n",
      "======================= FIM DO DATASET  6332  ======================= \n",
      "\n",
      "Dataset 23380 :  https://www.openml.org/data/v1/download/1910442/cjs.arff\n"
     ]
    },
    {
     "name": "stderr",
     "output_type": "stream",
     "text": [
      " * Warning: Can't summarize feature 'freq_class' with summary 'sd'. Will set it as 'np.nan'.\n",
      " * Warning: Can't extract feature 'can_cor'.\n",
      " Exception message: ValueError('Found array with 1 sample(s) (shape=(1, 32)) while a minimum of 2 is required.').\n",
      " Will set it as 'np.nan' for all summary functions.\n",
      " * Warning: Can't summarize feature 'can_cor' with summary 'sd'. Will set it as 'np.nan'.\n",
      " * Warning: Mean of empty slice.\n",
      " * Warning: invalid value encountered in double_scalars\n",
      " * Warning: Can't summarize feature 'can_cor' with summary 'mean'. Will set it as 'np.nan'.\n",
      " * Warning: Can't extract feature 'cor'.\n",
      " Exception message: ValueError('not enough values to unpack (expected 2, got 0)').\n",
      " Will set it as 'np.nan' for all summary functions.\n",
      " * Warning: Can't summarize feature 'cor' with summary 'sd'. Will set it as 'np.nan'.\n",
      " * Warning: Can't summarize feature 'cor' with summary 'mean'. Will set it as 'np.nan'.\n",
      " * Warning: Can't extract feature 'cov'.\n",
      " Exception message: ValueError('not enough values to unpack (expected 2, got 0)').\n",
      " Will set it as 'np.nan' for all summary functions.\n",
      " * Warning: Can't summarize feature 'cov' with summary 'sd'. Will set it as 'np.nan'.\n",
      " * Warning: Can't summarize feature 'cov' with summary 'mean'. Will set it as 'np.nan'.\n",
      " * Warning: Can't extract feature 'eigenvalues'.\n",
      " Exception message: LinAlgError('0-dimensional array given. Array must be at least two-dimensional').\n",
      " Will set it as 'np.nan' for all summary functions.\n",
      " * Warning: Can't summarize feature 'eigenvalues' with summary 'sd'. Will set it as 'np.nan'.\n",
      " * Warning: Can't summarize feature 'eigenvalues' with summary 'mean'. Will set it as 'np.nan'.\n",
      " * Warning: Can't extract feature 'gravity'.\n",
      " Exception message: ValueError('attempt to get argmin of an empty sequence').\n",
      " * Warning: Can't extract feature 'lh_trace'.\n",
      " Exception message: ValueError('Found array with 1 sample(s) (shape=(1, 32)) while a minimum of 2 is required.').\n",
      " * Warning: Can't extract feature 'nr_cor_attr'.\n",
      " Exception message: ValueError('not enough values to unpack (expected 2, got 0)').\n",
      " * Warning: Can't extract feature 'nr_disc'.\n",
      " Exception message: ValueError('Found array with 1 sample(s) (shape=(1, 32)) while a minimum of 2 is required.').\n",
      " * Warning: Can't extract feature 'nr_norm'.\n",
      " Exception message: ValueError('Data must be at least length 3.').\n",
      " * Warning: Can't extract feature 'p_trace'.\n",
      " Exception message: ValueError('Found array with 1 sample(s) (shape=(1, 32)) while a minimum of 2 is required.').\n",
      " * Warning: Can't extract feature 'roy_root'.\n",
      " Exception message: ValueError('Found array with 1 sample(s) (shape=(1, 32)) while a minimum of 2 is required.').\n",
      " * Warning: Degrees of freedom <= 0 for slice\n",
      " * Warning: invalid value encountered in true_divide\n",
      " * Warning: Can't summarize feature 'sd' with summary 'sd'. Will set it as 'np.nan'.\n",
      " * Warning: Can't summarize feature 'sd' with summary 'mean'. Will set it as 'np.nan'.\n",
      " * Warning: Can't extract feature 'sd_ratio'.\n",
      " Exception message: AxisError('axis 1 is out of bounds for array of dimension 1').\n",
      " * Warning: Can't extract feature 'sparsity'.\n",
      " Exception message: ZeroDivisionError('float division by zero').\n",
      " Will set it as 'np.nan' for all summary functions.\n",
      " * Warning: Can't summarize feature 'sparsity' with summary 'sd'. Will set it as 'np.nan'.\n",
      " * Warning: Mean of empty slice.\n",
      " * Warning: invalid value encountered in double_scalars\n",
      " * Warning: Can't summarize feature 'sparsity' with summary 'mean'. Will set it as 'np.nan'.\n",
      " * Warning: Degrees of freedom <= 0 for slice\n",
      " * Warning: Can't summarize feature 'var' with summary 'sd'. Will set it as 'np.nan'.\n",
      " * Warning: Can't summarize feature 'var' with summary 'mean'. Will set it as 'np.nan'.\n",
      " * Warning: Can't extract feature 'w_lambda'.\n",
      " Exception message: ValueError('Found array with 1 sample(s) (shape=(1, 32)) while a minimum of 2 is required.').\n"
     ]
    },
    {
     "name": "stdout",
     "output_type": "stream",
     "text": [
      "(['attr_conc.mean', 'attr_conc.sd', 'attr_ent.mean', 'attr_ent.sd', 'attr_to_inst', 'can_cor.mean', 'can_cor.sd', 'cat_to_num', 'class_conc.mean', 'class_conc.sd', 'class_ent', 'cor.mean', 'cor.sd', 'cov.mean', 'cov.sd', 'eigenvalues.mean', 'eigenvalues.sd', 'eq_num_attr', 'freq_class.mean', 'freq_class.sd', 'g_mean.mean', 'g_mean.sd', 'gravity', 'h_mean.mean', 'h_mean.sd', 'inst_to_attr', 'iq_range.mean', 'iq_range.sd', 'joint_ent.mean', 'joint_ent.sd', 'kurtosis.mean', 'kurtosis.sd', 'lh_trace', 'mad.mean', 'mad.sd', 'max.mean', 'max.sd', 'mean.mean', 'mean.sd', 'median.mean', 'median.sd', 'min.mean', 'min.sd', 'mut_inf.mean', 'mut_inf.sd', 'nr_attr', 'nr_bin', 'nr_cat', 'nr_class', 'nr_cor_attr', 'nr_disc', 'nr_inst', 'nr_norm', 'nr_num', 'nr_outliers', 'ns_ratio', 'num_to_cat', 'p_trace', 'range.mean', 'range.sd', 'roy_root', 'sd.mean', 'sd.sd', 'sd_ratio', 'skewness.mean', 'skewness.sd', 'sparsity.mean', 'sparsity.sd', 't_mean.mean', 't_mean.sd', 'var.mean', 'var.sd', 'w_lambda'], [0.5, 0.0, 0.0, 0.0, 33.0, nan, nan, 0.06451612903225806, 0.5, 0.0, 0.0, nan, nan, nan, nan, nan, nan, 0.0, 1.0, nan, 11.934374999999998, 30.402648540981605, nan, 11.934375000000001, 30.40264854098162, 0.030303030303030304, 0.0, 0.0, -1.4426950393345013e-08, 0.0, -3.0, 0.0, nan, 0.0, 0.0, 11.934375000000001, 30.40264854098162, 11.934375000000001, 30.40264854098162, 11.934375000000001, 30.40264854098162, 11.934375000000001, 30.40264854098162, 1.4426950393345013e-08, 0.0, 33, 0, 2, 1, nan, nan, 1, nan, 31, 0, -1.0, 15.5, nan, 0.0, 0.0, nan, nan, nan, nan, 0.0, 0.0, nan, nan, 11.934375000000001, 30.40264854098162, nan, nan, nan]) \n",
      "\n",
      "======================= FIM DO DATASET  23380  ======================= \n",
      "\n",
      "Dataset 23512 :  https://www.openml.org/data/v1/download/2063675/higgs.arff\n"
     ]
    },
    {
     "name": "stderr",
     "output_type": "stream",
     "text": [
      " * Warning: Can't summarize feature 'can_cor' with summary 'sd'. Will set it as 'np.nan'.\n",
      " * Warning: Can't summarize feature 'g_mean' with summary 'sd'. Will set it as 'np.nan'.\n",
      " * Warning: Can't summarize feature 'g_mean' with summary 'mean'. Will set it as 'np.nan'.\n",
      " * Warning: Can't extract feature 'h_mean'.\n",
      " Exception message: ValueError('Harmonic mean only defined if all elements greater than or equal to zero').\n",
      " Will set it as 'np.nan' for all summary functions.\n",
      " * Warning: Can't summarize feature 'h_mean' with summary 'sd'. Will set it as 'np.nan'.\n",
      " * Warning: Mean of empty slice.\n",
      " * Warning: invalid value encountered in double_scalars\n",
      " * Warning: Can't summarize feature 'h_mean' with summary 'mean'. Will set it as 'np.nan'.\n"
     ]
    },
    {
     "name": "stdout",
     "output_type": "stream",
     "text": [
      "(['attr_conc.mean', 'attr_conc.sd', 'attr_ent.mean', 'attr_ent.sd', 'attr_to_inst', 'can_cor.mean', 'can_cor.sd', 'cat_to_num', 'class_conc.mean', 'class_conc.sd', 'class_ent', 'cor.mean', 'cor.sd', 'cov.mean', 'cov.sd', 'eigenvalues.mean', 'eigenvalues.sd', 'eq_num_attr', 'freq_class.mean', 'freq_class.sd', 'g_mean.mean', 'g_mean.sd', 'gravity', 'h_mean.mean', 'h_mean.sd', 'inst_to_attr', 'iq_range.mean', 'iq_range.sd', 'joint_ent.mean', 'joint_ent.sd', 'kurtosis.mean', 'kurtosis.sd', 'lh_trace', 'mad.mean', 'mad.sd', 'max.mean', 'max.sd', 'mean.mean', 'mean.sd', 'median.mean', 'median.sd', 'min.mean', 'min.sd', 'mut_inf.mean', 'mut_inf.sd', 'nr_attr', 'nr_bin', 'nr_cat', 'nr_class', 'nr_cor_attr', 'nr_disc', 'nr_inst', 'nr_norm', 'nr_num', 'nr_outliers', 'ns_ratio', 'num_to_cat', 'p_trace', 'range.mean', 'range.sd', 'roy_root', 'sd.mean', 'sd.sd', 'sd_ratio', 'skewness.mean', 'skewness.sd', 'sparsity.mean', 'sparsity.sd', 't_mean.mean', 't_mean.sd', 'var.mean', 'var.sd', 'w_lambda'], [0.0023854579564501427, 0.009608723628906801, 4.918269776237812, 1.5101447396128462, 0.00028557149996430355, 0.3085681469797602, nan, 0.0, 0.0002979596879277412, 0.0005272068430710609, 0.9976431276397518, 0.06804570749665914, 0.12890136876774538, 0.029416012658735044, 0.061075166178522024, 0.6993871577856121, 0.6100940173169468, 143.00100453205476, 0.5, 0.04040754413597511, nan, nan, 0.26418885003418413, nan, nan, 3501.75, 1.1813916074378146, 0.8091835448971231, 5.908936427517106, 1.5075546135889546, 7.89718587598715, 15.538794939419597, 0.10523409186345371, 0.7191802903306929, 0.5348517338205492, 5.257440975734164, 4.001660969980693, 0.6073672131417501, 0.4992917633729058, 0.49683251489893493, 0.4760373131044005, -0.7578293705966129, 1.2143183569977523, 0.006976476360458871, 0.014736227007236483, 28, 0, 0, 2, 0.018518518518518517, 1, 98049, 0, 28, 15, 703.979064232695, nan, 0.0952143013305229, 6.015270346330776, 3.4112734800976923, 0.10523409186345371, 0.7734363159159867, 0.32393048203803976, 1.014669117720563, 1.3573704463278868, 1.670570865713165, 0.04768698884257278, 0.11875172015530566, 0.5444900785298964, 0.45209326966875657, 0.699387157785612, 0.4937789414387483, 0.904785698669477]) \n",
      "\n",
      "======================= FIM DO DATASET  23512  ======================= \n",
      "\n",
      "Dataset 23517 :  https://www.openml.org/data/v1/download/2160285/numerai28.6.arff\n"
     ]
    },
    {
     "name": "stderr",
     "output_type": "stream",
     "text": [
      " * Warning: Can't summarize feature 'can_cor' with summary 'sd'. Will set it as 'np.nan'.\n"
     ]
    },
    {
     "name": "stdout",
     "output_type": "stream",
     "text": [
      "(['attr_conc.mean', 'attr_conc.sd', 'attr_ent.mean', 'attr_ent.sd', 'attr_to_inst', 'can_cor.mean', 'can_cor.sd', 'cat_to_num', 'class_conc.mean', 'class_conc.sd', 'class_ent', 'cor.mean', 'cor.sd', 'cov.mean', 'cov.sd', 'eigenvalues.mean', 'eigenvalues.sd', 'eq_num_attr', 'freq_class.mean', 'freq_class.sd', 'g_mean.mean', 'g_mean.sd', 'gravity', 'h_mean.mean', 'h_mean.sd', 'inst_to_attr', 'iq_range.mean', 'iq_range.sd', 'joint_ent.mean', 'joint_ent.sd', 'kurtosis.mean', 'kurtosis.sd', 'lh_trace', 'mad.mean', 'mad.sd', 'max.mean', 'max.sd', 'mean.mean', 'mean.sd', 'median.mean', 'median.sd', 'min.mean', 'min.sd', 'mut_inf.mean', 'mut_inf.sd', 'nr_attr', 'nr_bin', 'nr_cat', 'nr_class', 'nr_cor_attr', 'nr_disc', 'nr_inst', 'nr_norm', 'nr_num', 'nr_outliers', 'ns_ratio', 'num_to_cat', 'p_trace', 'range.mean', 'range.sd', 'roy_root', 'sd.mean', 'sd.sd', 'sd_ratio', 'skewness.mean', 'skewness.sd', 'sparsity.mean', 'sparsity.sd', 't_mean.mean', 't_mean.sd', 'var.mean', 'var.sd', 'w_lambda'], [0.004445332226834982, 0.0056383131635834366, 5.491561690072398, 6.346202554308934e-05, 0.00021802325581395349, 0.05785547339093967, nan, 0.0, 2.0182302194192302e-05, 9.412502881373639e-06, 0.9999228673926669, 0.26532517140459544, 0.20900831404165912, 0.022382369675991807, 0.017631804930445496, 0.08433963153840195, 0.13047869311871174, 1571.3467578609989, 0.5, 0.007311859988183124, 0.10519309602426583, 0.1704556247456908, 0.05094099476682658, 0.00903601789907558, 0.020305384272910735, 4586.666666666667, 0.5056816436816896, 0.017267717388486977, 6.490848209782804, 0.0003283621859279009, -1.2005874632481273, 0.04853743975630041, 0.0033584975517032835, 0.3733263078921955, 0.013680353527961424, 1.0, 0.0, 0.500974486303292, 0.008255547389238924, 0.5015201205659642, 0.016712218509656825, 1.9359191313973577e-05, 4.761706981342175e-05, 0.0006363476822606714, 0.00029817848339878266, 21, 0, 0, 2, 0.1380952380952381, 1, 96320, 0, 21, 0, 8628.813297289349, nan, 0.0033472558012897276, 0.999980640808686, 4.761706981342171e-05, 0.0033584975517032835, 0.29037948941871355, 0.004511412915670937, 1.0002359951584663, -0.0025657849678789534, 0.04192287091298293, 0.0009889146350280712, 4.6245240349244494e-07, 0.5011675525089234, 0.011398838578983673, 0.08433963153840197, 0.0026279358246925457, 0.9966527441987102]) \n",
      "\n",
      "======================= FIM DO DATASET  23517  ======================= \n",
      "\n",
      "Dataset 40536 :  https://www.openml.org/data/v1/download/13153954/SpeedDating.arff\n"
     ]
    },
    {
     "name": "stderr",
     "output_type": "stream",
     "text": [
      " * Warning: It is not possible make equal discretization\n",
      " * Warning: invalid value encountered in true_divide\n",
      " * Warning: invalid value encountered in true_divide\n",
      " * Warning: Can't summarize feature 'can_cor' with summary 'sd'. Will set it as 'np.nan'.\n",
      " * Warning: Can't summarize feature 'cor' with summary 'sd'. Will set it as 'np.nan'.\n",
      " * Warning: Can't summarize feature 'cor' with summary 'mean'. Will set it as 'np.nan'.\n",
      " * Warning: Can't summarize feature 'g_mean' with summary 'sd'. Will set it as 'np.nan'.\n",
      " * Warning: Can't summarize feature 'g_mean' with summary 'mean'. Will set it as 'np.nan'.\n",
      " * Warning: Can't extract feature 'h_mean'.\n",
      " Exception message: ValueError('Harmonic mean only defined if all elements greater than or equal to zero').\n",
      " Will set it as 'np.nan' for all summary functions.\n",
      " * Warning: Can't summarize feature 'h_mean' with summary 'sd'. Will set it as 'np.nan'.\n",
      " * Warning: Mean of empty slice.\n",
      " * Warning: invalid value encountered in double_scalars\n",
      " * Warning: Can't summarize feature 'h_mean' with summary 'mean'. Will set it as 'np.nan'.\n",
      " * Warning: Input data for shapiro has range zero. The results may not be accurate.\n",
      " * Warning: Can't extract feature 'sd_ratio'.\n",
      " Exception message: ValueError('math domain error').\n"
     ]
    },
    {
     "name": "stdout",
     "output_type": "stream",
     "text": [
      "(['attr_conc.mean', 'attr_conc.sd', 'attr_ent.mean', 'attr_ent.sd', 'attr_to_inst', 'can_cor.mean', 'can_cor.sd', 'cat_to_num', 'class_conc.mean', 'class_conc.sd', 'class_ent', 'cor.mean', 'cor.sd', 'cov.mean', 'cov.sd', 'eigenvalues.mean', 'eigenvalues.sd', 'eq_num_attr', 'freq_class.mean', 'freq_class.sd', 'g_mean.mean', 'g_mean.sd', 'gravity', 'h_mean.mean', 'h_mean.sd', 'inst_to_attr', 'iq_range.mean', 'iq_range.sd', 'joint_ent.mean', 'joint_ent.sd', 'kurtosis.mean', 'kurtosis.sd', 'lh_trace', 'mad.mean', 'mad.sd', 'max.mean', 'max.sd', 'mean.mean', 'mean.sd', 'median.mean', 'median.sd', 'min.mean', 'min.sd', 'mut_inf.mean', 'mut_inf.sd', 'nr_attr', 'nr_bin', 'nr_cat', 'nr_class', 'nr_cor_attr', 'nr_disc', 'nr_inst', 'nr_norm', 'nr_num', 'nr_outliers', 'ns_ratio', 'num_to_cat', 'p_trace', 'range.mean', 'range.sd', 'roy_root', 'sd.mean', 'sd.sd', 'sd_ratio', 'skewness.mean', 'skewness.sd', 'sparsity.mean', 'sparsity.sd', 't_mean.mean', 't_mean.sd', 'var.mean', 'var.sd', 'w_lambda'], [0.06010156741983052, 0.1330571705995205, 1.9586541561367545, 0.7759494018341007, 0.11450381679389313, 0.6492704621426366, nan, 1.0338983050847457, 0.010555518028421336, 0.04583999470278571, 0.6745351028724728, nan, nan, 0.10408550137217552, 0.8051062119203622, (4.668299736205213+3.1337165196809263e-34j), 22.424042001542233, 38.456359472754514, 0.5, 0.4561108626737654, nan, nan, 6.7255568941958135, nan, nan, 8.733333333333333, 1.3970868644067795, 2.432042026573187, 2.61564898447153, 0.769525584545382, 28.476105436549478, 103.07909037747685, 0.7287642622059592, 0.7189981779661017, 1.6058101214435043, 5.571610169491525, 12.837892679881362, 2.3413694769698545, 4.7608668953459246, 2.2047881355932204, 4.635348681785544, 0.35750000000000004, 1.7831774472863426, 0.017540274537696843, 0.02141586233865156, 120, 2, 61, 2, 0.004652001442481068, 1, 1048, 1, 59, 142, 110.66610601945224, 0.9672131147540983, 0.42155213301091293, 5.2141101694915255, 12.229928743748786, 0.7287642622059592, 1.0701602334195837, 1.8809701066532742, nan, 2.8739534072991697, 4.663961095522139, 0.21737473473174174, 0.1467184049901959, 2.270800174872209, 4.661974019379763, 4.668299736205197, 18.636312470242967, 0.5784478669890871]) \n",
      "\n",
      "======================= FIM DO DATASET  40536  ======================= \n",
      "\n",
      "Dataset 40966 :  https://www.openml.org/data/v1/download/17928620/MiceProtein.arff\n"
     ]
    },
    {
     "name": "stderr",
     "output_type": "stream",
     "text": [
      " * Warning: Can't extract feature 'sd_ratio'.\n",
      " Exception message: ValueError('math domain error').\n"
     ]
    },
    {
     "name": "stdout",
     "output_type": "stream",
     "text": [
      "(['attr_conc.mean', 'attr_conc.sd', 'attr_ent.mean', 'attr_ent.sd', 'attr_to_inst', 'can_cor.mean', 'can_cor.sd', 'cat_to_num', 'class_conc.mean', 'class_conc.sd', 'class_ent', 'cor.mean', 'cor.sd', 'cov.mean', 'cov.sd', 'eigenvalues.mean', 'eigenvalues.sd', 'eq_num_attr', 'freq_class.mean', 'freq_class.sd', 'g_mean.mean', 'g_mean.sd', 'gravity', 'h_mean.mean', 'h_mean.sd', 'inst_to_attr', 'iq_range.mean', 'iq_range.sd', 'joint_ent.mean', 'joint_ent.sd', 'kurtosis.mean', 'kurtosis.sd', 'lh_trace', 'mad.mean', 'mad.sd', 'max.mean', 'max.sd', 'mean.mean', 'mean.sd', 'median.mean', 'median.sd', 'min.mean', 'min.sd', 'mut_inf.mean', 'mut_inf.sd', 'nr_attr', 'nr_bin', 'nr_cat', 'nr_class', 'nr_cor_attr', 'nr_disc', 'nr_inst', 'nr_norm', 'nr_num', 'nr_outliers', 'ns_ratio', 'num_to_cat', 'p_trace', 'range.mean', 'range.sd', 'roy_root', 'sd.mean', 'sd.sd', 'sd_ratio', 'skewness.mean', 'skewness.sd', 'sparsity.mean', 'sparsity.sd', 't_mean.mean', 't_mean.sd', 'var.mean', 'var.sd', 'w_lambda'], [0.048879173291097436, 0.031463632539964446, 3.0, 0.0, 0.13949275362318841, 0.9229034087305433, 0.05819355963743645, 0.0, 0.07398345393501526, 0.04149936769686733, 2.974564592751089, 0.29819920334216626, 0.2119457204717449, 0.00782991206682371, 0.02593399012436126, 0.0716336917930876, 0.3412055449251256, 7.359890040920726, 0.125, 0.024649856935384382, 0.6517844099042243, 0.7315203855174953, 0.6316871588272914, 0.6326265451831659, 0.7041996830052484, 7.1688311688311686, 0.20758886816883115, 0.32021044753697886, 5.570405756652639, 0.22373023523250596, 2.9486200841004173, 11.480943401868686, 118.64458922799905, 0.14810467580571818, 0.22801708537294202, 1.2738333534025974, 1.5850579733869223, 0.6715706424995058, 0.7599505655501366, 0.6527009631818181, 0.7375605574997698, 0.3289413029999999, 0.356377986113968, 0.40415883609844927, 0.223730235232506, 77, 0, 0, 8, 0.18284347231715653, 7, 552, 8, 77, 66, 6.422824226634571, nan, 5.9825738552248495, 0.9448920504025973, 1.2865455171507365, 78.62137049519274, 0.15446742269298214, 0.22000478607877053, nan, 0.6319809049926196, 1.103936163954034, 2.566594903247142e-07, 8.886882603156814e-07, 0.658660361411086, 0.7429861214157293, 0.07163369179308755, 0.24480647848322853, 1.254339997434898e-07]) \n",
      "\n",
      "======================= FIM DO DATASET  40966  ======================= \n",
      "\n",
      "Dataset 40979 :  https://www.openml.org/data/v1/download/18142224/mfeat-pixel.arff\n"
     ]
    },
    {
     "name": "stderr",
     "output_type": "stream",
     "text": [
      " * Warning: It is not possible make equal discretization\n",
      " * Warning: Can't extract feature 'sd_ratio'.\n",
      " Exception message: ValueError('math domain error').\n"
     ]
    },
    {
     "name": "stdout",
     "output_type": "stream",
     "text": [
      "(['attr_conc.mean', 'attr_conc.sd', 'attr_ent.mean', 'attr_ent.sd', 'attr_to_inst', 'can_cor.mean', 'can_cor.sd', 'cat_to_num', 'class_conc.mean', 'class_conc.sd', 'class_ent', 'cor.mean', 'cor.sd', 'cov.mean', 'cov.sd', 'eigenvalues.mean', 'eigenvalues.sd', 'eq_num_attr', 'freq_class.mean', 'freq_class.sd', 'g_mean.mean', 'g_mean.sd', 'gravity', 'h_mean.mean', 'h_mean.sd', 'inst_to_attr', 'iq_range.mean', 'iq_range.sd', 'joint_ent.mean', 'joint_ent.sd', 'kurtosis.mean', 'kurtosis.sd', 'lh_trace', 'mad.mean', 'mad.sd', 'max.mean', 'max.sd', 'mean.mean', 'mean.sd', 'median.mean', 'median.sd', 'min.mean', 'min.sd', 'mut_inf.mean', 'mut_inf.sd', 'nr_attr', 'nr_bin', 'nr_cat', 'nr_class', 'nr_cor_attr', 'nr_disc', 'nr_inst', 'nr_norm', 'nr_num', 'nr_outliers', 'ns_ratio', 'num_to_cat', 'p_trace', 'range.mean', 'range.sd', 'roy_root', 'sd.mean', 'sd.sd', 'sd_ratio', 'skewness.mean', 'skewness.sd', 'sparsity.mean', 'sparsity.sd', 't_mean.mean', 't_mean.sd', 'var.mean', 'var.sd', 'w_lambda'], [0.0370087202777872, 0.07079824810058023, 1.5379008051218492, 0.3169834378955998, 0.12, 0.8473427993081709, 0.09569454611683628, 0.0, 0.24949204112302692, 0.1099748020563605, 3.321928094887362, 0.1721473682893496, 0.15861344453160756, 1.0744490332945413, 1.0887482357619005, 6.141880871685856, 23.76036799255335, 10.201237896124077, 0.1, 0.0, 3.0553086628413397, 1.0198251727029013, 33.800356506995605, 2.1693086092238123, 0.6901802326605293, 8.333333333333334, 4.491666666666666, 1.9852840751729424, 4.5341891954249745, 0.3398205766732112, -0.8309617817639956, 1.8626715535469442, 38.11894993567371, 1.0717962499999998, 1.4974875971526596, 6.866666666666666, 0.4914896378930144, 4.026270833333333, 1.1379328297782645, 4.30625, 2.428682016837967, 1.0, 0.0, 0.3256397045842364, 0.11375266050895619, 240, 0, 0, 10, 0.04926778242677824, 9, 2000, 0, 240, 46, 3.7227066708139245, nan, 6.535167945106723, 5.866666666666666, 0.4914896378930144, 13.187417005916105, 2.4461201420314316, 0.3987979290545712, nan, -0.03631580571346851, 0.9633397983398712, 0.1462000841690686, 0.013985842742795903, 4.13659375, 1.6815828781779198, 6.141880871685843, 1.7348716186541544, 1.9525369940000247e-06]) \n",
      "\n",
      "======================= FIM DO DATASET  40979  ======================= \n",
      "\n",
      "Dataset 40981 :  https://www.openml.org/data/v1/download/18151910/Australian.arff\n"
     ]
    },
    {
     "name": "stderr",
     "output_type": "stream",
     "text": [
      " * Warning: It is not possible make equal discretization\n",
      " * Warning: Can't summarize feature 'can_cor' with summary 'sd'. Will set it as 'np.nan'.\n",
      " * Warning: Can't extract feature 'sd_ratio'.\n",
      " Exception message: ValueError('math domain error').\n"
     ]
    },
    {
     "name": "stdout",
     "output_type": "stream",
     "text": [
      "(['attr_conc.mean', 'attr_conc.sd', 'attr_ent.mean', 'attr_ent.sd', 'attr_to_inst', 'can_cor.mean', 'can_cor.sd', 'cat_to_num', 'class_conc.mean', 'class_conc.sd', 'class_ent', 'cor.mean', 'cor.sd', 'cov.mean', 'cov.sd', 'eigenvalues.mean', 'eigenvalues.sd', 'eq_num_attr', 'freq_class.mean', 'freq_class.sd', 'g_mean.mean', 'g_mean.sd', 'gravity', 'h_mean.mean', 'h_mean.sd', 'inst_to_attr', 'iq_range.mean', 'iq_range.sd', 'joint_ent.mean', 'joint_ent.sd', 'kurtosis.mean', 'kurtosis.sd', 'lh_trace', 'mad.mean', 'mad.sd', 'max.mean', 'max.sd', 'mean.mean', 'mean.sd', 'median.mean', 'median.sd', 'min.mean', 'min.sd', 'mut_inf.mean', 'mut_inf.sd', 'nr_attr', 'nr_bin', 'nr_cat', 'nr_class', 'nr_cor_attr', 'nr_disc', 'nr_inst', 'nr_norm', 'nr_num', 'nr_outliers', 'ns_ratio', 'num_to_cat', 'p_trace', 'range.mean', 'range.sd', 'roy_root', 'sd.mean', 'sd.sd', 'sd_ratio', 'skewness.mean', 'skewness.sd', 'sparsity.mean', 'sparsity.sd', 't_mean.mean', 't_mean.sd', 'var.mean', 'var.sd', 'w_lambda'], [0.03284603992511397, 0.09730571124976312, 1.8984507695284931, 1.0399920683242911, 0.020289855072463767, 0.790437554526546, nan, 1.3333333333333333, 0.07118395514214274, 0.1411555510727459, 0.9912308989033523, 0.07158750180895554, 0.09474227714604863, 9.768721169290584, 80.55120600900078, 595.6062855820684, 1848.2541305914935, 9.856004527649759, 0.5, 0.07788422517417042, 6.345317647831368, 21.14580191450778, 73.84620653452762, 2.5945072241896066, 10.356966416472602, 49.285714285714285, 13.807142857142857, 35.7062713696915, 2.7891103977792615, 1.0516284310402566, 34.39724430594322, 71.40176960882317, 1.6651850199951437, 7.5188999999999995, 22.43447124007528, 33.142857142857146, 83.15511475095022, 11.191055900621118, 30.894841917172545, 8.442857142857143, 26.580834379351618, 0.17142857142857143, 0.38238526043109716, 0.10057127065258349, 0.11487015790614286, 14, 4, 8, 2, 0.008403361344537816, 1, 690, 0, 6, 24, 17.876670814735554, 0.75, 0.6247915276059063, 32.97142857142857, 82.82564454900415, 1.6651850199951437, 9.111711687950157, 22.97082859105086, nan, 3.7954219462063374, 4.734024567636159, 0.2082577032582724, 0.22064665036610173, 9.600276052449965, 28.02823265517087, 595.6062855820691, 1784.9335121882516, 0.3752084723940938]) \n",
      "\n",
      "======================= FIM DO DATASET  40981  ======================= \n",
      "\n",
      "Dataset 40982 :  https://www.openml.org/data/v1/download/18151921/steel-plates-fault.arff\n"
     ]
    },
    {
     "name": "stderr",
     "output_type": "stream",
     "text": [
      " * Warning: It is not possible make equal discretization\n",
      " * Warning: Can't summarize feature 'g_mean' with summary 'sd'. Will set it as 'np.nan'.\n",
      " * Warning: Can't summarize feature 'g_mean' with summary 'mean'. Will set it as 'np.nan'.\n",
      " * Warning: Can't extract feature 'h_mean'.\n",
      " Exception message: ValueError('Harmonic mean only defined if all elements greater than or equal to zero').\n",
      " Will set it as 'np.nan' for all summary functions.\n",
      " * Warning: Can't summarize feature 'h_mean' with summary 'sd'. Will set it as 'np.nan'.\n",
      " * Warning: Mean of empty slice.\n",
      " * Warning: invalid value encountered in double_scalars\n",
      " * Warning: Can't summarize feature 'h_mean' with summary 'mean'. Will set it as 'np.nan'.\n",
      " * Warning: Can't extract feature 'sd_ratio'.\n",
      " Exception message: ValueError('math domain error').\n"
     ]
    },
    {
     "name": "stdout",
     "output_type": "stream",
     "text": [
      "(['attr_conc.mean', 'attr_conc.sd', 'attr_ent.mean', 'attr_ent.sd', 'attr_to_inst', 'can_cor.mean', 'can_cor.sd', 'cat_to_num', 'class_conc.mean', 'class_conc.sd', 'class_ent', 'cor.mean', 'cor.sd', 'cov.mean', 'cov.sd', 'eigenvalues.mean', 'eigenvalues.sd', 'eq_num_attr', 'freq_class.mean', 'freq_class.sd', 'g_mean.mean', 'g_mean.sd', 'gravity', 'h_mean.mean', 'h_mean.sd', 'inst_to_attr', 'iq_range.mean', 'iq_range.sd', 'joint_ent.mean', 'joint_ent.sd', 'kurtosis.mean', 'kurtosis.sd', 'lh_trace', 'mad.mean', 'mad.sd', 'max.mean', 'max.sd', 'mean.mean', 'mean.sd', 'median.mean', 'median.sd', 'min.mean', 'min.sd', 'mut_inf.mean', 'mut_inf.sd', 'nr_attr', 'nr_bin', 'nr_cat', 'nr_class', 'nr_cor_attr', 'nr_disc', 'nr_inst', 'nr_norm', 'nr_num', 'nr_outliers', 'ns_ratio', 'num_to_cat', 'p_trace', 'range.mean', 'range.sd', 'roy_root', 'sd.mean', 'sd.sd', 'sd_ratio', 'skewness.mean', 'skewness.sd', 'sparsity.mean', 'sparsity.sd', 't_mean.mean', 't_mean.sd', 'var.mean', 'var.sd', 'w_lambda'], [0.0825070054062648, 0.09508279690496248, 3.183713295480763, 0.835846661022264, 0.013910355486862442, 0.5472770940029968, 0.19047316821180643, 0.0, 0.10278166338051399, 0.08897817665189686, 2.4106904422724416, 0.24536863607275158, 0.22596425138220663, 9021000703.347752, 168087348346.3158, 242991510502.35715, 1211220382472.665, 5.78760066615427, 0.14285714285714285, 0.11490875828592285, nan, nan, 1235066.6003517513, nan, nan, 71.88888888888889, 129639.66117037035, 456248.3446043244, 5.177876996996868, 0.8161727970552719, 109.18517338767076, 344.8947290346772, 3.910516429179314, 90501.99069904222, 323210.9997280625, 1398296.8505666668, 4014171.0108631146, 130102.82519640506, 440072.01616560906, 90009.40727037039, 321145.3702997383, 555.4742111111111, 1792.1114748896437, 0.4165267407563367, 0.16526503201921616, 27, 2, 0, 7, 0.1396011396011396, 6, 1941, 0, 27, 15, 6.643478758890052, nan, 1.9784734447654064, 1397741.3763555556, 4012672.292416503, 1.8509653525639524, 150690.09152629809, 478284.9240973953, nan, 3.7354669165996084, 8.630697218613285, 0.05272271463058277, 0.14375808130793996, 95119.95278837068, 337599.6540870525, 242991510502.3571, 839160474281.1692, 0.06844566907365993]) \n",
      "\n",
      "======================= FIM DO DATASET  40982  ======================= \n",
      "\n",
      "Dataset 40996 :  https://www.openml.org/data/v1/download/18238735/Fashion-MNIST.arff\n"
     ]
    },
    {
     "name": "stderr",
     "output_type": "stream",
     "text": [
      " * Warning: It is not possible make equal discretization\n",
      " * Warning: Can't extract feature 'sd_ratio'.\n",
      " Exception message: ValueError('math domain error').\n"
     ]
    },
    {
     "name": "stdout",
     "output_type": "stream",
     "text": [
      "(['attr_conc.mean', 'attr_conc.sd', 'attr_ent.mean', 'attr_ent.sd', 'attr_to_inst', 'can_cor.mean', 'can_cor.sd', 'cat_to_num', 'class_conc.mean', 'class_conc.sd', 'class_ent', 'cor.mean', 'cor.sd', 'cov.mean', 'cov.sd', 'eigenvalues.mean', 'eigenvalues.sd', 'eq_num_attr', 'freq_class.mean', 'freq_class.sd', 'g_mean.mean', 'g_mean.sd', 'gravity', 'h_mean.mean', 'h_mean.sd', 'inst_to_attr', 'iq_range.mean', 'iq_range.sd', 'joint_ent.mean', 'joint_ent.sd', 'kurtosis.mean', 'kurtosis.sd', 'lh_trace', 'mad.mean', 'mad.sd', 'max.mean', 'max.sd', 'mean.mean', 'mean.sd', 'median.mean', 'median.sd', 'min.mean', 'min.sd', 'mut_inf.mean', 'mut_inf.sd', 'nr_attr', 'nr_bin', 'nr_cat', 'nr_class', 'nr_cor_attr', 'nr_disc', 'nr_inst', 'nr_norm', 'nr_num', 'nr_outliers', 'ns_ratio', 'num_to_cat', 'p_trace', 'range.mean', 'range.sd', 'roy_root', 'sd.mean', 'sd.sd', 'sd_ratio', 'skewness.mean', 'skewness.sd', 'sparsity.mean', 'sparsity.sd', 't_mean.mean', 't_mean.sd', 'var.mean', 'var.sd', 'w_lambda'], [0.04143262138896299, 0.047681093037133, 3.0438403481789518, 1.6546395716139515, 0.0112, 0.7669446785106386, 0.16123198263552446, 0.0, 0.12300832529898682, 0.06751427976611861, 3.321928094887362, 0.21369348026407808, 0.18374490716373018, 1340.8775288100824, 1484.7702483735695, 5654.501915142413, 56099.3673359926, 8.891377011624515, 0.1, 0.0, 0.0, 0.0, 1645.5804791200644, 0.0, 0.0, 89.28571428571429, 107.61926020408163, 78.91012657984169, 5.9921561116418, 1.561957636143687, 199.65301162054885, 1646.313370293799, 29.848009276032894, 51.62341339285714, 57.68064242624871, 252.42091836734693, 15.956882233026963, 72.96981142492712, 49.48453493884113, 59.10522959183673, 67.41099395083059, 0.0, 0.0, 0.3736123314245139, 0.1949424239422562, 784, 0, 0, 10, 0.08742213360439961, 9, 70000, 0, 784, 293, 7.147055362368148, nan, 5.5018032768587375, 252.42091836734693, 15.956882233026963, 13.364197461228176, 70.07662618918577, 27.28952679765075, nan, 3.621766886900396, 12.722891903770847, 0.00462174914307787, 0.006179539585227068, 63.395338496112736, 58.478743766055516, 5654.501915142402, 3031.234095131723, 2.9526953833883684e-05]) \n",
      "\n",
      "======================= FIM DO DATASET  40996  ======================= \n",
      "\n",
      "Dataset 40999 :  https://www.openml.org/data/v1/download/18248695/jungle_chess_2pcs_endgame_elephant_elephant.arff\n"
     ]
    },
    {
     "name": "stderr",
     "output_type": "stream",
     "text": [
      " * Warning: It is not possible make equal discretization\n",
      " * Warning: invalid value encountered in true_divide\n",
      " * Warning: invalid value encountered in true_divide\n",
      " * Warning: Can't summarize feature 'can_cor' with summary 'sd'. Will set it as 'np.nan'.\n",
      " * Warning: Can't summarize feature 'cor' with summary 'sd'. Will set it as 'np.nan'.\n",
      " * Warning: Can't summarize feature 'cor' with summary 'mean'. Will set it as 'np.nan'.\n",
      " * Warning: Can't summarize feature 'g_mean' with summary 'sd'. Will set it as 'np.nan'.\n",
      " * Warning: Can't summarize feature 'g_mean' with summary 'mean'. Will set it as 'np.nan'.\n",
      " * Warning: Can't extract feature 'h_mean'.\n",
      " Exception message: ValueError('Harmonic mean only defined if all elements greater than or equal to zero').\n",
      " Will set it as 'np.nan' for all summary functions.\n",
      " * Warning: Can't summarize feature 'h_mean' with summary 'sd'. Will set it as 'np.nan'.\n",
      " * Warning: Mean of empty slice.\n",
      " * Warning: invalid value encountered in double_scalars\n",
      " * Warning: Can't summarize feature 'h_mean' with summary 'mean'. Will set it as 'np.nan'.\n",
      " * Warning: Input data for shapiro has range zero. The results may not be accurate.\n",
      " * Warning: Can't extract feature 'sd_ratio'.\n",
      " Exception message: ValueError('math domain error').\n"
     ]
    },
    {
     "name": "stdout",
     "output_type": "stream",
     "text": [
      "(['attr_conc.mean', 'attr_conc.sd', 'attr_ent.mean', 'attr_ent.sd', 'attr_to_inst', 'can_cor.mean', 'can_cor.sd', 'cat_to_num', 'class_conc.mean', 'class_conc.sd', 'class_ent', 'cor.mean', 'cor.sd', 'cov.mean', 'cov.sd', 'eigenvalues.mean', 'eigenvalues.sd', 'eq_num_attr', 'freq_class.mean', 'freq_class.sd', 'g_mean.mean', 'g_mean.sd', 'gravity', 'h_mean.mean', 'h_mean.sd', 'inst_to_attr', 'iq_range.mean', 'iq_range.sd', 'joint_ent.mean', 'joint_ent.sd', 'kurtosis.mean', 'kurtosis.sd', 'lh_trace', 'mad.mean', 'mad.sd', 'max.mean', 'max.sd', 'mean.mean', 'mean.sd', 'median.mean', 'median.sd', 'min.mean', 'min.sd', 'mut_inf.mean', 'mut_inf.sd', 'nr_attr', 'nr_bin', 'nr_cat', 'nr_class', 'nr_cor_attr', 'nr_disc', 'nr_inst', 'nr_norm', 'nr_num', 'nr_outliers', 'ns_ratio', 'num_to_cat', 'p_trace', 'range.mean', 'range.sd', 'roy_root', 'sd.mean', 'sd.sd', 'sd_ratio', 'skewness.mean', 'skewness.sd', 'sparsity.mean', 'sparsity.sd', 't_mean.mean', 't_mean.sd', 'var.mean', 'var.sd', 'w_lambda'], [0.1883178412456584, 0.23078055594930047, 1.5207045137180244, 1.2375984411210168, 0.019566142067205444, 0.8091205702253609, nan, 1.3, 0.12134109582815429, 0.1754714187557112, 0.9896702292439192, nan, nan, 0.3922796118884806, 1.2271670023102965, (3.242022687576052+0j), 9.37859479080996, 14.67677989093956, 0.5, 0.08451595300443213, nan, nan, 5.287942914284033, nan, nan, 51.108695652173914, 2.2045454545454546, 2.1194508443478384, 2.4429437235831717, 1.2112452057538137, 1.3114187371582178, 7.836668569504358, 1.895831976243428, 1.4489045454545453, 1.9314505008382068, 5.045454545454546, 4.729691201162181, 2.399916863230347, 2.4988373215356123, 2.3636363636363638, 2.6067078862481563, 0.5, 1.5173416165766196, 0.06743101937877218, 0.06434239355246432, 46, 19, 26, 2, 0.13742071881606766, 1, 2351, 2, 20, 12, 21.552002442317438, 0.7692307692307693, 0.6546760971618132, 4.545454545454546, 4.561999487447059, 1.895831976243428, 1.3481244339295104, 1.2073578757093217, nan, 0.4848295818637665, 1.689732381944583, 0.41047137157220426, 0.31227969009028206, 2.341279556729592, 2.522829799724552, 3.24202268757606, 3.872455231163695, 0.3453239028381868]) \n",
      "\n",
      "======================= FIM DO DATASET  40999  ======================= \n",
      "\n",
      "Dataset 41001 :  https://www.openml.org/data/v1/download/18248699/jungle_chess_2pcs_endgame_complete.arff\n"
     ]
    },
    {
     "name": "stderr",
     "output_type": "stream",
     "text": [
      " * Warning: It is not possible make equal discretization\n",
      " * Warning: Can't summarize feature 'g_mean' with summary 'sd'. Will set it as 'np.nan'.\n",
      " * Warning: Can't summarize feature 'g_mean' with summary 'mean'. Will set it as 'np.nan'.\n",
      " * Warning: Can't extract feature 'h_mean'.\n",
      " Exception message: ValueError('Harmonic mean only defined if all elements greater than or equal to zero').\n",
      " Will set it as 'np.nan' for all summary functions.\n",
      " * Warning: Can't summarize feature 'h_mean' with summary 'sd'. Will set it as 'np.nan'.\n",
      " * Warning: Mean of empty slice.\n",
      " * Warning: invalid value encountered in double_scalars\n",
      " * Warning: Can't summarize feature 'h_mean' with summary 'mean'. Will set it as 'np.nan'.\n",
      " * Warning: Input data for shapiro has range zero. The results may not be accurate.\n",
      " * Warning: Can't extract feature 'sd_ratio'.\n",
      " Exception message: ValueError('math domain error').\n"
     ]
    },
    {
     "name": "stdout",
     "output_type": "stream",
     "text": [
      "(['attr_conc.mean', 'attr_conc.sd', 'attr_ent.mean', 'attr_ent.sd', 'attr_to_inst', 'can_cor.mean', 'can_cor.sd', 'cat_to_num', 'class_conc.mean', 'class_conc.sd', 'class_ent', 'cor.mean', 'cor.sd', 'cov.mean', 'cov.sd', 'eigenvalues.mean', 'eigenvalues.sd', 'eq_num_attr', 'freq_class.mean', 'freq_class.sd', 'g_mean.mean', 'g_mean.sd', 'gravity', 'h_mean.mean', 'h_mean.sd', 'inst_to_attr', 'iq_range.mean', 'iq_range.sd', 'joint_ent.mean', 'joint_ent.sd', 'kurtosis.mean', 'kurtosis.sd', 'lh_trace', 'mad.mean', 'mad.sd', 'max.mean', 'max.sd', 'mean.mean', 'mean.sd', 'median.mean', 'median.sd', 'min.mean', 'min.sd', 'mut_inf.mean', 'mut_inf.sd', 'nr_attr', 'nr_bin', 'nr_cat', 'nr_class', 'nr_cor_attr', 'nr_disc', 'nr_inst', 'nr_norm', 'nr_num', 'nr_outliers', 'ns_ratio', 'num_to_cat', 'p_trace', 'range.mean', 'range.sd', 'roy_root', 'sd.mean', 'sd.sd', 'sd_ratio', 'skewness.mean', 'skewness.sd', 'sparsity.mean', 'sparsity.sd', 't_mean.mean', 't_mean.sd', 'var.mean', 'var.sd', 'w_lambda'], [0.02269108674929005, 0.097764022327048, 1.7268071690653515, 1.25277471357546, 0.001114044222711971, 0.6120838678532144, 0.3166647400541043, 1.3, 0.062181788312485255, 0.10467446191854408, 1.3218240394328118, 0.13511753858237927, 0.2115602586209517, 0.26702683273377936, 0.926530411605929, 2.891354667158396, 7.6573971495242805, 14.630452977616127, 0.3333333333333333, 0.2242931270612115, nan, nan, 7.519907822879482, nan, nan, 897.6304347826087, 2.1, 2.1309191271680423, 2.9582837639279136, 1.2324727999874259, 53.351083527892186, 253.3760213814635, 2.4985100803997273, 1.245384, 1.7039043437939818, 4.56, 4.625395735965272, 1.9452069458235448, 2.178782945760958, 1.94, 2.298269091365615, 0.16, 0.4677344441069971, 0.0903474445702493, 0.0928342643397821, 46, 23, 26, 3, 0.09142857142857143, 2, 41291, 4, 20, 20, 18.112960828932792, 0.7692307692307693, 0.849569880165836, 4.4, 4.3799170619302545, 2.3211052415053492, 1.270689692081209, 1.1413840388223981, nan, 2.151712972544681, 7.169084932477651, 0.31795198684570786, 0.19349864195476005, 1.8960242179616549, 2.19005030299588, 2.8913546671583976, 3.4903686883618694, 0.2557358101400407]) \n",
      "\n",
      "======================= FIM DO DATASET  41001  ======================= \n",
      "\n",
      "Dataset 41002 :  https://www.openml.org/data/v1/download/18248702/jungle_chess_2pcs_endgame_rat_panther.arff\n"
     ]
    },
    {
     "name": "stderr",
     "output_type": "stream",
     "text": [
      " * Warning: It is not possible make equal discretization\n",
      " * Warning: Can't summarize feature 'g_mean' with summary 'sd'. Will set it as 'np.nan'.\n",
      " * Warning: Can't summarize feature 'g_mean' with summary 'mean'. Will set it as 'np.nan'.\n",
      " * Warning: Can't extract feature 'h_mean'.\n",
      " Exception message: ValueError('Harmonic mean only defined if all elements greater than or equal to zero').\n",
      " Will set it as 'np.nan' for all summary functions.\n",
      " * Warning: Can't summarize feature 'h_mean' with summary 'sd'. Will set it as 'np.nan'.\n",
      " * Warning: Mean of empty slice.\n",
      " * Warning: invalid value encountered in double_scalars\n",
      " * Warning: Can't summarize feature 'h_mean' with summary 'mean'. Will set it as 'np.nan'.\n",
      " * Warning: Can't extract feature 'sd_ratio'.\n",
      " Exception message: ValueError('math domain error').\n"
     ]
    },
    {
     "name": "stdout",
     "output_type": "stream",
     "text": [
      "(['attr_conc.mean', 'attr_conc.sd', 'attr_ent.mean', 'attr_ent.sd', 'attr_to_inst', 'can_cor.mean', 'can_cor.sd', 'cat_to_num', 'class_conc.mean', 'class_conc.sd', 'class_ent', 'cor.mean', 'cor.sd', 'cov.mean', 'cov.sd', 'eigenvalues.mean', 'eigenvalues.sd', 'eq_num_attr', 'freq_class.mean', 'freq_class.sd', 'g_mean.mean', 'g_mean.sd', 'gravity', 'h_mean.mean', 'h_mean.sd', 'inst_to_attr', 'iq_range.mean', 'iq_range.sd', 'joint_ent.mean', 'joint_ent.sd', 'kurtosis.mean', 'kurtosis.sd', 'lh_trace', 'mad.mean', 'mad.sd', 'max.mean', 'max.sd', 'mean.mean', 'mean.sd', 'median.mean', 'median.sd', 'min.mean', 'min.sd', 'mut_inf.mean', 'mut_inf.sd', 'nr_attr', 'nr_bin', 'nr_cat', 'nr_class', 'nr_cor_attr', 'nr_disc', 'nr_inst', 'nr_norm', 'nr_num', 'nr_outliers', 'ns_ratio', 'num_to_cat', 'p_trace', 'range.mean', 'range.sd', 'roy_root', 'sd.mean', 'sd.sd', 'sd_ratio', 'skewness.mean', 'skewness.sd', 'sparsity.mean', 'sparsity.sd', 't_mean.mean', 't_mean.sd', 'var.mean', 'var.sd', 'w_lambda'], [0.0992792536725425, 0.20784963252279448, 1.627144351592114, 1.2298174449167678, 0.00977891156462585, 0.7474428191203489, 0.25262754627687617, 1.3, 0.14636535460658062, 0.19082590276283076, 1.5013730678074257, 0.17481158800832944, 0.24713497678727134, 0.38183904889047493, 1.209772926636862, (3.3666922972085347+0j), 9.318212429557128, 10.054732423638582, 0.3333333333333333, 0.13596620359551406, nan, nan, 9.103847879967809, nan, nan, 102.26086956521739, 2.3555555555555556, 2.0797241464320515, 2.979197377398451, 1.192435614843696, 1.287435595415949, 7.735630605966492, 6.501722718940131, 1.5979133333333333, 1.9224200983041237, 4.822222222222222, 4.696656881078908, 2.139125094482237, 2.260603024880683, 2.1222222222222222, 2.3672854504770653, 0.17777777777777778, 0.4903101471559, 0.14932004200108914, 0.157309516789807, 46, 22, 26, 3, 0.1404040404040404, 2, 4704, 0, 20, 12, 9.897025809705074, 0.7692307692307693, 1.1811622128470245, 4.644444444444445, 4.437216344611664, 6.023432740641179, 1.4203490826515113, 1.1747198421120995, nan, 0.46281215249503005, 1.677155056930688, 0.37798120057362533, 0.2715907579098139, 2.081051306263771, 2.2756692939872214, 3.3666922972086, 3.8045743794776388, 0.09631433701416413]) \n",
      "\n",
      "======================= FIM DO DATASET  41002  ======================= \n",
      "\n",
      "Dataset 41003 :  https://www.openml.org/data/v1/download/18248705/jungle_chess_2pcs_endgame_rat_elephant.arff\n"
     ]
    },
    {
     "name": "stderr",
     "output_type": "stream",
     "text": [
      " * Warning: It is not possible make equal discretization\n",
      " * Warning: Can't summarize feature 'g_mean' with summary 'sd'. Will set it as 'np.nan'.\n",
      " * Warning: Can't summarize feature 'g_mean' with summary 'mean'. Will set it as 'np.nan'.\n",
      " * Warning: Can't extract feature 'h_mean'.\n",
      " Exception message: ValueError('Harmonic mean only defined if all elements greater than or equal to zero').\n",
      " Will set it as 'np.nan' for all summary functions.\n",
      " * Warning: Can't summarize feature 'h_mean' with summary 'sd'. Will set it as 'np.nan'.\n",
      " * Warning: Mean of empty slice.\n",
      " * Warning: invalid value encountered in double_scalars\n",
      " * Warning: Can't summarize feature 'h_mean' with summary 'mean'. Will set it as 'np.nan'.\n",
      " * Warning: Can't extract feature 'sd_ratio'.\n",
      " Exception message: ValueError('math domain error').\n"
     ]
    },
    {
     "name": "stdout",
     "output_type": "stream",
     "text": [
      "(['attr_conc.mean', 'attr_conc.sd', 'attr_ent.mean', 'attr_ent.sd', 'attr_to_inst', 'can_cor.mean', 'can_cor.sd', 'cat_to_num', 'class_conc.mean', 'class_conc.sd', 'class_ent', 'cor.mean', 'cor.sd', 'cov.mean', 'cov.sd', 'eigenvalues.mean', 'eigenvalues.sd', 'eq_num_attr', 'freq_class.mean', 'freq_class.sd', 'g_mean.mean', 'g_mean.sd', 'gravity', 'h_mean.mean', 'h_mean.sd', 'inst_to_attr', 'iq_range.mean', 'iq_range.sd', 'joint_ent.mean', 'joint_ent.sd', 'kurtosis.mean', 'kurtosis.sd', 'lh_trace', 'mad.mean', 'mad.sd', 'max.mean', 'max.sd', 'mean.mean', 'mean.sd', 'median.mean', 'median.sd', 'min.mean', 'min.sd', 'mut_inf.mean', 'mut_inf.sd', 'nr_attr', 'nr_bin', 'nr_cat', 'nr_class', 'nr_cor_attr', 'nr_disc', 'nr_inst', 'nr_norm', 'nr_num', 'nr_outliers', 'ns_ratio', 'num_to_cat', 'p_trace', 'range.mean', 'range.sd', 'roy_root', 'sd.mean', 'sd.sd', 'sd_ratio', 'skewness.mean', 'skewness.sd', 'sparsity.mean', 'sparsity.sd', 't_mean.mean', 't_mean.sd', 'var.mean', 'var.sd', 'w_lambda'], [0.1581510092545146, 0.20635896844932897, 1.627144351592114, 1.2298174449167678, 0.00977891156462585, 0.6349577660212296, 0.2950400939013312, 1.3, 0.11573939757435968, 0.15163838538333524, 1.3801455942589465, 0.1748115880083294, 0.24713497678727134, 0.3938185075210074, 1.263216876836862, 3.7334369282950686, 9.829645263074084, 13.423140392049442, 0.3333333333333333, 0.20256141289017382, nan, nan, 8.408340610344219, nan, nan, 102.26086956521739, 2.488888888888889, 2.2725858541860338, 2.904471562525769, 1.198954214551769, 1.287435595415949, 7.735630605966492, 2.689921677526499, 1.6967533333333333, 2.046201773197444, 4.955555555555556, 4.714366609127097, 2.205791761148904, 2.277955597687087, 2.188888888888889, 2.384344985546557, 0.17777777777777778, 0.4903101471559, 0.10281838332529174, 0.08686508057647974, 46, 22, 26, 3, 0.1404040404040404, 2, 4704, 0, 20, 12, 14.825422448476306, 0.7692307692307693, 0.8933913862706473, 4.777777777777778, 4.461394446139055, 2.4677867296428047, 1.487022836615988, 1.247716100115943, nan, 0.46281215249503005, 1.677155056930688, 0.37798120057362533, 0.2715907579098139, 2.1477179729304376, 2.2946340792094544, 3.7334369282951405, 4.231786067089895, 0.23595460432358153]) \n",
      "\n",
      "======================= FIM DO DATASET  41003  ======================= \n",
      "\n",
      "Dataset 41004 :  https://www.openml.org/data/v1/download/18248708/jungle_chess_2pcs_endgame_lion_elephant.arff\n"
     ]
    },
    {
     "name": "stderr",
     "output_type": "stream",
     "text": [
      " * Warning: It is not possible make equal discretization\n",
      " * Warning: Can't summarize feature 'g_mean' with summary 'sd'. Will set it as 'np.nan'.\n",
      " * Warning: Can't summarize feature 'g_mean' with summary 'mean'. Will set it as 'np.nan'.\n",
      " * Warning: Can't extract feature 'h_mean'.\n",
      " Exception message: ValueError('Harmonic mean only defined if all elements greater than or equal to zero').\n",
      " Will set it as 'np.nan' for all summary functions.\n",
      " * Warning: Can't summarize feature 'h_mean' with summary 'sd'. Will set it as 'np.nan'.\n",
      " * Warning: Mean of empty slice.\n",
      " * Warning: invalid value encountered in double_scalars\n",
      " * Warning: Can't summarize feature 'h_mean' with summary 'mean'. Will set it as 'np.nan'.\n",
      " * Warning: Can't extract feature 'sd_ratio'.\n",
      " Exception message: ValueError('math domain error').\n"
     ]
    },
    {
     "name": "stdout",
     "output_type": "stream",
     "text": [
      "(['attr_conc.mean', 'attr_conc.sd', 'attr_ent.mean', 'attr_ent.sd', 'attr_to_inst', 'can_cor.mean', 'can_cor.sd', 'cat_to_num', 'class_conc.mean', 'class_conc.sd', 'class_ent', 'cor.mean', 'cor.sd', 'cov.mean', 'cov.sd', 'eigenvalues.mean', 'eigenvalues.sd', 'eq_num_attr', 'freq_class.mean', 'freq_class.sd', 'g_mean.mean', 'g_mean.sd', 'gravity', 'h_mean.mean', 'h_mean.sd', 'inst_to_attr', 'iq_range.mean', 'iq_range.sd', 'joint_ent.mean', 'joint_ent.sd', 'kurtosis.mean', 'kurtosis.sd', 'lh_trace', 'mad.mean', 'mad.sd', 'max.mean', 'max.sd', 'mean.mean', 'mean.sd', 'median.mean', 'median.sd', 'min.mean', 'min.sd', 'mut_inf.mean', 'mut_inf.sd', 'nr_attr', 'nr_bin', 'nr_cat', 'nr_class', 'nr_cor_attr', 'nr_disc', 'nr_inst', 'nr_norm', 'nr_num', 'nr_outliers', 'ns_ratio', 'num_to_cat', 'p_trace', 'range.mean', 'range.sd', 'roy_root', 'sd.mean', 'sd.sd', 'sd_ratio', 'skewness.mean', 'skewness.sd', 'sparsity.mean', 'sparsity.sd', 't_mean.mean', 't_mean.sd', 'var.mean', 'var.sd', 'w_lambda'], [0.059128229008597696, 0.11655872286957075, 1.6105096719215133, 1.2024403429214343, 0.00977891156462585, 0.8941063669225523, 0.0674227163057915, 1.3, 0.14995575828574723, 0.1891789534458718, 1.5461173811139517, 0.15706737510455068, 0.22061786181474474, 0.28931630022095395, 0.9222570890420113, 2.6596856082768188, 7.417861972778847, 8.110990197981524, 0.3333333333333333, 0.09628787959779271, nan, nan, 10.23121380130041, nan, nan, 102.26086956521739, 2.021276595744681, 1.9503551705771065, 2.9660070000734096, 1.1494782032182294, 59.31576636418803, 281.6184671471169, 10.372484625709607, 1.3091042553191488, 1.7227140609032228, 4.680851063829787, 4.587821226657658, 2.13324558546823, 2.300965061941529, 2.095744680851064, 2.3466866046303507, 0.425531914893617, 1.2810437465133802, 0.1906200529620556, 0.1798163120400677, 46, 24, 26, 3, 0.10360777058279372, 2, 4704, 0, 20, 16, 7.448794588479617, 0.7692307692307693, 1.6033982134169427, 4.25531914893617, 4.32619968335692, 7.84582003938827, 1.2215331987845417, 1.0922104219701636, nan, 2.0359220694340587, 7.617888067098259, 0.3572038367571283, 0.23711964568322294, 2.0695482490506905, 2.2821405602389504, 2.6596856082768623, 3.3393622478425593, 0.03205514482991817]) \n",
      "\n",
      "======================= FIM DO DATASET  41004  ======================= \n",
      "\n",
      "Dataset 41005 :  https://www.openml.org/data/v1/download/18248709/jungle_chess_2pcs_endgame_rat_rat.arff\n"
     ]
    },
    {
     "name": "stderr",
     "output_type": "stream",
     "text": [
      " * Warning: It is not possible make equal discretization\n",
      " * Warning: invalid value encountered in true_divide\n",
      " * Warning: invalid value encountered in true_divide\n",
      " * Warning: Can't summarize feature 'can_cor' with summary 'sd'. Will set it as 'np.nan'.\n",
      " * Warning: Can't summarize feature 'cor' with summary 'sd'. Will set it as 'np.nan'.\n",
      " * Warning: Can't summarize feature 'cor' with summary 'mean'. Will set it as 'np.nan'.\n",
      " * Warning: Can't summarize feature 'g_mean' with summary 'sd'. Will set it as 'np.nan'.\n",
      " * Warning: Can't summarize feature 'g_mean' with summary 'mean'. Will set it as 'np.nan'.\n",
      " * Warning: Can't extract feature 'h_mean'.\n",
      " Exception message: ValueError('Harmonic mean only defined if all elements greater than or equal to zero').\n",
      " Will set it as 'np.nan' for all summary functions.\n",
      " * Warning: Can't summarize feature 'h_mean' with summary 'sd'. Will set it as 'np.nan'.\n",
      " * Warning: Mean of empty slice.\n",
      " * Warning: invalid value encountered in double_scalars\n",
      " * Warning: Can't summarize feature 'h_mean' with summary 'mean'. Will set it as 'np.nan'.\n",
      " * Warning: Input data for shapiro has range zero. The results may not be accurate.\n",
      " * Warning: Can't extract feature 'sd_ratio'.\n",
      " Exception message: ValueError('math domain error').\n"
     ]
    },
    {
     "name": "stdout",
     "output_type": "stream",
     "text": [
      "(['attr_conc.mean', 'attr_conc.sd', 'attr_ent.mean', 'attr_ent.sd', 'attr_to_inst', 'can_cor.mean', 'can_cor.sd', 'cat_to_num', 'class_conc.mean', 'class_conc.sd', 'class_ent', 'cor.mean', 'cor.sd', 'cov.mean', 'cov.sd', 'eigenvalues.mean', 'eigenvalues.sd', 'eq_num_attr', 'freq_class.mean', 'freq_class.sd', 'g_mean.mean', 'g_mean.sd', 'gravity', 'h_mean.mean', 'h_mean.sd', 'inst_to_attr', 'iq_range.mean', 'iq_range.sd', 'joint_ent.mean', 'joint_ent.sd', 'kurtosis.mean', 'kurtosis.sd', 'lh_trace', 'mad.mean', 'mad.sd', 'max.mean', 'max.sd', 'mean.mean', 'mean.sd', 'median.mean', 'median.sd', 'min.mean', 'min.sd', 'mut_inf.mean', 'mut_inf.sd', 'nr_attr', 'nr_bin', 'nr_cat', 'nr_class', 'nr_cor_attr', 'nr_disc', 'nr_inst', 'nr_norm', 'nr_num', 'nr_outliers', 'ns_ratio', 'num_to_cat', 'p_trace', 'range.mean', 'range.sd', 'roy_root', 'sd.mean', 'sd.sd', 'sd_ratio', 'skewness.mean', 'skewness.sd', 'sparsity.mean', 'sparsity.sd', 't_mean.mean', 't_mean.sd', 'var.mean', 'var.sd', 'w_lambda'], [0.13782550438055005, 0.24947896068710587, 1.5888803641651659, 1.259254068408178, 0.012568306010928962, 0.8154486969384014, nan, 1.3, 0.09923163295623948, 0.15818387254394906, 0.9890678174378253, nan, nan, 0.3074051186271612, 0.9712581221955046, (2.6550284057945017+0j), 7.622428079624199, 14.622315997195782, 0.5, 0.08693935834260832, nan, nan, 4.698194378625361, nan, nan, 79.56521739130434, 1.934782608695652, 1.7179079513957083, 2.5103071993107537, 1.2349372818036985, 1.8690489797397185, 9.563058216660654, 1.9846877519826034, 1.0958347826086956, 1.447079124185051, 4.565217391304348, 4.777968763736989, 1.9609349014017583, 2.234176794418158, 1.934782608695652, 2.341909704237534, 0.17391304347826086, 0.4855396917560205, 0.0676409822922378, 0.06482335351847561, 46, 21, 26, 2, 0.12560386473429952, 1, 3660, 2, 20, 13, 22.489906715140936, 0.7692307692307693, 0.6649565773385367, 4.391304347826087, 4.518988386646656, 1.9846877519826034, 1.2228384145851776, 1.0887908931983803, nan, 0.5458826215258057, 1.8115805465338863, 0.38881600751676915, 0.28621375387137515, 1.886008157123624, 2.2258360436333042, 2.6550284057944893, 3.2253193327750407, 0.33504342266146325]) \n",
      "\n",
      "======================= FIM DO DATASET  41005  ======================= \n",
      "\n",
      "Dataset 41007 :  https://www.openml.org/data/v1/download/18248713/jungle_chess_2pcs_endgame_lion_lion.arff\n"
     ]
    },
    {
     "name": "stderr",
     "output_type": "stream",
     "text": [
      " * Warning: It is not possible make equal discretization\n",
      " * Warning: invalid value encountered in true_divide\n",
      " * Warning: invalid value encountered in true_divide\n",
      " * Warning: Can't summarize feature 'can_cor' with summary 'sd'. Will set it as 'np.nan'.\n",
      " * Warning: Can't summarize feature 'cor' with summary 'sd'. Will set it as 'np.nan'.\n",
      " * Warning: Can't summarize feature 'cor' with summary 'mean'. Will set it as 'np.nan'.\n",
      " * Warning: Can't summarize feature 'g_mean' with summary 'sd'. Will set it as 'np.nan'.\n",
      " * Warning: Can't summarize feature 'g_mean' with summary 'mean'. Will set it as 'np.nan'.\n",
      " * Warning: Can't extract feature 'h_mean'.\n",
      " Exception message: ValueError('Harmonic mean only defined if all elements greater than or equal to zero').\n",
      " Will set it as 'np.nan' for all summary functions.\n",
      " * Warning: Can't summarize feature 'h_mean' with summary 'sd'. Will set it as 'np.nan'.\n",
      " * Warning: Mean of empty slice.\n",
      " * Warning: invalid value encountered in double_scalars\n",
      " * Warning: Can't summarize feature 'h_mean' with summary 'mean'. Will set it as 'np.nan'.\n",
      " * Warning: Input data for shapiro has range zero. The results may not be accurate.\n",
      " * Warning: Can't extract feature 'sd_ratio'.\n",
      " Exception message: ValueError('math domain error').\n"
     ]
    },
    {
     "name": "stdout",
     "output_type": "stream",
     "text": [
      "(['attr_conc.mean', 'attr_conc.sd', 'attr_ent.mean', 'attr_ent.sd', 'attr_to_inst', 'can_cor.mean', 'can_cor.sd', 'cat_to_num', 'class_conc.mean', 'class_conc.sd', 'class_ent', 'cor.mean', 'cor.sd', 'cov.mean', 'cov.sd', 'eigenvalues.mean', 'eigenvalues.sd', 'eq_num_attr', 'freq_class.mean', 'freq_class.sd', 'g_mean.mean', 'g_mean.sd', 'gravity', 'h_mean.mean', 'h_mean.sd', 'inst_to_attr', 'iq_range.mean', 'iq_range.sd', 'joint_ent.mean', 'joint_ent.sd', 'kurtosis.mean', 'kurtosis.sd', 'lh_trace', 'mad.mean', 'mad.sd', 'max.mean', 'max.sd', 'mean.mean', 'mean.sd', 'median.mean', 'median.sd', 'min.mean', 'min.sd', 'mut_inf.mean', 'mut_inf.sd', 'nr_attr', 'nr_bin', 'nr_cat', 'nr_class', 'nr_cor_attr', 'nr_disc', 'nr_inst', 'nr_norm', 'nr_num', 'nr_outliers', 'ns_ratio', 'num_to_cat', 'p_trace', 'range.mean', 'range.sd', 'roy_root', 'sd.mean', 'sd.sd', 'sd_ratio', 'skewness.mean', 'skewness.sd', 'sparsity.mean', 'sparsity.sd', 't_mean.mean', 't_mean.sd', 'var.mean', 'var.sd', 'w_lambda'], [0.0860067656271212, 0.16016444627051862, 1.4379086636752973, 1.1472387440362912, 0.0195578231292517, 0.8514879769871674, nan, 1.3, 0.11305768613980476, 0.16697399832924667, 0.9729535064682728, nan, nan, 0.22658502659103702, 0.7894467147634676, 2.200436219787788, 6.321433532897361, 12.968169848661093, 0.5, 0.1364908497698523, nan, nan, 5.44660242026126, nan, nan, 51.130434782608695, 1.7826086956521738, 1.88459301209997, 2.335835892895302, 1.1279795728259918, 14.599522177979882, 65.85149947529229, 2.636783849594304, 1.0636043478260868, 1.6139407872873046, 4.195652173913044, 3.8736693211555675, 2.032303682342502, 2.148259774914635, 2.0434782608695654, 2.2701592870117717, 0.43478260869565216, 1.293611205768882, 0.07502627724826769, 0.07768425294738382, 46, 21, 26, 2, 0.08695652173913043, 1, 2352, 2, 20, 17, 18.165400662452537, 0.7692307692307693, 0.7250317749536989, 3.760869565217391, 3.6829021322785684, 2.636783849594304, 1.0980101279443222, 1.0084229604364732, nan, 1.1471038456408975, 3.907585176559324, 0.3948812183753836, 0.2797887918870236, 2.0053578026850594, 2.169720528334234, 2.2004362197877794, 2.993015857275637, 0.27496822504630114]) \n",
      "\n",
      "======================= FIM DO DATASET  41007  ======================= \n",
      "\n",
      "Dataset 41027 :  https://www.openml.org/data/v1/download/18631418/jungle_chess_2pcs_raw_endgame_complete.arff\n"
     ]
    },
    {
     "name": "stderr",
     "output_type": "stream",
     "text": [
      " * Warning: It is not possible make equal discretization\n",
      " * Warning: Input data for shapiro has range zero. The results may not be accurate.\n",
      " * Warning: Can't extract feature 'sd_ratio'.\n",
      " Exception message: ValueError('math domain error').\n"
     ]
    },
    {
     "name": "stdout",
     "output_type": "stream",
     "text": [
      "(['attr_conc.mean', 'attr_conc.sd', 'attr_ent.mean', 'attr_ent.sd', 'attr_to_inst', 'can_cor.mean', 'can_cor.sd', 'cat_to_num', 'class_conc.mean', 'class_conc.sd', 'class_ent', 'cor.mean', 'cor.sd', 'cov.mean', 'cov.sd', 'eigenvalues.mean', 'eigenvalues.sd', 'eq_num_attr', 'freq_class.mean', 'freq_class.sd', 'g_mean.mean', 'g_mean.sd', 'gravity', 'h_mean.mean', 'h_mean.sd', 'inst_to_attr', 'iq_range.mean', 'iq_range.sd', 'joint_ent.mean', 'joint_ent.sd', 'kurtosis.mean', 'kurtosis.sd', 'lh_trace', 'mad.mean', 'mad.sd', 'max.mean', 'max.sd', 'mean.mean', 'mean.sd', 'median.mean', 'median.sd', 'min.mean', 'min.sd', 'mut_inf.mean', 'mut_inf.sd', 'nr_attr', 'nr_bin', 'nr_cat', 'nr_class', 'nr_cor_attr', 'nr_disc', 'nr_inst', 'nr_norm', 'nr_num', 'nr_outliers', 'ns_ratio', 'num_to_cat', 'p_trace', 'range.mean', 'range.sd', 'roy_root', 'sd.mean', 'sd.sd', 'sd_ratio', 'skewness.mean', 'skewness.sd', 'sparsity.mean', 'sparsity.sd', 't_mean.mean', 't_mean.sd', 'var.mean', 'var.sd', 'w_lambda'], [0.008456124393023828, 0.01899785006753625, 2.696970900319375, 0.43688808056276845, 0.00013387179544389658, 0.41615501647200565, 0.1745167881335431, 0.0, 0.015808716128626162, 0.008983993868476413, 1.3491090889091473, 0.0041929653310109945, 0.008658917276378698, 0.027426489791265884, 0.059147122801508634, 6.457387885350854, 1.5905359447050844, 18.762078794662468, 0.3333333333333333, 0.21435357323975235, 0.0, 0.0, 3.190425987738364, 0.0, 0.0, 7469.833333333333, 5.333333333333333, 1.0327955589886444, 3.974173826607941, 0.390365490868703, -1.3345371112603681, 0.07798460183587541, 0.5044176211243264, 3.4594, 0.7656113478782822, 7.0, 0.8944271909999159, 3.7195794938158664, 0.5619223688284748, 4.0, 0.8944271909999159, 0.0, 0.0, 0.07190616262058065, 0.0628066669417005, 6, 0, 0, 3, 0.0, 2, 44819, 1, 6, 0, 36.50681168386338, nan, 0.37682610481007855, 7.0, 0.8944271909999159, 0.41067953554346537, 2.523533407940241, 0.32710920077619915, nan, -0.2097328203839002, 0.3249247248170448, 0.15130381524241132, 0.04029043642945833, 3.8659378524770998, 0.7220989875430434, 6.457387885350857, 1.5829404212999851, 0.648124291052232]) \n",
      "\n",
      "======================= FIM DO DATASET  41027  ======================= \n",
      "\n",
      "Dataset 41160 :  https://www.openml.org/data/v1/download/19335533/rl.arff\n"
     ]
    },
    {
     "name": "stderr",
     "output_type": "stream",
     "text": [
      " * Warning: It is not possible make equal discretization\n"
     ]
    },
    {
     "name": "stdout",
     "output_type": "stream",
     "text": [
      "Erro na caracterização dos dados...\n",
      "======================= FIM DO DATASET  41160  ======================= \n",
      "\n",
      "Dataset 42345 :  https://www.openml.org/data/v1/download/21801024/Traffic_violations.arff\n"
     ]
    }
   ],
   "source": [
    "import openml\n",
    "\n",
    "for step in datasets_openml:\n",
    "    dataset = openml.datasets.get_dataset(step)\n",
    "    print(\"Dataset\", step, \": \", dataset.url)\n",
    "    try:\n",
    "        with open('characterization.pickle', 'rb') as handle:\n",
    "            dic = pickle.load(handle)\n",
    "            dic['dataset_%s' % step] = []\n",
    "    except:\n",
    "        dic['dataset_%s' % step] = []\n",
    "    try:\n",
    "        result = data_caracterization(dataset, dataset.default_target_attribute, 'gray')\n",
    "        print(result, \"\\n\")\n",
    "        dic['dataset_%s' % step].append(result)\n",
    "    except:\n",
    "        print(\"Error in data characterization...\")\n",
    "    with open('characterization.pickle', 'wb') as handle:\n",
    "        pickle.dump(dic, handle, protocol=pickle.HIGHEST_PROTOCOL)\n",
    "    print(\"======================= END OF THE DATASET \", step, \" ======================= \\n\")"
   ]
  },
  {
   "cell_type": "code",
   "execution_count": 2,
   "metadata": {},
   "outputs": [],
   "source": [
    "datasets_openml = [42638]\n",
    "\n",
    "#15, 29, 179, 188, 443, 452, 455, 473, 575, 802, 839, 897, 930, 966, 990, 1024, 1037, 1053, \n",
    "#1111, 1112, 1119, 1205, 1240, 1351, 1354, 1358, 1364, 1367, 1369, 1373, 1375, 1402, 1403, \n",
    "#1453, 1459, 1460, 1468, 1471, 1475, 1479, 1485, 1486, 1489, 1497, 1502, 1503, 1507, 1510, \n",
    "#1525, 1526, 1547, 1549, 1552, 1553, 1557, 1558, 1560, 1568, 1590, 4534, 4538, 4541, 6332, \n",
    "#23380, 23512, 23517, 40536, 40966, 40979, 40981, 40982, 40996, 40999, 41001, 41002, 41003, \n",
    "#41004, 41005, 41007, 41027, 42638"
   ]
  },
  {
   "cell_type": "code",
   "execution_count": 3,
   "metadata": {},
   "outputs": [
    {
     "name": "stdout",
     "output_type": "stream",
     "text": [
      "Dataset 42638 :  https://www.openml.org/data/v1/download/22044399/titanic.arff\n"
     ]
    },
    {
     "name": "stderr",
     "output_type": "stream",
     "text": [
      " * Warning: It is not possible make equal discretization\n",
      " * Warning: Can't summarize feature 'can_cor' with summary 'sd'. Will set it as 'np.nan'.\n",
      " * Warning: Can't extract feature 'sd_ratio'.\n",
      " Exception message: ValueError('math domain error').\n"
     ]
    },
    {
     "name": "stdout",
     "output_type": "stream",
     "text": [
      "(['attr_conc.mean', 'attr_conc.sd', 'attr_ent.mean', 'attr_ent.sd', 'attr_to_inst', 'can_cor.mean', 'can_cor.sd', 'cat_to_num', 'class_conc.mean', 'class_conc.sd', 'class_ent', 'cor.mean', 'cor.sd', 'cov.mean', 'cov.sd', 'eigenvalues.mean', 'eigenvalues.sd', 'eq_num_attr', 'freq_class.mean', 'freq_class.sd', 'g_mean.mean', 'g_mean.sd', 'gravity', 'h_mean.mean', 'h_mean.sd', 'inst_to_attr', 'iq_range.mean', 'iq_range.sd', 'joint_ent.mean', 'joint_ent.sd', 'kurtosis.mean', 'kurtosis.sd', 'lh_trace', 'mad.mean', 'mad.sd', 'max.mean', 'max.sd', 'mean.mean', 'mean.sd', 'median.mean', 'median.sd', 'min.mean', 'min.sd', 'mut_inf.mean', 'mut_inf.sd', 'nr_attr', 'nr_bin', 'nr_cat', 'nr_class', 'nr_cor_attr', 'nr_disc', 'nr_inst', 'nr_norm', 'nr_num', 'nr_outliers', 'ns_ratio', 'num_to_cat', 'p_trace', 'range.mean', 'range.sd', 'roy_root', 'sd.mean', 'sd.sd', 'sd_ratio', 'skewness.mean', 'skewness.sd', 'sparsity.mean', 'sparsity.sd', 't_mean.mean', 't_mean.sd', 'var.mean', 'var.sd', 'w_lambda'], [0.1657724333542848, 0.3093103746143275, 2.2303301936535496, 2.222206406778321, 0.034653465346534656, 0.9362494485192532, nan, 1.3333333333333333, 0.05256385914486872, 0.10811482940377853, 0.9215608652945442, 0.012149443987985672, 0.027204212513820682, 0.01697375484623173, 0.8214095525937205, (37.763268252106954+0j), 450.737159080418, 5.922052070792711, 0.5, 0.23103488890253535, 0.1961050336949202, 2.4335994684900006, 21.542784205194305, 0.12102196820120394, 1.5018431293724244, 28.857142857142858, 0.5556277597402598, 5.193753939848566, 2.9962759352919477, 1.9868127201607935, 152.84915210469532, 60.897530775058975, 7.10130059742972, 0.365355, 3.5764042123458717, 4.846293506493507, 41.65092085361469, 0.7459266683811236, 6.73617760565566, 0.5941558441558441, 5.174020535176651, 0.0059740259740259745, 0.07413571269033499, 0.1556151236561462, 0.26719886065038706, 7, 1, 4, 2, 0.0003395297512944572, 1, 202, 1, 3, 152, 13.332348561324816, 0.75, 0.8765630298526057, 4.840319480519481, 41.64013562390575, 7.10130059742972, 0.6758334197232863, 6.127834110696707, nan, 11.943322959091597, 3.385573757648444, 0.2031250757336571, 0.19888066723881534, 0.6181050989993614, 5.424463952457779, 37.76326825210689, 450.62184270673004, 0.1234369701473943]) \n",
      "\n"
     ]
    },
    {
     "ename": "NameError",
     "evalue": "name 'pickle' is not defined",
     "output_type": "error",
     "traceback": [
      "\u001b[0;31m---------------------------------------------------------------------------\u001b[0m",
      "\u001b[0;31mNameError\u001b[0m                                 Traceback (most recent call last)",
      "\u001b[0;32m<ipython-input-3-4cbf80adbb93>\u001b[0m in \u001b[0;36m<module>\u001b[0;34m\u001b[0m\n\u001b[1;32m     17\u001b[0m         \u001b[0mprint\u001b[0m\u001b[0;34m(\u001b[0m\u001b[0;34m\"Erro na caracterização dos dados...\"\u001b[0m\u001b[0;34m)\u001b[0m\u001b[0;34m\u001b[0m\u001b[0;34m\u001b[0m\u001b[0m\n\u001b[1;32m     18\u001b[0m     \u001b[0;32mwith\u001b[0m \u001b[0mopen\u001b[0m\u001b[0;34m(\u001b[0m\u001b[0;34m'characterization.pickle'\u001b[0m\u001b[0;34m,\u001b[0m \u001b[0;34m'wb'\u001b[0m\u001b[0;34m)\u001b[0m \u001b[0;32mas\u001b[0m \u001b[0mhandle\u001b[0m\u001b[0;34m:\u001b[0m\u001b[0;34m\u001b[0m\u001b[0;34m\u001b[0m\u001b[0m\n\u001b[0;32m---> 19\u001b[0;31m         \u001b[0mpickle\u001b[0m\u001b[0;34m.\u001b[0m\u001b[0mdump\u001b[0m\u001b[0;34m(\u001b[0m\u001b[0mdic\u001b[0m\u001b[0;34m,\u001b[0m \u001b[0mhandle\u001b[0m\u001b[0;34m,\u001b[0m \u001b[0mprotocol\u001b[0m\u001b[0;34m=\u001b[0m\u001b[0mpickle\u001b[0m\u001b[0;34m.\u001b[0m\u001b[0mHIGHEST_PROTOCOL\u001b[0m\u001b[0;34m)\u001b[0m\u001b[0;34m\u001b[0m\u001b[0;34m\u001b[0m\u001b[0m\n\u001b[0m\u001b[1;32m     20\u001b[0m     \u001b[0mprint\u001b[0m\u001b[0;34m(\u001b[0m\u001b[0;34m\"======================= FIM DO DATASET \"\u001b[0m\u001b[0;34m,\u001b[0m \u001b[0mstep\u001b[0m\u001b[0;34m,\u001b[0m \u001b[0;34m\" ======================= \\n\"\u001b[0m\u001b[0;34m)\u001b[0m\u001b[0;34m\u001b[0m\u001b[0;34m\u001b[0m\u001b[0m\n",
      "\u001b[0;31mNameError\u001b[0m: name 'pickle' is not defined"
     ]
    }
   ],
   "source": [
    "import openml\n",
    "\n",
    "for step in datasets_openml:\n",
    "    dataset = openml.datasets.get_dataset(step)\n",
    "    print(\"Dataset\", step, \": \", dataset.url)\n",
    "    try:\n",
    "        with open('characterization.pickle', 'rb') as handle:\n",
    "            dic = pickle.load(handle)\n",
    "            dic['dataset_%s' % step] = []\n",
    "    except:\n",
    "        dic['dataset_%s' % step] = []\n",
    "    try:\n",
    "        result = data_caracterization(dataset, dataset.default_target_attribute, 'gray')\n",
    "        print(result, \"\\n\")\n",
    "        dic['dataset_%s' % step].append(result)\n",
    "    except:\n",
    "        print(\"Erro na caracterização dos dados...\")\n",
    "    with open('characterization.pickle', 'wb') as handle:\n",
    "        pickle.dump(dic, handle, protocol=pickle.HIGHEST_PROTOCOL)\n",
    "    print(\"======================= FIM DO DATASET \", step, \" ======================= \\n\")"
   ]
  },
  {
   "cell_type": "markdown",
   "metadata": {},
   "source": [
    "# Adicional attributes"
   ]
  },
  {
   "cell_type": "code",
   "execution_count": 1,
   "metadata": {},
   "outputs": [],
   "source": [
    "from pymfe.mfe import MFE\n",
    "import pandas as pd\n",
    "import numpy as np\n",
    "\n",
    "pd.set_option('display.max_rows', None)\n",
    "dic = {}\n",
    "\n",
    "def news(data, target):\n",
    "    data, y, _, _ = data.get_data(dataset_format=\"dataframe\", target=target)\n",
    "\n",
    "    if(isinstance(y,np.ndarray)):\n",
    "        y = pd.DataFrame({target: y})\n",
    "\n",
    "    data = pd.concat([data, y], axis=1)\n",
    "    sum_null = data.isna().sum().sum()\n",
    "    rows_null = data.shape[0] - data.dropna().shape[0]\n",
    "    samples, dimensionality = data.shape\n",
    "    dimensionality = dimensionality - 1\n",
    "    ft = [sum_null, rows_null, dimensionality]\n",
    "    return ft\n",
    "\n",
    "#total_null,rows_null,dimensionality"
   ]
  },
  {
   "cell_type": "code",
   "execution_count": 2,
   "metadata": {},
   "outputs": [],
   "source": [
    "datasets_openml = [15, 29, 179, 188, 443, 452, 455, 473, 575, 802, 839, 897, \n",
    "                   930, 966, 990, 1024, 1037, 1053, 1119, 1205, 41526, 41430, \n",
    "                   1351, 1354, 1358, 1364, 1367, 1369, 1373, 1375, 1402, \n",
    "                   1403, 1453, 1459, 1460, 1468, 1471, 1475, 1479, 1485, 1486, \n",
    "                   1489, 1497, 1502, 1503, 1507, 1510, 1525, 1526, 1547, 1549, \n",
    "                   1552, 1553, 1557, 1558, 1560, 1568, 1590, 4534, 4538, 4541, \n",
    "                   6332, 23380, 23512, 23517, 40536, 40966, 40979, 40981, 40982, \n",
    "                   40996, 40999, 41001, 41002, 41003, 41004, 41005, 41007, 41027, \n",
    "                   42638]\n",
    "\n",
    "#15, 29, 179, 188, 443, 452, 455, 473, 575, 802, 839, 897, 930, 966, 990, 1024, 1037, 1053, \n",
    "#1111, 1112, 1119, 1205, 1240, 1351, 1354, 1358, 1364, 1367, 1369, 1373, 1375, 1402, 1403, \n",
    "#1453, 1459, 1460, 1468, 1471, 1475, 1479, 1485, 1486, 1489, 1497, 1502, 1503, 1507, 1510, \n",
    "#1525, 1526, 1547, 1549, 1552, 1553, 1557, 1558, 1560, 1568, 1590, 4534, 4538, 4541, 6332, \n",
    "#23380, 23512, 23517, 40536, 40966, 40979, 40981, 40982, 40996, 40999, 41001, 41002, 41003, \n",
    "#41004, 41005, 41007, 41027, 41160, 42345, 42638\n",
    "\n",
    "#Deu problema: 1183, 4134, 4136, 41026, 41147, 41162, 42343, \n",
    "\n",
    "#Refazer: 1111, 1112, 1240, 42206"
   ]
  },
  {
   "cell_type": "code",
   "execution_count": 3,
   "metadata": {},
   "outputs": [
    {
     "name": "stdout",
     "output_type": "stream",
     "text": [
      "Dataset 15 :  https://www.openml.org/data/v1/download/52350/breast-w.arff\n",
      "[16, 16, 9] \n",
      "\n",
      "======================= FIM DO DATASET  15  ======================= \n",
      "\n",
      "Dataset 29 :  https://www.openml.org/data/v1/download/29/credit-approval.arff\n",
      "[67, 37, 15] \n",
      "\n",
      "======================= FIM DO DATASET  29  ======================= \n",
      "\n",
      "Dataset 179 :  https://www.openml.org/data/v1/download/3608/adult.arff\n",
      "[6465, 3620, 14] \n",
      "\n",
      "======================= FIM DO DATASET  179  ======================= \n",
      "\n",
      "Dataset 188 :  https://www.openml.org/data/v1/download/3625/eucalyptus.arff\n",
      "[448, 95, 19] \n",
      "\n",
      "======================= FIM DO DATASET  188  ======================= \n",
      "\n",
      "Dataset 443 :  https://www.openml.org/data/v1/download/52555/analcatdata_broadway.arff\n",
      "[9, 6, 7] \n",
      "\n",
      "======================= FIM DO DATASET  443  ======================= \n",
      "\n",
      "Dataset 452 :  https://www.openml.org/data/v1/download/52564/analcatdata_broadwaymult.arff\n",
      "[27, 18, 7] \n",
      "\n",
      "======================= FIM DO DATASET  452  ======================= \n",
      "\n",
      "Dataset 455 :  https://www.openml.org/data/v1/download/52567/cars.arff\n",
      "[14, 14, 7] \n",
      "\n",
      "======================= FIM DO DATASET  455  ======================= \n",
      "\n",
      "Dataset 473 :  https://www.openml.org/data/v1/download/52585/cjs.arff\n",
      "[68100, 2795, 34] \n",
      "\n",
      "======================= FIM DO DATASET  473  ======================= \n",
      "\n",
      "Dataset 575 :  https://www.openml.org/data/v1/download/52753/kdd_coil_4.arff\n",
      "[56, 34, 11] \n",
      "\n",
      "======================= FIM DO DATASET  575  ======================= \n",
      "\n",
      "Dataset 802 :  https://www.openml.org/data/v1/download/53336/pbcseq.arff\n",
      "[1133, 832, 18] \n",
      "\n",
      "======================= FIM DO DATASET  802  ======================= \n",
      "\n",
      "Dataset 839 :  https://www.openml.org/data/v1/download/53373/kdd_el_nino-small.arff\n",
      "[466, 214, 8] \n",
      "\n",
      "======================= FIM DO DATASET  839  ======================= \n",
      "\n",
      "Dataset 897 :  https://www.openml.org/data/v1/download/53431/colleges_aaup.arff\n",
      "[256, 87, 15] \n",
      "\n",
      "======================= FIM DO DATASET  897  ======================= \n",
      "\n",
      "Dataset 930 :  https://www.openml.org/data/v1/download/53464/colleges_usnews.arff\n",
      "[7830, 1144, 33] \n",
      "\n",
      "======================= FIM DO DATASET  930  ======================= \n",
      "\n",
      "Dataset 966 :  https://www.openml.org/data/v1/download/53500/analcatdata_halloffame.arff\n",
      "[20, 20, 16] \n",
      "\n",
      "======================= FIM DO DATASET  966  ======================= \n",
      "\n",
      "Dataset 990 :  https://www.openml.org/data/v1/download/53524/eucalyptus.arff\n",
      "[448, 95, 19] \n",
      "\n",
      "======================= FIM DO DATASET  990  ======================= \n",
      "\n",
      "Dataset 1024 :  https://www.openml.org/data/v1/download/53558/cjs.arff\n",
      "[68100, 2795, 34] \n",
      "\n",
      "======================= FIM DO DATASET  1024  ======================= \n",
      "\n",
      "Dataset 1037 :  https://www.openml.org/data/v1/download/53920/ada_prior.arff\n",
      "[88, 88, 14] \n",
      "\n",
      "======================= FIM DO DATASET  1037  ======================= \n",
      "\n",
      "Dataset 1053 :  https://www.openml.org/data/v1/download/53936/jm1.arff\n",
      "[25, 5, 21] \n",
      "\n",
      "======================= FIM DO DATASET  1053  ======================= \n",
      "\n",
      "Dataset 1119 :  https://www.openml.org/data/v1/download/54002/adult-census.arff\n",
      "[4262, 2399, 14] \n",
      "\n",
      "======================= FIM DO DATASET  1119  ======================= \n",
      "\n",
      "Dataset 1205 :  https://www.openml.org/data/v1/download/150767/BNG(Australian).arff\n",
      "[0, 0, 14] \n",
      "\n",
      "======================= FIM DO DATASET  1205  ======================= \n",
      "\n",
      "Dataset 41526 :  https://www.openml.org/data/v1/download/21230748/test_dataset.arff\n",
      "[280, 14, 60] \n",
      "\n",
      "======================= FIM DO DATASET  41526  ======================= \n",
      "\n",
      "Dataset 41430 :  https://www.openml.org/data/v1/download/20764588/DiabeticMellitus.arff\n",
      "[2, 2, 97] \n",
      "\n",
      "======================= FIM DO DATASET  41430  ======================= \n",
      "\n",
      "Dataset 1351 :  https://www.openml.org/data/v1/download/582930/BNG(anneal,1000,1).arff\n",
      "[0, 0, 38] \n",
      "\n",
      "======================= FIM DO DATASET  1351  ======================= \n",
      "\n",
      "Dataset 1354 :  https://www.openml.org/data/v1/download/582933/BNG(anneal,5000,1).arff\n",
      "[0, 0, 38] \n",
      "\n",
      "======================= FIM DO DATASET  1354  ======================= \n",
      "\n",
      "Dataset 1358 :  https://www.openml.org/data/v1/download/583167/BNG(anneal,10000,5).arff\n",
      "[0, 0, 38] \n",
      "\n",
      "======================= FIM DO DATASET  1358  ======================= \n",
      "\n",
      "Dataset 1364 :  https://www.openml.org/data/v1/download/583215/BNG(anneal.ORIG,5000,5).arff\n",
      "[0, 0, 38] \n",
      "\n",
      "======================= FIM DO DATASET  1364  ======================= \n",
      "\n",
      "Dataset 1367 :  https://www.openml.org/data/v1/download/583554/BNG(anneal.ORIG,10000,5).arff\n",
      "[0, 0, 38] \n",
      "\n",
      "======================= FIM DO DATASET  1367  ======================= \n",
      "\n",
      "Dataset 1369 :  https://www.openml.org/data/v1/download/583646/BNG(kr-vs-kp,1000,1).arff\n",
      "[0, 0, 36] \n",
      "\n",
      "======================= FIM DO DATASET  1369  ======================= \n",
      "\n",
      "Dataset 1373 :  https://www.openml.org/data/v1/download/583754/BNG(kr-vs-kp,5000,5).arff\n",
      "[0, 0, 36] \n",
      "\n",
      "======================= FIM DO DATASET  1373  ======================= \n",
      "\n",
      "Dataset 1375 :  https://www.openml.org/data/v1/download/583762/BNG(kr-vs-kp,10000,1).arff\n",
      "[0, 0, 36] \n",
      "\n",
      "======================= FIM DO DATASET  1375  ======================= \n",
      "\n",
      "Dataset 1402 :  https://www.openml.org/data/v1/download/584465/BNG(lymph,1000,1).arff\n",
      "[0, 0, 18] \n",
      "\n",
      "======================= FIM DO DATASET  1402  ======================= \n",
      "\n",
      "Dataset 1403 :  https://www.openml.org/data/v1/download/584466/BNG(lymph,1000,5).arff\n",
      "[0, 0, 18] \n",
      "\n",
      "======================= FIM DO DATASET  1403  ======================= \n",
      "\n",
      "Dataset 1453 :  https://www.openml.org/data/v1/download/1583319/PieChart3.arff\n",
      "[0, 0, 37] \n",
      "\n",
      "======================= FIM DO DATASET  1453  ======================= \n",
      "\n",
      "Dataset 1459 :  https://www.openml.org/data/v1/download/1586212/artificial-characters.arff\n",
      "[0, 0, 7] \n",
      "\n",
      "======================= FIM DO DATASET  1459  ======================= \n",
      "\n",
      "Dataset 1460 :  https://www.openml.org/data/v1/download/1586217/banana.arff\n",
      "[0, 0, 2] \n",
      "\n",
      "======================= FIM DO DATASET  1460  ======================= \n",
      "\n",
      "Dataset 1468 :  https://www.openml.org/data/v1/download/1586233/cnae-9.arff\n",
      "[0, 0, 856] \n",
      "\n",
      "======================= FIM DO DATASET  1468  ======================= \n",
      "\n",
      "Dataset 1471 :  https://www.openml.org/data/v1/download/1587924/eeg-eye-state.arff\n",
      "[0, 0, 14] \n",
      "\n",
      "======================= FIM DO DATASET  1471  ======================= \n",
      "\n",
      "Dataset 1475 :  https://www.openml.org/data/v1/download/1587932/first-order-theorem-proving.arff\n",
      "[0, 0, 51] \n",
      "\n",
      "======================= FIM DO DATASET  1475  ======================= \n",
      "\n",
      "Dataset 1479 :  https://www.openml.org/data/v1/download/1590101/hill-valley.arff\n",
      "[0, 0, 100] \n",
      "\n",
      "======================= FIM DO DATASET  1479  ======================= \n",
      "\n",
      "Dataset 1485 :  https://www.openml.org/data/v1/download/1590986/madelon.arff\n",
      "[0, 0, 500] \n",
      "\n",
      "======================= FIM DO DATASET  1485  ======================= \n",
      "\n",
      "Dataset 1486 :  https://www.openml.org/data/v1/download/1592278/nomao.arff\n",
      "[0, 0, 118] \n",
      "\n",
      "======================= FIM DO DATASET  1486  ======================= \n",
      "\n",
      "Dataset 1489 :  https://www.openml.org/data/v1/download/1592281/phoneme.arff\n",
      "[0, 0, 5] \n",
      "\n",
      "======================= FIM DO DATASET  1489  ======================= \n",
      "\n",
      "Dataset 1497 :  https://www.openml.org/data/v1/download/1592289/wall-robot-navigation.arff\n",
      "[0, 0, 24] \n",
      "\n",
      "======================= FIM DO DATASET  1497  ======================= \n",
      "\n",
      "Dataset 1502 :  https://www.openml.org/data/v1/download/1592294/skin-segmentation.arff\n",
      "[0, 0, 3] \n",
      "\n",
      "======================= FIM DO DATASET  1502  ======================= \n",
      "\n",
      "Dataset 1503 :  https://www.openml.org/data/v1/download/1592295/spoken-arabic-digit.arff\n",
      "[0, 0, 14] \n",
      "\n",
      "======================= FIM DO DATASET  1503  ======================= \n",
      "\n",
      "Dataset 1507 :  https://www.openml.org/data/v1/download/1592299/twonorm.arff\n",
      "[0, 0, 20] \n",
      "\n",
      "======================= FIM DO DATASET  1507  ======================= \n",
      "\n",
      "Dataset 1510 :  https://www.openml.org/data/v1/download/1592318/wdbc.arff\n",
      "[0, 0, 30] \n",
      "\n",
      "======================= FIM DO DATASET  1510  ======================= \n",
      "\n",
      "Dataset 1525 :  https://www.openml.org/data/v1/download/1593721/wall-robot-navigation.arff\n",
      "[0, 0, 2] \n",
      "\n",
      "======================= FIM DO DATASET  1525  ======================= \n",
      "\n",
      "Dataset 1526 :  https://www.openml.org/data/v1/download/1593722/wall-robot-navigation.arff\n",
      "[0, 0, 4] \n",
      "\n",
      "======================= FIM DO DATASET  1526  ======================= \n",
      "\n"
     ]
    },
    {
     "name": "stdout",
     "output_type": "stream",
     "text": [
      "Dataset 1547 :  https://www.openml.org/data/v1/download/1593743/autoUniv-au1-1000.arff\n",
      "[0, 0, 20] \n",
      "\n",
      "======================= FIM DO DATASET  1547  ======================= \n",
      "\n",
      "Dataset 1549 :  https://www.openml.org/data/v1/download/1593745/autoUniv-au6-750.arff\n",
      "[0, 0, 40] \n",
      "\n",
      "======================= FIM DO DATASET  1549  ======================= \n",
      "\n",
      "Dataset 1552 :  https://www.openml.org/data/v1/download/1593748/autoUniv-au7-1100.arff\n",
      "[0, 0, 12] \n",
      "\n",
      "======================= FIM DO DATASET  1552  ======================= \n",
      "\n",
      "Dataset 1553 :  https://www.openml.org/data/v1/download/1593749/autoUniv-au7-700.arff\n",
      "[0, 0, 12] \n",
      "\n",
      "======================= FIM DO DATASET  1553  ======================= \n",
      "\n",
      "Dataset 1557 :  https://www.openml.org/data/v1/download/1593753/abalone.arff\n",
      "[0, 0, 8] \n",
      "\n",
      "======================= FIM DO DATASET  1557  ======================= \n",
      "\n",
      "Dataset 1558 :  https://www.openml.org/data/v1/download/1593754/bank-marketing.arff\n",
      "[0, 0, 16] \n",
      "\n",
      "======================= FIM DO DATASET  1558  ======================= \n",
      "\n",
      "Dataset 1560 :  https://www.openml.org/data/v1/download/1593756/cardiotocography.arff\n",
      "[0, 0, 35] \n",
      "\n",
      "======================= FIM DO DATASET  1560  ======================= \n",
      "\n",
      "Dataset 1568 :  https://www.openml.org/data/v1/download/1675984/nursery.arff\n",
      "[0, 0, 8] \n",
      "\n",
      "======================= FIM DO DATASET  1568  ======================= \n",
      "\n",
      "Dataset 1590 :  https://www.openml.org/data/v1/download/1595261/adult.arff\n",
      "[6465, 3620, 14] \n",
      "\n",
      "======================= FIM DO DATASET  1590  ======================= \n",
      "\n",
      "Dataset 4534 :  https://www.openml.org/data/v1/download/1798106/PhishingWebsites.arff\n",
      "[0, 0, 30] \n",
      "\n",
      "======================= FIM DO DATASET  4534  ======================= \n",
      "\n",
      "Dataset 4538 :  https://www.openml.org/data/v1/download/1798765/GesturePhaseSegmentationProcessed.arff\n",
      "[0, 0, 32] \n",
      "\n",
      "======================= FIM DO DATASET  4538  ======================= \n",
      "\n",
      "Dataset 4541 :  https://www.openml.org/data/v1/download/1798768/Diabetes130US.arff\n",
      "[0, 0, 49] \n",
      "\n",
      "======================= FIM DO DATASET  4541  ======================= \n",
      "\n",
      "Dataset 6332 :  https://www.openml.org/data/v1/download/1854224/cylinder-bands.arff\n",
      "[999, 263, 37] \n",
      "\n",
      "======================= FIM DO DATASET  6332  ======================= \n",
      "\n",
      "Dataset 23380 :  https://www.openml.org/data/v1/download/1910442/cjs.arff\n",
      "[68100, 2795, 33] \n",
      "\n",
      "======================= FIM DO DATASET  23380  ======================= \n",
      "\n",
      "Dataset 23512 :  https://www.openml.org/data/v1/download/2063675/higgs.arff\n",
      "[9, 1, 28] \n",
      "\n",
      "======================= FIM DO DATASET  23512  ======================= \n",
      "\n",
      "Dataset 23517 :  https://www.openml.org/data/v1/download/2160285/numerai28.6.arff\n",
      "[0, 0, 21] \n",
      "\n",
      "======================= FIM DO DATASET  23517  ======================= \n",
      "\n",
      "Dataset 40536 :  https://www.openml.org/data/v1/download/13153954/SpeedDating.arff\n",
      "[18372, 7330, 120] \n",
      "\n",
      "======================= FIM DO DATASET  40536  ======================= \n",
      "\n",
      "Dataset 40966 :  https://www.openml.org/data/v1/download/17928620/MiceProtein.arff\n",
      "[1396, 528, 77] \n",
      "\n",
      "======================= FIM DO DATASET  40966  ======================= \n",
      "\n",
      "Dataset 40979 :  https://www.openml.org/data/v1/download/18142224/mfeat-pixel.arff\n",
      "[0, 0, 240] \n",
      "\n",
      "======================= FIM DO DATASET  40979  ======================= \n",
      "\n",
      "Dataset 40981 :  https://www.openml.org/data/v1/download/18151910/Australian.arff\n",
      "[0, 0, 14] \n",
      "\n",
      "======================= FIM DO DATASET  40981  ======================= \n",
      "\n",
      "Dataset 40982 :  https://www.openml.org/data/v1/download/18151921/steel-plates-fault.arff\n",
      "[0, 0, 27] \n",
      "\n",
      "======================= FIM DO DATASET  40982  ======================= \n",
      "\n",
      "Dataset 40996 :  https://www.openml.org/data/v1/download/18238735/Fashion-MNIST.arff\n",
      "[0, 0, 784] \n",
      "\n",
      "======================= FIM DO DATASET  40996  ======================= \n",
      "\n",
      "Dataset 40999 :  https://www.openml.org/data/v1/download/18248695/jungle_chess_2pcs_endgame_elephant_elephant.arff\n",
      "[0, 0, 46] \n",
      "\n",
      "======================= FIM DO DATASET  40999  ======================= \n",
      "\n",
      "Dataset 41001 :  https://www.openml.org/data/v1/download/18248699/jungle_chess_2pcs_endgame_complete.arff\n",
      "[10584, 3528, 46] \n",
      "\n",
      "======================= FIM DO DATASET  41001  ======================= \n",
      "\n",
      "Dataset 41002 :  https://www.openml.org/data/v1/download/18248702/jungle_chess_2pcs_endgame_rat_panther.arff\n",
      "[3528, 1176, 46] \n",
      "\n",
      "======================= FIM DO DATASET  41002  ======================= \n",
      "\n",
      "Dataset 41003 :  https://www.openml.org/data/v1/download/18248705/jungle_chess_2pcs_endgame_rat_elephant.arff\n",
      "[3528, 1176, 46] \n",
      "\n",
      "======================= FIM DO DATASET  41003  ======================= \n",
      "\n",
      "Dataset 41004 :  https://www.openml.org/data/v1/download/18248708/jungle_chess_2pcs_endgame_lion_elephant.arff\n",
      "[0, 0, 46] \n",
      "\n",
      "======================= FIM DO DATASET  41004  ======================= \n",
      "\n",
      "Dataset 41005 :  https://www.openml.org/data/v1/download/18248709/jungle_chess_2pcs_endgame_rat_rat.arff\n",
      "[0, 0, 46] \n",
      "\n",
      "======================= FIM DO DATASET  41005  ======================= \n",
      "\n",
      "Dataset 41007 :  https://www.openml.org/data/v1/download/18248713/jungle_chess_2pcs_endgame_lion_lion.arff\n",
      "[0, 0, 46] \n",
      "\n",
      "======================= FIM DO DATASET  41007  ======================= \n",
      "\n",
      "Dataset 41027 :  https://www.openml.org/data/v1/download/18631418/jungle_chess_2pcs_raw_endgame_complete.arff\n",
      "[0, 0, 6] \n",
      "\n",
      "======================= FIM DO DATASET  41027  ======================= \n",
      "\n",
      "Dataset 42638 :  https://www.openml.org/data/v1/download/22044399/titanic.arff\n",
      "[689, 689, 7] \n",
      "\n",
      "======================= FIM DO DATASET  42638  ======================= \n",
      "\n"
     ]
    }
   ],
   "source": [
    "import openml\n",
    "\n",
    "for step in datasets_openml:\n",
    "    dataset = openml.datasets.get_dataset(step)\n",
    "    print(\"Dataset\", step, \": \", dataset.url)\n",
    "    result = news(dataset, dataset.default_target_attribute)\n",
    "    print(result, \"\\n\")\n",
    "    print(\"======================= FIM DO DATASET \", step, \" ======================= \\n\")"
   ]
  }
 ],
 "metadata": {
  "kernelspec": {
   "display_name": "Python 3",
   "language": "python",
   "name": "python3"
  },
  "language_info": {
   "codemirror_mode": {
    "name": "ipython",
    "version": 3
   },
   "file_extension": ".py",
   "mimetype": "text/x-python",
   "name": "python",
   "nbconvert_exporter": "python",
   "pygments_lexer": "ipython3",
   "version": "3.8.3"
  }
 },
 "nbformat": 4,
 "nbformat_minor": 4
}
